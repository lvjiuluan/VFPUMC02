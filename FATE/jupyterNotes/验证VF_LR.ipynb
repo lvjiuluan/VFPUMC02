{
 "cells": [
  {
   "cell_type": "code",
   "execution_count": 149,
   "id": "f2a1741a-682a-4833-a2d1-cc8e477cc5d3",
   "metadata": {},
   "outputs": [
    {
     "name": "stdout",
     "output_type": "stream",
     "text": [
      "The autoreload extension is already loaded. To reload it, use:\n",
      "  %reload_ext autoreload\n"
     ]
    }
   ],
   "source": [
    "import sys\n",
    "sys.path.append('D:\\PyCharmProjects\\VFPUMC02')\n",
    "sys.path.append(r'C:\\Users\\Administrator\\PycharmProjects\\VFPUMC02')\n",
    "sys.path.append(r'/root/VFPUMC02')\n",
    "%load_ext autoreload\n",
    "%autoreload 2"
   ]
  },
  {
   "cell_type": "code",
   "execution_count": 150,
   "id": "97d80045-e972-4280-a998-62cef85f7b69",
   "metadata": {},
   "outputs": [],
   "source": [
    "from utils.FateUtils import get_data_by_objective, evaluate_model\n",
    "from enums.SbtObjective import SbtObjective\n",
    "from vf4lr.VF_LR import VF_LR"
   ]
  },
  {
   "cell_type": "code",
   "execution_count": 151,
   "id": "76bc1536-b902-4f24-a4a0-697819f4cc56",
   "metadata": {},
   "outputs": [],
   "source": [
    "XA_train, XA_test, XB_train, XB_test, y_train, y_test = get_data_by_objective(SbtObjective.MULTI_CE)"
   ]
  },
  {
   "cell_type": "code",
   "execution_count": 152,
   "id": "d6c29e9c-1e64-4584-a4d3-137681d44a2c",
   "metadata": {},
   "outputs": [],
   "source": [
    "vf_lr = VF_LR(learning_rate=0.2,batch_size=64)"
   ]
  },
  {
   "cell_type": "code",
   "execution_count": 153,
   "id": "9ca0283a-5677-431f-b2a2-e8c2b9c781b4",
   "metadata": {},
   "outputs": [
    {
     "name": "stderr",
     "output_type": "stream",
     "text": [
      "2025-01-21 18:56:56,149 - ConsoleLogger - INFO - 开始训练垂直联邦逻辑回归模型，客户端A训练数据形状: (120, 2), 客户端B训练数据形状: (120, 2), 标签大小: 120\n",
      "2025-01-21 18:56:56,149 - ConsoleLogger - INFO - 检测到的类别数量: 3\n",
      "2025-01-21 18:56:56,150 - ConsoleLogger - INFO - 模型配置：学习率=0.1, 训练轮数=5, 批大小=64, 客户端数=2\n",
      "2025-01-21 18:56:56,150 - ConsoleLogger - INFO - 完成模型初始化，等待调用 predict 或 predict_proba 进行训练和预测。\n"
     ]
    },
    {
     "name": "stdout",
     "output_type": "stream",
     "text": [
      "检测到多分类任务 (Multi-class Classification)\n",
      "输入标签 y 的唯一值个数: 3, 唯一值: [0 1 2]\n"
     ]
    }
   ],
   "source": [
    "vf_lr.fit(XA_train, XB_train, y_train)"
   ]
  },
  {
   "cell_type": "code",
   "execution_count": 154,
   "id": "845dd1bf-605b-4c5e-a745-308e3c8a7467",
   "metadata": {},
   "outputs": [
    {
     "name": "stderr",
     "output_type": "stream",
     "text": [
      "2025-01-21 18:56:56,173 - ConsoleLogger - INFO - 开始进行预测，客户端A测试数据形状: (30, 2), 客户端B测试数据形状: (30, 2)\n",
      "2025-01-21 18:56:56,174 - ConsoleLogger - INFO - 模型尚未训练，开始执行联邦训练流程。\n",
      "2025-01-21 18:56:56,174 - ConsoleLogger - INFO - 初始化 Server 对象。\n",
      "2025-01-21 18:56:56,174 - ConsoleLogger - INFO - 初始化 Client 对象。\n",
      "2025-01-21 18:56:56,175 - ConsoleLogger - INFO - Client 0 初始化完成，训练数据形状: (120, 2), 测试数据形状: (30, 2)\n",
      "2025-01-21 18:56:56,176 - ConsoleLogger - INFO - Client 1 初始化完成，训练数据形状: (120, 2), 测试数据形状: (30, 2)\n",
      "2025-01-21 18:56:56,176 - ConsoleLogger - INFO - 所有客户端挂载至 Server 完成，开始进行联邦训练。\n",
      "2025-01-21 18:56:56,176 - ConsoleLogger - INFO - 开始 VFL LR 训练，共 5 轮。\n",
      "2025-01-21 18:56:56,177 - ConsoleLogger - INFO - 开始第 1/5 轮训练...\n",
      "2025-01-21 18:56:56,178 - ConsoleLogger - INFO - 第 1 轮训练完成。\n",
      "2025-01-21 18:56:56,179 - ConsoleLogger - INFO - 开始第 2/5 轮训练...\n",
      "2025-01-21 18:56:56,180 - ConsoleLogger - INFO - 第 2 轮训练完成。\n",
      "2025-01-21 18:56:56,180 - ConsoleLogger - INFO - 开始第 3/5 轮训练...\n",
      "2025-01-21 18:56:56,182 - ConsoleLogger - INFO - 第 3 轮训练完成。\n",
      "2025-01-21 18:56:56,182 - ConsoleLogger - INFO - 开始第 4/5 轮训练...\n",
      "2025-01-21 18:56:56,183 - ConsoleLogger - INFO - 第 4 轮训练完成。\n",
      "2025-01-21 18:56:56,184 - ConsoleLogger - INFO - 开始第 5/5 轮训练...\n",
      "2025-01-21 18:56:56,185 - ConsoleLogger - INFO - 第 5 轮训练完成。\n",
      "2025-01-21 18:56:56,186 - ConsoleLogger - INFO - 所有轮次训练完成。\n",
      "2025-01-21 18:56:56,186 - ConsoleLogger - INFO - 联邦训练完成。\n",
      "2025-01-21 18:56:56,187 - ConsoleLogger - INFO - 获取最终预测结果。\n",
      "2025-01-21 18:56:56,187 - ConsoleLogger - INFO - 模型训练完成并已缓存预测结果。\n",
      "2025-01-21 18:56:56,188 - ConsoleLogger - INFO - 返回预测标签，形状: (30,)\n"
     ]
    }
   ],
   "source": [
    "y_pred = vf_lr.predict(XA_test, XB_test)"
   ]
  },
  {
   "cell_type": "code",
   "execution_count": 155,
   "id": "643f8b05-9e93-46fe-b71a-712aec4ec7a7",
   "metadata": {},
   "outputs": [
    {
     "name": "stderr",
     "output_type": "stream",
     "text": [
      "2025-01-21 18:56:56,210 - ConsoleLogger - INFO - 开始进行预测概率计算，客户端A测试数据形状: (30, 2), 客户端B测试数据形状: (30, 2)\n",
      "2025-01-21 18:56:56,210 - ConsoleLogger - INFO - 模型已训练，直接返回之前的预测结果。\n"
     ]
    }
   ],
   "source": [
    "y_proba = vf_lr.predict_proba(XA_test, XB_test)"
   ]
  },
  {
   "cell_type": "code",
   "execution_count": 156,
   "id": "9243c381-af73-486e-a8e1-e6d3bdb1f677",
   "metadata": {},
   "outputs": [
    {
     "name": "stdout",
     "output_type": "stream",
     "text": [
      "\n",
      "========== Classification Metrics ==========\n",
      "Accuracy         : 0.1667\n",
      "Precision (macro): 0.0694\n",
      "Recall (macro)   : 0.1515\n",
      "F1 (macro)       : 0.0952\n",
      "\n",
      "Confusion Matrix:\n",
      "[[ 0  0 10]\n",
      " [ 0  0  9]\n",
      " [ 6  0  5]]\n",
      "\n",
      "ROC AUC          : 无法计算（可能是多分类且未指定multi_class）\n",
      "\n",
      "Classification Report:\n",
      "              precision    recall  f1-score   support\n",
      "\n",
      "           0       0.00      0.00      0.00        10\n",
      "           1       0.00      0.00      0.00         9\n",
      "           2       0.21      0.45      0.29        11\n",
      "\n",
      "    accuracy                           0.17        30\n",
      "   macro avg       0.07      0.15      0.10        30\n",
      "weighted avg       0.08      0.17      0.10        30\n",
      "\n"
     ]
    }
   ],
   "source": [
    "evaluate_model(y_test,y_pred,y_proba)"
   ]
  }
 ],
 "metadata": {
  "kernelspec": {
   "display_name": "fate_env",
   "language": "python",
   "name": "fate_env"
  },
  "language_info": {
   "codemirror_mode": {
    "name": "ipython",
    "version": 3
   },
   "file_extension": ".py",
   "mimetype": "text/x-python",
   "name": "python",
   "nbconvert_exporter": "python",
   "pygments_lexer": "ipython3",
   "version": "3.10.16"
  }
 },
 "nbformat": 4,
 "nbformat_minor": 5
}
