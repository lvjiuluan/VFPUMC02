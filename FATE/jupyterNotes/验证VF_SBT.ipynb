{
 "cells": [
  {
   "cell_type": "code",
   "execution_count": 1,
   "id": "0287a4c3-8df6-4198-8287-06f47a3ac4c9",
   "metadata": {},
   "outputs": [],
   "source": [
    "import sys\n",
    "sys.path.append('D:\\PyCharmProjects\\VFPUMC02')\n",
    "sys.path.append(r'C:\\Users\\Administrator\\PycharmProjects\\VFPUMC02')\n",
    "sys.path.append(r'/root/VFPUMC02')\n",
    "%load_ext autoreload\n",
    "%autoreload 2"
   ]
  },
  {
   "cell_type": "code",
   "execution_count": 58,
   "id": "c5768928-95d0-4a83-b149-c5c7cfae39ae",
   "metadata": {},
   "outputs": [],
   "source": [
    "from classfiers.VF_SBT import VF_SBT\n",
    "from consts.Constants import *\n",
    "from utils.FateUtils import *\n",
    "from utils.pklUtils import *\n",
    "from sklearn.model_selection import train_test_split\n",
    "from sklearn.metrics import accuracy_score\n",
    "from sklearn.metrics import confusion_matrix, roc_curve, auc"
   ]
  },
  {
   "cell_type": "code",
   "execution_count": 5,
   "id": "fc0c08b0-b2a5-45ea-8244-2550d6e8a920",
   "metadata": {},
   "outputs": [
    {
     "name": "stdout",
     "output_type": "stream",
     "text": [
      "成功读取 /root/VFPUMC02/datasets/breast_hetero_host.csv 和 /root/VFPUMC02/datasets/breast_hetero_guest.csv\n",
      "A_host.csv 中跳过的列: {'id'}\n",
      "B_guest.csv 中跳过的列: {'id'}\n"
     ]
    }
   ],
   "source": [
    "XA, XB, y = load_host_guest_data(os.path.join(DATASETS_PATH,'breast_hetero_host.csv'),\n",
    "                                 os.path.join(DATASETS_PATH,'breast_hetero_guest.csv'),\n",
    "                                 skip_columns=['sample_id', 'id'])\n",
    "# 划分训练集和测试集\n",
    "XA_train, XA_test, XB_train, XB_test, y_train, y_test = train_test_split(XA, XB, y, test_size=0.2, random_state=42)"
   ]
  },
  {
   "cell_type": "code",
   "execution_count": 19,
   "id": "8430aa5e-9c63-44d4-b6e5-eb00ac1e62ca",
   "metadata": {},
   "outputs": [
    {
     "name": "stdout",
     "output_type": "stream",
     "text": [
      "配置已成功保存到 /root/VFPUMC02/configs/sbtConfig.yaml\n"
     ]
    }
   ],
   "source": [
    "config = {'num_class':2}  # 根据需要配置参数\n",
    "classifier = VF_SBT(config)"
   ]
  },
  {
   "cell_type": "code",
   "execution_count": 20,
   "id": "be7ead09-7179-4525-9af6-c51eec149f0b",
   "metadata": {},
   "outputs": [
    {
     "name": "stdout",
     "output_type": "stream",
     "text": [
      "DataFrame 已成功保存到 /root/VFPUMC02/datasets/A_host_train.csv\n",
      "DataFrame 已成功保存到 /root/VFPUMC02/datasets/B_guest_train.csv\n",
      "两个 DataFrame 已成功保存到：\n",
      "  /root/VFPUMC02/datasets/A_host_train.csv\n",
      "  /root/VFPUMC02/datasets/B_guest_train.csv\n",
      "VF_SBT训练结束\n"
     ]
    }
   ],
   "source": [
    "classifier.fit(XA_train, XB_train, y_train)"
   ]
  },
  {
   "cell_type": "code",
   "execution_count": 21,
   "id": "e73feeeb-04cd-4497-bab5-02806a79c8bb",
   "metadata": {
    "collapsed": true,
    "jupyter": {
     "outputs_hidden": true
    },
    "scrolled": true
   },
   "outputs": [
    {
     "name": "stdout",
     "output_type": "stream",
     "text": [
      "DataFrame 已成功保存到 /root/VFPUMC02/datasets/A_host_test.csv\n",
      "DataFrame 已成功保存到 /root/VFPUMC02/datasets/B_guest_test.csv\n",
      "两个 DataFrame 已成功保存到：\n",
      "  /root/VFPUMC02/datasets/A_host_test.csv\n",
      "  /root/VFPUMC02/datasets/B_guest_test.csv\n",
      "Standard Output: 对象已成功保存到 /root/VFPUMC02/datasets/sbt_host_result.pkl\n",
      "对象已成功保存到 /root/VFPUMC02/datasets/sbt_guest_result.pkl\n",
      "\n",
      "Standard Error: /root/miniconda3/envs/fate_env/lib/python3.10/site-packages/fate/ml/ensemble/learner/decision_tree/tree_core/loss.py:54: FutureWarning: Series.__getitem__ treating keys as positions is deprecated. In a future version, integer keys will always be treated as labels (consistent with DataFrame behavior). To access a value by position, use `ser.iloc[pos]`\n",
      "  lambda s: -(s[0] * np.log(s[1]) + (1 - s[0]) * np.log(1 - s[1])), with_label=True\n",
      "/root/miniconda3/envs/fate_env/lib/python3.10/site-packages/fate/ml/ensemble/learner/decision_tree/tree_core/loss.py:54: FutureWarning: Series.__getitem__ treating keys as positions is deprecated. In a future version, integer keys will always be treated as labels (consistent with DataFrame behavior). To access a value by position, use `ser.iloc[pos]`\n",
      "  lambda s: -(s[0] * np.log(s[1]) + (1 - s[0]) * np.log(1 - s[1])), with_label=True\n",
      "/root/miniconda3/envs/fate_env/lib/python3.10/site-packages/fate/ml/ensemble/learner/decision_tree/tree_core/loss.py:54: FutureWarning: Series.__getitem__ treating keys as positions is deprecated. In a future version, integer keys will always be treated as labels (consistent with DataFrame behavior). To access a value by position, use `ser.iloc[pos]`\n",
      "  lambda s: -(s[0] * np.log(s[1]) + (1 - s[0]) * np.log(1 - s[1])), with_label=True\n",
      "/root/miniconda3/envs/fate_env/lib/python3.10/site-packages/fate/ml/ensemble/learner/decision_tree/tree_core/loss.py:54: FutureWarning: Series.__getitem__ treating keys as positions is deprecated. In a future version, integer keys will always be treated as labels (consistent with DataFrame behavior). To access a value by position, use `ser.iloc[pos]`\n",
      "  lambda s: -(s[0] * np.log(s[1]) + (1 - s[0]) * np.log(1 - s[1])), with_label=True\n",
      "/root/miniconda3/envs/fate_env/lib/python3.10/site-packages/fate/ml/ensemble/learner/decision_tree/tree_core/loss.py:54: FutureWarning: Series.__getitem__ treating keys as positions is deprecated. In a future version, integer keys will always be treated as labels (consistent with DataFrame behavior). To access a value by position, use `ser.iloc[pos]`\n",
      "  lambda s: -(s[0] * np.log(s[1]) + (1 - s[0]) * np.log(1 - s[1])), with_label=True\n",
      "/root/miniconda3/envs/fate_env/lib/python3.10/site-packages/fate/ml/ensemble/learner/decision_tree/tree_core/loss.py:54: FutureWarning: Series.__getitem__ treating keys as positions is deprecated. In a future version, integer keys will always be treated as labels (consistent with DataFrame behavior). To access a value by position, use `ser.iloc[pos]`\n",
      "  lambda s: -(s[0] * np.log(s[1]) + (1 - s[0]) * np.log(1 - s[1])), with_label=True\n",
      "/root/miniconda3/envs/fate_env/lib/python3.10/site-packages/fate/ml/ensemble/learner/decision_tree/tree_core/loss.py:54: FutureWarning: Series.__getitem__ treating keys as positions is deprecated. In a future version, integer keys will always be treated as labels (consistent with DataFrame behavior). To access a value by position, use `ser.iloc[pos]`\n",
      "  lambda s: -(s[0] * np.log(s[1]) + (1 - s[0]) * np.log(1 - s[1])), with_label=True\n",
      "/root/miniconda3/envs/fate_env/lib/python3.10/site-packages/fate/ml/ensemble/learner/decision_tree/tree_core/loss.py:54: FutureWarning: Series.__getitem__ treating keys as positions is deprecated. In a future version, integer keys will always be treated as labels (consistent with DataFrame behavior). To access a value by position, use `ser.iloc[pos]`\n",
      "  lambda s: -(s[0] * np.log(s[1]) + (1 - s[0]) * np.log(1 - s[1])), with_label=True\n",
      "/root/miniconda3/envs/fate_env/lib/python3.10/site-packages/fate/ml/ensemble/learner/decision_tree/tree_core/loss.py:54: FutureWarning: Series.__getitem__ treating keys as positions is deprecated. In a future version, integer keys will always be treated as labels (consistent with DataFrame behavior). To access a value by position, use `ser.iloc[pos]`\n",
      "  lambda s: -(s[0] * np.log(s[1]) + (1 - s[0]) * np.log(1 - s[1])), with_label=True\n",
      "/root/miniconda3/envs/fate_env/lib/python3.10/site-packages/fate/ml/ensemble/learner/decision_tree/tree_core/loss.py:54: FutureWarning: Series.__getitem__ treating keys as positions is deprecated. In a future version, integer keys will always be treated as labels (consistent with DataFrame behavior). To access a value by position, use `ser.iloc[pos]`\n",
      "  lambda s: -(s[0] * np.log(s[1]) + (1 - s[0]) * np.log(1 - s[1])), with_label=True\n",
      "/root/miniconda3/envs/fate_env/lib/python3.10/site-packages/fate/ml/ensemble/learner/decision_tree/tree_core/loss.py:54: FutureWarning: Series.__getitem__ treating keys as positions is deprecated. In a future version, integer keys will always be treated as labels (consistent with DataFrame behavior). To access a value by position, use `ser.iloc[pos]`\n",
      "  lambda s: -(s[0] * np.log(s[1]) + (1 - s[0]) * np.log(1 - s[1])), with_label=True\n",
      "/root/miniconda3/envs/fate_env/lib/python3.10/site-packages/fate/ml/ensemble/learner/decision_tree/tree_core/loss.py:54: FutureWarning: Series.__getitem__ treating keys as positions is deprecated. In a future version, integer keys will always be treated as labels (consistent with DataFrame behavior). To access a value by position, use `ser.iloc[pos]`\n",
      "  lambda s: -(s[0] * np.log(s[1]) + (1 - s[0]) * np.log(1 - s[1])), with_label=True\n",
      "/root/miniconda3/envs/fate_env/lib/python3.10/site-packages/fate/ml/ensemble/learner/decision_tree/tree_core/loss.py:54: FutureWarning: Series.__getitem__ treating keys as positions is deprecated. In a future version, integer keys will always be treated as labels (consistent with DataFrame behavior). To access a value by position, use `ser.iloc[pos]`\n",
      "  lambda s: -(s[0] * np.log(s[1]) + (1 - s[0]) * np.log(1 - s[1])), with_label=True\n",
      "/root/miniconda3/envs/fate_env/lib/python3.10/site-packages/fate/ml/ensemble/learner/decision_tree/tree_core/loss.py:54: FutureWarning: Series.__getitem__ treating keys as positions is deprecated. In a future version, integer keys will always be treated as labels (consistent with DataFrame behavior). To access a value by position, use `ser.iloc[pos]`\n",
      "  lambda s: -(s[0] * np.log(s[1]) + (1 - s[0]) * np.log(1 - s[1])), with_label=True\n",
      "/root/miniconda3/envs/fate_env/lib/python3.10/site-packages/fate/ml/ensemble/learner/decision_tree/tree_core/loss.py:54: FutureWarning: Series.__getitem__ treating keys as positions is deprecated. In a future version, integer keys will always be treated as labels (consistent with DataFrame behavior). To access a value by position, use `ser.iloc[pos]`\n",
      "  lambda s: -(s[0] * np.log(s[1]) + (1 - s[0]) * np.log(1 - s[1])), with_label=True\n",
      "/root/miniconda3/envs/fate_env/lib/python3.10/site-packages/fate/ml/ensemble/learner/decision_tree/tree_core/loss.py:54: FutureWarning: Series.__getitem__ treating keys as positions is deprecated. In a future version, integer keys will always be treated as labels (consistent with DataFrame behavior). To access a value by position, use `ser.iloc[pos]`\n",
      "  lambda s: -(s[0] * np.log(s[1]) + (1 - s[0]) * np.log(1 - s[1])), with_label=True\n",
      "\n",
      "Command executed successfully.\n",
      "对象已成功从 /root/VFPUMC02/datasets/sbt_guest_result.pkl 加载\n",
      "对象已成功从 /root/VFPUMC02/datasets/sbt_host_result.pkl 加载\n"
     ]
    }
   ],
   "source": [
    "y_pred = classifier.predict(XA_test, XB_test)\n",
    "y_proba = classifier.predict_proba(XA_test, XB_test)"
   ]
  },
  {
   "cell_type": "code",
   "execution_count": 56,
   "id": "e70d1d17-ea8a-4d17-8ecf-75ac02ed85ed",
   "metadata": {},
   "outputs": [],
   "source": [
    "predict_detail = classifier.pred_df.predict_detail"
   ]
  },
  {
   "cell_type": "code",
   "execution_count": 60,
   "id": "b301f323-f3ed-4acf-bd2e-8a8499faeca3",
   "metadata": {},
   "outputs": [],
   "source": [
    "predict_detail = parse_probability_details(predict_detail)"
   ]
  },
  {
   "cell_type": "code",
   "execution_count": 61,
   "id": "6b716fd3-e3f0-4748-b254-b246e0499f2e",
   "metadata": {},
   "outputs": [
    {
     "data": {
      "text/plain": [
       "array([[0.21980219, 0.78019781],\n",
       "       [0.76977115, 0.23022885],\n",
       "       [0.21980219, 0.78019781],\n",
       "       [0.24584083, 0.75415917],\n",
       "       [0.78456306, 0.21543694],\n",
       "       [0.78456306, 0.21543694],\n",
       "       [0.21997518, 0.78002482],\n",
       "       [0.21980219, 0.78019781],\n",
       "       [0.76977115, 0.23022885],\n",
       "       [0.21980219, 0.78019781],\n",
       "       [0.21980219, 0.78019781],\n",
       "       [0.21980219, 0.78019781],\n",
       "       [0.21980219, 0.78019781],\n",
       "       [0.21980219, 0.78019781],\n",
       "       [0.78456306, 0.21543694],\n",
       "       [0.78456306, 0.21543694],\n",
       "       [0.78456306, 0.21543694],\n",
       "       [0.21980219, 0.78019781],\n",
       "       [0.21980219, 0.78019781],\n",
       "       [0.76977115, 0.23022885],\n",
       "       [0.21980219, 0.78019781],\n",
       "       [0.32009934, 0.67990066],\n",
       "       [0.21980219, 0.78019781],\n",
       "       [0.77971469, 0.22028531],\n",
       "       [0.24584083, 0.75415917],\n",
       "       [0.21980219, 0.78019781],\n",
       "       [0.78456306, 0.21543694],\n",
       "       [0.21980219, 0.78019781],\n",
       "       [0.28921171, 0.71078829],\n",
       "       [0.41393781, 0.58606219],\n",
       "       [0.21980219, 0.78019781],\n",
       "       [0.21980219, 0.78019781],\n",
       "       [0.21980219, 0.78019781],\n",
       "       [0.46853995, 0.53146005],\n",
       "       [0.21980219, 0.78019781],\n",
       "       [0.78456306, 0.21543694],\n",
       "       [0.28941907, 0.71058093],\n",
       "       [0.21980219, 0.78019781],\n",
       "       [0.76977115, 0.23022885],\n",
       "       [0.21980219, 0.78019781],\n",
       "       [0.21980219, 0.78019781],\n",
       "       [0.77828378, 0.22171622],\n",
       "       [0.74195389, 0.25804611],\n",
       "       [0.77748556, 0.22251444],\n",
       "       [0.21980219, 0.78019781],\n",
       "       [0.78456306, 0.21543694],\n",
       "       [0.78456306, 0.21543694],\n",
       "       [0.24584083, 0.75415917],\n",
       "       [0.24584083, 0.75415917],\n",
       "       [0.78456306, 0.21543694],\n",
       "       [0.21980219, 0.78019781],\n",
       "       [0.76977115, 0.23022885],\n",
       "       [0.51664426, 0.48335574],\n",
       "       [0.21980219, 0.78019781],\n",
       "       [0.24584083, 0.75415917],\n",
       "       [0.21980219, 0.78019781],\n",
       "       [0.78456306, 0.21543694],\n",
       "       [0.78456306, 0.21543694],\n",
       "       [0.24584083, 0.75415917],\n",
       "       [0.21980219, 0.78019781],\n",
       "       [0.21980219, 0.78019781],\n",
       "       [0.21980219, 0.78019781],\n",
       "       [0.78456306, 0.21543694],\n",
       "       [0.77971469, 0.22028531],\n",
       "       [0.21980219, 0.78019781],\n",
       "       [0.21997518, 0.78002482],\n",
       "       [0.21980219, 0.78019781],\n",
       "       [0.78456306, 0.21543694],\n",
       "       [0.21980219, 0.78019781],\n",
       "       [0.21980219, 0.78019781],\n",
       "       [0.78456306, 0.21543694],\n",
       "       [0.21980219, 0.78019781],\n",
       "       [0.21980219, 0.78019781],\n",
       "       [0.37904339, 0.62095661],\n",
       "       [0.28941907, 0.71058093],\n",
       "       [0.24584083, 0.75415917],\n",
       "       [0.21980219, 0.78019781],\n",
       "       [0.21980219, 0.78019781],\n",
       "       [0.21980219, 0.78019781],\n",
       "       [0.24584083, 0.75415917],\n",
       "       [0.77828378, 0.22171622],\n",
       "       [0.78456306, 0.21543694],\n",
       "       [0.21980219, 0.78019781],\n",
       "       [0.21980219, 0.78019781],\n",
       "       [0.21980219, 0.78019781],\n",
       "       [0.21980219, 0.78019781],\n",
       "       [0.21980219, 0.78019781],\n",
       "       [0.21980219, 0.78019781],\n",
       "       [0.78456306, 0.21543694],\n",
       "       [0.21980219, 0.78019781],\n",
       "       [0.25877204, 0.74122796],\n",
       "       [0.78456306, 0.21543694],\n",
       "       [0.78456306, 0.21543694],\n",
       "       [0.21980219, 0.78019781],\n",
       "       [0.62720815, 0.37279185],\n",
       "       [0.21980219, 0.78019781],\n",
       "       [0.78456306, 0.21543694],\n",
       "       [0.24584083, 0.75415917],\n",
       "       [0.77828378, 0.22171622],\n",
       "       [0.24584083, 0.75415917],\n",
       "       [0.41393781, 0.58606219],\n",
       "       [0.21980219, 0.78019781],\n",
       "       [0.41393781, 0.58606219],\n",
       "       [0.21980219, 0.78019781],\n",
       "       [0.21980219, 0.78019781],\n",
       "       [0.78456306, 0.21543694],\n",
       "       [0.21980219, 0.78019781],\n",
       "       [0.74195389, 0.25804611],\n",
       "       [0.78456306, 0.21543694],\n",
       "       [0.72592577, 0.27407423],\n",
       "       [0.21980219, 0.78019781],\n",
       "       [0.21980219, 0.78019781],\n",
       "       [0.46853995, 0.53146005],\n",
       "       [0.76977115, 0.23022885]])"
      ]
     },
     "execution_count": 61,
     "metadata": {},
     "output_type": "execute_result"
    }
   ],
   "source": [
    "predict_detail"
   ]
  }
 ],
 "metadata": {
  "kernelspec": {
   "display_name": "fate_env",
   "language": "python",
   "name": "fate_env"
  },
  "language_info": {
   "codemirror_mode": {
    "name": "ipython",
    "version": 3
   },
   "file_extension": ".py",
   "mimetype": "text/x-python",
   "name": "python",
   "nbconvert_exporter": "python",
   "pygments_lexer": "ipython3",
   "version": "3.10.16"
  }
 },
 "nbformat": 4,
 "nbformat_minor": 5
}
