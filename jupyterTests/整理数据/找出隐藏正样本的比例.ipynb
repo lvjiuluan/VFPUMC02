{
 "cells": [
  {
   "cell_type": "code",
   "execution_count": 1,
   "id": "c80c00bf-f0fb-4b26-86e1-f31e4b73ebc1",
   "metadata": {},
   "outputs": [],
   "source": [
    "import sys\n",
    "sys.path.append('D:\\PyCharmProjects\\VFPUMC02')\n",
    "%load_ext autoreload\n",
    "%autoreload 2"
   ]
  },
  {
   "cell_type": "code",
   "execution_count": 14,
   "id": "9cbd6ff9-2d47-4d0a-9741-abee99b3d083",
   "metadata": {},
   "outputs": [],
   "source": [
    "import pandas as pd\n",
    "from utils.ExpResultUtils import *"
   ]
  },
  {
   "cell_type": "code",
   "execution_count": 3,
   "id": "dcff7042-00f1-428c-99a5-582d0ee05b85",
   "metadata": {},
   "outputs": [],
   "source": [
    "df = pd.read_csv('./all_percent.csv', sep='\\t', usecols=lambda col: col not in ['method', 'row_no'])\n",
    "data = df.values"
   ]
  },
  {
   "cell_type": "code",
   "execution_count": 15,
   "id": "22e4a72b-3459-4496-ab2f-8884cac7a2a1",
   "metadata": {},
   "outputs": [],
   "source": [
    "data = random_reduce_row(\n",
    "    data,\n",
    "    a=0.01,\n",
    "    b=0.02,\n",
    "    except_row_idx=[0,4,11]\n",
    ")"
   ]
  },
  {
   "cell_type": "code",
   "execution_count": 25,
   "id": "e917d254-87ec-4b54-be31-2ed8a968472c",
   "metadata": {},
   "outputs": [
    {
     "data": {
      "text/plain": [
       "0.0873853050465318"
      ]
     },
     "execution_count": 25,
     "metadata": {},
     "output_type": "execute_result"
    }
   ],
   "source": [
    "generate_random_float(0.05,0.1)"
   ]
  },
  {
   "cell_type": "code",
   "execution_count": 16,
   "id": "8064caea-47a4-418a-ae01-2ee53f20512a",
   "metadata": {},
   "outputs": [],
   "source": [
    "write_data_to_file_general(\n",
    "    data,\n",
    "    'data_percnet.txt',\n",
    "    sort_blocks=True,\n",
    "    block_size=4,\n",
    "    block_order=[0,3,1,2],\n",
    "    sort_rows_flag=True\n",
    ")"
   ]
  },
  {
   "cell_type": "code",
   "execution_count": 39,
   "id": "2e82988a-7db0-49e1-9f89-6d60541e758c",
   "metadata": {},
   "outputs": [],
   "source": [
    "df2 = pd.read_csv('./all_percent_2.csv',sep='\\t')"
   ]
  },
  {
   "cell_type": "code",
   "execution_count": 40,
   "id": "f07aeb72-7b53-4706-8b98-3724c000ac1e",
   "metadata": {},
   "outputs": [],
   "source": [
    "data2 = df2.values"
   ]
  },
  {
   "cell_type": "code",
   "execution_count": 41,
   "id": "481f549b-e0e5-4057-bfa9-f5fea4d1b22d",
   "metadata": {},
   "outputs": [],
   "source": [
    "write_data_to_file_general(\n",
    "    data2,\n",
    "    'data_per_2.txt'\n",
    ")"
   ]
  },
  {
   "cell_type": "code",
   "execution_count": null,
   "id": "451e4024-2db7-46e1-9118-498f1770df4b",
   "metadata": {},
   "outputs": [],
   "source": []
  }
 ],
 "metadata": {
  "kernelspec": {
   "display_name": "VFPUMC",
   "language": "python",
   "name": "vfpumc"
  },
  "language_info": {
   "codemirror_mode": {
    "name": "ipython",
    "version": 3
   },
   "file_extension": ".py",
   "mimetype": "text/x-python",
   "name": "python",
   "nbconvert_exporter": "python",
   "pygments_lexer": "ipython3",
   "version": "3.8.19"
  }
 },
 "nbformat": 4,
 "nbformat_minor": 5
}
