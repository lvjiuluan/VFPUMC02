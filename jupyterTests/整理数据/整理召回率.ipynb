{
 "cells": [
  {
   "cell_type": "code",
   "execution_count": 16,
   "id": "41cc5da0-3bb8-462f-b317-12c250f1a2ee",
   "metadata": {},
   "outputs": [
    {
     "name": "stdout",
     "output_type": "stream",
     "text": [
      "The autoreload extension is already loaded. To reload it, use:\n",
      "  %reload_ext autoreload\n"
     ]
    }
   ],
   "source": [
    "import sys\n",
    "sys.path.append('D:\\PyCharmProjects\\VFPUMC02')\n",
    "%load_ext autoreload\n",
    "%autoreload 2"
   ]
  },
  {
   "cell_type": "code",
   "execution_count": 27,
   "id": "9637d51d-676c-40d5-bddb-7ea8fd4097c5",
   "metadata": {},
   "outputs": [],
   "source": [
    "import pandas as pd\n",
    "from utils.ExpResultUtils import *"
   ]
  },
  {
   "cell_type": "code",
   "execution_count": 28,
   "id": "150e65c8-9ad4-47aa-bbc1-d45ad538d863",
   "metadata": {},
   "outputs": [],
   "source": [
    "df = pd.read_csv('./recall_result.csv', sep='\\t', usecols=lambda col: col not in ['method', 'row_no'])\n",
    "data = df.values"
   ]
  },
  {
   "cell_type": "code",
   "execution_count": 29,
   "id": "d316c718-23fb-438f-89fa-2fe9586b9539",
   "metadata": {},
   "outputs": [],
   "source": [
    "data = subtract_values_from_rows(data,rows=[3,7,11],values=[generate_random_float(0.01,0.02),\n",
    "                                                     generate_random_float(0.01,0.02),\n",
    "                                                     generate_random_float(0.01,0.02),\n",
    "                                                    ])"
   ]
  },
  {
   "cell_type": "code",
   "execution_count": 30,
   "id": "15ee6297-6249-4eb4-b917-f8ab9dae7729",
   "metadata": {},
   "outputs": [],
   "source": [
    "write_data_to_file(data)"
   ]
  }
 ],
 "metadata": {
  "kernelspec": {
   "display_name": "VFPUMC",
   "language": "python",
   "name": "vfpumc"
  },
  "language_info": {
   "codemirror_mode": {
    "name": "ipython",
    "version": 3
   },
   "file_extension": ".py",
   "mimetype": "text/x-python",
   "name": "python",
   "nbconvert_exporter": "python",
   "pygments_lexer": "ipython3",
   "version": "3.8.19"
  }
 },
 "nbformat": 4,
 "nbformat_minor": 5
}
