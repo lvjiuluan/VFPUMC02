{
 "cells": [
  {
   "cell_type": "code",
   "execution_count": 1,
   "id": "9c7769e0-fe54-4766-94d4-ce89e002df6b",
   "metadata": {},
   "outputs": [],
   "source": [
    "import sys\n",
    "import os\n",
    "sys.path.append('D:\\PyCharmProjects\\VFPUMC02')\n",
    "sys.path.append(r'C:\\Users\\Administrator\\PycharmProjects\\VFPUMC02')\n",
    "sys.path.append(r'/root/VFPUMC02')\n",
    "%load_ext autoreload\n",
    "%autoreload 2"
   ]
  },
  {
   "cell_type": "code",
   "execution_count": 2,
   "id": "f8115846-04d6-4acb-9ead-105589d70bc7",
   "metadata": {},
   "outputs": [],
   "source": [
    "from classfiers.VF_SBT import VF_SBT\n",
    "from consts.Constants import *\n",
    "from utils.FateUtils import *\n",
    "from utils.pklUtils import *\n",
    "from fate.ml.ensemble.algo.secureboost.hetero.guest import HeteroSecureBoostGuest\n",
    "from fate.ml.ensemble.algo.secureboost.hetero.host import HeteroSecureBoostHost"
   ]
  },
  {
   "cell_type": "code",
   "execution_count": 3,
   "id": "35af3812-a4e6-416f-b7ce-8f83115e3278",
   "metadata": {},
   "outputs": [
    {
     "name": "stdout",
     "output_type": "stream",
     "text": [
      "成功读取 /root/VFPUMC02/datasets/breast_hetero_host.csv 和 /root/VFPUMC02/datasets/breast_hetero_guest.csv\n",
      "A_host.csv 中跳过的列: {'id'}\n",
      "B_guest.csv 中跳过的列: {'id'}\n"
     ]
    }
   ],
   "source": [
    "XA, XB, y = load_host_guest_data(os.path.join(DATASETS_PATH,'breast_hetero_host.csv'),\n",
    "                                 os.path.join(DATASETS_PATH,'breast_hetero_guest.csv'),\n",
    "                                 skip_columns=['sample_id', 'id'])"
   ]
  },
  {
   "cell_type": "code",
   "execution_count": 4,
   "id": "fbcfb1fb-e5cc-4f3e-9908-f2b9a2ddc19b",
   "metadata": {},
   "outputs": [
    {
     "name": "stdout",
     "output_type": "stream",
     "text": [
      "配置已成功保存到 /root/VFPUMC02/configs/sbtConfig.yaml\n"
     ]
    }
   ],
   "source": [
    "config = {\n",
    "    'num_trees':4,\n",
    "    'learning_rate': 0.2\n",
    "}\n",
    "vf_sbt = VF_SBT(config)"
   ]
  },
  {
   "cell_type": "code",
   "execution_count": 5,
   "id": "41c96b1b-49fe-4e33-b2e2-5b2b146d2eb5",
   "metadata": {},
   "outputs": [
    {
     "name": "stdout",
     "output_type": "stream",
     "text": [
      "DataFrame 已成功保存到 /root/VFPUMC02/datasets/A_host_train.csv\n",
      "DataFrame 已成功保存到 /root/VFPUMC02/datasets/B_guest_train.csv\n",
      "两个 DataFrame 已成功保存到：\n",
      "  /root/VFPUMC02/datasets/A_host_train.csv\n",
      "  /root/VFPUMC02/datasets/B_guest_train.csv\n",
      "VF_SBT训练结束\n"
     ]
    }
   ],
   "source": [
    "vf_sbt.fit(XA,XB,y)"
   ]
  },
  {
   "cell_type": "code",
   "execution_count": 6,
   "id": "43f83340-38aa-45e3-b913-386501fcf6b7",
   "metadata": {},
   "outputs": [
    {
     "name": "stdout",
     "output_type": "stream",
     "text": [
      "DataFrame 已成功保存到 /root/VFPUMC02/datasets/A_host_test.csv\n",
      "DataFrame 已成功保存到 /root/VFPUMC02/datasets/B_guest_test.csv\n",
      "两个 DataFrame 已成功保存到：\n",
      "  /root/VFPUMC02/datasets/A_host_test.csv\n",
      "  /root/VFPUMC02/datasets/B_guest_test.csv\n"
     ]
    }
   ],
   "source": [
    "vf_sbt.predict_proba(XA,XB)"
   ]
  },
  {
   "cell_type": "code",
   "execution_count": 8,
   "id": "7b0bf79f-e2e6-40b5-ac2c-692cd07a3caf",
   "metadata": {},
   "outputs": [
    {
     "name": "stdout",
     "output_type": "stream",
     "text": [
      "对象已成功从 /root/VFPUMC02/datasets/sbt_guest_result.pkl 加载\n",
      "对象已成功从 /root/VFPUMC02/datasets/sbt_host_result.pkl 加载\n"
     ]
    }
   ],
   "source": [
    "guest_result = load_from_pkl(SBT_PKL_GUEST_PATH)\n",
    "host_result = load_from_pkl(SBT_PKL_HOST_PATH)"
   ]
  },
  {
   "cell_type": "code",
   "execution_count": 9,
   "id": "5f2e1e14-4019-46ea-86ed-a6150cdaac1f",
   "metadata": {},
   "outputs": [
    {
     "data": {
      "text/html": [
       "<div>\n",
       "<style scoped>\n",
       "    .dataframe tbody tr th:only-of-type {\n",
       "        vertical-align: middle;\n",
       "    }\n",
       "\n",
       "    .dataframe tbody tr th {\n",
       "        vertical-align: top;\n",
       "    }\n",
       "\n",
       "    .dataframe thead th {\n",
       "        text-align: right;\n",
       "    }\n",
       "</style>\n",
       "<table border=\"1\" class=\"dataframe\">\n",
       "  <thead>\n",
       "    <tr style=\"text-align: right;\">\n",
       "      <th></th>\n",
       "      <th>sample_id</th>\n",
       "      <th>id</th>\n",
       "      <th>predict_score</th>\n",
       "      <th>predict_result</th>\n",
       "      <th>predict_detail</th>\n",
       "    </tr>\n",
       "  </thead>\n",
       "  <tbody>\n",
       "    <tr>\n",
       "      <th>0</th>\n",
       "      <td>0</td>\n",
       "      <td>0.0</td>\n",
       "      <td>0.748314</td>\n",
       "      <td>1</td>\n",
       "      <td>\"{'0': 0.2516860547472539, '1': 0.748313945252...</td>\n",
       "    </tr>\n",
       "    <tr>\n",
       "      <th>1</th>\n",
       "      <td>5</td>\n",
       "      <td>5.0</td>\n",
       "      <td>0.265015</td>\n",
       "      <td>0</td>\n",
       "      <td>\"{'0': 0.7349849485106381, '1': 0.265015051489...</td>\n",
       "    </tr>\n",
       "    <tr>\n",
       "      <th>2</th>\n",
       "      <td>6</td>\n",
       "      <td>6.0</td>\n",
       "      <td>0.779594</td>\n",
       "      <td>1</td>\n",
       "      <td>\"{'0': 0.2204059240885753, '1': 0.779594075911...</td>\n",
       "    </tr>\n",
       "    <tr>\n",
       "      <th>3</th>\n",
       "      <td>7</td>\n",
       "      <td>7.0</td>\n",
       "      <td>0.779594</td>\n",
       "      <td>1</td>\n",
       "      <td>\"{'0': 0.2204059240885753, '1': 0.779594075911...</td>\n",
       "    </tr>\n",
       "    <tr>\n",
       "      <th>4</th>\n",
       "      <td>8</td>\n",
       "      <td>8.0</td>\n",
       "      <td>0.779594</td>\n",
       "      <td>1</td>\n",
       "      <td>\"{'0': 0.2204059240885753, '1': 0.779594075911...</td>\n",
       "    </tr>\n",
       "    <tr>\n",
       "      <th>...</th>\n",
       "      <td>...</td>\n",
       "      <td>...</td>\n",
       "      <td>...</td>\n",
       "      <td>...</td>\n",
       "      <td>...</td>\n",
       "    </tr>\n",
       "    <tr>\n",
       "      <th>564</th>\n",
       "      <td>491</td>\n",
       "      <td>491.0</td>\n",
       "      <td>0.218058</td>\n",
       "      <td>0</td>\n",
       "      <td>\"{'0': 0.7819422905248539, '1': 0.218057709475...</td>\n",
       "    </tr>\n",
       "    <tr>\n",
       "      <th>565</th>\n",
       "      <td>492</td>\n",
       "      <td>492.0</td>\n",
       "      <td>0.218058</td>\n",
       "      <td>0</td>\n",
       "      <td>\"{'0': 0.7819422905248539, '1': 0.218057709475...</td>\n",
       "    </tr>\n",
       "    <tr>\n",
       "      <th>566</th>\n",
       "      <td>493</td>\n",
       "      <td>493.0</td>\n",
       "      <td>0.675172</td>\n",
       "      <td>1</td>\n",
       "      <td>\"{'0': 0.3248275935043917, '1': 0.675172406495...</td>\n",
       "    </tr>\n",
       "    <tr>\n",
       "      <th>567</th>\n",
       "      <td>503</td>\n",
       "      <td>503.0</td>\n",
       "      <td>0.776940</td>\n",
       "      <td>1</td>\n",
       "      <td>\"{'0': 0.22305962472418372, '1': 0.77694037527...</td>\n",
       "    </tr>\n",
       "    <tr>\n",
       "      <th>568</th>\n",
       "      <td>504</td>\n",
       "      <td>504.0</td>\n",
       "      <td>0.779594</td>\n",
       "      <td>1</td>\n",
       "      <td>\"{'0': 0.2204059240885753, '1': 0.779594075911...</td>\n",
       "    </tr>\n",
       "  </tbody>\n",
       "</table>\n",
       "<p>569 rows × 5 columns</p>\n",
       "</div>"
      ],
      "text/plain": [
       "    sample_id     id  predict_score  predict_result  \\\n",
       "0           0    0.0       0.748314               1   \n",
       "1           5    5.0       0.265015               0   \n",
       "2           6    6.0       0.779594               1   \n",
       "3           7    7.0       0.779594               1   \n",
       "4           8    8.0       0.779594               1   \n",
       "..        ...    ...            ...             ...   \n",
       "564       491  491.0       0.218058               0   \n",
       "565       492  492.0       0.218058               0   \n",
       "566       493  493.0       0.675172               1   \n",
       "567       503  503.0       0.776940               1   \n",
       "568       504  504.0       0.779594               1   \n",
       "\n",
       "                                        predict_detail  \n",
       "0    \"{'0': 0.2516860547472539, '1': 0.748313945252...  \n",
       "1    \"{'0': 0.7349849485106381, '1': 0.265015051489...  \n",
       "2    \"{'0': 0.2204059240885753, '1': 0.779594075911...  \n",
       "3    \"{'0': 0.2204059240885753, '1': 0.779594075911...  \n",
       "4    \"{'0': 0.2204059240885753, '1': 0.779594075911...  \n",
       "..                                                 ...  \n",
       "564  \"{'0': 0.7819422905248539, '1': 0.218057709475...  \n",
       "565  \"{'0': 0.7819422905248539, '1': 0.218057709475...  \n",
       "566  \"{'0': 0.3248275935043917, '1': 0.675172406495...  \n",
       "567  \"{'0': 0.22305962472418372, '1': 0.77694037527...  \n",
       "568  \"{'0': 0.2204059240885753, '1': 0.779594075911...  \n",
       "\n",
       "[569 rows x 5 columns]"
      ]
     },
     "execution_count": 9,
     "metadata": {},
     "output_type": "execute_result"
    }
   ],
   "source": [
    "guest_result['pred_df']"
   ]
  }
 ],
 "metadata": {
  "kernelspec": {
   "display_name": "fate_env",
   "language": "python",
   "name": "fate_env"
  },
  "language_info": {
   "codemirror_mode": {
    "name": "ipython",
    "version": 3
   },
   "file_extension": ".py",
   "mimetype": "text/x-python",
   "name": "python",
   "nbconvert_exporter": "python",
   "pygments_lexer": "ipython3",
   "version": "3.10.16"
  }
 },
 "nbformat": 4,
 "nbformat_minor": 5
}
