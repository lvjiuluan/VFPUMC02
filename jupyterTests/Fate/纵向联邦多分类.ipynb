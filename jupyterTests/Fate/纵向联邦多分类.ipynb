{
 "cells": [
  {
   "cell_type": "code",
   "execution_count": 31,
   "id": "145a21c2-a40c-4d5b-9b87-2454918c27f9",
   "metadata": {},
   "outputs": [
    {
     "name": "stdout",
     "output_type": "stream",
     "text": [
      "The autoreload extension is already loaded. To reload it, use:\n",
      "  %reload_ext autoreload\n"
     ]
    }
   ],
   "source": [
    "import sys\n",
    "sys.path.append('D:\\PyCharmProjects\\VFPUMC02')\n",
    "sys.path.append(r'C:\\Users\\Administrator\\PycharmProjects\\VFPUMC02')\n",
    "sys.path.append(r'/root/VFPUMC02')\n",
    "%load_ext autoreload\n",
    "%autoreload 2"
   ]
  },
  {
   "cell_type": "code",
   "execution_count": 32,
   "id": "f7cd9d03-acde-416a-8dde-62263427782d",
   "metadata": {},
   "outputs": [],
   "source": [
    "from consts.Constants import *\n",
    "import pandas as pd\n",
    "import os\n",
    "from sklearn.model_selection import train_test_split\n",
    "from classfiers.VF_SBT import VF_SBT\n",
    "import numpy as np\n",
    "from enums.SbtObjective import SbtObjective"
   ]
  },
  {
   "cell_type": "code",
   "execution_count": 33,
   "id": "da8ba4af-d412-4edf-a8b2-4a8cb7545a5c",
   "metadata": {},
   "outputs": [],
   "source": [
    "df = pd.read_csv(os.path.join(DATASETS_PATH,'updated_pollution_dataset_prepared.csv'))\n",
    "\n",
    "X = df.iloc[:,:-1].values\n",
    "y = df.iloc[:,-1].values\n",
    "\n",
    "XA = X[:, :5]  # 选择前5列\n",
    "XB = X[:, 5:]  # 选择剩余的列\n",
    "\n",
    "# 划分训练集和测试集\n",
    "XA_train, XA_test, XB_train, XB_test, y_train, y_test = train_test_split(XA, XB, y, test_size=0.2, random_state=42)"
   ]
  },
  {
   "cell_type": "code",
   "execution_count": 34,
   "id": "4789538a-5b2d-4c4a-bee9-3e1f4d447aa6",
   "metadata": {},
   "outputs": [
    {
     "data": {
      "text/plain": [
       "array([0, 1, 2, 3])"
      ]
     },
     "execution_count": 34,
     "metadata": {},
     "output_type": "execute_result"
    }
   ],
   "source": [
    "np.unique(y_train)"
   ]
  },
  {
   "cell_type": "code",
   "execution_count": 35,
   "id": "50ba9f69-3402-4d35-aad1-9c41fa7aa2b6",
   "metadata": {},
   "outputs": [],
   "source": [
    "config = {\n",
    "    'objective': SbtObjective.MULTI_CE.value,\n",
    "    'num_class': 4,\n",
    "    'num_trees': 1000,\n",
    "    'max_depth': 5,\n",
    "    'learning_rate': 0.1\n",
    "}"
   ]
  },
  {
   "cell_type": "code",
   "execution_count": 36,
   "id": "5ac1ca5f-9021-42ad-a0f5-af4cdaef2442",
   "metadata": {},
   "outputs": [
    {
     "name": "stdout",
     "output_type": "stream",
     "text": [
      "配置已成功保存到 /root/VFPUMC02/configs/sbtConfig.yaml\n"
     ]
    }
   ],
   "source": [
    "vf_sbt = VF_SBT(config)"
   ]
  },
  {
   "cell_type": "code",
   "execution_count": 37,
   "id": "11c13b06-a11f-49cc-8fe5-8f3ed04573f4",
   "metadata": {},
   "outputs": [
    {
     "name": "stdout",
     "output_type": "stream",
     "text": [
      "DataFrame 已成功保存到 /root/VFPUMC02/datasets/A_host_train.csv\n",
      "DataFrame 已成功保存到 /root/VFPUMC02/datasets/B_guest_train.csv\n",
      "两个 DataFrame 已成功保存到：\n",
      "  /root/VFPUMC02/datasets/A_host_train.csv\n",
      "  /root/VFPUMC02/datasets/B_guest_train.csv\n",
      "VF_SBT训练结束\n"
     ]
    }
   ],
   "source": [
    "vf_sbt.fit(XA_train, XB_train, y_train)"
   ]
  },
  {
   "cell_type": "code",
   "execution_count": null,
   "id": "20b72d30-7059-41d4-83fb-749130f8e7d4",
   "metadata": {},
   "outputs": [
    {
     "name": "stdout",
     "output_type": "stream",
     "text": [
      "DataFrame 已成功保存到 /root/VFPUMC02/datasets/A_host_test.csv\n",
      "DataFrame 已成功保存到 /root/VFPUMC02/datasets/B_guest_test.csv\n",
      "两个 DataFrame 已成功保存到：\n",
      "  /root/VFPUMC02/datasets/A_host_test.csv\n",
      "  /root/VFPUMC02/datasets/B_guest_test.csv\n"
     ]
    }
   ],
   "source": [
    "y_proba = vf_sbt.predict_proba(XA_test, XB_test)"
   ]
  },
  {
   "cell_type": "code",
   "execution_count": null,
   "id": "59a84a9e-a0d4-4943-aadc-3adb6c552136",
   "metadata": {},
   "outputs": [],
   "source": [
    "np."
   ]
  },
  {
   "cell_type": "code",
   "execution_count": null,
   "id": "37816332-4a32-477a-9439-b33536682cdf",
   "metadata": {},
   "outputs": [],
   "source": [
    "y_test.shape"
   ]
  },
  {
   "cell_type": "code",
   "execution_count": null,
   "id": "e2bc1187-6827-4366-b3e0-dbfa4efd18f3",
   "metadata": {},
   "outputs": [],
   "source": [
    "y_pred = vf_sbt.predict_result"
   ]
  },
  {
   "cell_type": "code",
   "execution_count": null,
   "id": "214e1235-2193-498f-9d86-1b71fbfdbf2c",
   "metadata": {
    "scrolled": true
   },
   "outputs": [],
   "source": [
    "from sklearn.metrics import confusion_matrix, accuracy_score, classification_report\n",
    "\n",
    "# 假设 y_test 是真实标签，y_pred 是预测标签\n",
    "# 计算混淆矩阵\n",
    "conf_matrix = confusion_matrix(y_test, y_pred)\n",
    "print(\"Confusion Matrix:\")\n",
    "print(conf_matrix)\n",
    "\n",
    "# 计算准确率\n",
    "accuracy = accuracy_score(y_test, y_pred)\n",
    "print(f\"Accuracy: {accuracy:.2f}\")\n",
    "\n",
    "# 打印分类报告，包括精确率、召回率和F1分数\n",
    "class_report = classification_report(y_test, y_pred)\n",
    "print(\"Classification Report:\")\n",
    "print(class_report)\n"
   ]
  },
  {
   "cell_type": "code",
   "execution_count": null,
   "id": "d33bba54-473d-489a-a54b-85c2c974ed55",
   "metadata": {},
   "outputs": [],
   "source": []
  },
  {
   "cell_type": "code",
   "execution_count": null,
   "id": "5031f7b7-469e-45da-9272-a14254084662",
   "metadata": {},
   "outputs": [],
   "source": [
    "from sklearn.ensemble import GradientBoostingClassifier\n",
    "from sklearn.model_selection import train_test_split\n",
    "from sklearn.metrics import classification_report, accuracy_score\n",
    "import pandas as pd\n",
    "\n",
    "# 假设你的数据已经加载到 DataFrame 中\n",
    "# X 是特征，y 是目标变量\n",
    "X = df.iloc[:, :-1].values\n",
    "y = df.iloc[:, -1].values\n",
    "\n",
    "# 将数据集划分为训练集和测试集\n",
    "X_train, X_test, y_train, y_test = train_test_split(X, y, test_size=0.2, random_state=42)\n",
    "\n",
    "# 创建 GBDT 模型\n",
    "gbdt = GradientBoostingClassifier(random_state=42)\n",
    "\n",
    "# 在训练集上训练模型\n",
    "gbdt.fit(X_train, y_train)\n",
    "\n",
    "# 在测试集上进行预测\n",
    "y_pred = gbdt.predict(X_test)\n",
    "\n",
    "# 输出测试集上的预测结果\n",
    "print(\"测试集预测结果：\", y_pred)\n",
    "\n",
    "# 计算准确率\n",
    "accuracy = accuracy_score(y_test, y_pred)\n",
    "print(f\"测试集准确率: {accuracy:.2f}\")\n",
    "\n",
    "# 输出分类报告\n",
    "print(\"分类报告：\")\n",
    "print(classification_report(y_test, y_pred))\n"
   ]
  },
  {
   "cell_type": "code",
   "execution_count": null,
   "id": "9970689f-51a8-48e2-9c84-68f088e292f2",
   "metadata": {},
   "outputs": [],
   "source": []
  }
 ],
 "metadata": {
  "kernelspec": {
   "display_name": "fate_env",
   "language": "python",
   "name": "fate_env"
  },
  "language_info": {
   "codemirror_mode": {
    "name": "ipython",
    "version": 3
   },
   "file_extension": ".py",
   "mimetype": "text/x-python",
   "name": "python",
   "nbconvert_exporter": "python",
   "pygments_lexer": "ipython3",
   "version": "3.10.16"
  }
 },
 "nbformat": 4,
 "nbformat_minor": 5
}
