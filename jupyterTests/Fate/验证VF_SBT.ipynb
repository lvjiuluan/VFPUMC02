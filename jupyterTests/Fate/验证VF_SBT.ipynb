{
 "cells": [
  {
   "cell_type": "code",
   "execution_count": 7,
   "id": "0287a4c3-8df6-4198-8287-06f47a3ac4c9",
   "metadata": {},
   "outputs": [
    {
     "name": "stdout",
     "output_type": "stream",
     "text": [
      "The autoreload extension is already loaded. To reload it, use:\n",
      "  %reload_ext autoreload\n"
     ]
    }
   ],
   "source": [
    "import sys\n",
    "sys.path.append('D:\\PyCharmProjects\\VFPUMC02')\n",
    "sys.path.append(r'C:\\Users\\Administrator\\PycharmProjects\\VFPUMC02')\n",
    "sys.path.append(r'/root/VFPUMC02')\n",
    "%load_ext autoreload\n",
    "%autoreload 2"
   ]
  },
  {
   "cell_type": "code",
   "execution_count": 8,
   "id": "c5768928-95d0-4a83-b149-c5c7cfae39ae",
   "metadata": {},
   "outputs": [],
   "source": [
    "from classfiers.VF_SBT import VF_SBT\n",
    "from consts.Constants import *\n",
    "from utils.FateUtils import *\n",
    "from utils.pklUtils import *\n",
    "from sklearn.model_selection import train_test_split\n",
    "from sklearn.metrics import accuracy_score\n",
    "from sklearn.metrics import confusion_matrix, roc_curve, auc"
   ]
  },
  {
   "cell_type": "code",
   "execution_count": 9,
   "id": "fc0c08b0-b2a5-45ea-8244-2550d6e8a920",
   "metadata": {},
   "outputs": [
    {
     "name": "stdout",
     "output_type": "stream",
     "text": [
      "成功读取 /root/VFPUMC02/datasets/breast_hetero_host.csv 和 /root/VFPUMC02/datasets/breast_hetero_guest.csv\n",
      "A_host.csv 中跳过的列: {'id'}\n",
      "B_guest.csv 中跳过的列: {'id'}\n"
     ]
    }
   ],
   "source": [
    "XA, XB, y = load_host_guest_data(os.path.join(DATASETS_PATH,'breast_hetero_host.csv'),\n",
    "                                 os.path.join(DATASETS_PATH,'breast_hetero_guest.csv'),\n",
    "                                 skip_columns=['sample_id', 'id'])\n",
    "# 划分训练集和测试集\n",
    "XA_train, XA_test, XB_train, XB_test, y_train, y_test = train_test_split(XA, XB, y, test_size=0.2, random_state=42)"
   ]
  },
  {
   "cell_type": "code",
   "execution_count": 10,
   "id": "8430aa5e-9c63-44d4-b6e5-eb00ac1e62ca",
   "metadata": {},
   "outputs": [
    {
     "name": "stdout",
     "output_type": "stream",
     "text": [
      "配置已成功保存到 /root/VFPUMC02/configs/sbtConfig.yaml\n"
     ]
    }
   ],
   "source": [
    "config = {'num_class':2}  # 根据需要配置参数\n",
    "classifier = VF_SBT(config)"
   ]
  },
  {
   "cell_type": "code",
   "execution_count": 11,
   "id": "be7ead09-7179-4525-9af6-c51eec149f0b",
   "metadata": {},
   "outputs": [
    {
     "name": "stdout",
     "output_type": "stream",
     "text": [
      "DataFrame 已成功保存到 /root/VFPUMC02/datasets/A_host_train.csv\n",
      "DataFrame 已成功保存到 /root/VFPUMC02/datasets/B_guest_train.csv\n",
      "两个 DataFrame 已成功保存到：\n",
      "  /root/VFPUMC02/datasets/A_host_train.csv\n",
      "  /root/VFPUMC02/datasets/B_guest_train.csv\n",
      "VF_SBT训练结束\n"
     ]
    }
   ],
   "source": [
    "classifier.fit(XA_train, XB_train, y_train)"
   ]
  },
  {
   "cell_type": "code",
   "execution_count": 12,
   "id": "e73feeeb-04cd-4497-bab5-02806a79c8bb",
   "metadata": {},
   "outputs": [
    {
     "name": "stdout",
     "output_type": "stream",
     "text": [
      "DataFrame 已成功保存到 /root/VFPUMC02/datasets/A_host_test.csv\n",
      "DataFrame 已成功保存到 /root/VFPUMC02/datasets/B_guest_test.csv\n",
      "两个 DataFrame 已成功保存到：\n",
      "  /root/VFPUMC02/datasets/A_host_test.csv\n",
      "  /root/VFPUMC02/datasets/B_guest_test.csv\n",
      "Standard Output: 对象已成功保存到 /root/VFPUMC02/datasets/sbt_host_result.pkl\n",
      "对象已成功保存到 /root/VFPUMC02/datasets/sbt_guest_result.pkl\n",
      "\n",
      "Standard Error: /root/miniconda3/envs/fate_env/lib/python3.10/site-packages/fate/ml/ensemble/learner/decision_tree/tree_core/loss.py:54: FutureWarning: Series.__getitem__ treating keys as positions is deprecated. In a future version, integer keys will always be treated as labels (consistent with DataFrame behavior). To access a value by position, use `ser.iloc[pos]`\n",
      "  lambda s: -(s[0] * np.log(s[1]) + (1 - s[0]) * np.log(1 - s[1])), with_label=True\n",
      "/root/miniconda3/envs/fate_env/lib/python3.10/site-packages/fate/ml/ensemble/learner/decision_tree/tree_core/loss.py:54: FutureWarning: Series.__getitem__ treating keys as positions is deprecated. In a future version, integer keys will always be treated as labels (consistent with DataFrame behavior). To access a value by position, use `ser.iloc[pos]`\n",
      "  lambda s: -(s[0] * np.log(s[1]) + (1 - s[0]) * np.log(1 - s[1])), with_label=True\n",
      "/root/miniconda3/envs/fate_env/lib/python3.10/site-packages/fate/ml/ensemble/learner/decision_tree/tree_core/loss.py:54: FutureWarning: Series.__getitem__ treating keys as positions is deprecated. In a future version, integer keys will always be treated as labels (consistent with DataFrame behavior). To access a value by position, use `ser.iloc[pos]`\n",
      "  lambda s: -(s[0] * np.log(s[1]) + (1 - s[0]) * np.log(1 - s[1])), with_label=True\n",
      "/root/miniconda3/envs/fate_env/lib/python3.10/site-packages/fate/ml/ensemble/learner/decision_tree/tree_core/loss.py:54: FutureWarning: Series.__getitem__ treating keys as positions is deprecated. In a future version, integer keys will always be treated as labels (consistent with DataFrame behavior). To access a value by position, use `ser.iloc[pos]`\n",
      "  lambda s: -(s[0] * np.log(s[1]) + (1 - s[0]) * np.log(1 - s[1])), with_label=True\n",
      "/root/miniconda3/envs/fate_env/lib/python3.10/site-packages/fate/ml/ensemble/learner/decision_tree/tree_core/loss.py:54: FutureWarning: Series.__getitem__ treating keys as positions is deprecated. In a future version, integer keys will always be treated as labels (consistent with DataFrame behavior). To access a value by position, use `ser.iloc[pos]`\n",
      "  lambda s: -(s[0] * np.log(s[1]) + (1 - s[0]) * np.log(1 - s[1])), with_label=True\n",
      "/root/miniconda3/envs/fate_env/lib/python3.10/site-packages/fate/ml/ensemble/learner/decision_tree/tree_core/loss.py:54: FutureWarning: Series.__getitem__ treating keys as positions is deprecated. In a future version, integer keys will always be treated as labels (consistent with DataFrame behavior). To access a value by position, use `ser.iloc[pos]`\n",
      "  lambda s: -(s[0] * np.log(s[1]) + (1 - s[0]) * np.log(1 - s[1])), with_label=True\n",
      "/root/miniconda3/envs/fate_env/lib/python3.10/site-packages/fate/ml/ensemble/learner/decision_tree/tree_core/loss.py:54: FutureWarning: Series.__getitem__ treating keys as positions is deprecated. In a future version, integer keys will always be treated as labels (consistent with DataFrame behavior). To access a value by position, use `ser.iloc[pos]`\n",
      "  lambda s: -(s[0] * np.log(s[1]) + (1 - s[0]) * np.log(1 - s[1])), with_label=True\n",
      "/root/miniconda3/envs/fate_env/lib/python3.10/site-packages/fate/ml/ensemble/learner/decision_tree/tree_core/loss.py:54: FutureWarning: Series.__getitem__ treating keys as positions is deprecated. In a future version, integer keys will always be treated as labels (consistent with DataFrame behavior). To access a value by position, use `ser.iloc[pos]`\n",
      "  lambda s: -(s[0] * np.log(s[1]) + (1 - s[0]) * np.log(1 - s[1])), with_label=True\n",
      "/root/miniconda3/envs/fate_env/lib/python3.10/site-packages/fate/ml/ensemble/learner/decision_tree/tree_core/loss.py:54: FutureWarning: Series.__getitem__ treating keys as positions is deprecated. In a future version, integer keys will always be treated as labels (consistent with DataFrame behavior). To access a value by position, use `ser.iloc[pos]`\n",
      "  lambda s: -(s[0] * np.log(s[1]) + (1 - s[0]) * np.log(1 - s[1])), with_label=True\n",
      "/root/miniconda3/envs/fate_env/lib/python3.10/site-packages/fate/ml/ensemble/learner/decision_tree/tree_core/loss.py:54: FutureWarning: Series.__getitem__ treating keys as positions is deprecated. In a future version, integer keys will always be treated as labels (consistent with DataFrame behavior). To access a value by position, use `ser.iloc[pos]`\n",
      "  lambda s: -(s[0] * np.log(s[1]) + (1 - s[0]) * np.log(1 - s[1])), with_label=True\n",
      "/root/miniconda3/envs/fate_env/lib/python3.10/site-packages/fate/ml/ensemble/learner/decision_tree/tree_core/loss.py:54: FutureWarning: Series.__getitem__ treating keys as positions is deprecated. In a future version, integer keys will always be treated as labels (consistent with DataFrame behavior). To access a value by position, use `ser.iloc[pos]`\n",
      "  lambda s: -(s[0] * np.log(s[1]) + (1 - s[0]) * np.log(1 - s[1])), with_label=True\n",
      "/root/miniconda3/envs/fate_env/lib/python3.10/site-packages/fate/ml/ensemble/learner/decision_tree/tree_core/loss.py:54: FutureWarning: Series.__getitem__ treating keys as positions is deprecated. In a future version, integer keys will always be treated as labels (consistent with DataFrame behavior). To access a value by position, use `ser.iloc[pos]`\n",
      "  lambda s: -(s[0] * np.log(s[1]) + (1 - s[0]) * np.log(1 - s[1])), with_label=True\n",
      "/root/miniconda3/envs/fate_env/lib/python3.10/site-packages/fate/ml/ensemble/learner/decision_tree/tree_core/loss.py:54: FutureWarning: Series.__getitem__ treating keys as positions is deprecated. In a future version, integer keys will always be treated as labels (consistent with DataFrame behavior). To access a value by position, use `ser.iloc[pos]`\n",
      "  lambda s: -(s[0] * np.log(s[1]) + (1 - s[0]) * np.log(1 - s[1])), with_label=True\n",
      "/root/miniconda3/envs/fate_env/lib/python3.10/site-packages/fate/ml/ensemble/learner/decision_tree/tree_core/loss.py:54: FutureWarning: Series.__getitem__ treating keys as positions is deprecated. In a future version, integer keys will always be treated as labels (consistent with DataFrame behavior). To access a value by position, use `ser.iloc[pos]`\n",
      "  lambda s: -(s[0] * np.log(s[1]) + (1 - s[0]) * np.log(1 - s[1])), with_label=True\n",
      "/root/miniconda3/envs/fate_env/lib/python3.10/site-packages/fate/ml/ensemble/learner/decision_tree/tree_core/loss.py:54: FutureWarning: Series.__getitem__ treating keys as positions is deprecated. In a future version, integer keys will always be treated as labels (consistent with DataFrame behavior). To access a value by position, use `ser.iloc[pos]`\n",
      "  lambda s: -(s[0] * np.log(s[1]) + (1 - s[0]) * np.log(1 - s[1])), with_label=True\n",
      "/root/miniconda3/envs/fate_env/lib/python3.10/site-packages/fate/ml/ensemble/learner/decision_tree/tree_core/loss.py:54: FutureWarning: Series.__getitem__ treating keys as positions is deprecated. In a future version, integer keys will always be treated as labels (consistent with DataFrame behavior). To access a value by position, use `ser.iloc[pos]`\n",
      "  lambda s: -(s[0] * np.log(s[1]) + (1 - s[0]) * np.log(1 - s[1])), with_label=True\n",
      "\n",
      "Command executed successfully.\n",
      "对象已成功从 /root/VFPUMC02/datasets/sbt_guest_result.pkl 加载\n",
      "对象已成功从 /root/VFPUMC02/datasets/sbt_host_result.pkl 加载\n"
     ]
    },
    {
     "ename": "AttributeError",
     "evalue": "'VF_SBT' object has no attribute 'pred'",
     "output_type": "error",
     "traceback": [
      "\u001b[0;31m---------------------------------------------------------------------------\u001b[0m",
      "\u001b[0;31mAttributeError\u001b[0m                            Traceback (most recent call last)",
      "Cell \u001b[0;32mIn[12], line 2\u001b[0m\n\u001b[1;32m      1\u001b[0m y_pred \u001b[38;5;241m=\u001b[39m classifier\u001b[38;5;241m.\u001b[39mpredict(XA_test, XB_test)\n\u001b[0;32m----> 2\u001b[0m y_proba \u001b[38;5;241m=\u001b[39m \u001b[43mclassifier\u001b[49m\u001b[38;5;241;43m.\u001b[39;49m\u001b[43mpredict_proba\u001b[49m\u001b[43m(\u001b[49m\u001b[43mXA_test\u001b[49m\u001b[43m,\u001b[49m\u001b[43m \u001b[49m\u001b[43mXB_test\u001b[49m\u001b[43m)\u001b[49m\n",
      "File \u001b[0;32m~/VFPUMC02/classfiers/VF_SBT.py:48\u001b[0m, in \u001b[0;36mVF_SBT.predict_proba\u001b[0;34m(self, XA, XB)\u001b[0m\n\u001b[1;32m     44\u001b[0m \u001b[38;5;28;01mdef\u001b[39;00m \u001b[38;5;21mpredict_proba\u001b[39m(\u001b[38;5;28mself\u001b[39m, XA, XB):\n\u001b[1;32m     45\u001b[0m \u001b[38;5;250m    \u001b[39m\u001b[38;5;124;03m\"\"\"\u001b[39;00m\n\u001b[1;32m     46\u001b[0m \u001b[38;5;124;03m    进行预测并返回预测概率,多维数组，从0到C，每一列表示一类的概率\u001b[39;00m\n\u001b[1;32m     47\u001b[0m \u001b[38;5;124;03m    \"\"\"\u001b[39;00m\n\u001b[0;32m---> 48\u001b[0m     \u001b[38;5;28;01mreturn\u001b[39;00m \u001b[38;5;28;43mself\u001b[39;49m\u001b[38;5;241;43m.\u001b[39;49m\u001b[43m_execute_prediction\u001b[49m\u001b[43m(\u001b[49m\u001b[43mXA\u001b[49m\u001b[43m,\u001b[49m\u001b[43m \u001b[49m\u001b[43mXB\u001b[49m\u001b[43m,\u001b[49m\u001b[43m \u001b[49m\u001b[43mreturn_proba\u001b[49m\u001b[38;5;241;43m=\u001b[39;49m\u001b[38;5;28;43;01mTrue\u001b[39;49;00m\u001b[43m)\u001b[49m\n",
      "File \u001b[0;32m~/VFPUMC02/classfiers/VF_SBT.py:60\u001b[0m, in \u001b[0;36mVF_SBT._execute_prediction\u001b[0;34m(self, XA, XB, return_proba)\u001b[0m\n\u001b[1;32m     51\u001b[0m \u001b[38;5;250m\u001b[39m\u001b[38;5;124;03m\"\"\"\u001b[39;00m\n\u001b[1;32m     52\u001b[0m \u001b[38;5;124;03m执行预测的私有方法，减少代码重复。\u001b[39;00m\n\u001b[1;32m     53\u001b[0m \n\u001b[0;32m   (...)\u001b[0m\n\u001b[1;32m     57\u001b[0m \u001b[38;5;124;03m:return: 预测结果或预测概率\u001b[39;00m\n\u001b[1;32m     58\u001b[0m \u001b[38;5;124;03m\"\"\"\u001b[39;00m\n\u001b[1;32m     59\u001b[0m \u001b[38;5;28;01mif\u001b[39;00m \u001b[38;5;28mself\u001b[39m\u001b[38;5;241m.\u001b[39m_is_fitted:\n\u001b[0;32m---> 60\u001b[0m     \u001b[38;5;28;01mreturn\u001b[39;00m \u001b[38;5;28;43mself\u001b[39;49m\u001b[38;5;241;43m.\u001b[39;49m\u001b[43mpred\u001b[49m \u001b[38;5;28;01mif\u001b[39;00m return_proba \u001b[38;5;28;01melse\u001b[39;00m \u001b[38;5;28mself\u001b[39m\u001b[38;5;241m.\u001b[39mpredict_result\n\u001b[1;32m     62\u001b[0m \u001b[38;5;28;01mtry\u001b[39;00m:\n\u001b[1;32m     63\u001b[0m     A_df, B_df \u001b[38;5;241m=\u001b[39m fate_construct_df(XA, XB)\n",
      "\u001b[0;31mAttributeError\u001b[0m: 'VF_SBT' object has no attribute 'pred'"
     ]
    }
   ],
   "source": [
    "y_pred = classifier.predict(XA_test, XB_test)\n",
    "y_proba = classifier.predict_proba(XA_test, XB_test)"
   ]
  },
  {
   "cell_type": "code",
   "execution_count": null,
   "id": "e70d1d17-ea8a-4d17-8ecf-75ac02ed85ed",
   "metadata": {},
   "outputs": [],
   "source": [
    "predict_detail = classifier.pred_df.predict_detail"
   ]
  },
  {
   "cell_type": "code",
   "execution_count": null,
   "id": "b301f323-f3ed-4acf-bd2e-8a8499faeca3",
   "metadata": {},
   "outputs": [],
   "source": [
    "predict_detail = parse_probability_details(predict_detail)"
   ]
  },
  {
   "cell_type": "code",
   "execution_count": null,
   "id": "8336ffec-28fb-4906-8eb6-7e6001de4256",
   "metadata": {},
   "outputs": [],
   "source": [
    "classifier.pred_df"
   ]
  },
  {
   "cell_type": "code",
   "execution_count": null,
   "id": "6b716fd3-e3f0-4748-b254-b246e0499f2e",
   "metadata": {},
   "outputs": [],
   "source": [
    "predict_detail"
   ]
  },
  {
   "cell_type": "code",
   "execution_count": null,
   "id": "3469f613-79a0-4932-b537-072cd0582c5c",
   "metadata": {},
   "outputs": [],
   "source": [
    "config = load_config(SBT_CONFIGS_PATH)"
   ]
  },
  {
   "cell_type": "code",
   "execution_count": null,
   "id": "79b16613-d739-4f3e-b9f2-d93193441b73",
   "metadata": {},
   "outputs": [],
   "source": [
    "from fate.ml.ensemble.algo.secureboost.hetero.guest import HeteroSecureBoostGuest\n",
    "from fate.ml.ensemble.algo.secureboost.hetero.host import HeteroSecureBoostHost"
   ]
  },
  {
   "cell_type": "code",
   "execution_count": null,
   "id": "5c9e91bf-8af5-4d0e-9cbf-2cea829aae6f",
   "metadata": {},
   "outputs": [],
   "source": [
    "filtered_config1 = filter_params_for_class(HeteroSecureBoostGuest, config)\n",
    "filtered_config2 = filter_params_for_class(HeteroSecureBoostHost, config)"
   ]
  },
  {
   "cell_type": "code",
   "execution_count": null,
   "id": "276c80ca-f7d5-4f23-8b81-dd60c3a5dee7",
   "metadata": {},
   "outputs": [],
   "source": [
    "filtered_config1"
   ]
  },
  {
   "cell_type": "code",
   "execution_count": null,
   "id": "3a64687a-5eb5-42e3-b565-c501dc4c180f",
   "metadata": {},
   "outputs": [],
   "source": [
    "filtered_config2"
   ]
  }
 ],
 "metadata": {
  "kernelspec": {
   "display_name": "fate_env",
   "language": "python",
   "name": "fate_env"
  },
  "language_info": {
   "codemirror_mode": {
    "name": "ipython",
    "version": 3
   },
   "file_extension": ".py",
   "mimetype": "text/x-python",
   "name": "python",
   "nbconvert_exporter": "python",
   "pygments_lexer": "ipython3",
   "version": "3.10.16"
  }
 },
 "nbformat": 4,
 "nbformat_minor": 5
}
