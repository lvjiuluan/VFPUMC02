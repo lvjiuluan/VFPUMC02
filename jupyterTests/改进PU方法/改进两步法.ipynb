{
 "cells": [
  {
   "cell_type": "code",
   "execution_count": 25,
   "id": "609d8e0b-3319-47d6-abdf-317b8276b440",
   "metadata": {},
   "outputs": [],
   "source": [
    "from sklearn.datasets import load_iris\n",
    "from sklearn.ensemble import GradientBoostingClassifier\n",
    "from sklearn.datasets import load_iris\n",
    "from sklearn.model_selection import train_test_split\n",
    "from sklearn.metrics import accuracy_score, classification_report\n",
    "import numpy as np"
   ]
  },
  {
   "cell_type": "code",
   "execution_count": 9,
   "id": "4728682a-d9bc-497b-a0e5-031ebdd92176",
   "metadata": {},
   "outputs": [],
   "source": [
    "data = load_iris()\n",
    "X, y = data.data, data.target\n",
    "X_train, X_test, y_train, y_test = train_test_split(X, y, test_size=0.3, random_state=42)"
   ]
  },
  {
   "cell_type": "code",
   "execution_count": 12,
   "id": "82f00d53-4d7f-439e-b847-2d1aa8b41886",
   "metadata": {},
   "outputs": [
    {
     "data": {
      "text/html": [
       "<style>#sk-container-id-1 {color: black;}#sk-container-id-1 pre{padding: 0;}#sk-container-id-1 div.sk-toggleable {background-color: white;}#sk-container-id-1 label.sk-toggleable__label {cursor: pointer;display: block;width: 100%;margin-bottom: 0;padding: 0.3em;box-sizing: border-box;text-align: center;}#sk-container-id-1 label.sk-toggleable__label-arrow:before {content: \"▸\";float: left;margin-right: 0.25em;color: #696969;}#sk-container-id-1 label.sk-toggleable__label-arrow:hover:before {color: black;}#sk-container-id-1 div.sk-estimator:hover label.sk-toggleable__label-arrow:before {color: black;}#sk-container-id-1 div.sk-toggleable__content {max-height: 0;max-width: 0;overflow: hidden;text-align: left;background-color: #f0f8ff;}#sk-container-id-1 div.sk-toggleable__content pre {margin: 0.2em;color: black;border-radius: 0.25em;background-color: #f0f8ff;}#sk-container-id-1 input.sk-toggleable__control:checked~div.sk-toggleable__content {max-height: 200px;max-width: 100%;overflow: auto;}#sk-container-id-1 input.sk-toggleable__control:checked~label.sk-toggleable__label-arrow:before {content: \"▾\";}#sk-container-id-1 div.sk-estimator input.sk-toggleable__control:checked~label.sk-toggleable__label {background-color: #d4ebff;}#sk-container-id-1 div.sk-label input.sk-toggleable__control:checked~label.sk-toggleable__label {background-color: #d4ebff;}#sk-container-id-1 input.sk-hidden--visually {border: 0;clip: rect(1px 1px 1px 1px);clip: rect(1px, 1px, 1px, 1px);height: 1px;margin: -1px;overflow: hidden;padding: 0;position: absolute;width: 1px;}#sk-container-id-1 div.sk-estimator {font-family: monospace;background-color: #f0f8ff;border: 1px dotted black;border-radius: 0.25em;box-sizing: border-box;margin-bottom: 0.5em;}#sk-container-id-1 div.sk-estimator:hover {background-color: #d4ebff;}#sk-container-id-1 div.sk-parallel-item::after {content: \"\";width: 100%;border-bottom: 1px solid gray;flex-grow: 1;}#sk-container-id-1 div.sk-label:hover label.sk-toggleable__label {background-color: #d4ebff;}#sk-container-id-1 div.sk-serial::before {content: \"\";position: absolute;border-left: 1px solid gray;box-sizing: border-box;top: 0;bottom: 0;left: 50%;z-index: 0;}#sk-container-id-1 div.sk-serial {display: flex;flex-direction: column;align-items: center;background-color: white;padding-right: 0.2em;padding-left: 0.2em;position: relative;}#sk-container-id-1 div.sk-item {position: relative;z-index: 1;}#sk-container-id-1 div.sk-parallel {display: flex;align-items: stretch;justify-content: center;background-color: white;position: relative;}#sk-container-id-1 div.sk-item::before, #sk-container-id-1 div.sk-parallel-item::before {content: \"\";position: absolute;border-left: 1px solid gray;box-sizing: border-box;top: 0;bottom: 0;left: 50%;z-index: -1;}#sk-container-id-1 div.sk-parallel-item {display: flex;flex-direction: column;z-index: 1;position: relative;background-color: white;}#sk-container-id-1 div.sk-parallel-item:first-child::after {align-self: flex-end;width: 50%;}#sk-container-id-1 div.sk-parallel-item:last-child::after {align-self: flex-start;width: 50%;}#sk-container-id-1 div.sk-parallel-item:only-child::after {width: 0;}#sk-container-id-1 div.sk-dashed-wrapped {border: 1px dashed gray;margin: 0 0.4em 0.5em 0.4em;box-sizing: border-box;padding-bottom: 0.4em;background-color: white;}#sk-container-id-1 div.sk-label label {font-family: monospace;font-weight: bold;display: inline-block;line-height: 1.2em;}#sk-container-id-1 div.sk-label-container {text-align: center;}#sk-container-id-1 div.sk-container {/* jupyter's `normalize.less` sets `[hidden] { display: none; }` but bootstrap.min.css set `[hidden] { display: none !important; }` so we also need the `!important` here to be able to override the default hidden behavior on the sphinx rendered scikit-learn.org. See: https://github.com/scikit-learn/scikit-learn/issues/21755 */display: inline-block !important;position: relative;}#sk-container-id-1 div.sk-text-repr-fallback {display: none;}</style><div id=\"sk-container-id-1\" class=\"sk-top-container\"><div class=\"sk-text-repr-fallback\"><pre>GradientBoostingClassifier(random_state=42)</pre><b>In a Jupyter environment, please rerun this cell to show the HTML representation or trust the notebook. <br />On GitHub, the HTML representation is unable to render, please try loading this page with nbviewer.org.</b></div><div class=\"sk-container\" hidden><div class=\"sk-item\"><div class=\"sk-estimator sk-toggleable\"><input class=\"sk-toggleable__control sk-hidden--visually\" id=\"sk-estimator-id-1\" type=\"checkbox\" checked><label for=\"sk-estimator-id-1\" class=\"sk-toggleable__label sk-toggleable__label-arrow\">GradientBoostingClassifier</label><div class=\"sk-toggleable__content\"><pre>GradientBoostingClassifier(random_state=42)</pre></div></div></div></div></div>"
      ],
      "text/plain": [
       "GradientBoostingClassifier(random_state=42)"
      ]
     },
     "execution_count": 12,
     "metadata": {},
     "output_type": "execute_result"
    }
   ],
   "source": [
    "gbdt_clf = GradientBoostingClassifier(n_estimators=100, learning_rate=0.1, max_depth=3, random_state=42)\n",
    "gbdt_clf.fit(X_train, y_train)"
   ]
  },
  {
   "cell_type": "code",
   "execution_count": 13,
   "id": "ac0a4d0e-1039-46a0-b0c7-eda5fe27d5ac",
   "metadata": {},
   "outputs": [],
   "source": [
    "y_pred = gbdt_clf.predict(X_test)"
   ]
  },
  {
   "cell_type": "code",
   "execution_count": 14,
   "id": "dba66363-26e2-4276-afa9-581f5dbad154",
   "metadata": {},
   "outputs": [
    {
     "data": {
      "text/plain": [
       "array([1, 0, 2, 1, 1, 0, 1, 2, 1, 1, 2, 0, 0, 0, 0, 1, 2, 1, 1, 2, 0, 2,\n",
       "       0, 2, 2, 2, 2, 2, 0, 0, 0, 0, 1, 0, 0, 2, 1, 0, 0, 0, 2, 1, 1, 0,\n",
       "       0])"
      ]
     },
     "execution_count": 14,
     "metadata": {},
     "output_type": "execute_result"
    }
   ],
   "source": [
    "y_pred"
   ]
  },
  {
   "cell_type": "code",
   "execution_count": 17,
   "id": "7f1223f7-33ff-4896-80cf-f2e268e85773",
   "metadata": {},
   "outputs": [],
   "source": [
    "scores = gbdt_clf.predict_proba(X_test)"
   ]
  },
  {
   "cell_type": "code",
   "execution_count": 20,
   "id": "72b87980-4f4b-4014-9fd9-1111cf7b3caa",
   "metadata": {},
   "outputs": [
    {
     "data": {
      "text/plain": [
       "array([[4.30284264e-05, 9.99571472e-01, 3.85499133e-04],\n",
       "       [9.99866446e-01, 1.30140009e-04, 3.41433220e-06],\n",
       "       [1.18544236e-05, 1.06834768e-04, 9.99881311e-01],\n",
       "       [3.11252838e-05, 9.99360342e-01, 6.08532418e-04],\n",
       "       [1.33978048e-05, 9.99798156e-01, 1.88445962e-04],\n",
       "       [9.99866446e-01, 1.30140009e-04, 3.41433220e-06],\n",
       "       [3.99373646e-05, 9.99729745e-01, 2.30317716e-04],\n",
       "       [5.65654755e-06, 8.41598844e-04, 9.99152745e-01],\n",
       "       [8.63572040e-05, 9.96545257e-01, 3.36838602e-03],\n",
       "       [2.26947186e-05, 9.99846461e-01, 1.30843883e-04],\n",
       "       [4.97101103e-06, 3.92143771e-04, 9.99602885e-01],\n",
       "       [9.99930217e-01, 6.63655059e-05, 3.41782101e-06],\n",
       "       [9.99866446e-01, 1.30140009e-04, 3.41433220e-06],\n",
       "       [9.99930217e-01, 6.63655059e-05, 3.41782101e-06],\n",
       "       [9.99913132e-01, 8.34503513e-05, 3.41776262e-06],\n",
       "       [1.44344187e-05, 9.99834852e-01, 1.50713290e-04],\n",
       "       [2.16235018e-06, 3.01690697e-05, 9.99967669e-01],\n",
       "       [2.26947186e-05, 9.99846461e-01, 1.30843883e-04],\n",
       "       [5.51918478e-05, 9.99603442e-01, 3.41365726e-04],\n",
       "       [1.90984173e-06, 1.63318325e-05, 9.99981758e-01],\n",
       "       [9.99930217e-01, 6.63655059e-05, 3.41782101e-06],\n",
       "       [5.93858187e-06, 1.51474848e-03, 9.98479313e-01],\n",
       "       [9.99913132e-01, 8.34503513e-05, 3.41776262e-06],\n",
       "       [1.90984173e-06, 1.63318325e-05, 9.99981758e-01],\n",
       "       [1.86192274e-06, 4.10074562e-05, 9.99957131e-01],\n",
       "       [2.21210902e-06, 3.53055983e-05, 9.99962482e-01],\n",
       "       [1.17295148e-05, 1.15940197e-04, 9.99872330e-01],\n",
       "       [2.66121109e-06, 6.92657275e-05, 9.99928073e-01],\n",
       "       [9.99930217e-01, 6.63655059e-05, 3.41782101e-06],\n",
       "       [9.99930217e-01, 6.63655059e-05, 3.41782101e-06],\n",
       "       [9.99930217e-01, 6.63655059e-05, 3.41782101e-06],\n",
       "       [9.99866446e-01, 1.30140009e-04, 3.41433220e-06],\n",
       "       [9.83223620e-06, 9.99953767e-01, 3.64007395e-05],\n",
       "       [9.99930217e-01, 6.63655059e-05, 3.41782101e-06],\n",
       "       [9.99930217e-01, 6.63655059e-05, 3.41782101e-06],\n",
       "       [5.01284421e-06, 3.89524753e-04, 9.99605462e-01],\n",
       "       [1.79867731e-05, 9.99680974e-01, 3.01039546e-04],\n",
       "       [9.99887484e-01, 1.09100714e-04, 3.41525131e-06],\n",
       "       [9.99913132e-01, 8.34503513e-05, 3.41776262e-06],\n",
       "       [9.99887484e-01, 1.09100714e-04, 3.41525131e-06],\n",
       "       [1.55054740e-05, 7.78702176e-04, 9.99205792e-01],\n",
       "       [1.57625064e-05, 9.99819143e-01, 1.65094492e-04],\n",
       "       [9.83182975e-06, 9.99912431e-01, 7.77372652e-05],\n",
       "       [9.99866446e-01, 1.30140009e-04, 3.41433220e-06],\n",
       "       [9.99866446e-01, 1.30140009e-04, 3.41433220e-06]])"
      ]
     },
     "execution_count": 20,
     "metadata": {},
     "output_type": "execute_result"
    }
   ],
   "source": [
    "scores"
   ]
  },
  {
   "cell_type": "code",
   "execution_count": 21,
   "id": "80480da5-d133-45b5-8281-07f82f171ca5",
   "metadata": {},
   "outputs": [],
   "source": [
    "scores = gbdt_clf.predict_proba(X_test).max(axis=1)"
   ]
  },
  {
   "cell_type": "code",
   "execution_count": 22,
   "id": "29a0a6e6-8768-4131-b100-11cd62582074",
   "metadata": {},
   "outputs": [
    {
     "data": {
      "text/plain": [
       "array([0.99957147, 0.99986645, 0.99988131, 0.99936034, 0.99979816,\n",
       "       0.99986645, 0.99972974, 0.99915274, 0.99654526, 0.99984646,\n",
       "       0.99960289, 0.99993022, 0.99986645, 0.99993022, 0.99991313,\n",
       "       0.99983485, 0.99996767, 0.99984646, 0.99960344, 0.99998176,\n",
       "       0.99993022, 0.99847931, 0.99991313, 0.99998176, 0.99995713,\n",
       "       0.99996248, 0.99987233, 0.99992807, 0.99993022, 0.99993022,\n",
       "       0.99993022, 0.99986645, 0.99995377, 0.99993022, 0.99993022,\n",
       "       0.99960546, 0.99968097, 0.99988748, 0.99991313, 0.99988748,\n",
       "       0.99920579, 0.99981914, 0.99991243, 0.99986645, 0.99986645])"
      ]
     },
     "execution_count": 22,
     "metadata": {},
     "output_type": "execute_result"
    }
   ],
   "source": [
    "scores"
   ]
  },
  {
   "cell_type": "code",
   "execution_count": 23,
   "id": "0cb7463a-5387-4a6b-9c7c-83169bd92720",
   "metadata": {
    "scrolled": true
   },
   "outputs": [
    {
     "data": {
      "text/plain": [
       "(45,)"
      ]
     },
     "execution_count": 23,
     "metadata": {},
     "output_type": "execute_result"
    }
   ],
   "source": [
    "scores.shape"
   ]
  },
  {
   "cell_type": "code",
   "execution_count": 28,
   "id": "4b9676d5-ce25-4c40-8294-d0efbcafa0b2",
   "metadata": {},
   "outputs": [],
   "source": [
    "# 获取排名前 1% 样本的索引 (ix)\n",
    "top_1_percent = int(len(scores) * 0.1)  # 计算前 10% 样本的数量\n",
    "if top_1_percent == 0:  # 如果样本数量太少，至少取 1 个\n",
    "    top_1_percent = 1\n",
    "ix = np.argsort(scores)[-top_1_percent:]  # 获取概率最高的样本索引"
   ]
  },
  {
   "cell_type": "code",
   "execution_count": 29,
   "id": "30a9cee8-4b2b-44fd-9ae3-6acc3c62e21d",
   "metadata": {},
   "outputs": [
    {
     "data": {
      "text/plain": [
       "array([25, 16, 23, 19], dtype=int64)"
      ]
     },
     "execution_count": 29,
     "metadata": {},
     "output_type": "execute_result"
    }
   ],
   "source": [
    "ix"
   ]
  },
  {
   "cell_type": "code",
   "execution_count": 30,
   "id": "974b588b-1ef1-4d9b-9887-99b0d0c11688",
   "metadata": {},
   "outputs": [],
   "source": [
    "# 获取这些样本的预测类别 (best_pred)\n",
    "best_pred = gbdt_clf.predict(X_test)[ix]"
   ]
  },
  {
   "cell_type": "code",
   "execution_count": 31,
   "id": "7da09173-d356-4224-8a4f-a5e93e573e11",
   "metadata": {},
   "outputs": [
    {
     "data": {
      "text/plain": [
       "array([2, 2, 2, 2])"
      ]
     },
     "execution_count": 31,
     "metadata": {},
     "output_type": "execute_result"
    }
   ],
   "source": [
    "best_pred"
   ]
  },
  {
   "cell_type": "code",
   "execution_count": 32,
   "id": "02f996db-9761-416e-8d4d-4958f6827dfc",
   "metadata": {},
   "outputs": [],
   "source": [
    "# 获取这些样本的真实标签\n",
    "best_true = y_test[ix]"
   ]
  },
  {
   "cell_type": "code",
   "execution_count": 33,
   "id": "6c26ee27-5bd7-40b6-a506-7a61ebbba5a7",
   "metadata": {},
   "outputs": [
    {
     "data": {
      "text/plain": [
       "array([2, 2, 2, 2])"
      ]
     },
     "execution_count": 33,
     "metadata": {},
     "output_type": "execute_result"
    }
   ],
   "source": [
    "best_true"
   ]
  },
  {
   "cell_type": "code",
   "execution_count": 34,
   "id": "d48eb477-1958-419a-91be-0a6dca451301",
   "metadata": {},
   "outputs": [
    {
     "name": "stdout",
     "output_type": "stream",
     "text": [
      "Accuracy of top 1% samples: 1.0\n",
      "\n",
      "Classification Report for top 1% samples:\n",
      "\n",
      "              precision    recall  f1-score   support\n",
      "\n",
      "           2       1.00      1.00      1.00         4\n",
      "\n",
      "    accuracy                           1.00         4\n",
      "   macro avg       1.00      1.00      1.00         4\n",
      "weighted avg       1.00      1.00      1.00         4\n",
      "\n"
     ]
    }
   ],
   "source": [
    "# 计算这些样本的预测是否正确\n",
    "accuracy = accuracy_score(best_true, best_pred)\n",
    "print(\"Accuracy of top 1% samples:\", accuracy)\n",
    "\n",
    "# 输出分类报告\n",
    "print(\"\\nClassification Report for top 1% samples:\\n\")\n",
    "print(classification_report(best_true, best_pred))"
   ]
  },
  {
   "cell_type": "markdown",
   "id": "0b288664-6633-41bc-a7b3-dd094b779372",
   "metadata": {},
   "source": [
    "---"
   ]
  },
  {
   "cell_type": "code",
   "execution_count": 48,
   "id": "53054d57-3c29-4728-a68c-27462e89f719",
   "metadata": {},
   "outputs": [],
   "source": [
    "from sklearn.datasets import fetch_california_housing\n",
    "from sklearn.ensemble import GradientBoostingRegressor\n",
    "from sklearn.metrics import mean_squared_error, r2_score"
   ]
  },
  {
   "cell_type": "code",
   "execution_count": 35,
   "id": "eba9bbd5-460b-43bd-9eba-4c848f462779",
   "metadata": {},
   "outputs": [
    {
     "name": "stdout",
     "output_type": "stream",
     "text": [
      ".. _california_housing_dataset:\n",
      "\n",
      "California Housing dataset\n",
      "--------------------------\n",
      "\n",
      "**Data Set Characteristics:**\n",
      "\n",
      "    :Number of Instances: 20640\n",
      "\n",
      "    :Number of Attributes: 8 numeric, predictive attributes and the target\n",
      "\n",
      "    :Attribute Information:\n",
      "        - MedInc        median income in block group\n",
      "        - HouseAge      median house age in block group\n",
      "        - AveRooms      average number of rooms per household\n",
      "        - AveBedrms     average number of bedrooms per household\n",
      "        - Population    block group population\n",
      "        - AveOccup      average number of household members\n",
      "        - Latitude      block group latitude\n",
      "        - Longitude     block group longitude\n",
      "\n",
      "    :Missing Attribute Values: None\n",
      "\n",
      "This dataset was obtained from the StatLib repository.\n",
      "https://www.dcc.fc.up.pt/~ltorgo/Regression/cal_housing.html\n",
      "\n",
      "The target variable is the median house value for California districts,\n",
      "expressed in hundreds of thousands of dollars ($100,000).\n",
      "\n",
      "This dataset was derived from the 1990 U.S. census, using one row per census\n",
      "block group. A block group is the smallest geographical unit for which the U.S.\n",
      "Census Bureau publishes sample data (a block group typically has a population\n",
      "of 600 to 3,000 people).\n",
      "\n",
      "A household is a group of people residing within a home. Since the average\n",
      "number of rooms and bedrooms in this dataset are provided per household, these\n",
      "columns may take surprisingly large values for block groups with few households\n",
      "and many empty houses, such as vacation resorts.\n",
      "\n",
      "It can be downloaded/loaded using the\n",
      ":func:`sklearn.datasets.fetch_california_housing` function.\n",
      "\n",
      ".. topic:: References\n",
      "\n",
      "    - Pace, R. Kelley and Ronald Barry, Sparse Spatial Autoregressions,\n",
      "      Statistics and Probability Letters, 33 (1997) 291-297\n",
      "\n"
     ]
    }
   ],
   "source": [
    "# 加载数据\n",
    "data = fetch_california_housing()\n",
    "X, y = data.data, data.target\n",
    "\n",
    "print(data.DESCR)  # 查看数据集描述"
   ]
  },
  {
   "cell_type": "code",
   "execution_count": 36,
   "id": "f32c1517-22b9-4dec-a248-7d1006dd4e08",
   "metadata": {},
   "outputs": [
    {
     "data": {
      "text/plain": [
       "(20640, 8)"
      ]
     },
     "execution_count": 36,
     "metadata": {},
     "output_type": "execute_result"
    }
   ],
   "source": [
    "X.shape"
   ]
  },
  {
   "cell_type": "code",
   "execution_count": 38,
   "id": "c1e07adc-46f0-4e84-ae93-35c6301f0cd5",
   "metadata": {},
   "outputs": [
    {
     "data": {
      "text/plain": [
       "(20640,)"
      ]
     },
     "execution_count": 38,
     "metadata": {},
     "output_type": "execute_result"
    }
   ],
   "source": [
    "y.shape"
   ]
  },
  {
   "cell_type": "code",
   "execution_count": 39,
   "id": "ccb3bfc4-d98d-411f-8dfa-1666e313f8b8",
   "metadata": {},
   "outputs": [],
   "source": [
    "X_train, X_test, y_train, y_test = train_test_split(X, y, test_size=0.2, random_state=42)"
   ]
  },
  {
   "cell_type": "code",
   "execution_count": 42,
   "id": "7971485b-d769-4331-838f-5a9d9302af68",
   "metadata": {},
   "outputs": [],
   "source": [
    "reg = GradientBoostingRegressor(\n",
    "    n_estimators=100,  # 弱学习器的数量\n",
    "    learning_rate=0.1,  # 学习率\n",
    "    max_depth=3,  # 每棵树的最大深度\n",
    "    random_state=42\n",
    ")"
   ]
  },
  {
   "cell_type": "code",
   "execution_count": 43,
   "id": "0f8c8128-c445-4daf-9328-2df98c1d80dd",
   "metadata": {},
   "outputs": [
    {
     "data": {
      "text/html": [
       "<style>#sk-container-id-2 {color: black;}#sk-container-id-2 pre{padding: 0;}#sk-container-id-2 div.sk-toggleable {background-color: white;}#sk-container-id-2 label.sk-toggleable__label {cursor: pointer;display: block;width: 100%;margin-bottom: 0;padding: 0.3em;box-sizing: border-box;text-align: center;}#sk-container-id-2 label.sk-toggleable__label-arrow:before {content: \"▸\";float: left;margin-right: 0.25em;color: #696969;}#sk-container-id-2 label.sk-toggleable__label-arrow:hover:before {color: black;}#sk-container-id-2 div.sk-estimator:hover label.sk-toggleable__label-arrow:before {color: black;}#sk-container-id-2 div.sk-toggleable__content {max-height: 0;max-width: 0;overflow: hidden;text-align: left;background-color: #f0f8ff;}#sk-container-id-2 div.sk-toggleable__content pre {margin: 0.2em;color: black;border-radius: 0.25em;background-color: #f0f8ff;}#sk-container-id-2 input.sk-toggleable__control:checked~div.sk-toggleable__content {max-height: 200px;max-width: 100%;overflow: auto;}#sk-container-id-2 input.sk-toggleable__control:checked~label.sk-toggleable__label-arrow:before {content: \"▾\";}#sk-container-id-2 div.sk-estimator input.sk-toggleable__control:checked~label.sk-toggleable__label {background-color: #d4ebff;}#sk-container-id-2 div.sk-label input.sk-toggleable__control:checked~label.sk-toggleable__label {background-color: #d4ebff;}#sk-container-id-2 input.sk-hidden--visually {border: 0;clip: rect(1px 1px 1px 1px);clip: rect(1px, 1px, 1px, 1px);height: 1px;margin: -1px;overflow: hidden;padding: 0;position: absolute;width: 1px;}#sk-container-id-2 div.sk-estimator {font-family: monospace;background-color: #f0f8ff;border: 1px dotted black;border-radius: 0.25em;box-sizing: border-box;margin-bottom: 0.5em;}#sk-container-id-2 div.sk-estimator:hover {background-color: #d4ebff;}#sk-container-id-2 div.sk-parallel-item::after {content: \"\";width: 100%;border-bottom: 1px solid gray;flex-grow: 1;}#sk-container-id-2 div.sk-label:hover label.sk-toggleable__label {background-color: #d4ebff;}#sk-container-id-2 div.sk-serial::before {content: \"\";position: absolute;border-left: 1px solid gray;box-sizing: border-box;top: 0;bottom: 0;left: 50%;z-index: 0;}#sk-container-id-2 div.sk-serial {display: flex;flex-direction: column;align-items: center;background-color: white;padding-right: 0.2em;padding-left: 0.2em;position: relative;}#sk-container-id-2 div.sk-item {position: relative;z-index: 1;}#sk-container-id-2 div.sk-parallel {display: flex;align-items: stretch;justify-content: center;background-color: white;position: relative;}#sk-container-id-2 div.sk-item::before, #sk-container-id-2 div.sk-parallel-item::before {content: \"\";position: absolute;border-left: 1px solid gray;box-sizing: border-box;top: 0;bottom: 0;left: 50%;z-index: -1;}#sk-container-id-2 div.sk-parallel-item {display: flex;flex-direction: column;z-index: 1;position: relative;background-color: white;}#sk-container-id-2 div.sk-parallel-item:first-child::after {align-self: flex-end;width: 50%;}#sk-container-id-2 div.sk-parallel-item:last-child::after {align-self: flex-start;width: 50%;}#sk-container-id-2 div.sk-parallel-item:only-child::after {width: 0;}#sk-container-id-2 div.sk-dashed-wrapped {border: 1px dashed gray;margin: 0 0.4em 0.5em 0.4em;box-sizing: border-box;padding-bottom: 0.4em;background-color: white;}#sk-container-id-2 div.sk-label label {font-family: monospace;font-weight: bold;display: inline-block;line-height: 1.2em;}#sk-container-id-2 div.sk-label-container {text-align: center;}#sk-container-id-2 div.sk-container {/* jupyter's `normalize.less` sets `[hidden] { display: none; }` but bootstrap.min.css set `[hidden] { display: none !important; }` so we also need the `!important` here to be able to override the default hidden behavior on the sphinx rendered scikit-learn.org. See: https://github.com/scikit-learn/scikit-learn/issues/21755 */display: inline-block !important;position: relative;}#sk-container-id-2 div.sk-text-repr-fallback {display: none;}</style><div id=\"sk-container-id-2\" class=\"sk-top-container\"><div class=\"sk-text-repr-fallback\"><pre>GradientBoostingRegressor(random_state=42)</pre><b>In a Jupyter environment, please rerun this cell to show the HTML representation or trust the notebook. <br />On GitHub, the HTML representation is unable to render, please try loading this page with nbviewer.org.</b></div><div class=\"sk-container\" hidden><div class=\"sk-item\"><div class=\"sk-estimator sk-toggleable\"><input class=\"sk-toggleable__control sk-hidden--visually\" id=\"sk-estimator-id-2\" type=\"checkbox\" checked><label for=\"sk-estimator-id-2\" class=\"sk-toggleable__label sk-toggleable__label-arrow\">GradientBoostingRegressor</label><div class=\"sk-toggleable__content\"><pre>GradientBoostingRegressor(random_state=42)</pre></div></div></div></div></div>"
      ],
      "text/plain": [
       "GradientBoostingRegressor(random_state=42)"
      ]
     },
     "execution_count": 43,
     "metadata": {},
     "output_type": "execute_result"
    }
   ],
   "source": [
    "reg.fit(X_train, y_train)"
   ]
  },
  {
   "cell_type": "code",
   "execution_count": 59,
   "id": "769a9c9d-d7f4-4588-ab6a-7749832e0c00",
   "metadata": {},
   "outputs": [],
   "source": [
    "predictions = reg.predict(X_test)\n",
    "mean_prediction = np.mean(predictions)\n",
    "std_prediction = np.std(predictions)\n",
    "\n",
    "# 计算每个预测值的 Z 分数（标准化偏离程度）\n",
    "scores = np.abs((predictions - mean_prediction) / std_prediction)"
   ]
  },
  {
   "cell_type": "code",
   "execution_count": 62,
   "id": "88171a64-6340-413e-b37c-64843895f774",
   "metadata": {},
   "outputs": [
    {
     "name": "stdout",
     "output_type": "stream",
     "text": [
      "前 1% 样本的索引: [2020  778 1912 1970 2389 3419  196 2885 3319 4019   26 2200  899 2244\n",
      " 3999 3980 3574 3405  691 1553 2064 1367 3580  311 1301 3988 1584 3472\n",
      "  324 3024  333 3676  871 1120 3661 2766  664  958 4113  669  119 3338\n",
      " 3300 1795 2476  836 1377 2448 1642 2089  326 3005 2878 2906  409 2103\n",
      " 1718  390 1038 2690 2522  707  502 3804 2000 1019 2006 2009 3992  431\n",
      " 1770  671 1207 3289  422 1182  260  692 3374 3191 2561 3785 1672 3397\n",
      " 2489 3892 2642  889 2707 3946 3714   77 1798  204 2421 3638 2257 1407\n",
      " 1635 1773 1127 3402 2848   75  375  361 3840 2879 1559  529 3277  351\n",
      " 2798 3354 1289  478 2413 1871 1400  482 2746 3854 3326 2418 2444  702\n",
      " 2385 3800  626 3067 3786  134  670 3149 3522 1991 3311 3432 2002  500\n",
      " 2634 4036 3143 2008 2957   17 4123  350 3117 4022 3879 3809 3330 3408\n",
      " 2136  952 2514 1032 2303 2351 2710 2810 3898  362 2270 3362  106 2453\n",
      " 1044 3969  115 3994  967 3329 3989 2828 3811  724 3719 3782 1809  774\n",
      "  251 2347 1709 3158 3106 1383 2255 1883  293 2782 2143 3489 2075  773\n",
      " 1279 1047  160 3995  543 1604 3062 1573 1227  822   61  934 1508 2387\n",
      " 2354 2772 1627 2643  203 3536  168 2328 1953 4090 1082 1510 3826  546\n",
      "  896 3649 2551 2809 2383 1125 3542   45  972 2681 3165 3563 1781  161\n",
      " 1787  775 3094 2590 1850 4094  640 3797 3208 1269 3628 3515 2192 3870\n",
      " 3681 3135  306  578 2409 3538   98  816 3028 1981 2861  698 2672 3665\n",
      " 2366 1136  878 2921 3839 3991 1612 3214 1724 1558  983 2719 2801  694\n",
      " 2851  572 3701 1359 2638 1498 3737  228 2324 1191  851 3102 3200 2037\n",
      " 3457 2149  451 4127  804 3090 1109 1715  733  470 1088 2482 1433 1522\n",
      " 1409 3275 3873  457 2664 2594 2116 1060  632  276 4033 2450 1177 1807\n",
      " 3035 2197 2838 3310 1831 3974 2940 3163 2910 3227  187 1978   57 2718\n",
      " 3381 2336  535 2163 2025 1481  848 1027 3064  366  140 3061 1956 4093\n",
      " 3952 2365 3260 2866 3266 2356  881  619 3703 1419  858  797 4091 2549\n",
      "  976 3034  398 1500 2559 2139 1548  525  322 3421 1029 2560 3284 2397\n",
      " 1013 1907   97 3763 2377  143 3110 1344  317 2979 2333 2077 3317 1277\n",
      " 1873  761 2836 1676 1095 2950 2437 2833   16 2165 2142   51 4088 3550\n",
      "  675 2080 2839 2331  514 3247]\n"
     ]
    }
   ],
   "source": [
    "# 对 Z 分数进行排序（Z 分数越小，预测值越接近均值，越“正常”）\n",
    "# 1. 计算前 10% 的样本数量\n",
    "num_top_1_percent = int(len(scores) * 0.1)\n",
    "\n",
    "if num_top_1_percent == 0:  # 如果样本数量太少，至少取 1 个\n",
    "    num_top_1_percent = 1\n",
    "\n",
    "# 2. 对 Z 分数进行排序，获取从小到大的索引\n",
    "sorted_indices = np.argsort(scores)\n",
    "\n",
    "# 3. 提取前 1% 的样本索引\n",
    "top_1_percent_indices = sorted_indices[:num_top_1_percent]\n",
    "\n",
    "# 打印结果\n",
    "print(f\"前 1% 样本的索引: {top_1_percent_indices}\")"
   ]
  },
  {
   "cell_type": "code",
   "execution_count": 63,
   "id": "c87c89d0-0838-4b94-bbd8-0fb8308b6d91",
   "metadata": {},
   "outputs": [],
   "source": [
    "best_pred = predictions[ix]"
   ]
  },
  {
   "cell_type": "code",
   "execution_count": 64,
   "id": "8aba645e-644f-41e6-bf58-66907a0d3322",
   "metadata": {},
   "outputs": [
    {
     "data": {
      "text/plain": [
       "array([0.45352044, 2.18407834, 4.1201981 , 1.05476902])"
      ]
     },
     "execution_count": 64,
     "metadata": {},
     "output_type": "execute_result"
    }
   ],
   "source": [
    "best_pred"
   ]
  },
  {
   "cell_type": "code",
   "execution_count": 65,
   "id": "6c360311-027d-4be3-8c73-1d3d995a3e99",
   "metadata": {},
   "outputs": [],
   "source": [
    "best_true = y_test[ix]"
   ]
  },
  {
   "cell_type": "code",
   "execution_count": 66,
   "id": "ee2daa66-54b9-4a9e-acec-183bb92784cd",
   "metadata": {},
   "outputs": [
    {
     "data": {
      "text/plain": [
       "array([0.514  , 1.784  , 5.00001, 1.375  ])"
      ]
     },
     "execution_count": 66,
     "metadata": {},
     "output_type": "execute_result"
    }
   ],
   "source": [
    "best_true"
   ]
  },
  {
   "cell_type": "code",
   "execution_count": 67,
   "id": "c81cdc0f-b0ca-4b32-b94d-e58be980011e",
   "metadata": {},
   "outputs": [
    {
     "name": "stdout",
     "output_type": "stream",
     "text": [
      "测试集上的均方误差 (MSE): 0.2601\n",
      "测试集上的 R^2 分数: 0.9098\n"
     ]
    }
   ],
   "source": [
    "# 6. 评估模型性能\n",
    "mse = mean_squared_error(best_true, best_pred)  # 均方误差\n",
    "r2 = r2_score(best_true, best_pred)  # R^2 分数\n",
    "\n",
    "print(f\"测试集上的均方误差 (MSE): {mse:.4f}\")\n",
    "print(f\"测试集上的 R^2 分数: {r2:.4f}\")"
   ]
  },
  {
   "cell_type": "code",
   "execution_count": null,
   "id": "a3316def-167b-49d9-a053-e2144a72de16",
   "metadata": {},
   "outputs": [],
   "source": []
  },
  {
   "cell_type": "code",
   "execution_count": 56,
   "id": "61427131-6b8d-49c1-b537-7adbb5509228",
   "metadata": {},
   "outputs": [
    {
     "data": {
      "text/plain": [
       "2.055199732989832"
      ]
     },
     "execution_count": 56,
     "metadata": {},
     "output_type": "execute_result"
    }
   ],
   "source": [
    "np.mean(predictions)"
   ]
  },
  {
   "cell_type": "code",
   "execution_count": 46,
   "id": "6211c527-2603-472a-97c6-ab75cae3c2e3",
   "metadata": {},
   "outputs": [
    {
     "data": {
      "text/plain": [
       "array([0.477  , 0.458  , 5.00001, ..., 5.00001, 0.723  , 1.515  ])"
      ]
     },
     "execution_count": 46,
     "metadata": {},
     "output_type": "execute_result"
    }
   ],
   "source": [
    "y_test"
   ]
  },
  {
   "cell_type": "code",
   "execution_count": 49,
   "id": "9bac4500-a222-429e-801e-9a630eeba585",
   "metadata": {},
   "outputs": [
    {
     "name": "stdout",
     "output_type": "stream",
     "text": [
      "测试集上的均方误差 (MSE): 0.2940\n",
      "测试集上的 R^2 分数: 0.7756\n"
     ]
    }
   ],
   "source": [
    "# 5. 在测试集上进行预测\n",
    "y_pred = reg.predict(X_test)\n",
    "\n",
    "# 6. 评估模型性能\n",
    "mse = mean_squared_error(y_test, y_pred)  # 均方误差\n",
    "r2 = r2_score(y_test, y_pred)  # R^2 分数\n",
    "\n",
    "print(f\"测试集上的均方误差 (MSE): {mse:.4f}\")\n",
    "print(f\"测试集上的 R^2 分数: {r2:.4f}\")"
   ]
  },
  {
   "cell_type": "code",
   "execution_count": null,
   "id": "2ab6def2-9e82-4ca7-9804-3863c175a8f6",
   "metadata": {},
   "outputs": [],
   "source": []
  }
 ],
 "metadata": {
  "kernelspec": {
   "display_name": "VFPUMC",
   "language": "python",
   "name": "vfpumc"
  },
  "language_info": {
   "codemirror_mode": {
    "name": "ipython",
    "version": 3
   },
   "file_extension": ".py",
   "mimetype": "text/x-python",
   "name": "python",
   "nbconvert_exporter": "python",
   "pygments_lexer": "ipython3",
   "version": "3.8.19"
  }
 },
 "nbformat": 4,
 "nbformat_minor": 5
}
