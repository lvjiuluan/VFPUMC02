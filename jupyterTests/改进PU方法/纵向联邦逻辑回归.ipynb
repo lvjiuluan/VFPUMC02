{
 "cells": [
  {
   "cell_type": "code",
   "execution_count": 30,
   "id": "ea7d67d4-c94c-490a-940c-67b5c1ac5bfa",
   "metadata": {
    "tags": []
   },
   "outputs": [],
   "source": [
    "import numpy as np\n",
    "from sklearn.datasets import make_classification\n",
    "from sklearn.model_selection import train_test_split\n",
    "from sklearn.metrics import accuracy_score"
   ]
  },
  {
   "cell_type": "code",
   "execution_count": 31,
   "id": "adc1ea6f-8477-43c4-a915-f8d816c2d664",
   "metadata": {
    "tags": []
   },
   "outputs": [],
   "source": [
    "# 生成二分类数据集\n",
    "X, y = make_classification(\n",
    "    n_samples=1000,  # 样本数\n",
    "    n_features=10,   # 特征数\n",
    "    n_informative=8, # 有用的特征数\n",
    "    n_redundant=2,   # 冗余特征数\n",
    "    random_state=42, # 随机种子\n",
    "    n_classes=2      # 二分类\n",
    ")\n",
    "\n",
    "# 划分训练集和测试集\n",
    "X_train, X_test, y_train, y_test = train_test_split(X, y, test_size=0.2, random_state=42)"
   ]
  },
  {
   "cell_type": "code",
   "execution_count": 32,
   "id": "da68dc7d-4c34-40a3-8a80-971beaf8a473",
   "metadata": {
    "tags": []
   },
   "outputs": [],
   "source": [
    "config =  {\n",
    "    'lr':1e-2,\n",
    "    'lambda':0.1,\n",
    "    'num_iter':10\n",
    "}"
   ]
  },
  {
   "cell_type": "code",
   "execution_count": 33,
   "id": "673da906-6e0b-4fb4-9b6a-a0028032921c",
   "metadata": {
    "tags": []
   },
   "outputs": [],
   "source": [
    "# 初始化参数\n",
    "n, m = X_train.shape[0], X_train.shape[1]\n",
    "w = np.zeros(m)\n",
    "\n",
    "for i in range(config['num_iter']):\n",
    "    # 预测值\n",
    "    z = np.dot(X_train, w)\n",
    "    y_pred = 1 / (1 + np.exp(-z))\n",
    "\n",
    "    # 计算梯度\n",
    "    gradient = (1 / n) * np.dot(X_train.T, (y_pred - y_train))\n",
    "    gradient += (config['lambda'] / n) * w  # 正则化项\n",
    "\n",
    "    # 更新权重\n",
    "    w -= config['lr'] * gradient"
   ]
  },
  {
   "cell_type": "code",
   "execution_count": 38,
   "id": "f865b62c-46f7-459b-b621-a4c47879fa06",
   "metadata": {
    "tags": []
   },
   "outputs": [],
   "source": [
    "# 预测概率\n",
    "z = np.dot(X_test,w)\n",
    "proba = 1 / (1 + np.exp(-z))\n",
    "\n",
    "# 概率转分类\n",
    "y_pred = (proba >= 0.5).astype(int)\n",
    "\n",
    "# 计算准确率\n",
    "accuracy = accuracy_score(y_test, y_pred)\n",
    "print(f\"Accuracy: {accuracy:.4f}\")"
   ]
  }
 ],
 "metadata": {
  "kernelspec": {
   "display_name": "VFPUMC02",
   "language": "python",
   "name": "vfpumc02"
  },
  "language_info": {
   "codemirror_mode": {
    "name": "ipython",
    "version": 3
   },
   "file_extension": ".py",
   "mimetype": "text/x-python",
   "name": "python",
   "nbconvert_exporter": "python",
   "pygments_lexer": "ipython3",
   "version": "3.9.21"
  }
 },
 "nbformat": 4,
 "nbformat_minor": 5
}
