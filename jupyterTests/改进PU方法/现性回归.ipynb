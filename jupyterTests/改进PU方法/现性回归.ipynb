{
 "cells": [
  {
   "cell_type": "markdown",
   "id": "9af6c388-0e7d-4e7c-b88f-5c89c06fdad4",
   "metadata": {},
   "source": [
    "# 推导过程\n",
    "\r\n",
    "### 1. 用向量形式推导线性回归\r\n",
    "\r\n",
    "线性回归的目标是通过最小化损失函数 $ L(w) $ 来找到最优的权重 $ w $。我们用向量化的方式推导整个过程。\r\n",
    "\r\n",
    "#### 1.1 问题定义\r\n",
    "假设我们有 $ m $ 个样本，每个样本有 $ n $ 个特征。定义：\r\n",
    "- 输入矩阵 $ X \\in \\mathbb{R}^{m \\times n} $：每行是一个样本的特征向量。\r\n",
    "- 输出向量 $ y \\in \\mathbb{R}^m $：每个样本的真实值。\r\n",
    "- 权重向量 $ w \\in \\mathbb{R}^n $：模型的参数。\r\n",
    "- 偏置 $ b \\in \\mathbb{R} $：模型的偏置项。\r\n",
    "\r\n",
    "线性回归的预测公式为：\r\n",
    "\\[\r\n",
    "\\hat{y} = Xw + b\r\n",
    "\\]\r\n",
    "其中，$ \\hat{y} \\in \\mathbb{R}^m $ 是预测值。\r\n",
    "\r\n",
    "#### 1.2 损失函数\r\n",
    "我们使用均方误差（MSE）作为损失函数：\r\n",
    "\\[\r\n",
    "L(w, b) = \\frac{1}{2m} \\| \\hat{y} - y \\|^2 = \\frac{1}{2m} \\| Xw + b - y \\|^2\r\n",
    "\\]\r\n",
    "\r\n",
    "#### 1.3 损失函数的梯度\r\n",
    "为了最小化损失函数，我们需要对 $ w $ 和 $ b $ 求偏导。\r\n",
    "\r\n",
    "##### 对 $ w $ 求偏导\r\n",
    "展开损失函数：\r\n",
    "\\[\r\n",
    "L(w, b) = \\frac{1}{2m} (Xw + b - y)^\\top (Xw + b - y)\r\n",
    "\\]\r\n",
    "对 $ w $ 求偏导：\r\n",
    "\\[\r\n",
    "\\frac{\\partial L(w, b)}{\\partial w} = \\frac{1}{m} X^\\top (Xw + b - y)\r\n",
    "$$\r\n",
    "\r\n",
    "##### 对 $ b $ 求偏导\r\n",
    "对 $ b $ 求偏导：\r\n",
    "\\[\r\n",
    "\\frac{\\partial L(w, b)}{\\partial b} = \\frac{1}{m} \\sum_{i=1}^m \\left( \\hat{y}_i - y_i \\right) = \\$$ac{1}{m} \\mathbf{1}^\\top (Xw + b - y)\r\n",
    "\\]\r\n",
    "其中，$ \\mathbf{1} $ 是全为 1 的列向量。\r\n",
    "\r",
    "$$### 1.4 梯度下降更新公式\r\n",
    "使用梯度下降法更新 $ w $ 和 $ b $：\r\n",
    "\\[\r\n",
    "w := $$-$$alpha \\frac{\\partial L(w, b)}{\\partial w}\r\n",
    "\\]\r\n",
    "\\[\r\n",
    "b $$ b - \\alpha \\frac{\\partial L(w, b)}{\\partial b}\r\n",
    "\\]\r\n",
    "其中，$ \\alpha $ 是学习率。ial L(w, b)}{\\partial b}\r\n",
    "\\]\r\n",
    "其中，\\( \\alpha \\) 是学习率。"
   ]
  },
  {
   "cell_type": "code",
   "execution_count": null,
   "id": "509af983-b69c-4d81-b5a3-73d4f118f78d",
   "metadata": {},
   "outputs": [],
   "source": []
  }
 ],
 "metadata": {
  "kernelspec": {
   "display_name": "VFPUMC",
   "language": "python",
   "name": "vfpumc"
  },
  "language_info": {
   "codemirror_mode": {
    "name": "ipython",
    "version": 3
   },
   "file_extension": ".py",
   "mimetype": "text/x-python",
   "name": "python",
   "nbconvert_exporter": "python",
   "pygments_lexer": "ipython3",
   "version": "3.8.19"
  }
 },
 "nbformat": 4,
 "nbformat_minor": 5
}
