{
 "cells": [
  {
   "cell_type": "markdown",
   "id": "4e48285f-283d-4d27-a1a5-4210b0f28086",
   "metadata": {},
   "source": [
    "# 推导过程\n",
    "\n",
    "### 1. 用向量形式推导线性回归\n",
    "\n",
    "线性回归的目标是通过最小化损失函数 $ L(w) $ 来找到最优的权重 $ w $。我们用向量化的方式推导整个过程。\n",
    "\n",
    "#### 1.1 问题定义\n",
    "假设我们有 $ m $ 个样本，每个样本有 $ n $ 个特征。定义：\n",
    "- 输入矩阵 $ X \\in \\mathbb{R}^{m \\times n} $：每行是一个样本的特征向量。\n",
    "- 输出向量 $ y \\in \\mathbb{R}^m $：每个样本的真实值。\n",
    "- 权重向量 $ w \\in \\mathbb{R}^n $：模型的参数。\n",
    "- 偏置 $ b \\in \\mathbb{R} $：模型的偏置项。\n",
    "\n",
    "线性回归的预测公式为：\n",
    "$$\n",
    "\\hat{y} = Xw + b\n",
    "$$\n",
    "其中，$ \\hat{y} \\in \\mathbb{R}^m $ 是预测值。\n",
    "\n",
    "#### 1.2 损失函数\n",
    "我们使用均方误差（MSE）作为损失函数：\n",
    "$$\n",
    "L(w, b) = \\frac{1}{2m} \\| \\hat{y} - y \\|^2 = \\frac{1}{2m} \\| Xw + b - y \\|^2\n",
    "$$\n",
    "\n",
    "#### 1.3 损失函数的梯度\n",
    "为了最小化损失函数，我们需要对 $ w $ 和 $ b $ 求偏导。\n",
    "\n",
    "##### 对 $ w $ 求偏导\n",
    "展开损失函数：\n",
    "$$\n",
    "L(w, b) = \\frac{1}{2m} (Xw + b - y)^\\top (Xw + b - y)\n",
    "$$\n",
    "对 $ w $ 求偏导：\n",
    "$$\n",
    "\\frac{\\partial L(w, b)}{\\partial w} = \\frac{1}{m} X^\\top (Xw + b - y)\n",
    "$$\n",
    "\n",
    "对 $ b $ 求偏导：\n",
    "$$\n",
    "\\frac{\\partial L(w, b)}{\\partial b} = \\frac{1}{m} \\sum_{i=1}^m \\left( \\hat{y}_i - y_i \\right) = \\frac{1}{m} \\mathbf{1}^\\top (Xw + b - y)\n",
    "$$\n",
    "其中，$ \\mathbf{1} $ 是全为 1 的列向量。\n",
    "\n",
    "#### 1.4 梯度下降更新公式\n",
    "\n",
    "使用梯度下降法更新 $ w $ 和 $ b $：\n",
    "$$\n",
    "w := w - \\alpha \\frac{\\partial L(w, b)}{\\partial w}\n",
    "$$\n",
    "\n",
    "$$\n",
    "b := b - \\alpha \\frac{\\partial L(w, b)}{\\partial b}\n",
    "$$\n",
    "其中，$ \\alpha $ 是学习率。"
   ]
  },
  {
   "cell_type": "markdown",
   "id": "ec0d2278-c1ed-46b0-b7ba-d9047d8aa3a7",
   "metadata": {},
   "source": [
    "# Python实现现性回归"
   ]
  },
  {
   "cell_type": "code",
   "execution_count": 1,
   "id": "f53acfe0-0eb9-4266-8a34-4e5edef873cd",
   "metadata": {},
   "outputs": [],
   "source": [
    "import numpy as np\n",
    "import matplotlib.pyplot as plt"
   ]
  },
  {
   "cell_type": "code",
   "execution_count": 2,
   "id": "f89101c1-5b9d-4713-a945-bd7bf502db4d",
   "metadata": {},
   "outputs": [],
   "source": [
    "# 生成数据\n",
    "np.random.seed(42)\n",
    "m, n = 100, 2  # 样本数和特征数\n",
    "X = np.random.rand(m, n)  # 随机生成特征矩阵\n",
    "true_w = np.array([2, -3])  # 真实权重\n",
    "true_b = 5  # 真实偏置\n",
    "y = np.dot(X,true_w) + true_b"
   ]
  },
  {
   "cell_type": "code",
   "execution_count": 6,
   "id": "e74a53cc-af60-4cd2-a4a9-3d606d91c749",
   "metadata": {},
   "outputs": [
    {
     "name": "stdout",
     "output_type": "stream",
     "text": [
      "Epoch 0, Loss: 10.6976\n",
      "Epoch 100, Loss: 0.2104\n",
      "Epoch 200, Loss: 0.0585\n",
      "Epoch 300, Loss: 0.0176\n",
      "Epoch 400, Loss: 0.0055\n",
      "Epoch 500, Loss: 0.0018\n",
      "Epoch 600, Loss: 0.0006\n",
      "Epoch 700, Loss: 0.0002\n",
      "Epoch 800, Loss: 0.0001\n",
      "Epoch 900, Loss: 0.0000\n",
      "Final weights: [ 2.0072425 -2.9891287]\n",
      "Final bias: 4.990712593230413\n"
     ]
    },
    {
     "data": {
      "image/png": "[encoded data removed]",
      "text/plain": [
       "<Figure size 640x480 with 1 Axes>"
      ]
     },
     "metadata": {},
     "output_type": "display_data"
    }
   ],
   "source": [
    "# 初始化参数\n",
    "w = np.zeros(n)  # 初始化权重\n",
    "b = 0  # 初始化偏置\n",
    "alpha = 0.1  # 学习率\n",
    "epochs = 1000  # 迭代次数\n",
    "\n",
    "loss_history = []  # 用于存储每次迭代的损失值\n",
    "\n",
    "for epoch in range(epochs):\n",
    "    # 预测值\n",
    "    y_pred = np.dot(X, w) + b\n",
    "    \n",
    "    # 计算梯度\n",
    "    dw = (1 / m) * np.dot(X.T,(y_pred - y))\n",
    "    db = (1 / m) * np.sum(y_pred - y)\n",
    "\n",
    "    # 更新参数\n",
    "    w -= alpha * dw\n",
    "    b -= alpha * db\n",
    "\n",
    "    # 记录损失\n",
    "    loss = (1 / (2 * m)) * np.sum((y_pred - y) ** 2)\n",
    "    loss_history.append(loss)\n",
    "    \n",
    "    # 打印损失\n",
    "    if epoch % 100 == 0:\n",
    "        loss = (1 / (2 * m)) * np.sum((y_pred - y) ** 2)\n",
    "        print(f\"Epoch {epoch}, Loss: {loss:.4f}\")\n",
    "\n",
    "# 打印最终结果\n",
    "print(\"Final weights:\", w)\n",
    "print(\"Final bias:\", b)\n",
    "# 绘制损失函数变化曲线\n",
    "plt.plot(range(epochs), loss_history, label=\"Loss\")\n",
    "plt.xlabel(\"Epoch\")\n",
    "plt.ylabel(\"Loss\")\n",
    "plt.title(\"Loss Function Over Epochs\")\n",
    "plt.legend()\n",
    "plt.show()"
   ]
  },
  {
   "cell_type": "code",
   "execution_count": null,
   "id": "0e421c6e-5ac3-4632-80cb-b629d1765a56",
   "metadata": {},
   "outputs": [],
   "source": []
  }
 ],
 "metadata": {
  "kernelspec": {
   "display_name": "VFPUMC",
   "language": "python",
   "name": "vfpumc"
  },
  "language_info": {
   "codemirror_mode": {
    "name": "ipython",
    "version": 3
   },
   "file_extension": ".py",
   "mimetype": "text/x-python",
   "name": "python",
   "nbconvert_exporter": "python",
   "pygments_lexer": "ipython3",
   "version": "3.8.19"
  }
 },
 "nbformat": 4,
 "nbformat_minor": 5
}
