{
 "cells": [
  {
   "cell_type": "code",
   "execution_count": 1,
   "id": "f0f30a2a-2548-4cda-8046-cc6fbb7572f5",
   "metadata": {},
   "outputs": [],
   "source": [
    "import sys\n",
    "sys.path.append('D:\\PyCharmProjects\\VFPUMC02')\n",
    "sys.path.append(r'C:\\Users\\Administrator\\PycharmProjects\\VFPUMC02')\n",
    "%load_ext autoreload\n",
    "%autoreload 2"
   ]
  },
  {
   "cell_type": "code",
   "execution_count": 4,
   "id": "8eb6011a-3334-4833-8b7d-3b9a260afb34",
   "metadata": {},
   "outputs": [],
   "source": [
    "from consts.Constants import *\n",
    "from utils.pklUtils import *"
   ]
  },
  {
   "cell_type": "code",
   "execution_count": 5,
   "id": "2697ddd9-c406-41fe-a47f-f4213e576734",
   "metadata": {},
   "outputs": [
    {
     "name": "stdout",
     "output_type": "stream",
     "text": [
      "对象已成功从 D:\\PyCharmProjects\\VFPUMC02\\datasets\\sbt_guest_result.pkl 加载\n"
     ]
    }
   ],
   "source": [
    "result = load_from_pkl(SBT_PKL_GUEST_PATH)"
   ]
  },
  {
   "cell_type": "code",
   "execution_count": 7,
   "id": "46367d2d-a7cd-4758-bb6d-b5097c2b240a",
   "metadata": {},
   "outputs": [],
   "source": [
    "pred_df = result['pred_df']"
   ]
  },
  {
   "cell_type": "code",
   "execution_count": 10,
   "id": "7ac862e1-2f91-4ccf-822b-6c997a73d386",
   "metadata": {},
   "outputs": [
    {
     "data": {
      "text/plain": [
       "0      1\n",
       "1      0\n",
       "2      1\n",
       "3      1\n",
       "4      1\n",
       "      ..\n",
       "564    0\n",
       "565    0\n",
       "566    1\n",
       "567    1\n",
       "568    1\n",
       "Name: predict_result, Length: 569, dtype: int32"
      ]
     },
     "execution_count": 10,
     "metadata": {},
     "output_type": "execute_result"
    }
   ],
   "source": [
    "pred_df"
   ]
  },
  {
   "cell_type": "code",
   "execution_count": 9,
   "id": "a7b4fcee-a5cd-43a5-a503-369b5f79a84d",
   "metadata": {},
   "outputs": [
    {
     "data": {
      "text/plain": [
       "0      0.748314\n",
       "1      0.265015\n",
       "2      0.779594\n",
       "3      0.779594\n",
       "4      0.779594\n",
       "         ...   \n",
       "564    0.218058\n",
       "565    0.218058\n",
       "566    0.675172\n",
       "567    0.776940\n",
       "568    0.779594\n",
       "Name: predict_score, Length: 569, dtype: float64"
      ]
     },
     "execution_count": 9,
     "metadata": {},
     "output_type": "execute_result"
    }
   ],
   "source": [
    "pred_df.predict_score"
   ]
  }
 ],
 "metadata": {
  "kernelspec": {
   "display_name": "VFPUMC",
   "language": "python",
   "name": "vfpumc"
  },
  "language_info": {
   "codemirror_mode": {
    "name": "ipython",
    "version": 3
   },
   "file_extension": ".py",
   "mimetype": "text/x-python",
   "name": "python",
   "nbconvert_exporter": "python",
   "pygments_lexer": "ipython3",
   "version": "3.8.19"
  }
 },
 "nbformat": 4,
 "nbformat_minor": 5
}
