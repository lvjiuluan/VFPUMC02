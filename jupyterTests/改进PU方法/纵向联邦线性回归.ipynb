{
 "cells": [
  {
   "cell_type": "code",
   "execution_count": 21,
   "id": "625065f1-8beb-4f56-8790-30779219fe08",
   "metadata": {},
   "outputs": [
    {
     "name": "stdout",
     "output_type": "stream",
     "text": [
      "The autoreload extension is already loaded. To reload it, use:\n",
      "  %reload_ext autoreload\n"
     ]
    }
   ],
   "source": [
    "import sys\n",
    "sys.path.append('/root/VFPUMC02')\n",
    "%load_ext autoreload\n",
    "%autoreload 2"
   ]
  },
  {
   "cell_type": "markdown",
   "id": "4efe4dd1-4eb7-4e1d-ad4b-55768bc11d54",
   "metadata": {},
   "source": [
    "# 1 普通的线性回归"
   ]
  },
  {
   "cell_type": "markdown",
   "id": "8eac4ba8-978b-4b1b-933b-ae197f8ff30f",
   "metadata": {},
   "source": [
    "## 1.1 推导过程"
   ]
  },
  {
   "cell_type": "markdown",
   "id": "9db22941-03aa-4517-920d-382d31c7d492",
   "metadata": {},
   "source": [
    "## 1.2 python手动实现"
   ]
  },
  {
   "cell_type": "code",
   "execution_count": 22,
   "id": "7f50cd0a-7881-487c-b637-c80e065f07c2",
   "metadata": {},
   "outputs": [
    {
     "name": "stdout",
     "output_type": "stream",
     "text": [
      "原始数据 X 的形状: (442, 10)\n",
      "原始数据 y 的形状: (442,)\n",
      "训练集 X 的形状: (309, 10)\n",
      "测试集 X 的形状: (133, 10)\n"
     ]
    }
   ],
   "source": [
    "import numpy as np\n",
    "import matplotlib.pyplot as plt\n",
    "from sklearn.datasets import load_diabetes\n",
    "from sklearn.model_selection import train_test_split\n",
    "\n",
    "# 载入数据\n",
    "X_raw, y_raw = load_diabetes(return_X_y=True)\n",
    "print(\"原始数据 X 的形状:\", X_raw.shape)\n",
    "print(\"原始数据 y 的形状:\", y_raw.shape)\n",
    "\n",
    "# 切分训练集和测试集\n",
    "X_train_raw, X_test_raw, y_train, y_test = train_test_split(\n",
    "    X_raw, y_raw, test_size=0.3, random_state=42\n",
    ")\n",
    "print(\"训练集 X 的形状:\", X_train_raw.shape)\n",
    "print(\"测试集 X 的形状:\", X_test_raw.shape)"
   ]
  },
  {
   "cell_type": "code",
   "execution_count": 23,
   "id": "a111b9ee-7332-4bbb-9e21-ad4f9e27f0ab",
   "metadata": {},
   "outputs": [
    {
     "name": "stdout",
     "output_type": "stream",
     "text": [
      "添加偏置后训练集 X 的形状: (309, 11)\n",
      "添加偏置后测试集 X 的形状: (133, 11)\n"
     ]
    }
   ],
   "source": [
    "def add_bias_column(X):\n",
    "    \"\"\"\n",
    "    给特征矩阵 X (形状 n x m) 额外添加一列全 1，返回新矩阵 (形状 n x (m+1))\n",
    "    \"\"\"\n",
    "    n = X.shape[0]\n",
    "    ones = np.ones((n, 1))\n",
    "    return np.hstack([X, ones])\n",
    "\n",
    "# 给训练集和测试集都添加一列全1\n",
    "X_train = add_bias_column(X_train_raw)\n",
    "X_test = add_bias_column(X_test_raw)\n",
    "\n",
    "print(\"添加偏置后训练集 X 的形状:\", X_train.shape)\n",
    "print(\"添加偏置后测试集 X 的形状:\", X_test.shape)"
   ]
  },
  {
   "cell_type": "code",
   "execution_count": 24,
   "id": "a71ce70d-a27d-4b4f-b9dd-40ba53204a88",
   "metadata": {},
   "outputs": [
    {
     "name": "stdout",
     "output_type": "stream",
     "text": [
      "******** 14917.194174757282 ********\n",
      "weights:[ 8.65123217e-03  7.41284414e-04  2.72063286e-02  1.87218484e-02\n",
      "  9.42016730e-03  7.58949476e-03 -1.57999544e-02  1.86864467e-02\n",
      "  2.25925882e-02  1.91357072e-02  1.53902913e+00]\n",
      "******** 14681.71334388507 ********\n",
      "weights:[ 1.72496672e-02  1.47292730e-03  5.42576246e-02  3.73481779e-02\n",
      "  1.87773626e-02  1.51310501e-02 -3.15267520e-02  3.72728336e-02\n",
      "  4.50634466e-02  3.81459291e-02  3.05650910e+00]\n",
      "******** 14452.7760232736 ********\n",
      "weights:[ 2.57957640e-02  2.19505598e-03  8.11551413e-02  5.58796485e-02\n",
      "  2.80721811e-02  2.26250935e-02 -4.71808134e-02  5.57598996e-02\n",
      "  6.74134862e-02  5.70318401e-02  4.55274162e+00]\n",
      "******** 14230.200305270268 ********\n",
      "weights:[ 3.42899765e-02  2.90779607e-03  1.07900118e-01  7.43169138e-02\n",
      "  3.73052109e-02  3.00720475e-02 -6.27625561e-02  7.41483761e-02\n",
      "  8.96436084e-02  7.57946003e-02  6.02802417e+00]\n",
      "******** 14013.809339832502 ********\n",
      "weights:[ 4.27327531e-02  3.61127146e-03  1.34493780e-01  9.26606208e-02\n",
      "  4.64770331e-02  3.74723296e-02 -7.82723938e-02  9.24389866e-02\n",
      "  1.11754705e-01  9.44353562e-02  7.48265007e+00]\n",
      "******** 13803.431193905042 ********\n",
      "weights:[ 5.11245374e-02  4.30560434e-03  1.60937341e-01  1.10911410e-01\n",
      "  5.55882216e-02  4.48263526e-02 -9.37107372e-02  1.10632448e-01\n",
      "  1.33747660e-01  1.12955240e-01  8.91690852e+00]\n",
      "******** 13598.89871470712 ********\n",
      "weights:[ 5.94657676e-02  4.99091528e-03  1.87231998e-01  1.29069917e-01\n",
      "  6.46393438e-02  5.21345244e-02 -1.09077993e-01  1.28729468e-01\n",
      "  1.55623345e-01  1.31355372e-01  1.03310847e+01]\n",
      "******** 13400.049396820888 ********\n",
      "weights:[ 6.77568771e-02  5.66732317e-03  2.13378938e-01  1.47136769e-01\n",
      "  7.36309600e-02  5.93972485e-02 -1.24374567e-01  1.46730750e-01\n",
      "  1.77382625e-01  1.49636858e-01  1.17254597e+01]\n",
      "******** 13206.72525297538 ********\n",
      "weights:[ 7.59982943e-02  6.33494531e-03  2.39379334e-01  1.65112589e-01\n",
      "  8.25636240e-02  6.66149233e-02 -1.39600857e-01  1.64636988e-01\n",
      "  1.99026357e-01  1.67800789e-01  1.31003109e+01]\n",
      "******** 13018.772688423258 ********\n",
      "weights:[ 8.41904427e-02  6.99389739e-03  2.65234346e-01  1.82997993e-01\n",
      "  9.14378831e-02  7.37879429e-02 -1.54757263e-01  1.82448868e-01\n",
      "  2.20555387e-01  1.85848247e-01  1.44559115e+01]\n"
     ]
    }
   ],
   "source": [
    "config = {\n",
    "    'lambda':0.4, #正则项系数\n",
    "    'lr':1e-2,    # 学习率\n",
    "    'n_iters':10, # 训练轮数\n",
    "}\n",
    "\n",
    "weights = np.zeros(X_train.shape[1])\n",
    "loss_history = []\n",
    "n, m = X_train.shape[0], X_train.shape[1]\n",
    "for i in range(config['n_iters']):\n",
    "    L = 0.5 * np.sum(np.square(X_train.dot(weights) - y_train)) / n + 0.5 * config['lambda'] * np.sum(np.square(weights))\n",
    "    dL_w = X_train.T.dot(X_train.dot(weights) - y_train) / n + config['lambda'] * weights\n",
    "    weights = weights - config['lr'] * dL_w\n",
    "    loss_history.append(L)\n",
    "    print('*'*8,L,'*'*8)\n",
    "    print('weights:{}'.format(weights))"
   ]
  },
  {
   "cell_type": "code",
   "execution_count": 25,
   "id": "b363789f-fa66-451b-b61f-ded3aad9e1e4",
   "metadata": {},
   "outputs": [],
   "source": [
    "from classfiers.VF_LinearRegression import VF_LinearRegression"
   ]
  },
  {
   "cell_type": "code",
   "execution_count": 26,
   "id": "4c0d12ac-f3e8-4105-bca3-08a153a6e89d",
   "metadata": {},
   "outputs": [],
   "source": [
    "vf_linear = VF_LinearRegression(config)"
   ]
  },
  {
   "cell_type": "code",
   "execution_count": 27,
   "id": "4527c909-b283-4b54-9540-f917e4df8dc5",
   "metadata": {},
   "outputs": [
    {
     "name": "stdout",
     "output_type": "stream",
     "text": [
      "XA_train (309, 6)\n",
      "XB_train (309, 5)\n",
      "XA_test (133, 6)\n",
      "XB_test (133, 5)\n"
     ]
    }
   ],
   "source": [
    "idx_A = list(range(6))\n",
    "idx_B = list(range(6,11))\n",
    "XA_train,XB_train = X_train[:,idx_A], X_train[:,idx_B]\n",
    "XA_test,XB_test = X_test[:,idx_A], X_test[:,idx_B]\n",
    "# 打印形状\n",
    "for name,temp in zip(['XA_train','XB_train','XA_test','XB_test'],[XA_train,XB_train,XA_test,XB_test]):\n",
    "    print(name,temp.shape)"
   ]
  },
  {
   "cell_type": "code",
   "execution_count": 28,
   "id": "10d5ecea-9067-4915-87e8-7c22b4ad208f",
   "metadata": {},
   "outputs": [
    {
     "name": "stdout",
     "output_type": "stream",
     "text": [
      "{'B': <classfiers.VF_LinearRegression.ClientB object at 0x7f05f6808800>, 'C': <classfiers.VF_LinearRegression.ClientC object at 0x7f05f8c67c20>}\n",
      "{'A': <classfiers.VF_LinearRegression.ClientA object at 0x7f05f69a4650>, 'C': <classfiers.VF_LinearRegression.ClientC object at 0x7f05f8c67c20>}\n",
      "{'A': <classfiers.VF_LinearRegression.ClientA object at 0x7f05f69a4650>, 'B': <classfiers.VF_LinearRegression.ClientB object at 0x7f05f6808800>}\n",
      "******** 14917.194174757282 ********\n",
      "A weights : [0.00865123 0.00074128 0.02720633 0.01872185 0.00942017 0.00758949]\n",
      "B weights : [-0.01579995  0.01868645  0.02259259  0.01913571  1.53902913]\n",
      "******** 14681.71334388507 ********\n",
      "A weights : [0.01724967 0.00147293 0.05425762 0.03734818 0.01877736 0.01513105]\n",
      "B weights : [-0.03152675  0.03727283  0.04506345  0.03814593  3.0565091 ]\n",
      "******** 14452.776023273602 ********\n",
      "A weights : [0.02579576 0.00219506 0.08115514 0.05587965 0.02807218 0.02262509]\n",
      "B weights : [-0.04718081  0.0557599   0.06741349  0.05703184  4.55274162]\n",
      "******** 14230.200305270268 ********\n",
      "A weights : [0.03428998 0.0029078  0.10790012 0.07431691 0.03730521 0.03007205]\n",
      "B weights : [-0.06276256  0.07414838  0.08964361  0.0757946   6.02802417]\n",
      "******** 14013.809339832502 ********\n",
      "A weights : [0.04273275 0.00361127 0.13449378 0.09266062 0.04647703 0.03747233]\n",
      "B weights : [-0.07827239  0.09243899  0.11175471  0.09443536  7.48265007]\n",
      "******** 13803.43119390504 ********\n",
      "A weights : [0.05112454 0.0043056  0.16093734 0.11091141 0.05558822 0.04482635]\n",
      "B weights : [-0.09371074  0.11063245  0.13374766  0.11295524  8.91690852]\n",
      "******** 13598.89871470712 ********\n",
      "A weights : [0.05946577 0.00499092 0.187232   0.12906992 0.06463934 0.05213452]\n",
      "B weights : [-0.10907799  0.12872947  0.15562334  0.13135537 10.33108469]\n",
      "******** 13400.049396820888 ********\n",
      "A weights : [0.06775688 0.00566732 0.21337894 0.14713677 0.07363096 0.05939725]\n",
      "B weights : [-0.12437457  0.14673075  0.17738263  0.14963686 11.72545973]\n",
      "******** 13206.72525297538 ********\n",
      "A weights : [0.07599829 0.00633495 0.23937933 0.16511259 0.08256362 0.06661492]\n",
      "B weights : [-0.13960086  0.16463699  0.19902636  0.16780079 13.10031089]\n",
      "******** 13018.772688423258 ********\n",
      "A weights : [0.08419044 0.0069939  0.26523435 0.18299799 0.09143788 0.07378794]\n",
      "B weights : [-0.15475726  0.18244887  0.22055539  0.18584825 14.45591151]\n"
     ]
    }
   ],
   "source": [
    "vf_linear.fit(XA_train, XB_train, y_train)"
   ]
  },
  {
   "cell_type": "code",
   "execution_count": 42,
   "id": "e8194d8a-4912-4ea5-8b32-622eba463dbb",
   "metadata": {},
   "outputs": [
    {
     "data": {
      "text/plain": [
       "array([ 0.0000000e+00,  0.0000000e+00,  1.8189894e-12,  0.0000000e+00,\n",
       "        0.0000000e+00, -1.8189894e-12,  0.0000000e+00,  0.0000000e+00,\n",
       "        0.0000000e+00,  0.0000000e+00])"
      ]
     },
     "execution_count": 42,
     "metadata": {},
     "output_type": "execute_result"
    }
   ],
   "source": [
    "# 转换为 ndarray\n",
    "vf_linear_loss_history_array = np.array(vf_linear.loss_history[0])\n",
    "loss_history_array = np.array(loss_history)\n",
    "# 打印误差\n",
    "vf_linear_loss_history_array - loss_history_array"
   ]
  },
  {
   "cell_type": "code",
   "execution_count": null,
   "id": "66b59ca3-cc26-4702-8f91-bc66781ec41a",
   "metadata": {},
   "outputs": [],
   "source": []
  }
 ],
 "metadata": {
  "kernelspec": {
   "display_name": "Python 3 (ipykernel)",
   "language": "python",
   "name": "python3"
  },
  "language_info": {
   "codemirror_mode": {
    "name": "ipython",
    "version": 3
   },
   "file_extension": ".py",
   "mimetype": "text/x-python",
   "name": "python",
   "nbconvert_exporter": "python",
   "pygments_lexer": "ipython3",
   "version": "3.11.7"
  }
 },
 "nbformat": 4,
 "nbformat_minor": 5
}
