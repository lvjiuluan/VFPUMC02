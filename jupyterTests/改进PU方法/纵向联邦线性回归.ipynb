{
 "cells": [
  {
   "cell_type": "code",
   "execution_count": 11,
   "id": "625065f1-8beb-4f56-8790-30779219fe08",
   "metadata": {},
   "outputs": [
    {
     "name": "stdout",
     "output_type": "stream",
     "text": [
      "The autoreload extension is already loaded. To reload it, use:\n",
      "  %reload_ext autoreload\n"
     ]
    }
   ],
   "source": [
    "import sys\n",
    "sys.path.append('D:\\PyCharmProjects\\VFPUMC02')\n",
    "%load_ext autoreload\n",
    "%autoreload 2"
   ]
  },
  {
   "cell_type": "markdown",
   "id": "4efe4dd1-4eb7-4e1d-ad4b-55768bc11d54",
   "metadata": {},
   "source": [
    "# 1 普通的线性回归"
   ]
  },
  {
   "cell_type": "markdown",
   "id": "8eac4ba8-978b-4b1b-933b-ae197f8ff30f",
   "metadata": {},
   "source": [
    "## 1.1 推导过程"
   ]
  },
  {
   "cell_type": "markdown",
   "id": "9db22941-03aa-4517-920d-382d31c7d492",
   "metadata": {},
   "source": [
    "## 1.2 python手动实现"
   ]
  },
  {
   "cell_type": "code",
   "execution_count": 12,
   "id": "7f50cd0a-7881-487c-b637-c80e065f07c2",
   "metadata": {},
   "outputs": [
    {
     "name": "stdout",
     "output_type": "stream",
     "text": [
      "原始数据 X 的形状: (442, 10)\n",
      "原始数据 y 的形状: (442,)\n",
      "训练集 X 的形状: (309, 10)\n",
      "测试集 X 的形状: (133, 10)\n"
     ]
    }
   ],
   "source": [
    "import numpy as np\n",
    "import matplotlib.pyplot as plt\n",
    "from sklearn.datasets import load_diabetes\n",
    "from sklearn.model_selection import train_test_split\n",
    "\n",
    "# 载入数据\n",
    "X_raw, y_raw = load_diabetes(return_X_y=True)\n",
    "print(\"原始数据 X 的形状:\", X_raw.shape)\n",
    "print(\"原始数据 y 的形状:\", y_raw.shape)\n",
    "\n",
    "# 切分训练集和测试集\n",
    "X_train_raw, X_test_raw, y_train, y_test = train_test_split(\n",
    "    X_raw, y_raw, test_size=0.3, random_state=42\n",
    ")\n",
    "print(\"训练集 X 的形状:\", X_train_raw.shape)\n",
    "print(\"测试集 X 的形状:\", X_test_raw.shape)"
   ]
  },
  {
   "cell_type": "code",
   "execution_count": 13,
   "id": "a111b9ee-7332-4bbb-9e21-ad4f9e27f0ab",
   "metadata": {},
   "outputs": [
    {
     "name": "stdout",
     "output_type": "stream",
     "text": [
      "添加偏置后训练集 X 的形状: (309, 11)\n",
      "添加偏置后测试集 X 的形状: (133, 11)\n"
     ]
    }
   ],
   "source": [
    "def add_bias_column(X):\n",
    "    \"\"\"\n",
    "    给特征矩阵 X (形状 n x m) 额外添加一列全 1，返回新矩阵 (形状 n x (m+1))\n",
    "    \"\"\"\n",
    "    n = X.shape[0]\n",
    "    ones = np.ones((n, 1))\n",
    "    return np.hstack([X, ones])\n",
    "\n",
    "# 给训练集和测试集都添加一列全1\n",
    "X_train = add_bias_column(X_train_raw)\n",
    "X_test = add_bias_column(X_test_raw)\n",
    "\n",
    "print(\"添加偏置后训练集 X 的形状:\", X_train.shape)\n",
    "print(\"添加偏置后测试集 X 的形状:\", X_test.shape)"
   ]
  },
  {
   "cell_type": "code",
   "execution_count": 14,
   "id": "a71ce70d-a27d-4b4f-b9dd-40ba53204a88",
   "metadata": {},
   "outputs": [
    {
     "name": "stdout",
     "output_type": "stream",
     "text": [
      "******** 14917.194174757282 ********\n",
      "weights:[ 8.65123217e-03  7.41284414e-04  2.72063286e-02  1.87218484e-02\n",
      "  9.42016730e-03  7.58949476e-03 -1.57999544e-02  1.86864467e-02\n",
      "  2.25925882e-02  1.91357072e-02  1.53902913e+00]\n",
      "******** 14681.71334388507 ********\n",
      "weights:[ 1.72496672e-02  1.47292730e-03  5.42576246e-02  3.73481779e-02\n",
      "  1.87773626e-02  1.51310501e-02 -3.15267520e-02  3.72728336e-02\n",
      "  4.50634466e-02  3.81459291e-02  3.05650910e+00]\n",
      "******** 14452.7760232736 ********\n",
      "weights:[ 2.57957640e-02  2.19505598e-03  8.11551413e-02  5.58796485e-02\n",
      "  2.80721811e-02  2.26250935e-02 -4.71808134e-02  5.57598996e-02\n",
      "  6.74134862e-02  5.70318401e-02  4.55274162e+00]\n",
      "******** 14230.200305270268 ********\n",
      "weights:[ 3.42899765e-02  2.90779607e-03  1.07900118e-01  7.43169138e-02\n",
      "  3.73052109e-02  3.00720475e-02 -6.27625561e-02  7.41483761e-02\n",
      "  8.96436084e-02  7.57946003e-02  6.02802417e+00]\n",
      "******** 14013.809339832502 ********\n",
      "weights:[ 4.27327531e-02  3.61127146e-03  1.34493780e-01  9.26606208e-02\n",
      "  4.64770331e-02  3.74723296e-02 -7.82723938e-02  9.24389866e-02\n",
      "  1.11754705e-01  9.44353562e-02  7.48265007e+00]\n",
      "******** 13803.431193905042 ********\n",
      "weights:[ 5.11245374e-02  4.30560434e-03  1.60937341e-01  1.10911410e-01\n",
      "  5.55882216e-02  4.48263526e-02 -9.37107372e-02  1.10632448e-01\n",
      "  1.33747660e-01  1.12955240e-01  8.91690852e+00]\n",
      "******** 13598.89871470712 ********\n",
      "weights:[ 5.94657676e-02  4.99091528e-03  1.87231998e-01  1.29069917e-01\n",
      "  6.46393438e-02  5.21345244e-02 -1.09077993e-01  1.28729468e-01\n",
      "  1.55623345e-01  1.31355372e-01  1.03310847e+01]\n",
      "******** 13400.049396820888 ********\n",
      "weights:[ 6.77568771e-02  5.66732317e-03  2.13378938e-01  1.47136769e-01\n",
      "  7.36309600e-02  5.93972485e-02 -1.24374567e-01  1.46730750e-01\n",
      "  1.77382625e-01  1.49636858e-01  1.17254597e+01]\n",
      "******** 13206.72525297538 ********\n",
      "weights:[ 7.59982943e-02  6.33494531e-03  2.39379334e-01  1.65112589e-01\n",
      "  8.25636240e-02  6.66149233e-02 -1.39600857e-01  1.64636988e-01\n",
      "  1.99026357e-01  1.67800789e-01  1.31003109e+01]\n",
      "******** 13018.772688423258 ********\n",
      "weights:[ 8.41904427e-02  6.99389739e-03  2.65234346e-01  1.82997993e-01\n",
      "  9.14378831e-02  7.37879429e-02 -1.54757263e-01  1.82448868e-01\n",
      "  2.20555387e-01  1.85848247e-01  1.44559115e+01]\n"
     ]
    }
   ],
   "source": [
    "config = {\n",
    "    'lambda':0.4, #正则项系数\n",
    "    'lr':1e-2,    # 学习率\n",
    "    'n_iters':10, # 训练轮数\n",
    "}\n",
    "\n",
    "weights = np.zeros(X_train.shape[1])\n",
    "loss_history = []\n",
    "n, m = X_train.shape[0], X_train.shape[1]\n",
    "for i in range(config['n_iters']):\n",
    "    L = 0.5 * np.sum(np.square(X_train.dot(weights) - y_train)) / n + 0.5 * config['lambda'] * np.sum(np.square(weights))\n",
    "    dL_w = X_train.T.dot(X_train.dot(weights) - y_train) / n + config['lambda'] * weights\n",
    "    weights = weights - config['lr'] * dL_w\n",
    "    loss_history.append(L)\n",
    "    print('*'*8,L,'*'*8)\n",
    "    print('weights:{}'.format(weights))"
   ]
  },
  {
   "cell_type": "code",
   "execution_count": 15,
   "id": "b363789f-fa66-451b-b61f-ded3aad9e1e4",
   "metadata": {},
   "outputs": [],
   "source": [
    "from classfiers.VF_LinearRegression import VF_LinearRegression"
   ]
  },
  {
   "cell_type": "code",
   "execution_count": 16,
   "id": "4c0d12ac-f3e8-4105-bca3-08a153a6e89d",
   "metadata": {},
   "outputs": [],
   "source": [
    "vf_linear = VF_LinearRegression(config)"
   ]
  },
  {
   "cell_type": "code",
   "execution_count": 17,
   "id": "4527c909-b283-4b54-9540-f917e4df8dc5",
   "metadata": {},
   "outputs": [
    {
     "name": "stdout",
     "output_type": "stream",
     "text": [
      "XA_train (309, 6)\n",
      "XB_train (309, 5)\n",
      "XA_test (133, 6)\n",
      "XB_test (133, 5)\n"
     ]
    }
   ],
   "source": [
    "idx_A = list(range(6))\n",
    "idx_B = list(range(6,11))\n",
    "XA_train,XB_train = X_train[:,idx_A], X_train[:,idx_B]\n",
    "XA_test,XB_test = X_test[:,idx_A], X_test[:,idx_B]\n",
    "# 打印形状\n",
    "for name,temp in zip(['XA_train','XB_train','XA_test','XB_test'],[XA_train,XB_train,XA_test,XB_test]):\n",
    "    print(name,temp.shape)"
   ]
  },
  {
   "cell_type": "code",
   "execution_count": 18,
   "id": "10d5ecea-9067-4915-87e8-7c22b4ad208f",
   "metadata": {},
   "outputs": [
    {
     "ename": "AttributeError",
     "evalue": "'ClientA' object has no attribute 'connect'",
     "output_type": "error",
     "traceback": [
      "\u001b[1;31m---------------------------------------------------------------------------\u001b[0m",
      "\u001b[1;31mAttributeError\u001b[0m                            Traceback (most recent call last)",
      "Cell \u001b[1;32mIn[18], line 1\u001b[0m\n\u001b[1;32m----> 1\u001b[0m \u001b[43mvf_linear\u001b[49m\u001b[38;5;241;43m.\u001b[39;49m\u001b[43mfit\u001b[49m\u001b[43m(\u001b[49m\u001b[43mXA_train\u001b[49m\u001b[43m,\u001b[49m\u001b[43m \u001b[49m\u001b[43mXB_train\u001b[49m\u001b[43m,\u001b[49m\u001b[43m \u001b[49m\u001b[43my_train\u001b[49m\u001b[43m)\u001b[49m\n",
      "File \u001b[1;32mD:\\PyCharmProjects\\VFPUMC02\\classfiers\\VF_LinearRegression.py:24\u001b[0m, in \u001b[0;36mVF_LinearRegression.fit\u001b[1;34m(self, XA, XB, y)\u001b[0m\n\u001b[0;32m     22\u001b[0m     \u001b[38;5;28;01mfor\u001b[39;00m target_name, target_client \u001b[38;5;129;01min\u001b[39;00m \u001b[38;5;28mzip\u001b[39m([\u001b[38;5;124m'\u001b[39m\u001b[38;5;124mA\u001b[39m\u001b[38;5;124m'\u001b[39m, \u001b[38;5;124m'\u001b[39m\u001b[38;5;124mB\u001b[39m\u001b[38;5;124m'\u001b[39m, \u001b[38;5;124m'\u001b[39m\u001b[38;5;124mC\u001b[39m\u001b[38;5;124m'\u001b[39m], [Client_A, Client_B, Client_C]):\n\u001b[0;32m     23\u001b[0m         \u001b[38;5;28;01mif\u001b[39;00m client \u001b[38;5;129;01mis\u001b[39;00m \u001b[38;5;129;01mnot\u001b[39;00m target_client:\n\u001b[1;32m---> 24\u001b[0m             \u001b[43mclient\u001b[49m\u001b[38;5;241;43m.\u001b[39;49m\u001b[43mconnect\u001b[49m(target_name, target_client)\n\u001b[0;32m     25\u001b[0m \u001b[38;5;66;03m# 打印连接\u001b[39;00m\n\u001b[0;32m     26\u001b[0m \u001b[38;5;28;01mfor\u001b[39;00m client \u001b[38;5;129;01min\u001b[39;00m [Client_A, Client_B, Client_C]:\n",
      "\u001b[1;31mAttributeError\u001b[0m: 'ClientA' object has no attribute 'connect'"
     ]
    }
   ],
   "source": [
    "vf_linear.fit(XA_train, XB_train, y_train)"
   ]
  }
 ],
 "metadata": {
  "kernelspec": {
   "display_name": "VFPUMC",
   "language": "python",
   "name": "vfpumc"
  },
  "language_info": {
   "codemirror_mode": {
    "name": "ipython",
    "version": 3
   },
   "file_extension": ".py",
   "mimetype": "text/x-python",
   "name": "python",
   "nbconvert_exporter": "python",
   "pygments_lexer": "ipython3",
   "version": "3.8.19"
  }
 },
 "nbformat": 4,
 "nbformat_minor": 5
}
