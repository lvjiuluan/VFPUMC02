{
 "cells": [
  {
   "cell_type": "code",
   "execution_count": 1,
   "id": "a5323749-3804-4746-b490-752b90ef2eaf",
   "metadata": {
    "tags": []
   },
   "outputs": [],
   "source": [
    "import sys\n",
    "sys.path.append('D:\\PyCharmProjects\\VFPUMC02')\n",
    "sys.path.append(r'C:\\Users\\Administrator\\PycharmProjects\\VFPUMC02')\n",
    "%load_ext autoreload\n",
    "%autoreload 2"
   ]
  },
  {
   "cell_type": "code",
   "execution_count": 2,
   "id": "0577d916-64a7-45d3-8924-13e00166a539",
   "metadata": {
    "tags": []
   },
   "outputs": [],
   "source": [
    "from consts.Constants import DATASETS_PATH"
   ]
  },
  {
   "cell_type": "code",
   "execution_count": 3,
   "id": "2cc1e459-9009-42bc-a476-25c67a380853",
   "metadata": {
    "tags": []
   },
   "outputs": [
    {
     "data": {
      "text/plain": [
       "'C:\\\\Users\\\\Administrator\\\\PycharmProjects\\\\VFPUMC02\\\\datasets'"
      ]
     },
     "execution_count": 3,
     "metadata": {},
     "output_type": "execute_result"
    }
   ],
   "source": [
    "DATASETS_PATH"
   ]
  },
  {
   "cell_type": "code",
   "execution_count": 4,
   "id": "d186030b-ce37-442e-a420-628b1475f76a",
   "metadata": {
    "tags": []
   },
   "outputs": [],
   "source": [
    "from utils.DatasetsPrepareUtils import prepare_updated_pollution_dataset"
   ]
  },
  {
   "cell_type": "code",
   "execution_count": 5,
   "id": "9b195dcf-e114-4ed5-a950-fa6a05192377",
   "metadata": {
    "tags": []
   },
   "outputs": [],
   "source": [
    "prepare_updated_pollution_dataset(DATASETS_PATH)"
   ]
  },
  {
   "cell_type": "code",
   "execution_count": null,
   "id": "e8197510-6728-44bd-bd64-692afb32373c",
   "metadata": {},
   "outputs": [],
   "source": []
  }
 ],
 "metadata": {
  "kernelspec": {
   "display_name": "VFPUMC02",
   "language": "python",
   "name": "vfpumc02"
  },
  "language_info": {
   "codemirror_mode": {
    "name": "ipython",
    "version": 3
   },
   "file_extension": ".py",
   "mimetype": "text/x-python",
   "name": "python",
   "nbconvert_exporter": "python",
   "pygments_lexer": "ipython3",
   "version": "3.9.21"
  }
 },
 "nbformat": 4,
 "nbformat_minor": 5
}
