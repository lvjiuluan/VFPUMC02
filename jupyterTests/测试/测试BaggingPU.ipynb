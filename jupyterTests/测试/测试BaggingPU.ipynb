{
 "cells": [
  {
   "cell_type": "code",
   "execution_count": 1,
   "id": "8d0d3149-1675-4aaf-91da-1c81ae89be2f",
   "metadata": {},
   "outputs": [],
   "source": [
    "import sys\n",
    "sys.path.append('D:\\PyCharmProjects\\VFPUMC02')\n",
    "%load_ext autoreload\n",
    "%autoreload 2"
   ]
  },
  {
   "cell_type": "code",
   "execution_count": 2,
   "id": "216b84ef-ca04-4416-b911-cb6931e955da",
   "metadata": {},
   "outputs": [],
   "source": [
    "from datasets.DataSet import BankDataset\n",
    "from consts.Constants import DATASETS_PATH\n",
    "from enums.SplitRatio import SplitRatio\n",
    "from enums.HideRatio import HideRatio\n",
    "from configs.Config import VFPUConfig\n",
    "from classfiers.Bagging_PU import Bagging_PU\n",
    "from configs.Config import PUConfig\n",
    "from classfiers.PU import PU\n",
    "\n",
    "from sklearn.ensemble import GradientBoostingClassifier\n",
    "from sklearn.model_selection import train_test_split\n",
    "from sklearn.datasets import make_classification\n",
    "from sklearn.metrics import accuracy_score, classification_report\n",
    "\n",
    "from utils.DataProcessUtils import evaluate_model\n",
    "from utils.DataProcessUtils import value_counts_for_labels"
   ]
  },
  {
   "cell_type": "code",
   "execution_count": 3,
   "id": "fe7dc8eb-4faa-416d-b305-bfaed98eaefc",
   "metadata": {},
   "outputs": [
    {
     "name": "stderr",
     "output_type": "stream",
     "text": [
      "2024-09-24 12:03:35,732 - INFO - 正在加载数据集 bank.csv\n",
      "2024-09-24 12:03:35,932 - INFO - 数据集 bank.csv 加载完成，数据集形状为 (41188, 64)\n",
      "2024-09-24 12:03:35,934 - INFO - Bagging_PU 初始化完成\n",
      "2024-09-24 12:03:35,936 - INFO - 找到隐藏标签缓存文件 bank_hidden_RATIO_0_2.pkl，正在加载...\n",
      "2024-09-24 12:03:35,938 - INFO - 隐藏标签已从缓存文件 bank_hidden_RATIO_0_2.pkl 加载\n",
      "2024-09-24 12:03:35,942 - INFO - 正在获取数据集信息...\n",
      "2024-09-24 12:03:35,944 - INFO - 标签y总数量为：41188, 隐藏标签的数量为：8237，比例为 0.2\n",
      "2024-09-24 12:03:35,946 - INFO - 有标签的数量为：32951, 标签为1的数量为：3718, 标签为0的数量为：29233\n",
      "2024-09-24 12:03:35,947 - INFO - 数据集的形状为: (41188, 64)\n",
      "2024-09-24 12:03:35,955 - INFO - 开始训练 Bagging_PU 模型\n",
      "2024-09-24 12:03:35,972 - INFO - 正样本数量: 3718, 负样本数量: 29233, 差值: -25515\n",
      "2024-09-24 12:03:35,980 - INFO - 未标记样本数量: 8237, 样本差值: 25515\n",
      "2024-09-24 12:03:35,982 - INFO - 未标记样本不足以平衡数据集，直接训练\n"
     ]
    },
    {
     "data": {
      "text/plain": [
       "{'n_estimators': 1,\n",
       " 'n_iter': 500,\n",
       " 'theta': 0.04,\n",
       " 'theta_P': 0.04,\n",
       " 'theta_N': 0.001,\n",
       " 'num_p_in_hidden': 922}"
      ]
     },
     "execution_count": 3,
     "metadata": {},
     "output_type": "execute_result"
    }
   ],
   "source": [
    "bankDataset = BankDataset()\n",
    "bankDataset.get_hidden_labels(HideRatio.RATIO_0_2)\n",
    "PUConfig['num_p_in_hidden'] = bankDataset.count_hidden_positives()\n",
    "bankDataset.datasetInfo()\n",
    "\n",
    "gbdt_classifier = GradientBoostingClassifier()\n",
    "\n",
    "bagging_pu = Bagging_PU(base_estimator=gbdt_classifier,config=PUConfig)\n",
    "\n",
    "bagging_pu.fit(bankDataset.df.values, bankDataset.hidden_y.values)\n",
    "\n",
    "pu = PU(bagging_pu,PUConfig)\n",
    "pu.fit(*bankDataset.get_train_X_y())\n",
    "y_true = bankDataset.y.values\n",
    "y_pred = pu.get_predicted_labels()\n",
    "y_prob = pu.get_predict_proba()\n",
    "\n",
    "result = evaluate_model(y_true, y_pred, y_prob)\n"
   ]
  },
  {
   "cell_type": "code",
   "execution_count": 6,
   "id": "66e6a389-9b0d-4970-bd44-41ea123f376b",
   "metadata": {},
   "outputs": [
    {
     "ename": "TypeError",
     "evalue": "type object argument after * must be an iterable, not Bagging_PU",
     "output_type": "error",
     "traceback": [
      "\u001b[1;31m---------------------------------------------------------------------------\u001b[0m",
      "\u001b[1;31mTypeError\u001b[0m                                 Traceback (most recent call last)",
      "Cell \u001b[1;32mIn[6], line 1\u001b[0m\n\u001b[1;32m----> 1\u001b[0m pu \u001b[38;5;241m=\u001b[39m PU(\u001b[38;5;241m*\u001b[39mbagging_pu,PUConfig)\n",
      "\u001b[1;31mTypeError\u001b[0m: type object argument after * must be an iterable, not Bagging_PU"
     ]
    }
   ],
   "source": []
  },
  {
   "cell_type": "code",
   "execution_count": 9,
   "id": "4862038c-c26f-418f-bde5-d4567abae79d",
   "metadata": {},
   "outputs": [
    {
     "name": "stderr",
     "output_type": "stream",
     "text": [
      "2024-09-24 12:04:34,323 - INFO - 开始训练 PU 模型\n",
      "2024-09-24 12:04:34,330 - INFO - 开始初次训练 Bagging_PU 模型\n",
      "2024-09-24 12:04:34,331 - INFO - 开始训练 Bagging_PU 模型\n",
      "2024-09-24 12:04:34,351 - INFO - 正样本数量: 3718, 负样本数量: 29233, 差值: -25515\n",
      "2024-09-24 12:04:34,359 - INFO - 未标记样本数量: 8237, 样本差值: 25515\n",
      "2024-09-24 12:04:34,360 - INFO - 未标记样本不足以平衡数据集，直接训练\n",
      "2024-09-24 12:04:36,894 - INFO - 获取out-of-bag得分\n",
      "2024-09-24 12:04:36,895 - INFO - 初次训练完成，out-of-bag 预测得分已保存\n",
      "2024-09-24 12:04:36,895 - INFO - 开始第 1 次迭代\n",
      "2024-09-24 12:04:36,911 - INFO - 标签总数量: 41188，正样本标签数量: 3718, 负样本标签数量: 29233, 未标记样本数量: 8237\n",
      "2024-09-24 12:04:36,917 - INFO - 根据阈值 0.04 找到 329 个新的正样本 (RP) 和 8 个新的负样本 (RN)\n",
      "2024-09-24 12:04:36,918 - INFO - 第 1 次迭代更新了标签\n",
      "2024-09-24 12:04:36,920 - INFO - 找到 329 个新的正样本\n",
      "2024-09-24 12:04:36,922 - INFO - 找到 8 个新的负样本\n",
      "2024-09-24 12:04:36,924 - INFO - 随机选择了 329 个样本\n",
      "2024-09-24 12:04:36,925 - INFO - 保存了当前的预测结果\n",
      "2024-09-24 12:04:36,926 - INFO - 更新了新找到的正样本列表，共 329 个正样本\n",
      "2024-09-24 12:04:36,927 - INFO - 更新了新找到的负样本列表，共 8 个负样本\n",
      "2024-09-24 12:04:36,928 - INFO - 第 1 次迭代找到 329 个新的正样本, 8 个新的负样本\n",
      "2024-09-24 12:04:36,929 - INFO - 开始第 2 次迭代\n",
      "2024-09-24 12:04:36,949 - INFO - 标签总数量: 41188，正样本标签数量: 4047, 负样本标签数量: 29241, 未标记样本数量: 7900\n",
      "2024-09-24 12:04:36,957 - INFO - 根据阈值 0.04 找到 316 个新的正样本 (RP) 和 8 个新的负样本 (RN)\n",
      "2024-09-24 12:04:36,962 - INFO - 第 2 次迭代更新了标签\n",
      "2024-09-24 12:04:36,964 - INFO - 找到 645 个新的正样本\n",
      "2024-09-24 12:04:36,966 - INFO - 找到 16 个新的负样本\n",
      "2024-09-24 12:04:36,967 - INFO - 随机选择了 645 个样本\n",
      "2024-09-24 12:04:36,967 - INFO - 保存了当前的预测结果\n",
      "2024-09-24 12:04:36,969 - INFO - 更新了新找到的正样本列表，共 645 个正样本\n",
      "2024-09-24 12:04:36,969 - INFO - 更新了新找到的负样本列表，共 16 个负样本\n",
      "2024-09-24 12:04:36,970 - INFO - 第 2 次迭代找到 316 个新的正样本, 8 个新的负样本\n",
      "2024-09-24 12:04:36,971 - INFO - 开始第 3 次迭代\n",
      "2024-09-24 12:04:36,985 - INFO - 标签总数量: 41188，正样本标签数量: 4363, 负样本标签数量: 29249, 未标记样本数量: 7576\n",
      "2024-09-24 12:04:36,996 - INFO - 根据阈值 0.04 找到 303 个新的正样本 (RP) 和 8 个新的负样本 (RN)\n",
      "2024-09-24 12:04:36,997 - INFO - 第 3 次迭代更新了标签\n",
      "2024-09-24 12:04:36,999 - INFO - 找到 948 个新的正样本\n",
      "2024-09-24 12:04:37,002 - INFO - 找到 24 个新的负样本\n",
      "2024-09-24 12:04:37,003 - INFO - 随机选择了 948 个样本\n",
      "2024-09-24 12:04:37,004 - INFO - 保存了当前的预测结果\n",
      "2024-09-24 12:04:37,005 - INFO - 更新了新找到的正样本列表，共 948 个正样本\n",
      "2024-09-24 12:04:37,005 - INFO - 更新了新找到的负样本列表，共 24 个负样本\n",
      "2024-09-24 12:04:37,006 - INFO - 第 3 次迭代找到 303 个新的正样本, 8 个新的负样本\n",
      "2024-09-24 12:04:37,007 - INFO - 开始第 4 次迭代\n",
      "2024-09-24 12:04:37,022 - INFO - 标签总数量: 41188，正样本标签数量: 4666, 负样本标签数量: 29257, 未标记样本数量: 7265\n",
      "2024-09-24 12:04:37,023 - INFO - 已经把所有隐藏正样本找到，结束迭代\n"
     ]
    }
   ],
   "source": []
  },
  {
   "cell_type": "code",
   "execution_count": 10,
   "id": "12d6e404-e096-4e94-8022-efad2532b2c2",
   "metadata": {},
   "outputs": [],
   "source": []
  },
  {
   "cell_type": "code",
   "execution_count": 11,
   "id": "396caf40-a237-4c53-a9a1-18dcb25db946",
   "metadata": {},
   "outputs": [],
   "source": []
  },
  {
   "cell_type": "code",
   "execution_count": 16,
   "id": "d8d7736f-3ca1-4c18-bd03-dbd416c7db91",
   "metadata": {},
   "outputs": [
    {
     "data": {
      "text/plain": [
       "array([0.00173288, 0.00171991, 0.0016875 , ..., 0.00135869, 0.7994471 ,\n",
       "       0.00091291])"
      ]
     },
     "execution_count": 16,
     "metadata": {},
     "output_type": "execute_result"
    }
   ],
   "source": [
    "y_prob"
   ]
  },
  {
   "cell_type": "code",
   "execution_count": 15,
   "id": "2fcad954-f4a3-4e41-9e26-89915837d9af",
   "metadata": {},
   "outputs": [
    {
     "data": {
      "text/plain": [
       "array([0, 0, 0, ..., 0, 1, 0], dtype=int64)"
      ]
     },
     "execution_count": 15,
     "metadata": {},
     "output_type": "execute_result"
    }
   ],
   "source": [
    "y_pred"
   ]
  },
  {
   "cell_type": "code",
   "execution_count": 13,
   "id": "b0689ca3-dd86-43ef-81fb-5a5364600e03",
   "metadata": {},
   "outputs": [],
   "source": []
  },
  {
   "cell_type": "code",
   "execution_count": 14,
   "id": "4057e2e8-55b2-4dbc-b999-12b8aadae7be",
   "metadata": {},
   "outputs": [
    {
     "name": "stdout",
     "output_type": "stream",
     "text": [
      "标签数组 1:\n",
      "  值 0 出现了 36548 次\n",
      "  值 1 出现了 4640 次\n",
      "\n",
      "标签数组 2:\n",
      "  值 0 出现了 36522 次\n",
      "  值 1 出现了 4666 次\n",
      "\n"
     ]
    }
   ],
   "source": [
    "value_counts_for_labels(y_true, y_pred)"
   ]
  },
  {
   "cell_type": "code",
   "execution_count": 32,
   "id": "c7483124-154d-49d9-b073-c002e4688aab",
   "metadata": {},
   "outputs": [
    {
     "data": {
      "text/plain": [
       "40962    1\n",
       "8196     1\n",
       "30728    1\n",
       "16392    1\n",
       "40971    1\n",
       "        ..\n",
       "10227    1\n",
       "26614    1\n",
       "36856    1\n",
       "40954    1\n",
       "40955    1\n",
       "Name: y, Length: 948, dtype: int64"
      ]
     },
     "execution_count": 32,
     "metadata": {},
     "output_type": "execute_result"
    }
   ],
   "source": [
    "bankDataset.hidden_y[pu.iP_new]"
   ]
  },
  {
   "cell_type": "code",
   "execution_count": null,
   "id": "f2b857ef-639a-43af-9e25-244112a1b3f7",
   "metadata": {},
   "outputs": [],
   "source": []
  }
 ],
 "metadata": {
  "kernelspec": {
   "display_name": "VFPUMC",
   "language": "python",
   "name": "vfpumc"
  },
  "language_info": {
   "codemirror_mode": {
    "name": "ipython",
    "version": 3
   },
   "file_extension": ".py",
   "mimetype": "text/x-python",
   "name": "python",
   "nbconvert_exporter": "python",
   "pygments_lexer": "ipython3",
   "version": "3.8.19"
  }
 },
 "nbformat": 4,
 "nbformat_minor": 5
}
