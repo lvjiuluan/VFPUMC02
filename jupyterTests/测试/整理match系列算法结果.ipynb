{
 "cells": [
  {
   "cell_type": "code",
   "execution_count": 1,
   "id": "3330511c-5fcd-478c-a953-66238acf9f17",
   "metadata": {},
   "outputs": [],
   "source": [
    "import sys\n",
    "sys.path.append('D:\\PyCharmProjects\\VFPUMC02')\n",
    "%load_ext autoreload\n",
    "%autoreload 2"
   ]
  },
  {
   "cell_type": "code",
   "execution_count": 16,
   "id": "a74229e0-ed55-49f8-aade-b384d791eced",
   "metadata": {},
   "outputs": [],
   "source": [
    "import pandas as pd\n",
    "from utils.DataProcessUtils import print_2d_list_with_tabs"
   ]
  },
  {
   "cell_type": "code",
   "execution_count": 5,
   "id": "0fb58881-b2d0-4fe5-9bb7-d71737879966",
   "metadata": {},
   "outputs": [],
   "source": [
    "df = pd.read_csv('./match_acc.csv',sep='\\t')"
   ]
  },
  {
   "cell_type": "code",
   "execution_count": 7,
   "id": "8f0ccf1d-fe2d-400c-aa56-c5483f99b040",
   "metadata": {},
   "outputs": [],
   "source": [
    "grouped = df.groupby('method')"
   ]
  },
  {
   "cell_type": "code",
   "execution_count": 9,
   "id": "e9208bb2-c94d-4931-af95-1a3067baecae",
   "metadata": {},
   "outputs": [],
   "source": [
    "# 创建三个空列表来存储每个method的第一组、第二组、第三组\n",
    "group1, group2, group3 = [], [], []\n",
    "\n",
    "# 遍历每个 method 分组\n",
    "for method, group in grouped:\n",
    "    # 将每个 method 的 acc 列分成 3 组，每组 9 个\n",
    "    acc_lists = [group['acc'].iloc[i:i+9].tolist() for i in range(0, len(group), 9)]\n",
    "    \n",
    "    # 将每个 method 的第一组、第二组、第三组分别添加到对应的列表中\n",
    "    group1.append(acc_lists[0])\n",
    "    group2.append(acc_lists[1])\n",
    "    group3.append(acc_lists[2])"
   ]
  },
  {
   "cell_type": "code",
   "execution_count": 14,
   "id": "3e1b4577-8e2c-4383-adc3-70a9c691e098",
   "metadata": {},
   "outputs": [
    {
     "data": {
      "text/plain": [
       "12"
      ]
     },
     "execution_count": 14,
     "metadata": {},
     "output_type": "execute_result"
    }
   ],
   "source": [
    "len(group1)"
   ]
  },
  {
   "cell_type": "code",
   "execution_count": null,
   "id": "5969a09b-3291-4b8d-a56e-ae4eca77d127",
   "metadata": {},
   "outputs": [],
   "source": []
  },
  {
   "cell_type": "code",
   "execution_count": 15,
   "id": "ca5c8281-24da-4abc-935c-b747c899292f",
   "metadata": {},
   "outputs": [
    {
     "name": "stdout",
     "output_type": "stream",
     "text": [
      "adamatch\n",
      "fixmatch\n",
      "flexmatch\n",
      "fullysupervised\n",
      "meanteacher\n",
      "mixmatch\n",
      "pimodel\n",
      "pseudolabel\n",
      "remixmatch\n",
      "supervised\n",
      "uda\n",
      "vat\n"
     ]
    }
   ],
   "source": [
    "# 获取 method 列中不重复的值\n",
    "unique_methods = df['method'].unique()\n",
    "\n",
    "# 逐行打印每个不重复的值\n",
    "for method in unique_methods:\n",
    "    print(method)"
   ]
  },
  {
   "cell_type": "code",
   "execution_count": 19,
   "id": "c6b084d8-4216-4435-99c7-1b1e790fef60",
   "metadata": {},
   "outputs": [
    {
     "name": "stdout",
     "output_type": "stream",
     "text": [
      "0.75\t0.625\t0.75\t0.75\t0.25\t0.375\t0.625\t0.375\t0.375\n",
      "0.25\t0.625\t0.25\t0.25\t0.75\t0.375\t0.375\t0.625\t0.625\n",
      "0.75\t0.625\t0.25\t0.75\t0.75\t0.625\t0.625\t0.625\t0.375\n",
      "0.75\t0.375\t0.25\t0.75\t0.75\t0.625\t0.625\t0.375\t0.375\n",
      "0.25\t0.375\t0.25\t0.75\t0.75\t0.625\t0.625\t0.625\t0.625\n",
      "0.25\t0.375\t0.25\t0.75\t0.75\t0.375\t0.625\t0.625\t0.375\n",
      "0.75\t0.625\t0.75\t0.75\t0.25\t0.375\t0.625\t0.625\t0.375\n",
      "0.75\t0.625\t0.25\t0.75\t0.25\t0.625\t0.625\t0.375\t0.375\n",
      "0.75\t0.375\t0.25\t0.75\t0.75\t0.625\t0.625\t0.375\t0.375\n",
      "0.25\t0.375\t0.75\t0.25\t0.75\t0.375\t0.375\t0.375\t0.375\n",
      "0.75\t0.375\t0.75\t0.25\t0.75\t0.625\t0.625\t0.375\t0.625\n",
      "0.25\t0.625\t0.75\t0.25\t0.25\t0.625\t0.375\t0.375\t0.625\n"
     ]
    }
   ],
   "source": [
    "print_2d_list_with_tabs(group3)"
   ]
  }
 ],
 "metadata": {
  "kernelspec": {
   "display_name": "VFPUMC",
   "language": "python",
   "name": "vfpumc"
  },
  "language_info": {
   "codemirror_mode": {
    "name": "ipython",
    "version": 3
   },
   "file_extension": ".py",
   "mimetype": "text/x-python",
   "name": "python",
   "nbconvert_exporter": "python",
   "pygments_lexer": "ipython3",
   "version": "3.8.19"
  }
 },
 "nbformat": 4,
 "nbformat_minor": 5
}
