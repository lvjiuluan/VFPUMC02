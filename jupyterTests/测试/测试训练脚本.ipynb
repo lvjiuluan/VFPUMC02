{
 "cells": [
  {
   "cell_type": "code",
   "execution_count": 1,
   "id": "71f32a59-f2fa-44c5-96f6-f67e9ad63c28",
   "metadata": {},
   "outputs": [],
   "source": [
    "import sys\n",
    "sys.path.append('D:\\PyCharmProjects\\VFPUMC02')\n",
    "%load_ext autoreload\n",
    "%autoreload 2"
   ]
  },
  {
   "cell_type": "code",
   "execution_count": 9,
   "id": "389e7d7c-36d0-4b5f-8957-157430e6bb7f",
   "metadata": {},
   "outputs": [],
   "source": [
    "from consts.Constants import DATASETS_PATH\n",
    "import os"
   ]
  },
  {
   "cell_type": "code",
   "execution_count": 6,
   "id": "c7ac73bf-b2fd-4cb3-8a59-037473e969c9",
   "metadata": {
    "scrolled": true
   },
   "outputs": [],
   "source": [
    "from scripts.train_script import semi_supervised_evaluation\n",
    "from datasets.DataSet import get_all_dataset\n",
    "from scripts.train_script import sklearn_semi_script_run"
   ]
  },
  {
   "cell_type": "code",
   "execution_count": 7,
   "id": "e950f15c-6061-453a-b8c6-2b9442f4b87c",
   "metadata": {
    "collapsed": true,
    "jupyter": {
     "outputs_hidden": true
    }
   },
   "outputs": [
    {
     "name": "stderr",
     "output_type": "stream",
     "text": [
      "2024-09-24 15:13:16,351 - INFO - 正在加载数据集 bank.csv\n",
      "2024-09-24 15:13:16,559 - INFO - 数据集 bank.csv 加载完成，数据集形状为 (41188, 64)\n",
      "2024-09-24 15:13:16,560 - INFO - 正在加载数据集 census.csv\n",
      "2024-09-24 15:13:16,812 - INFO - 数据集 census.csv 加载完成，数据集形状为 (32561, 125)\n",
      "2024-09-24 15:13:16,813 - INFO - 正在加载数据集 credit.csv\n",
      "2024-09-24 15:13:17,022 - INFO - 数据集 credit.csv 加载完成，数据集形状为 (30000, 88)\n",
      "2024-09-24 15:13:17,036 - INFO - 找到隐藏标签缓存文件 bank_hidden_RATIO_0_1.pkl，正在加载...\n",
      "2024-09-24 15:13:17,038 - INFO - 隐藏标签已从缓存文件 bank_hidden_RATIO_0_1.pkl 加载\n"
     ]
    },
    {
     "name": "stdout",
     "output_type": "stream",
     "text": [
      "当前的 member 为 RATIO_0_1\n"
     ]
    },
    {
     "name": "stderr",
     "output_type": "stream",
     "text": [
      "2024-09-24 15:13:25,126 - INFO - 找到隐藏标签缓存文件 bank_hidden_RATIO_0_2.pkl，正在加载...\n",
      "2024-09-24 15:13:25,128 - INFO - 隐藏标签已从缓存文件 bank_hidden_RATIO_0_2.pkl 加载\n"
     ]
    },
    {
     "name": "stdout",
     "output_type": "stream",
     "text": [
      "当前的 member 为 RATIO_0_2\n"
     ]
    },
    {
     "name": "stderr",
     "output_type": "stream",
     "text": [
      "2024-09-24 15:13:34,826 - INFO - 找到隐藏标签缓存文件 bank_hidden_RATIO_0_3.pkl，正在加载...\n",
      "2024-09-24 15:13:34,827 - INFO - 隐藏标签已从缓存文件 bank_hidden_RATIO_0_3.pkl 加载\n"
     ]
    },
    {
     "name": "stdout",
     "output_type": "stream",
     "text": [
      "当前的 member 为 RATIO_0_3\n"
     ]
    },
    {
     "name": "stderr",
     "output_type": "stream",
     "text": [
      "D:\\Anaconda\\envs\\VFPUMC\\lib\\site-packages\\sklearn\\semi_supervised\\_label_propagation.py:230: RuntimeWarning: invalid value encountered in divide\n",
      "  probabilities /= normalizer\n",
      "D:\\Anaconda\\envs\\VFPUMC\\lib\\site-packages\\sklearn\\semi_supervised\\_label_propagation.py:230: RuntimeWarning: invalid value encountered in divide\n",
      "  probabilities /= normalizer\n",
      "2024-09-24 15:13:47,064 - INFO - 找到隐藏标签缓存文件 bank_hidden_RATIO_0_4.pkl，正在加载...\n",
      "2024-09-24 15:13:47,064 - INFO - 隐藏标签已从缓存文件 bank_hidden_RATIO_0_4.pkl 加载\n"
     ]
    },
    {
     "name": "stdout",
     "output_type": "stream",
     "text": [
      "当前的 member 为 RATIO_0_4\n"
     ]
    },
    {
     "name": "stderr",
     "output_type": "stream",
     "text": [
      "D:\\Anaconda\\envs\\VFPUMC\\lib\\site-packages\\sklearn\\semi_supervised\\_label_propagation.py:230: RuntimeWarning: invalid value encountered in divide\n",
      "  probabilities /= normalizer\n",
      "D:\\Anaconda\\envs\\VFPUMC\\lib\\site-packages\\sklearn\\semi_supervised\\_label_propagation.py:230: RuntimeWarning: invalid value encountered in divide\n",
      "  probabilities /= normalizer\n",
      "D:\\Anaconda\\envs\\VFPUMC\\lib\\site-packages\\sklearn\\semi_supervised\\_label_propagation.py:230: RuntimeWarning: invalid value encountered in divide\n",
      "  probabilities /= normalizer\n",
      "D:\\Anaconda\\envs\\VFPUMC\\lib\\site-packages\\sklearn\\semi_supervised\\_label_propagation.py:230: RuntimeWarning: invalid value encountered in divide\n",
      "  probabilities /= normalizer\n",
      "2024-09-24 15:14:02,868 - INFO - 找到隐藏标签缓存文件 bank_hidden_RATIO_0_5.pkl，正在加载...\n",
      "2024-09-24 15:14:02,870 - INFO - 隐藏标签已从缓存文件 bank_hidden_RATIO_0_5.pkl 加载\n"
     ]
    },
    {
     "name": "stdout",
     "output_type": "stream",
     "text": [
      "当前的 member 为 RATIO_0_5\n"
     ]
    },
    {
     "name": "stderr",
     "output_type": "stream",
     "text": [
      "D:\\Anaconda\\envs\\VFPUMC\\lib\\site-packages\\sklearn\\semi_supervised\\_label_propagation.py:230: RuntimeWarning: invalid value encountered in divide\n",
      "  probabilities /= normalizer\n",
      "D:\\Anaconda\\envs\\VFPUMC\\lib\\site-packages\\sklearn\\semi_supervised\\_label_propagation.py:230: RuntimeWarning: invalid value encountered in divide\n",
      "  probabilities /= normalizer\n",
      "D:\\Anaconda\\envs\\VFPUMC\\lib\\site-packages\\sklearn\\semi_supervised\\_label_propagation.py:230: RuntimeWarning: invalid value encountered in divide\n",
      "  probabilities /= normalizer\n",
      "D:\\Anaconda\\envs\\VFPUMC\\lib\\site-packages\\sklearn\\semi_supervised\\_label_propagation.py:230: RuntimeWarning: invalid value encountered in divide\n",
      "  probabilities /= normalizer\n",
      "2024-09-24 15:14:19,525 - INFO - 找到隐藏标签缓存文件 bank_hidden_RATIO_0_6.pkl，正在加载...\n",
      "2024-09-24 15:14:19,526 - INFO - 隐藏标签已从缓存文件 bank_hidden_RATIO_0_6.pkl 加载\n"
     ]
    },
    {
     "name": "stdout",
     "output_type": "stream",
     "text": [
      "当前的 member 为 RATIO_0_6\n"
     ]
    },
    {
     "name": "stderr",
     "output_type": "stream",
     "text": [
      "D:\\Anaconda\\envs\\VFPUMC\\lib\\site-packages\\sklearn\\semi_supervised\\_label_propagation.py:230: RuntimeWarning: invalid value encountered in divide\n",
      "  probabilities /= normalizer\n",
      "D:\\Anaconda\\envs\\VFPUMC\\lib\\site-packages\\sklearn\\semi_supervised\\_label_propagation.py:230: RuntimeWarning: invalid value encountered in divide\n",
      "  probabilities /= normalizer\n",
      "D:\\Anaconda\\envs\\VFPUMC\\lib\\site-packages\\sklearn\\semi_supervised\\_label_propagation.py:230: RuntimeWarning: invalid value encountered in divide\n",
      "  probabilities /= normalizer\n",
      "D:\\Anaconda\\envs\\VFPUMC\\lib\\site-packages\\sklearn\\semi_supervised\\_label_propagation.py:230: RuntimeWarning: invalid value encountered in divide\n",
      "  probabilities /= normalizer\n",
      "2024-09-24 15:14:37,325 - INFO - 找到隐藏标签缓存文件 bank_hidden_RATIO_0_7.pkl，正在加载...\n",
      "2024-09-24 15:14:37,327 - INFO - 隐藏标签已从缓存文件 bank_hidden_RATIO_0_7.pkl 加载\n"
     ]
    },
    {
     "name": "stdout",
     "output_type": "stream",
     "text": [
      "当前的 member 为 RATIO_0_7\n"
     ]
    },
    {
     "name": "stderr",
     "output_type": "stream",
     "text": [
      "D:\\Anaconda\\envs\\VFPUMC\\lib\\site-packages\\sklearn\\semi_supervised\\_label_propagation.py:230: RuntimeWarning: invalid value encountered in divide\n",
      "  probabilities /= normalizer\n",
      "D:\\Anaconda\\envs\\VFPUMC\\lib\\site-packages\\sklearn\\semi_supervised\\_label_propagation.py:230: RuntimeWarning: invalid value encountered in divide\n",
      "  probabilities /= normalizer\n",
      "D:\\Anaconda\\envs\\VFPUMC\\lib\\site-packages\\sklearn\\semi_supervised\\_label_propagation.py:230: RuntimeWarning: invalid value encountered in divide\n",
      "  probabilities /= normalizer\n",
      "D:\\Anaconda\\envs\\VFPUMC\\lib\\site-packages\\sklearn\\semi_supervised\\_label_propagation.py:230: RuntimeWarning: invalid value encountered in divide\n",
      "  probabilities /= normalizer\n",
      "2024-09-24 15:14:57,559 - INFO - 找到隐藏标签缓存文件 bank_hidden_RATIO_0_8.pkl，正在加载...\n",
      "2024-09-24 15:14:57,560 - INFO - 隐藏标签已从缓存文件 bank_hidden_RATIO_0_8.pkl 加载\n"
     ]
    },
    {
     "name": "stdout",
     "output_type": "stream",
     "text": [
      "当前的 member 为 RATIO_0_8\n"
     ]
    },
    {
     "name": "stderr",
     "output_type": "stream",
     "text": [
      "D:\\Anaconda\\envs\\VFPUMC\\lib\\site-packages\\sklearn\\semi_supervised\\_label_propagation.py:230: RuntimeWarning: invalid value encountered in divide\n",
      "  probabilities /= normalizer\n",
      "D:\\Anaconda\\envs\\VFPUMC\\lib\\site-packages\\sklearn\\semi_supervised\\_label_propagation.py:230: RuntimeWarning: invalid value encountered in divide\n",
      "  probabilities /= normalizer\n",
      "D:\\Anaconda\\envs\\VFPUMC\\lib\\site-packages\\sklearn\\semi_supervised\\_label_propagation.py:230: RuntimeWarning: invalid value encountered in divide\n",
      "  probabilities /= normalizer\n",
      "D:\\Anaconda\\envs\\VFPUMC\\lib\\site-packages\\sklearn\\semi_supervised\\_label_propagation.py:230: RuntimeWarning: invalid value encountered in divide\n",
      "  probabilities /= normalizer\n",
      "2024-09-24 15:15:20,088 - INFO - 找到隐藏标签缓存文件 bank_hidden_RATIO_0_9.pkl，正在加载...\n",
      "2024-09-24 15:15:20,090 - INFO - 隐藏标签已从缓存文件 bank_hidden_RATIO_0_9.pkl 加载\n"
     ]
    },
    {
     "name": "stdout",
     "output_type": "stream",
     "text": [
      "当前的 member 为 RATIO_0_9\n"
     ]
    },
    {
     "name": "stderr",
     "output_type": "stream",
     "text": [
      "D:\\Anaconda\\envs\\VFPUMC\\lib\\site-packages\\sklearn\\semi_supervised\\_label_propagation.py:230: RuntimeWarning: invalid value encountered in divide\n",
      "  probabilities /= normalizer\n",
      "D:\\Anaconda\\envs\\VFPUMC\\lib\\site-packages\\sklearn\\semi_supervised\\_label_propagation.py:230: RuntimeWarning: invalid value encountered in divide\n",
      "  probabilities /= normalizer\n",
      "D:\\Anaconda\\envs\\VFPUMC\\lib\\site-packages\\sklearn\\semi_supervised\\_label_propagation.py:230: RuntimeWarning: invalid value encountered in divide\n",
      "  probabilities /= normalizer\n",
      "D:\\Anaconda\\envs\\VFPUMC\\lib\\site-packages\\sklearn\\semi_supervised\\_label_propagation.py:230: RuntimeWarning: invalid value encountered in divide\n",
      "  probabilities /= normalizer\n",
      "2024-09-24 15:15:46,429 - INFO - 找到隐藏标签缓存文件 census_hidden_RATIO_0_1.pkl，正在加载...\n",
      "2024-09-24 15:15:46,431 - INFO - 隐藏标签已从缓存文件 census_hidden_RATIO_0_1.pkl 加载\n"
     ]
    },
    {
     "name": "stdout",
     "output_type": "stream",
     "text": [
      "当前的 member 为 RATIO_0_1\n"
     ]
    },
    {
     "name": "stderr",
     "output_type": "stream",
     "text": [
      "D:\\Anaconda\\envs\\VFPUMC\\lib\\site-packages\\sklearn\\semi_supervised\\_label_propagation.py:230: RuntimeWarning: invalid value encountered in divide\n",
      "  probabilities /= normalizer\n",
      "D:\\Anaconda\\envs\\VFPUMC\\lib\\site-packages\\sklearn\\semi_supervised\\_label_propagation.py:230: RuntimeWarning: invalid value encountered in divide\n",
      "  probabilities /= normalizer\n",
      "2024-09-24 15:15:58,789 - INFO - 找到隐藏标签缓存文件 census_hidden_RATIO_0_2.pkl，正在加载...\n",
      "2024-09-24 15:15:58,790 - INFO - 隐藏标签已从缓存文件 census_hidden_RATIO_0_2.pkl 加载\n"
     ]
    },
    {
     "name": "stdout",
     "output_type": "stream",
     "text": [
      "当前的 member 为 RATIO_0_2\n"
     ]
    },
    {
     "name": "stderr",
     "output_type": "stream",
     "text": [
      "D:\\Anaconda\\envs\\VFPUMC\\lib\\site-packages\\sklearn\\semi_supervised\\_label_propagation.py:230: RuntimeWarning: invalid value encountered in divide\n",
      "  probabilities /= normalizer\n",
      "D:\\Anaconda\\envs\\VFPUMC\\lib\\site-packages\\sklearn\\semi_supervised\\_label_propagation.py:230: RuntimeWarning: invalid value encountered in divide\n",
      "  probabilities /= normalizer\n",
      "2024-09-24 15:16:12,812 - INFO - 找到隐藏标签缓存文件 census_hidden_RATIO_0_3.pkl，正在加载...\n",
      "2024-09-24 15:16:12,814 - INFO - 隐藏标签已从缓存文件 census_hidden_RATIO_0_3.pkl 加载\n"
     ]
    },
    {
     "name": "stdout",
     "output_type": "stream",
     "text": [
      "当前的 member 为 RATIO_0_3\n"
     ]
    },
    {
     "name": "stderr",
     "output_type": "stream",
     "text": [
      "D:\\Anaconda\\envs\\VFPUMC\\lib\\site-packages\\sklearn\\semi_supervised\\_label_propagation.py:230: RuntimeWarning: invalid value encountered in divide\n",
      "  probabilities /= normalizer\n",
      "D:\\Anaconda\\envs\\VFPUMC\\lib\\site-packages\\sklearn\\semi_supervised\\_label_propagation.py:230: RuntimeWarning: invalid value encountered in divide\n",
      "  probabilities /= normalizer\n",
      "2024-09-24 15:16:27,828 - INFO - 找到隐藏标签缓存文件 census_hidden_RATIO_0_4.pkl，正在加载...\n",
      "2024-09-24 15:16:27,829 - INFO - 隐藏标签已从缓存文件 census_hidden_RATIO_0_4.pkl 加载\n"
     ]
    },
    {
     "name": "stdout",
     "output_type": "stream",
     "text": [
      "当前的 member 为 RATIO_0_4\n"
     ]
    },
    {
     "name": "stderr",
     "output_type": "stream",
     "text": [
      "D:\\Anaconda\\envs\\VFPUMC\\lib\\site-packages\\sklearn\\semi_supervised\\_label_propagation.py:230: RuntimeWarning: invalid value encountered in divide\n",
      "  probabilities /= normalizer\n",
      "D:\\Anaconda\\envs\\VFPUMC\\lib\\site-packages\\sklearn\\semi_supervised\\_label_propagation.py:230: RuntimeWarning: invalid value encountered in divide\n",
      "  probabilities /= normalizer\n",
      "2024-09-24 15:16:44,276 - INFO - 找到隐藏标签缓存文件 census_hidden_RATIO_0_5.pkl，正在加载...\n",
      "2024-09-24 15:16:44,278 - INFO - 隐藏标签已从缓存文件 census_hidden_RATIO_0_5.pkl 加载\n"
     ]
    },
    {
     "name": "stdout",
     "output_type": "stream",
     "text": [
      "当前的 member 为 RATIO_0_5\n"
     ]
    },
    {
     "name": "stderr",
     "output_type": "stream",
     "text": [
      "D:\\Anaconda\\envs\\VFPUMC\\lib\\site-packages\\sklearn\\semi_supervised\\_label_propagation.py:230: RuntimeWarning: invalid value encountered in divide\n",
      "  probabilities /= normalizer\n",
      "D:\\Anaconda\\envs\\VFPUMC\\lib\\site-packages\\sklearn\\semi_supervised\\_label_propagation.py:230: RuntimeWarning: invalid value encountered in divide\n",
      "  probabilities /= normalizer\n",
      "2024-09-24 15:17:01,922 - INFO - 找到隐藏标签缓存文件 census_hidden_RATIO_0_6.pkl，正在加载...\n",
      "2024-09-24 15:17:01,923 - INFO - 隐藏标签已从缓存文件 census_hidden_RATIO_0_6.pkl 加载\n"
     ]
    },
    {
     "name": "stdout",
     "output_type": "stream",
     "text": [
      "当前的 member 为 RATIO_0_6\n"
     ]
    },
    {
     "name": "stderr",
     "output_type": "stream",
     "text": [
      "D:\\Anaconda\\envs\\VFPUMC\\lib\\site-packages\\sklearn\\semi_supervised\\_label_propagation.py:230: RuntimeWarning: invalid value encountered in divide\n",
      "  probabilities /= normalizer\n",
      "D:\\Anaconda\\envs\\VFPUMC\\lib\\site-packages\\sklearn\\semi_supervised\\_label_propagation.py:230: RuntimeWarning: invalid value encountered in divide\n",
      "  probabilities /= normalizer\n",
      "2024-09-24 15:17:20,971 - INFO - 找到隐藏标签缓存文件 census_hidden_RATIO_0_7.pkl，正在加载...\n",
      "2024-09-24 15:17:20,973 - INFO - 隐藏标签已从缓存文件 census_hidden_RATIO_0_7.pkl 加载\n"
     ]
    },
    {
     "name": "stdout",
     "output_type": "stream",
     "text": [
      "当前的 member 为 RATIO_0_7\n"
     ]
    },
    {
     "name": "stderr",
     "output_type": "stream",
     "text": [
      "D:\\Anaconda\\envs\\VFPUMC\\lib\\site-packages\\sklearn\\semi_supervised\\_label_propagation.py:230: RuntimeWarning: invalid value encountered in divide\n",
      "  probabilities /= normalizer\n",
      "D:\\Anaconda\\envs\\VFPUMC\\lib\\site-packages\\sklearn\\semi_supervised\\_label_propagation.py:230: RuntimeWarning: invalid value encountered in divide\n",
      "  probabilities /= normalizer\n",
      "D:\\Anaconda\\envs\\VFPUMC\\lib\\site-packages\\sklearn\\semi_supervised\\_label_propagation.py:230: RuntimeWarning: invalid value encountered in divide\n",
      "  probabilities /= normalizer\n",
      "D:\\Anaconda\\envs\\VFPUMC\\lib\\site-packages\\sklearn\\semi_supervised\\_label_propagation.py:230: RuntimeWarning: invalid value encountered in divide\n",
      "  probabilities /= normalizer\n",
      "2024-09-24 15:17:40,614 - INFO - 找到隐藏标签缓存文件 census_hidden_RATIO_0_8.pkl，正在加载...\n",
      "2024-09-24 15:17:40,615 - INFO - 隐藏标签已从缓存文件 census_hidden_RATIO_0_8.pkl 加载\n"
     ]
    },
    {
     "name": "stdout",
     "output_type": "stream",
     "text": [
      "当前的 member 为 RATIO_0_8\n"
     ]
    },
    {
     "name": "stderr",
     "output_type": "stream",
     "text": [
      "D:\\Anaconda\\envs\\VFPUMC\\lib\\site-packages\\sklearn\\semi_supervised\\_label_propagation.py:230: RuntimeWarning: invalid value encountered in divide\n",
      "  probabilities /= normalizer\n",
      "D:\\Anaconda\\envs\\VFPUMC\\lib\\site-packages\\sklearn\\semi_supervised\\_label_propagation.py:230: RuntimeWarning: invalid value encountered in divide\n",
      "  probabilities /= normalizer\n",
      "D:\\Anaconda\\envs\\VFPUMC\\lib\\site-packages\\sklearn\\semi_supervised\\_label_propagation.py:230: RuntimeWarning: invalid value encountered in divide\n",
      "  probabilities /= normalizer\n",
      "D:\\Anaconda\\envs\\VFPUMC\\lib\\site-packages\\sklearn\\semi_supervised\\_label_propagation.py:230: RuntimeWarning: invalid value encountered in divide\n",
      "  probabilities /= normalizer\n",
      "2024-09-24 15:18:01,795 - INFO - 找到隐藏标签缓存文件 census_hidden_RATIO_0_9.pkl，正在加载...\n",
      "2024-09-24 15:18:01,797 - INFO - 隐藏标签已从缓存文件 census_hidden_RATIO_0_9.pkl 加载\n"
     ]
    },
    {
     "name": "stdout",
     "output_type": "stream",
     "text": [
      "当前的 member 为 RATIO_0_9\n"
     ]
    },
    {
     "name": "stderr",
     "output_type": "stream",
     "text": [
      "D:\\Anaconda\\envs\\VFPUMC\\lib\\site-packages\\sklearn\\semi_supervised\\_label_propagation.py:230: RuntimeWarning: invalid value encountered in divide\n",
      "  probabilities /= normalizer\n",
      "D:\\Anaconda\\envs\\VFPUMC\\lib\\site-packages\\sklearn\\semi_supervised\\_label_propagation.py:230: RuntimeWarning: invalid value encountered in divide\n",
      "  probabilities /= normalizer\n",
      "D:\\Anaconda\\envs\\VFPUMC\\lib\\site-packages\\sklearn\\semi_supervised\\_label_propagation.py:230: RuntimeWarning: invalid value encountered in divide\n",
      "  probabilities /= normalizer\n",
      "D:\\Anaconda\\envs\\VFPUMC\\lib\\site-packages\\sklearn\\semi_supervised\\_label_propagation.py:230: RuntimeWarning: invalid value encountered in divide\n",
      "  probabilities /= normalizer\n",
      "2024-09-24 15:18:23,058 - INFO - 找到隐藏标签缓存文件 credit_hidden_RATIO_0_1.pkl，正在加载...\n",
      "2024-09-24 15:18:23,060 - INFO - 隐藏标签已从缓存文件 credit_hidden_RATIO_0_1.pkl 加载\n"
     ]
    },
    {
     "name": "stdout",
     "output_type": "stream",
     "text": [
      "当前的 member 为 RATIO_0_1\n"
     ]
    },
    {
     "name": "stderr",
     "output_type": "stream",
     "text": [
      "D:\\Anaconda\\envs\\VFPUMC\\lib\\site-packages\\sklearn\\semi_supervised\\_label_propagation.py:230: RuntimeWarning: invalid value encountered in divide\n",
      "  probabilities /= normalizer\n",
      "D:\\Anaconda\\envs\\VFPUMC\\lib\\site-packages\\sklearn\\semi_supervised\\_label_propagation.py:230: RuntimeWarning: invalid value encountered in divide\n",
      "  probabilities /= normalizer\n",
      "2024-09-24 15:18:28,005 - INFO - 找到隐藏标签缓存文件 credit_hidden_RATIO_0_2.pkl，正在加载...\n",
      "2024-09-24 15:18:28,006 - INFO - 隐藏标签已从缓存文件 credit_hidden_RATIO_0_2.pkl 加载\n"
     ]
    },
    {
     "name": "stdout",
     "output_type": "stream",
     "text": [
      "当前的 member 为 RATIO_0_2\n"
     ]
    },
    {
     "name": "stderr",
     "output_type": "stream",
     "text": [
      "D:\\Anaconda\\envs\\VFPUMC\\lib\\site-packages\\sklearn\\semi_supervised\\_label_propagation.py:230: RuntimeWarning: invalid value encountered in divide\n",
      "  probabilities /= normalizer\n",
      "D:\\Anaconda\\envs\\VFPUMC\\lib\\site-packages\\sklearn\\semi_supervised\\_label_propagation.py:230: RuntimeWarning: invalid value encountered in divide\n",
      "  probabilities /= normalizer\n",
      "2024-09-24 15:18:33,986 - INFO - 找到隐藏标签缓存文件 credit_hidden_RATIO_0_3.pkl，正在加载...\n",
      "2024-09-24 15:18:33,987 - INFO - 隐藏标签已从缓存文件 credit_hidden_RATIO_0_3.pkl 加载\n"
     ]
    },
    {
     "name": "stdout",
     "output_type": "stream",
     "text": [
      "当前的 member 为 RATIO_0_3\n"
     ]
    },
    {
     "name": "stderr",
     "output_type": "stream",
     "text": [
      "D:\\Anaconda\\envs\\VFPUMC\\lib\\site-packages\\sklearn\\semi_supervised\\_label_propagation.py:230: RuntimeWarning: invalid value encountered in divide\n",
      "  probabilities /= normalizer\n",
      "D:\\Anaconda\\envs\\VFPUMC\\lib\\site-packages\\sklearn\\semi_supervised\\_label_propagation.py:230: RuntimeWarning: invalid value encountered in divide\n",
      "  probabilities /= normalizer\n",
      "2024-09-24 15:18:41,544 - INFO - 找到隐藏标签缓存文件 credit_hidden_RATIO_0_4.pkl，正在加载...\n",
      "2024-09-24 15:18:41,545 - INFO - 隐藏标签已从缓存文件 credit_hidden_RATIO_0_4.pkl 加载\n"
     ]
    },
    {
     "name": "stdout",
     "output_type": "stream",
     "text": [
      "当前的 member 为 RATIO_0_4\n"
     ]
    },
    {
     "name": "stderr",
     "output_type": "stream",
     "text": [
      "D:\\Anaconda\\envs\\VFPUMC\\lib\\site-packages\\sklearn\\semi_supervised\\_label_propagation.py:230: RuntimeWarning: invalid value encountered in divide\n",
      "  probabilities /= normalizer\n",
      "D:\\Anaconda\\envs\\VFPUMC\\lib\\site-packages\\sklearn\\semi_supervised\\_label_propagation.py:230: RuntimeWarning: invalid value encountered in divide\n",
      "  probabilities /= normalizer\n",
      "2024-09-24 15:18:49,854 - INFO - 找到隐藏标签缓存文件 credit_hidden_RATIO_0_5.pkl，正在加载...\n",
      "2024-09-24 15:18:49,856 - INFO - 隐藏标签已从缓存文件 credit_hidden_RATIO_0_5.pkl 加载\n"
     ]
    },
    {
     "name": "stdout",
     "output_type": "stream",
     "text": [
      "当前的 member 为 RATIO_0_5\n"
     ]
    },
    {
     "name": "stderr",
     "output_type": "stream",
     "text": [
      "D:\\Anaconda\\envs\\VFPUMC\\lib\\site-packages\\sklearn\\semi_supervised\\_label_propagation.py:230: RuntimeWarning: invalid value encountered in divide\n",
      "  probabilities /= normalizer\n",
      "D:\\Anaconda\\envs\\VFPUMC\\lib\\site-packages\\sklearn\\semi_supervised\\_label_propagation.py:230: RuntimeWarning: invalid value encountered in divide\n",
      "  probabilities /= normalizer\n",
      "D:\\Anaconda\\envs\\VFPUMC\\lib\\site-packages\\sklearn\\semi_supervised\\_label_propagation.py:322: ConvergenceWarning: max_iter=1000 was reached without convergence.\n",
      "  warnings.warn(\n",
      "D:\\Anaconda\\envs\\VFPUMC\\lib\\site-packages\\sklearn\\semi_supervised\\_label_propagation.py:230: RuntimeWarning: invalid value encountered in divide\n",
      "  probabilities /= normalizer\n",
      "D:\\Anaconda\\envs\\VFPUMC\\lib\\site-packages\\sklearn\\semi_supervised\\_label_propagation.py:230: RuntimeWarning: invalid value encountered in divide\n",
      "  probabilities /= normalizer\n",
      "2024-09-24 15:19:03,920 - INFO - 找到隐藏标签缓存文件 credit_hidden_RATIO_0_6.pkl，正在加载...\n",
      "2024-09-24 15:19:03,921 - INFO - 隐藏标签已从缓存文件 credit_hidden_RATIO_0_6.pkl 加载\n"
     ]
    },
    {
     "name": "stdout",
     "output_type": "stream",
     "text": [
      "当前的 member 为 RATIO_0_6\n"
     ]
    },
    {
     "name": "stderr",
     "output_type": "stream",
     "text": [
      "D:\\Anaconda\\envs\\VFPUMC\\lib\\site-packages\\sklearn\\semi_supervised\\_label_propagation.py:230: RuntimeWarning: invalid value encountered in divide\n",
      "  probabilities /= normalizer\n",
      "D:\\Anaconda\\envs\\VFPUMC\\lib\\site-packages\\sklearn\\semi_supervised\\_label_propagation.py:230: RuntimeWarning: invalid value encountered in divide\n",
      "  probabilities /= normalizer\n",
      "D:\\Anaconda\\envs\\VFPUMC\\lib\\site-packages\\sklearn\\semi_supervised\\_label_propagation.py:322: ConvergenceWarning: max_iter=1000 was reached without convergence.\n",
      "  warnings.warn(\n",
      "D:\\Anaconda\\envs\\VFPUMC\\lib\\site-packages\\sklearn\\semi_supervised\\_label_propagation.py:230: RuntimeWarning: invalid value encountered in divide\n",
      "  probabilities /= normalizer\n",
      "D:\\Anaconda\\envs\\VFPUMC\\lib\\site-packages\\sklearn\\semi_supervised\\_label_propagation.py:230: RuntimeWarning: invalid value encountered in divide\n",
      "  probabilities /= normalizer\n",
      "2024-09-24 15:19:18,897 - INFO - 找到隐藏标签缓存文件 credit_hidden_RATIO_0_7.pkl，正在加载...\n",
      "2024-09-24 15:19:18,898 - INFO - 隐藏标签已从缓存文件 credit_hidden_RATIO_0_7.pkl 加载\n"
     ]
    },
    {
     "name": "stdout",
     "output_type": "stream",
     "text": [
      "当前的 member 为 RATIO_0_7\n"
     ]
    },
    {
     "name": "stderr",
     "output_type": "stream",
     "text": [
      "D:\\Anaconda\\envs\\VFPUMC\\lib\\site-packages\\sklearn\\semi_supervised\\_label_propagation.py:230: RuntimeWarning: invalid value encountered in divide\n",
      "  probabilities /= normalizer\n",
      "D:\\Anaconda\\envs\\VFPUMC\\lib\\site-packages\\sklearn\\semi_supervised\\_label_propagation.py:230: RuntimeWarning: invalid value encountered in divide\n",
      "  probabilities /= normalizer\n",
      "D:\\Anaconda\\envs\\VFPUMC\\lib\\site-packages\\sklearn\\semi_supervised\\_label_propagation.py:322: ConvergenceWarning: max_iter=1000 was reached without convergence.\n",
      "  warnings.warn(\n",
      "D:\\Anaconda\\envs\\VFPUMC\\lib\\site-packages\\sklearn\\semi_supervised\\_label_propagation.py:230: RuntimeWarning: invalid value encountered in divide\n",
      "  probabilities /= normalizer\n",
      "D:\\Anaconda\\envs\\VFPUMC\\lib\\site-packages\\sklearn\\semi_supervised\\_label_propagation.py:230: RuntimeWarning: invalid value encountered in divide\n",
      "  probabilities /= normalizer\n",
      "2024-09-24 15:19:35,241 - INFO - 找到隐藏标签缓存文件 credit_hidden_RATIO_0_8.pkl，正在加载...\n",
      "2024-09-24 15:19:35,243 - INFO - 隐藏标签已从缓存文件 credit_hidden_RATIO_0_8.pkl 加载\n"
     ]
    },
    {
     "name": "stdout",
     "output_type": "stream",
     "text": [
      "当前的 member 为 RATIO_0_8\n"
     ]
    },
    {
     "name": "stderr",
     "output_type": "stream",
     "text": [
      "D:\\Anaconda\\envs\\VFPUMC\\lib\\site-packages\\sklearn\\semi_supervised\\_label_propagation.py:230: RuntimeWarning: invalid value encountered in divide\n",
      "  probabilities /= normalizer\n",
      "D:\\Anaconda\\envs\\VFPUMC\\lib\\site-packages\\sklearn\\semi_supervised\\_label_propagation.py:230: RuntimeWarning: invalid value encountered in divide\n",
      "  probabilities /= normalizer\n",
      "D:\\Anaconda\\envs\\VFPUMC\\lib\\site-packages\\sklearn\\semi_supervised\\_label_propagation.py:322: ConvergenceWarning: max_iter=1000 was reached without convergence.\n",
      "  warnings.warn(\n",
      "D:\\Anaconda\\envs\\VFPUMC\\lib\\site-packages\\sklearn\\semi_supervised\\_label_propagation.py:230: RuntimeWarning: invalid value encountered in divide\n",
      "  probabilities /= normalizer\n",
      "D:\\Anaconda\\envs\\VFPUMC\\lib\\site-packages\\sklearn\\semi_supervised\\_label_propagation.py:230: RuntimeWarning: invalid value encountered in divide\n",
      "  probabilities /= normalizer\n",
      "2024-09-24 15:19:52,544 - INFO - 找到隐藏标签缓存文件 credit_hidden_RATIO_0_9.pkl，正在加载...\n",
      "2024-09-24 15:19:52,546 - INFO - 隐藏标签已从缓存文件 credit_hidden_RATIO_0_9.pkl 加载\n"
     ]
    },
    {
     "name": "stdout",
     "output_type": "stream",
     "text": [
      "当前的 member 为 RATIO_0_9\n"
     ]
    },
    {
     "name": "stderr",
     "output_type": "stream",
     "text": [
      "D:\\Anaconda\\envs\\VFPUMC\\lib\\site-packages\\sklearn\\semi_supervised\\_label_propagation.py:230: RuntimeWarning: invalid value encountered in divide\n",
      "  probabilities /= normalizer\n",
      "D:\\Anaconda\\envs\\VFPUMC\\lib\\site-packages\\sklearn\\semi_supervised\\_label_propagation.py:230: RuntimeWarning: invalid value encountered in divide\n",
      "  probabilities /= normalizer\n",
      "D:\\Anaconda\\envs\\VFPUMC\\lib\\site-packages\\sklearn\\semi_supervised\\_label_propagation.py:322: ConvergenceWarning: max_iter=1000 was reached without convergence.\n",
      "  warnings.warn(\n",
      "D:\\Anaconda\\envs\\VFPUMC\\lib\\site-packages\\sklearn\\semi_supervised\\_label_propagation.py:230: RuntimeWarning: invalid value encountered in divide\n",
      "  probabilities /= normalizer\n",
      "D:\\Anaconda\\envs\\VFPUMC\\lib\\site-packages\\sklearn\\semi_supervised\\_label_propagation.py:230: RuntimeWarning: invalid value encountered in divide\n",
      "  probabilities /= normalizer\n"
     ]
    }
   ],
   "source": [
    "result = sklearn_semi_script_run()"
   ]
  },
  {
   "cell_type": "code",
   "execution_count": 10,
   "id": "b53e178b-11d9-42ff-98b5-e3256c88d84f",
   "metadata": {},
   "outputs": [],
   "source": [
    "result.to_csv(os.path.join(DATASETS_PATH,'SklearnSemiMethodBank.csv'))"
   ]
  }
 ],
 "metadata": {
  "kernelspec": {
   "display_name": "VFPUMC",
   "language": "python",
   "name": "vfpumc"
  },
  "language_info": {
   "codemirror_mode": {
    "name": "ipython",
    "version": 3
   },
   "file_extension": ".py",
   "mimetype": "text/x-python",
   "name": "python",
   "nbconvert_exporter": "python",
   "pygments_lexer": "ipython3",
   "version": "3.8.19"
  }
 },
 "nbformat": 4,
 "nbformat_minor": 5
}
