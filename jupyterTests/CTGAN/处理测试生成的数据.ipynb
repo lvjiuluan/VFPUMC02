{
 "cells": [
  {
   "cell_type": "code",
   "execution_count": 1,
   "id": "090e06e8-eb18-4fb9-bd82-7d20534b460c",
   "metadata": {},
   "outputs": [],
   "source": [
    "import sys\n",
    "sys.path.append(r'D:\\PyCharmProjects\\VFPUMC02')\n",
    "sys.path.append(r'C:\\Users\\Administrator\\PycharmProjects\\VFPUMC02')\n",
    "sys.path.append(r'/root/VFPUMC02')\n",
    "%load_ext autoreload\n",
    "%autoreload 2"
   ]
  },
  {
   "cell_type": "code",
   "execution_count": 10,
   "id": "96afe068-146b-4ed0-90bf-e5b595f983ab",
   "metadata": {},
   "outputs": [],
   "source": [
    "from consts.Constants import SCRIPTS_PATH\n",
    "from utils.pklUtils import load_from_pkl\n",
    "import os\n",
    "import pandas as pd"
   ]
  },
  {
   "cell_type": "code",
   "execution_count": 5,
   "id": "6c66fe94-0fd0-4510-a5df-99af0dbad739",
   "metadata": {},
   "outputs": [
    {
     "name": "stdout",
     "output_type": "stream",
     "text": [
      "对象已成功从 /root/VFPUMC02/scripts/result.pkl 加载\n"
     ]
    }
   ],
   "source": [
    "result = load_from_pkl(os.path.join(SCRIPTS_PATH,'result.pkl'))"
   ]
  },
  {
   "cell_type": "code",
   "execution_count": 7,
   "id": "250ce3a6-e9f1-4e83-b9b5-b21baf0a0c46",
   "metadata": {},
   "outputs": [],
   "source": [
    "rows = []\n",
    "for dataset_name, miss_rate_data in result.items():\n",
    "    for miss_rate, k_data in miss_rate_data.items():\n",
    "        for k, metrics in k_data.items():\n",
    "            rows.append([dataset_name, miss_rate, k] + metrics)"
   ]
  },
  {
   "cell_type": "code",
   "execution_count": 11,
   "id": "70960bd7-1f98-4484-a8f5-d9d9ef272c46",
   "metadata": {},
   "outputs": [],
   "source": [
    "columns = [\"Dataset\", \"MissRate\", \"K\", \"RMSE\", \"MSE\", \"MAE\", \"R2\"]\n",
    "result_df = pd.DataFrame(rows, columns=columns)"
   ]
  },
  {
   "cell_type": "code",
   "execution_count": 16,
   "id": "92f5513c-40cd-45fd-9b4b-4b88475b5011",
   "metadata": {},
   "outputs": [],
   "source": [
    "result_df.to_csv('result.csv')"
   ]
  }
 ],
 "metadata": {
  "kernelspec": {
   "display_name": "fate_env",
   "language": "python",
   "name": "fate_env"
  },
  "language_info": {
   "codemirror_mode": {
    "name": "ipython",
    "version": 3
   },
   "file_extension": ".py",
   "mimetype": "text/x-python",
   "name": "python",
   "nbconvert_exporter": "python",
   "pygments_lexer": "ipython3",
   "version": "3.10.16"
  }
 },
 "nbformat": 4,
 "nbformat_minor": 5
}
