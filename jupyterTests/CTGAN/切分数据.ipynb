{
 "cells": [
  {
   "cell_type": "code",
   "execution_count": 1,
   "id": "168005ed-bc52-4098-a95e-02283630b2a1",
   "metadata": {},
   "outputs": [],
   "source": [
    "import sys\n",
    "sys.path.append(r'D:\\PyCharmProjects\\VFPUMC02')\n",
    "sys.path.append(r'C:\\Users\\Administrator\\PycharmProjects\\VFPUMC02')\n",
    "sys.path.append(r'/root/VFPUMC02')\n",
    "%load_ext autoreload\n",
    "%autoreload 2"
   ]
  },
  {
   "cell_type": "code",
   "execution_count": 24,
   "id": "8f2fd835-092d-498b-b85f-81632980b6d2",
   "metadata": {},
   "outputs": [],
   "source": [
    "from datasets.DataSet import CensusDataset, CreditDataset\n",
    "from utils.DataProcessUtils import *\n",
    "from consts.Constants import DATASETS_PATH\n",
    "import os"
   ]
  },
  {
   "cell_type": "code",
   "execution_count": 34,
   "id": "f3140b24-df05-42af-a3de-f7aadc29ec06",
   "metadata": {},
   "outputs": [
    {
     "name": "stderr",
     "output_type": "stream",
     "text": [
      "2025-01-24 00:51:50,512 - INFO - 正在加载数据集 census.csv\n",
      "2025-01-24 00:51:50,745 - INFO - 数据集 census.csv 加载完成，数据集形状为 (32561, 124)\n",
      "2025-01-24 00:51:50,746 - INFO - 正在加载数据集 credit.csv\n",
      "2025-01-24 00:51:50,940 - INFO - 数据集 credit.csv 加载完成，数据集形状为 (30000, 88)\n"
     ]
    }
   ],
   "source": [
    "census_dataset, credit_dataset = CensusDataset(), CreditDataset()"
   ]
  },
  {
   "cell_type": "code",
   "execution_count": 37,
   "id": "163a5d46-c401-4c10-84c1-bb8c96600887",
   "metadata": {},
   "outputs": [
    {
     "name": "stdout",
     "output_type": "stream",
     "text": [
      "df1 的形状为: (32561, 91)\n",
      "df2 的形状为: (32561, 32)\n"
     ]
    }
   ],
   "source": [
    "df_A, df_B, y = transform_and_save_df(\n",
    "    census_dataset.df,\n",
    "    split_cols=32,\n",
    "    file_path=DATASETS_PATH,\n",
    "    name_prefix='VFPU_GEN_CENSUS_',\n",
    "    name_suffix='.csv'\n",
    ")"
   ]
  },
  {
   "cell_type": "code",
   "execution_count": 38,
   "id": "4c2b412d-1603-492a-97f8-20548a1eebec",
   "metadata": {},
   "outputs": [
    {
     "name": "stdout",
     "output_type": "stream",
     "text": [
      "df1 的形状为: (30000, 55)\n",
      "df2 的形状为: (30000, 32)\n"
     ]
    }
   ],
   "source": [
    "df_A, df_B, y = transform_and_save_df(\n",
    "    credit_dataset.df,\n",
    "    split_cols=32,\n",
    "    file_path=DATASETS_PATH,\n",
    "    name_prefix='VFPU_GEN_CREDIT_',\n",
    "    name_suffix='.csv'\n",
    ")"
   ]
  }
 ],
 "metadata": {
  "kernelspec": {
   "display_name": "fate_env",
   "language": "python",
   "name": "fate_env"
  },
  "language_info": {
   "codemirror_mode": {
    "name": "ipython",
    "version": 3
   },
   "file_extension": ".py",
   "mimetype": "text/x-python",
   "name": "python",
   "nbconvert_exporter": "python",
   "pygments_lexer": "ipython3",
   "version": "3.10.16"
  }
 },
 "nbformat": 4,
 "nbformat_minor": 5
}
