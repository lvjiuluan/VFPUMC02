{
 "cells": [
  {
   "cell_type": "code",
   "execution_count": 24,
   "id": "d1333bc3-83f6-428a-a099-ccc12b64a775",
   "metadata": {},
   "outputs": [
    {
     "name": "stdout",
     "output_type": "stream",
     "text": [
      "The autoreload extension is already loaded. To reload it, use:\n",
      "  %reload_ext autoreload\n"
     ]
    }
   ],
   "source": [
    "import sys\n",
    "sys.path.append(r'D:\\PyCharmProjects\\VFPUMC02')\n",
    "sys.path.append(r'C:\\Users\\Administrator\\PycharmProjects\\VFPUMC02')\n",
    "sys.path.append(r'/root/VFPUMC02')\n",
    "%load_ext autoreload\n",
    "%autoreload 2"
   ]
  },
  {
   "cell_type": "code",
   "execution_count": 21,
   "id": "e61d66ab-4553-4193-a677-9b5d3729669c",
   "metadata": {},
   "outputs": [],
   "source": [
    "from datasets.DataSet import BankDataset\n",
    "from utils.DataProcessUtils import *\n",
    "from consts.Constants import DATASETS_PATH\n",
    "import os\n",
    "from datasets.VFPU_GEN_DATASET import VFPU_GEN_DATASET\n",
    "from enums.DataSetsName import DataSetsName\n",
    "from ctgan import CTGAN\n",
    "from classfiers.TwoStep import TwoStep\n",
    "import pandas as pd\n",
    "from vf4lr.VF_LR import VF_LR\n",
    "from classfiers.VF_LinearRegression import VF_LinearRegression\n",
    "from classfiers.VF_TwoStep import VF_TwoStep\n",
    "from utils.FateUtils import convert_ipynb_to_py\n",
    "from gen.VFPU_GEN import VFPU_GEN\n",
    "from sklearn.linear_model import LogisticRegression\n",
    "from sklearn.linear_model import Ridge"
   ]
  },
  {
   "cell_type": "code",
   "execution_count": 22,
   "id": "f8015d6c-fb02-4a42-89ef-d521ef506197",
   "metadata": {},
   "outputs": [],
   "source": [
    "dataset = VFPU_GEN_DATASET()\n",
    "df_A, df_B, y = dataset.get_dataset_parts(DataSetsName.BANK.value)\n",
    "miss_rate=0.2\n",
    "complete_df_B, incomplete_df_B, missing_df_B = constru_row_miss_df(df_B, miss_rate)"
   ]
  },
  {
   "cell_type": "code",
   "execution_count": 25,
   "id": "c3413d2e-8f13-48ed-a3ea-b452b3c94750",
   "metadata": {},
   "outputs": [
    {
     "data": {
      "text/plain": [
       "(41188, 31)"
      ]
     },
     "execution_count": 25,
     "metadata": {},
     "output_type": "execute_result"
    }
   ],
   "source": [
    "df_A.shape"
   ]
  },
  {
   "cell_type": "code",
   "execution_count": 23,
   "id": "6b21ad9c-af70-4f4a-b33b-9cd538d86672",
   "metadata": {},
   "outputs": [
    {
     "data": {
      "text/plain": [
       "(32951, 32)"
      ]
     },
     "execution_count": 23,
     "metadata": {},
     "output_type": "execute_result"
    }
   ],
   "source": [
    "incomplete_df_B.shape"
   ]
  },
  {
   "cell_type": "code",
   "execution_count": 9,
   "id": "6737bc97-152f-4952-a661-8683f3c07b7d",
   "metadata": {
    "tags": []
   },
   "outputs": [
    {
     "name": "stderr",
     "output_type": "stream",
     "text": [
      "2025-01-23 23:59:00,741 - ConsoleLogger - INFO - TwoStep 类已初始化: max_iter=5, k=0.25, base_classifier=LogisticRegression, base_regressor=Ridge\n",
      "2025-01-23 23:59:00,741 - INFO - TwoStep 类已初始化: max_iter=5, k=0.25, base_classifier=LogisticRegression, base_regressor=Ridge\n",
      "2025-01-23 23:59:00,742 - ConsoleLogger - INFO - VF_LR 模型初始化完成。\n",
      "2025-01-23 23:59:00,742 - INFO - VF_LR 模型初始化完成。\n",
      "2025-01-23 23:59:00,743 - ConsoleLogger - INFO - 模型配置: {'learning_rate': 0.2, 'epoch_num': 5, 'batch_size': 64, 'client_num': 2}\n",
      "2025-01-23 23:59:00,743 - INFO - 模型配置: {'learning_rate': 0.2, 'epoch_num': 5, 'batch_size': 64, 'client_num': 2}\n",
      "2025-01-23 23:59:00,744 - ConsoleLogger - INFO - VF_LinearRegression 模型初始化完成。\n",
      "2025-01-23 23:59:00,744 - INFO - VF_LinearRegression 模型初始化完成。\n",
      "2025-01-23 23:59:00,745 - ConsoleLogger - INFO - 模型配置: {'lr': 0.01, 'lambda': 0.1, 'n_iters': 5}\n",
      "2025-01-23 23:59:00,745 - INFO - 模型配置: {'lr': 0.01, 'lambda': 0.1, 'n_iters': 5}\n",
      "2025-01-23 23:59:00,746 - INFO - VF_TwoStep 类已成功初始化: max_iter=5, k=0.25, min_confidence=0.00, convergence_threshold=0, clf=VF_LR, reg=VF_LinearRegression\n"
     ]
    }
   ],
   "source": [
    "ctgan = CTGAN(epochs=5)\n",
    "\n",
    "clf =  LogisticRegression(solver='sag', max_iter=5)\n",
    "reg =  Ridge(alpha=0.1, solver='sag', max_iter=5)\n",
    "two_step = TwoStep(\n",
    "    base_classifier=clf,\n",
    "    base_regressor=reg,\n",
    "    max_iter=5,\n",
    "    k=0.25\n",
    ")\n",
    "\n",
    "vf_clf = VF_LR(learning_rate=0.2,epoch_num=5,batch_size=64)\n",
    "vf_reg = VF_LinearRegression(config={'lr': 0.01,'lambda': 0.1,'n_iters':5})\n",
    "vf_two_step = VF_TwoStep(\n",
    "    clf=vf_clf,\n",
    "    reg=vf_reg,\n",
    "    k=0.25,\n",
    "    max_iter=5\n",
    ")"
   ]
  },
  {
   "cell_type": "code",
   "execution_count": 10,
   "id": "3a781815-cb24-472d-a5bf-7b7be86055ac",
   "metadata": {},
   "outputs": [
    {
     "name": "stderr",
     "output_type": "stream",
     "text": [
      "/root/miniconda3/envs/fate_env/lib/python3.10/site-packages/torch/autograd/graph.py:825: UserWarning: Attempting to run cuBLAS, but there was no current CUDA context! Attempting to set the primary context... (Triggered internally at ../aten/src/ATen/cuda/CublasHandlePool.cpp:135.)\n",
      "  return Variable._execution_engine.run_backward(  # Calls into the C++ engine to run the backward pass\n"
     ]
    }
   ],
   "source": [
    "vfpu_gen = VFPU_GEN(two_step,vf_two_step,ctgan,df_A,incomplete_df_B)"
   ]
  },
  {
   "cell_type": "code",
   "execution_count": 18,
   "id": "5b019baa-4d52-4e0b-b898-c70de36228f1",
   "metadata": {},
   "outputs": [],
   "source": [
    "m = incomplete_df_B.shape[1]\n",
    "# 生成 k 列， 预测 m - k 列\n",
    "for k in range(m + 1):\n",
    "    predict_cols = incomplete_df_B.columns[:m-k]\n",
    "    vfpu_gen.fit(predict_cols)\n",
    "    rmse, mse, mae, r2 = evaluate_imputed_data(missing_df_B, synthetic_data)"
   ]
  },
  {
   "cell_type": "code",
   "execution_count": null,
   "id": "1892eafa-f023-43b4-97ef-d8897abcd080",
   "metadata": {},
   "outputs": [],
   "source": []
  },
  {
   "cell_type": "code",
   "execution_count": null,
   "id": "e6f66b20-ae25-40c7-a73b-71a236934faf",
   "metadata": {},
   "outputs": [],
   "source": []
  }
 ],
 "metadata": {
  "kernelspec": {
   "display_name": "fate_env",
   "language": "python",
   "name": "fate_env"
  },
  "language_info": {
   "codemirror_mode": {
    "name": "ipython",
    "version": 3
   },
   "file_extension": ".py",
   "mimetype": "text/x-python",
   "name": "python",
   "nbconvert_exporter": "python",
   "pygments_lexer": "ipython3",
   "version": "3.10.16"
  }
 },
 "nbformat": 4,
 "nbformat_minor": 5
}
