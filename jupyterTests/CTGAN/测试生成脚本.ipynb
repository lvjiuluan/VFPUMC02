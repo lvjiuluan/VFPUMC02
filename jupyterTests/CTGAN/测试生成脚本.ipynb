{
 "cells": [
  {
   "cell_type": "code",
   "execution_count": 1,
   "id": "cf4bbb7e-d920-4792-9502-8faf88944854",
   "metadata": {},
   "outputs": [],
   "source": [
    "import sys\n",
    "sys.path.append(r'D:\\PyCharmProjects\\VFPUMC02')\n",
    "sys.path.append(r'C:\\Users\\Administrator\\PycharmProjects\\VFPUMC02')\n",
    "sys.path.append(r'/root/VFPUMC02')\n",
    "%load_ext autoreload\n",
    "%autoreload 2"
   ]
  },
  {
   "cell_type": "code",
   "execution_count": 2,
   "id": "1d7f4943-66d6-44da-9e22-12aa3c2930d2",
   "metadata": {},
   "outputs": [],
   "source": [
    "from datasets.DataSet import BankDataset\n",
    "from utils.DataProcessUtils import *\n",
    "from consts.Constants import DATASETS_PATH\n",
    "import os\n",
    "from datasets.VFPU_GEN_DATASET import VFPU_GEN_DATASET\n",
    "from enums.DataSetsName import DataSetsName\n",
    "from ctgan import CTGAN\n",
    "from classfiers.TwoStep import TwoStep\n",
    "import pandas as pd\n",
    "from vf4lr.VF_LR import VF_LR\n",
    "from classfiers.VF_LinearRegression import VF_LinearRegression\n",
    "from classfiers.VF_TwoStep import VF_TwoStep\n",
    "from utils.FateUtils import convert_ipynb_to_py\n",
    "from gen.VFPU_GEN import VFPU_GEN\n",
    "from sklearn.linear_model import LogisticRegression\n",
    "from sklearn.linear_model import Ridge"
   ]
  },
  {
   "cell_type": "code",
   "execution_count": 6,
   "id": "f3187dae-1db0-4700-9458-a73b735212a0",
   "metadata": {},
   "outputs": [],
   "source": [
    "dataset = VFPU_GEN_DATASET()"
   ]
  },
  {
   "cell_type": "code",
   "execution_count": 10,
   "id": "91b09bdb-3470-45e8-8088-c7ab512c2f37",
   "metadata": {},
   "outputs": [
    {
     "name": "stderr",
     "output_type": "stream",
     "text": [
      "2025-01-24 00:33:19,395 - ConsoleLogger - INFO - TwoStep 类已初始化: max_iter=5, k=0.25, base_classifier=LogisticRegression, base_regressor=Ridge\n",
      "2025-01-24 00:33:19,395 - INFO - TwoStep 类已初始化: max_iter=5, k=0.25, base_classifier=LogisticRegression, base_regressor=Ridge\n",
      "2025-01-24 00:33:19,396 - ConsoleLogger - INFO - VF_LR 模型初始化完成。\n",
      "2025-01-24 00:33:19,396 - INFO - VF_LR 模型初始化完成。\n",
      "2025-01-24 00:33:19,397 - ConsoleLogger - INFO - 模型配置: {'learning_rate': 0.2, 'epoch_num': 5, 'batch_size': 64, 'client_num': 2}\n",
      "2025-01-24 00:33:19,397 - INFO - 模型配置: {'learning_rate': 0.2, 'epoch_num': 5, 'batch_size': 64, 'client_num': 2}\n",
      "2025-01-24 00:33:19,398 - ConsoleLogger - INFO - VF_LinearRegression 模型初始化完成。\n",
      "2025-01-24 00:33:19,398 - INFO - VF_LinearRegression 模型初始化完成。\n",
      "2025-01-24 00:33:19,399 - ConsoleLogger - INFO - 模型配置: {'lr': 0.01, 'lambda': 0.1, 'n_iters': 5}\n",
      "2025-01-24 00:33:19,399 - INFO - 模型配置: {'lr': 0.01, 'lambda': 0.1, 'n_iters': 5}\n",
      "2025-01-24 00:33:19,400 - INFO - VF_TwoStep 类已成功初始化: max_iter=5, k=0.25, min_confidence=0.00, convergence_threshold=0, clf=VF_LR, reg=VF_LinearRegression\n"
     ]
    }
   ],
   "source": [
    "ctgan = CTGAN(epochs=5)\n",
    "\n",
    "clf =  LogisticRegression(solver='sag', max_iter=5)\n",
    "reg =  Ridge(alpha=0.1, solver='sag', max_iter=5)\n",
    "two_step = TwoStep(\n",
    "    base_classifier=clf,\n",
    "    base_regressor=reg,\n",
    "    max_iter=5,\n",
    "    k=0.25\n",
    ")\n",
    "\n",
    "vf_clf = VF_LR(learning_rate=0.2,epoch_num=5,batch_size=64)\n",
    "vf_reg = VF_LinearRegression(config={'lr': 0.01,'lambda': 0.1,'n_iters':5})\n",
    "vf_two_step = VF_TwoStep(\n",
    "    clf=vf_clf,\n",
    "    reg=vf_reg,\n",
    "    k=0.25,\n",
    "    max_iter=5\n",
    ")"
   ]
  },
  {
   "cell_type": "code",
   "execution_count": null,
   "id": "10ea6165-e39c-4bc7-881f-29e7d8449735",
   "metadata": {},
   "outputs": [
    {
     "name": "stdout",
     "output_type": "stream",
     "text": [
      "BANK\n",
      "df_A 的形状: (41188, 31)\n",
      "df_B 的形状: (41188, 32)\n",
      "y 的形状: (41188, 1)\n",
      "miss_rate的值为0.1\n",
      "complete_df_B 的形状: (41188, 32)\n",
      "incomplete_df_B 的形状: (37070, 32)\n",
      "missing_df_B 的形状: (4118, 32)\n"
     ]
    }
   ],
   "source": [
    "for dataset_enum in DataSetsName:\n",
    "    print(dataset_enum.value)\n",
    "    df_A, df_B, y = dataset.get_dataset_parts(dataset_enum.value)\n",
    "    print(f\"df_A 的形状: {df_A.shape}\")\n",
    "    print(f\"df_B 的形状: {df_B.shape}\")\n",
    "    print(f\"y 的形状: {y.shape}\")\n",
    "    miss_rates = [0.1, 0.2, 0.3, 0.4, 0.5, 0.6, 0.7, 0.8, 0.9]\n",
    "    for miss_rate in miss_rates:\n",
    "        print(f\"miss_rate的值为{miss_rate}\")\n",
    "        complete_df_B, incomplete_df_B, missing_df_B = constru_row_miss_df(df_B, miss_rate)\n",
    "        print(f\"complete_df_B 的形状: {complete_df_B.shape}\")\n",
    "        print(f\"incomplete_df_B 的形状: {incomplete_df_B.shape}\")\n",
    "        print(f\"missing_df_B 的形状: {missing_df_B.shape}\")\n",
    "        vfpu_gen = VFPU_GEN(two_step,vf_two_step,ctgan,df_A,incomplete_df_B)\n",
    "        m = incomplete_df_B.shape[1]\n",
    "        # 生成 k 列， 预测 m - k 列\n",
    "        for k in range(m + 1):\n",
    "            predict_cols = incomplete_df_B.columns[:m-k]\n",
    "            vfpu_gen.fit(predict_cols)\n",
    "            rmse, mse, mae, r2 = evaluate_imputed_data(missing_df_B, synthetic_data)\n",
    "            print(f\"rmse = {rmse}, mse = {mse}, mae = {mae}, r2 = {r2} \")"
   ]
  }
 ],
 "metadata": {
  "kernelspec": {
   "display_name": "fate_env",
   "language": "python",
   "name": "fate_env"
  },
  "language_info": {
   "codemirror_mode": {
    "name": "ipython",
    "version": 3
   },
   "file_extension": ".py",
   "mimetype": "text/x-python",
   "name": "python",
   "nbconvert_exporter": "python",
   "pygments_lexer": "ipython3",
   "version": "3.10.16"
  }
 },
 "nbformat": 4,
 "nbformat_minor": 5
}
