{
 "cells": [
  {
   "cell_type": "code",
   "execution_count": 1,
   "id": "d64762e9-d63c-45dc-ba57-2ff3b252b599",
   "metadata": {},
   "outputs": [],
   "source": [
    "import sys\n",
    "sys.path.append('/root/semi/VFPUMC02')\n",
    "%load_ext autoreload\n",
    "%autoreload 2"
   ]
  },
  {
   "cell_type": "code",
   "execution_count": 3,
   "id": "d86b1749-068c-4378-9616-b7e02e62dbb2",
   "metadata": {},
   "outputs": [],
   "source": [
    "from datasets.DataSet import BankDataset\n",
    "from utils.DataProcessUtils import *\n",
    "from semilearn import get_config, split_ssl_data, BasicDataset,get_data_loader, get_algorithm, get_net_builder,Trainer\n",
    "from torchvision import transforms\n",
    "from enums.HideRatio import HideRatio"
   ]
  },
  {
   "cell_type": "code",
   "execution_count": null,
   "id": "c2d027ae-87a6-47e2-a290-6c00ca549372",
   "metadata": {},
   "outputs": [],
   "source": [
    "baseConfig = {\n",
    "    'algorithm': 'fixmatch',\n",
    "    'net': 'vit_tiny_patch2_32',\n",
    "    'use_pretrain': True, \n",
    "    'pretrain_path': 'https://github.com/microsoft/Semi-supervised-learning/releases/download/v.0.0.0/vit_tiny_patch2_32_mlp_im_1k_32.pth',\n",
    "    'include_lb_to_ulb': True,\n",
    "    'batch_size': 8,\n",
    "    'uratio': 2,\n",
    "    'eval_batch_size':8,\n",
    "    'data_dir': '/root/semi/Semi-supervised-learning/notebooks/data',\n",
    "    'distributed': False,\n",
    "    'gpu': 0,\n",
    "    'num_classes': 2,\n",
    "    'num_train_iter': 1, \n",
    "    'num_eval_iter': 1,   \n",
    "    'num_log_iter': 50, \n",
    "    'epoch': 1, \n",
    "}"
   ]
  },
  {
   "cell_type": "code",
   "execution_count": 7,
   "id": "bcdb7f18-6fde-4b07-a489-6d258b30e093",
   "metadata": {},
   "outputs": [
    {
     "ename": "SyntaxError",
     "evalue": "invalid syntax (3645429636.py, line 1)",
     "output_type": "error",
     "traceback": [
      "\u001b[0;36m  File \u001b[0;32m\"/tmp/ipykernel_25542/3645429636.py\"\u001b[0;36m, line \u001b[0;32m1\u001b[0m\n\u001b[0;31m    for algorithm in algorithms\u001b[0m\n\u001b[0m                               ^\u001b[0m\n\u001b[0;31mSyntaxError\u001b[0m\u001b[0;31m:\u001b[0m invalid syntax\n"
     ]
    }
   ],
   "source": [
    "for algorithm in algorithms:\n",
    "    for dataset in datasets:\n",
    "        for member in HideRatio:\n",
    "            baseConfig['algorithm'] = 'fixmatch'\n",
    "            baseConfig['num_labels'] = nearest_even(len(dataset.df) * member.value)\n",
    "            baseConfig['ulb_num_labels'] = nearest_even(len(dataset.df) * (1 - member.value))\n",
    "            config = get_config(baseConfig)\n",
    "            result = train_and_get_eval(dataset, config)\n",
    "            \"\"\"\n",
    "                result:\n",
    "                    {'acc': 0.625, 'precision': 0.3125, 'recall': 0.5, 'f1': 0.38461538461538464}\n",
    "            \"\"\"\n",
    "我想把这段代码封装成一个方法，参数是algorithms(字符串列表)、datasets、HideRatio（枚举类）\n",
    "返回：DataFrame，一级索引:algorithm，二级索引：dataset.baseFileName, 三级索引：member.name"
   ]
  },
  {
   "cell_type": "code",
   "execution_count": null,
   "id": "fbaf8e98-e864-4f21-b926-fe5b332dfe68",
   "metadata": {},
   "outputs": [],
   "source": [
    "def train_and_get_eval(dataset, config):\n",
    "    # create model and specify algorithm\n",
    "    algorithm = get_algorithm(config,  get_net_builder(config.net, from_name=False), tb_log=None, logger=None)\n",
    "    data = expand_to_image_shape(normalize_columns(dataset.df.values))\n",
    "    data = (data * 255).astype(np.uint8)\n",
    "    target = dataset.y\n",
    "    lb_data, lb_target, ulb_data, ulb_target = split_ssl_data(config, data, target, 2,\n",
    "                                                          config.num_labels,ulb_num_labels=config.ulb_num_labels,\n",
    "                                                          include_lb_to_ulb=config.include_lb_to_ulb)\n",
    "    train_transform = transforms.Compose([transforms.RandomHorizontalFlip(),\n",
    "                                      transforms.RandomCrop(32, padding=int(32 * 0.125), padding_mode='reflect'),\n",
    "                                      transforms.ToTensor(),\n",
    "                                      transforms.Normalize([0.5, 0.5, 0.5], [0.5, 0.5, 0.5])])\n",
    "\n",
    "    train_strong_transform = transforms.Compose([transforms.RandomHorizontalFlip(),\n",
    "                                                 transforms.RandomCrop(32, padding=int(32 * 0.125), padding_mode='reflect'),\n",
    "                                                 transforms.ToTensor(),\n",
    "                                                 transforms.Normalize([0.5, 0.5, 0.5], [0.5, 0.5, 0.5])])\n",
    "\n",
    "    eval_transform = transforms.Compose([transforms.Resize(32),\n",
    "                                          transforms.ToTensor(),\n",
    "                                          transforms.Normalize([0.5, 0.5, 0.5], [0.5, 0.5, 0.5])])\n",
    "\n",
    "    lb_dataset = BasicDataset(config.algorithm, lb_data, lb_target, config.num_classes, train_transform, is_ulb=False)\n",
    "    ulb_dataset = BasicDataset(config.algorithm, lb_data, lb_target, config.num_classes, train_transform, is_ulb=True, strong_transform=train_strong_transform)\n",
    "    eval_dataset = BasicDataset(config.algorithm, lb_data, lb_target, config.num_classes, eval_transform, is_ulb=False)\n",
    "\n",
    "    # define data loaders\n",
    "    train_lb_loader = get_data_loader(config, lb_dataset, config.batch_size)\n",
    "    train_ulb_loader = get_data_loader(config, ulb_dataset, int(config.batch_size * config.uratio))\n",
    "    eval_loader = get_data_loader(config, eval_dataset, config.eval_batch_size)\n",
    "\n",
    "        # training and evaluation\n",
    "    trainer = Trainer(config, algorithm)\n",
    "    trainer.fit(train_lb_loader, train_ulb_loader, eval_loader)\n",
    "    return trainer.evaluate(eval_loader)"
   ]
  },
  {
   "cell_type": "code",
   "execution_count": null,
   "id": "1eccfaa9-3807-46f1-afe5-e51c7174ef42",
   "metadata": {},
   "outputs": [],
   "source": [
    "result:\n",
    "{'acc': 0.625, 'precision': 0.3125, 'recall': 0.5, 'f1': 0.38461538461538464}"
   ]
  }
 ],
 "metadata": {
  "kernelspec": {
   "display_name": "Python 3 (ipykernel)",
   "language": "python",
   "name": "python3"
  },
  "language_info": {
   "codemirror_mode": {
    "name": "ipython",
    "version": 3
   },
   "file_extension": ".py",
   "mimetype": "text/x-python",
   "name": "python",
   "nbconvert_exporter": "python",
   "pygments_lexer": "ipython3",
   "version": "3.8.19"
  }
 },
 "nbformat": 4,
 "nbformat_minor": 5
}
