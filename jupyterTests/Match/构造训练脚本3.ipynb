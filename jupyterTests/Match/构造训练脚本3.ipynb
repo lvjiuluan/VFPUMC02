{
 "cells": [
  {
   "cell_type": "code",
   "execution_count": 5,
   "id": "1862979e-1523-47ef-b37c-e3b9b440254f",
   "metadata": {},
   "outputs": [
    {
     "name": "stdout",
     "output_type": "stream",
     "text": [
      "The autoreload extension is already loaded. To reload it, use:\n",
      "  %reload_ext autoreload\n"
     ]
    }
   ],
   "source": [
    "import sys\n",
    "sys.path.append('/root/semi/VFPUMC02')\n",
    "%load_ext autoreload\n",
    "%autoreload 2"
   ]
  },
  {
   "cell_type": "code",
   "execution_count": 14,
   "id": "38b059e7-05d0-4f93-90eb-43e8b380b6ca",
   "metadata": {},
   "outputs": [],
   "source": [
    "from utils.YamlLoader import YamlLoader\n",
    "from scripts.train_match_script import * \n",
    "from datasets.DataSet import get_all_dataset"
   ]
  },
  {
   "cell_type": "code",
   "execution_count": 7,
   "id": "49784922-d056-4ef1-8aeb-ad9d4c720b93",
   "metadata": {},
   "outputs": [],
   "source": [
    "yamlLoader = YamlLoader()"
   ]
  },
  {
   "cell_type": "code",
   "execution_count": 8,
   "id": "527398f7-aaf4-4ba7-8eef-088228f8327e",
   "metadata": {},
   "outputs": [],
   "source": [
    "yamlLoader.load_yaml_files()"
   ]
  },
  {
   "cell_type": "code",
   "execution_count": 9,
   "id": "78a63981-ccd1-4f8f-be7b-4e804c04d815",
   "metadata": {},
   "outputs": [],
   "source": [
    "yaml_data = yamlLoader.get_yaml_data()"
   ]
  },
  {
   "cell_type": "code",
   "execution_count": 20,
   "id": "be46acab-98ea-467a-997b-8c3e20138733",
   "metadata": {
    "tags": []
   },
   "outputs": [
    {
     "ename": "ValueError",
     "evalue": "list.remove(x): x not in list",
     "output_type": "error",
     "traceback": [
      "\u001b[0;31m---------------------------------------------------------------------------\u001b[0m",
      "\u001b[0;31mValueError\u001b[0m                                Traceback (most recent call last)",
      "\u001b[0;32m/tmp/ipykernel_66070/1613571694.py\u001b[0m in \u001b[0;36m<module>\u001b[0;34m\u001b[0m\n\u001b[0;32m----> 1\u001b[0;31m \u001b[0mlist\u001b[0m\u001b[0;34m(\u001b[0m\u001b[0myaml_data\u001b[0m\u001b[0;34m.\u001b[0m\u001b[0mkeys\u001b[0m\u001b[0;34m(\u001b[0m\u001b[0;34m)\u001b[0m\u001b[0;34m)\u001b[0m\u001b[0;34m.\u001b[0m\u001b[0mremove\u001b[0m\u001b[0;34m(\u001b[0m\u001b[0;36m1\u001b[0m\u001b[0;34m)\u001b[0m\u001b[0;34m\u001b[0m\u001b[0;34m\u001b[0m\u001b[0m\n\u001b[0m",
      "\u001b[0;31mValueError\u001b[0m: list.remove(x): x not in list"
     ]
    }
   ],
   "source": [
    "list(yaml_data.keys()).remove('CoMatch')"
   ]
  },
  {
   "cell_type": "code",
   "execution_count": null,
   "id": "424f13cf-cf1e-4da8-96c0-e6b42d2b695c",
   "metadata": {},
   "outputs": [],
   "source": [
    "list(yaml_data.keys())"
   ]
  },
  {
   "cell_type": "code",
   "execution_count": 18,
   "id": "edbf4dc7-1ea9-4a88-8b83-25f3c5ef47f6",
   "metadata": {},
   "outputs": [],
   "source": [
    "initConfig = {\n",
    "    'algorithm': 'fixmatch',\n",
    "    'net': 'vit_tiny_patch2_32',\n",
    "    'use_pretrain': True, \n",
    "    'pretrain_path': 'https://github.com/microsoft/Semi-supervised-learning/releases/download/v.0.0.0/vit_tiny_patch2_32_mlp_im_1k_32.pth',\n",
    "    'include_lb_to_ulb': False,\n",
    "    'batch_size': 8,\n",
    "    'uratio': 1,\n",
    "    'eval_batch_size':8,\n",
    "    'data_dir': '/root/semi/Semi-supervised-learning/notebooks/data',\n",
    "    'distributed': False,\n",
    "    'gpu': 0,\n",
    "    'num_classes': 2,\n",
    "    'num_train_iter': 1, \n",
    "    'num_eval_iter': 1,   \n",
    "    'num_log_iter': 50, \n",
    "    'epoch': 1, \n",
    "}"
   ]
  },
  {
   "cell_type": "code",
   "execution_count": 19,
   "id": "383b7af9-2c0d-4a25-b2f7-e1623e5060f8",
   "metadata": {},
   "outputs": [
    {
     "name": "stderr",
     "output_type": "stream",
     "text": [
      "2024-09-26 20:11:56,981 - INFO - 正在加载数据集 bank.csv\n",
      "2024-09-26 20:11:57,243 - INFO - 数据集 bank.csv 加载完成，数据集形状为 (41188, 64)\n",
      "2024-09-26 20:11:57,244 - INFO - 正在加载数据集 census.csv\n",
      "2024-09-26 20:11:57,566 - INFO - 数据集 census.csv 加载完成，数据集形状为 (32561, 125)\n",
      "2024-09-26 20:11:57,567 - INFO - 正在加载数据集 credit.csv\n",
      "2024-09-26 20:11:57,813 - INFO - 数据集 credit.csv 加载完成，数据集形状为 (30000, 88)\n",
      "2024-09-26 20:11:57,815 - INFO - 正在运行实验 - 算法: adamatch, 数据集: bank, 隐藏比例: RATIO_0_1\n",
      "2024-09-26 20:11:57,815 - INFO - 配置详情 - 有标签样本数: 500,无标签样本数: 37070,一共1000\n",
      "/bin/sh: 1: netstat: not found\n",
      "2024-09-26 20:11:57,839 - INFO - 训练开始 - 算法: adamatch, 数据集: bank, 隐藏比例: RATIO_0_1, 开始时间: 2024-09-26 20:11:57.839767\n",
      "/root/miniconda3/lib/python3.8/site-packages/semilearn/core/algorithmbase.py:64: FutureWarning: `torch.cuda.amp.GradScaler(args...)` is deprecated. Please use `torch.amp.GradScaler('cuda', args...)` instead.\n",
      "  self.loss_scaler = GradScaler()\n"
     ]
    },
    {
     "name": "stdout",
     "output_type": "stream",
     "text": [
      "Files already downloaded and verified\n",
      "lb count: [250, 250]\n",
      "ulb count: [5000, 5000]\n",
      "Files already downloaded and verified\n",
      "unlabeled data number: 10000, labeled data number 500\n",
      "Create train and test data loaders\n",
      "[!] data loader keys: dict_keys(['train_lb', 'train_ulb', 'eval'])\n",
      "_IncompatibleKeys(missing_keys=['head.weight', 'head.bias'], unexpected_keys=[])\n",
      "Create optimizer and scheduler\n",
      "distribution alignment p_target: tensor([0.5000, 0.5000])\n",
      "Epoch: 0\n"
     ]
    },
    {
     "name": "stderr",
     "output_type": "stream",
     "text": [
      "/root/miniconda3/lib/python3.8/site-packages/sklearn/metrics/_classification.py:1471: UndefinedMetricWarning: Precision is ill-defined and being set to 0.0 in labels with no predicted samples. Use `zero_division` parameter to control this behavior.\n",
      "  _warn_prf(average, modifier, msg_start, len(result))\n",
      "2024-09-26 20:12:02,424 - INFO - confusion matrix\n",
      "2024-09-26 20:12:02,425 - INFO - [[0. 1.]\n",
      " [0. 1.]]\n",
      "2024-09-26 20:12:02,426 - INFO - evaluation metric\n",
      "2024-09-26 20:12:02,426 - INFO - acc: 0.2500\n",
      "2024-09-26 20:12:02,426 - INFO - precision: 0.1250\n",
      "2024-09-26 20:12:02,427 - INFO - recall: 0.5000\n",
      "2024-09-26 20:12:02,427 - INFO - f1: 0.2000\n",
      "2024-09-26 20:12:02,632 - INFO - Best acc 0.2500 at epoch 0\n",
      "2024-09-26 20:12:02,633 - INFO - Training finished.\n"
     ]
    },
    {
     "name": "stdout",
     "output_type": "stream",
     "text": [
      "model saved: ./saved_models/classic_cv/adamatch_cifar10_250_0/latest_model.pth\n",
      "model saved: ./saved_models/classic_cv/adamatch_cifar10_250_0/model_best.pth\n"
     ]
    },
    {
     "name": "stderr",
     "output_type": "stream",
     "text": [
      "/root/miniconda3/lib/python3.8/site-packages/sklearn/metrics/_classification.py:1471: UndefinedMetricWarning: Precision is ill-defined and being set to 0.0 in labels with no predicted samples. Use `zero_division` parameter to control this behavior.\n",
      "  _warn_prf(average, modifier, msg_start, len(result))\n",
      "2024-09-26 20:12:02,911 - INFO - confusion matrix\n",
      "2024-09-26 20:12:02,911 - INFO - [[0. 1.]\n",
      " [0. 1.]]\n",
      "2024-09-26 20:12:02,912 - INFO - evaluation metric\n",
      "2024-09-26 20:12:02,912 - INFO - acc: 0.2500\n",
      "2024-09-26 20:12:02,913 - INFO - precision: 0.1250\n",
      "2024-09-26 20:12:02,913 - INFO - recall: 0.5000\n",
      "2024-09-26 20:12:02,913 - INFO - f1: 0.2000\n",
      "2024-09-26 20:12:02,917 - INFO - 训练结束 - 算法: adamatch, 数据集: bank, 隐藏比例: RATIO_0_1, 结束时间: 2024-09-26 20:12:02.917898\n",
      "2024-09-26 20:12:02,918 - INFO - 训练时长: 0:00:05.078131\n",
      "2024-09-26 20:12:02,918 - INFO - 结果已存储 - 算法: adamatch, 数据集: bank, 隐藏比例: RATIO_0_1\n",
      "2024-09-26 20:12:02,919 - INFO - 正在运行实验 - 算法: adamatch, 数据集: bank, 隐藏比例: RATIO_0_2\n",
      "2024-09-26 20:12:02,919 - INFO - 配置详情 - 有标签样本数: 1000,无标签样本数: 32950,一共2000\n",
      "/bin/sh: 1: netstat: not found\n",
      "2024-09-26 20:12:02,958 - INFO - 训练开始 - 算法: adamatch, 数据集: bank, 隐藏比例: RATIO_0_2, 开始时间: 2024-09-26 20:12:02.958530\n",
      "/root/miniconda3/lib/python3.8/site-packages/semilearn/core/algorithmbase.py:64: FutureWarning: `torch.cuda.amp.GradScaler(args...)` is deprecated. Please use `torch.amp.GradScaler('cuda', args...)` instead.\n",
      "  self.loss_scaler = GradScaler()\n"
     ]
    },
    {
     "name": "stdout",
     "output_type": "stream",
     "text": [
      "Files already downloaded and verified\n",
      "lb count: [500, 500]\n",
      "ulb count: [5000, 5000]\n",
      "Files already downloaded and verified\n",
      "unlabeled data number: 10000, labeled data number 1000\n",
      "Create train and test data loaders\n",
      "[!] data loader keys: dict_keys(['train_lb', 'train_ulb', 'eval'])\n",
      "_IncompatibleKeys(missing_keys=['head.weight', 'head.bias'], unexpected_keys=[])\n",
      "Create optimizer and scheduler\n",
      "distribution alignment p_target: tensor([0.5000, 0.5000])\n",
      "Epoch: 0\n"
     ]
    },
    {
     "name": "stderr",
     "output_type": "stream",
     "text": [
      "/root/miniconda3/lib/python3.8/site-packages/sklearn/metrics/_classification.py:1471: UndefinedMetricWarning: Precision is ill-defined and being set to 0.0 in labels with no predicted samples. Use `zero_division` parameter to control this behavior.\n",
      "  _warn_prf(average, modifier, msg_start, len(result))\n",
      "2024-09-26 20:12:07,422 - INFO - confusion matrix\n",
      "2024-09-26 20:12:07,423 - INFO - [[1. 0.]\n",
      " [1. 0.]]\n",
      "2024-09-26 20:12:07,424 - INFO - evaluation metric\n",
      "2024-09-26 20:12:07,425 - INFO - acc: 0.3750\n",
      "2024-09-26 20:12:07,425 - INFO - precision: 0.1875\n",
      "2024-09-26 20:12:07,426 - INFO - recall: 0.5000\n",
      "2024-09-26 20:12:07,426 - INFO - f1: 0.2727\n",
      "2024-09-26 20:12:07,837 - INFO - Best acc 0.3750 at epoch 0\n",
      "2024-09-26 20:12:07,837 - INFO - Training finished.\n"
     ]
    },
    {
     "name": "stdout",
     "output_type": "stream",
     "text": [
      "model saved: ./saved_models/classic_cv/adamatch_cifar10_250_0/latest_model.pth\n",
      "model saved: ./saved_models/classic_cv/adamatch_cifar10_250_0/model_best.pth\n"
     ]
    },
    {
     "name": "stderr",
     "output_type": "stream",
     "text": [
      "/root/miniconda3/lib/python3.8/site-packages/sklearn/metrics/_classification.py:1471: UndefinedMetricWarning: Precision is ill-defined and being set to 0.0 in labels with no predicted samples. Use `zero_division` parameter to control this behavior.\n",
      "  _warn_prf(average, modifier, msg_start, len(result))\n",
      "2024-09-26 20:12:08,116 - INFO - confusion matrix\n",
      "2024-09-26 20:12:08,116 - INFO - [[1. 0.]\n",
      " [1. 0.]]\n",
      "2024-09-26 20:12:08,117 - INFO - evaluation metric\n",
      "2024-09-26 20:12:08,118 - INFO - acc: 0.3750\n",
      "2024-09-26 20:12:08,118 - INFO - precision: 0.1875\n",
      "2024-09-26 20:12:08,118 - INFO - recall: 0.5000\n",
      "2024-09-26 20:12:08,119 - INFO - f1: 0.2727\n",
      "2024-09-26 20:12:08,125 - INFO - 训练结束 - 算法: adamatch, 数据集: bank, 隐藏比例: RATIO_0_2, 结束时间: 2024-09-26 20:12:08.125870\n",
      "2024-09-26 20:12:08,126 - INFO - 训练时长: 0:00:05.167340\n",
      "2024-09-26 20:12:08,126 - INFO - 结果已存储 - 算法: adamatch, 数据集: bank, 隐藏比例: RATIO_0_2\n",
      "2024-09-26 20:12:08,127 - INFO - 正在运行实验 - 算法: adamatch, 数据集: bank, 隐藏比例: RATIO_0_3\n",
      "2024-09-26 20:12:08,127 - INFO - 配置详情 - 有标签样本数: 1500,无标签样本数: 28832,一共3000\n",
      "/bin/sh: 1: netstat: not found\n",
      "2024-09-26 20:12:08,159 - INFO - 训练开始 - 算法: adamatch, 数据集: bank, 隐藏比例: RATIO_0_3, 开始时间: 2024-09-26 20:12:08.159367\n",
      "/root/miniconda3/lib/python3.8/site-packages/semilearn/core/algorithmbase.py:64: FutureWarning: `torch.cuda.amp.GradScaler(args...)` is deprecated. Please use `torch.amp.GradScaler('cuda', args...)` instead.\n",
      "  self.loss_scaler = GradScaler()\n"
     ]
    },
    {
     "name": "stdout",
     "output_type": "stream",
     "text": [
      "Files already downloaded and verified\n",
      "lb count: [750, 750]\n",
      "ulb count: [5000, 5000]\n",
      "Files already downloaded and verified\n",
      "unlabeled data number: 10000, labeled data number 1500\n",
      "Create train and test data loaders\n",
      "[!] data loader keys: dict_keys(['train_lb', 'train_ulb', 'eval'])\n",
      "_IncompatibleKeys(missing_keys=['head.weight', 'head.bias'], unexpected_keys=[])\n",
      "Create optimizer and scheduler\n",
      "distribution alignment p_target: tensor([0.5000, 0.5000])\n",
      "Epoch: 0\n"
     ]
    },
    {
     "name": "stderr",
     "output_type": "stream",
     "text": [
      "/root/miniconda3/lib/python3.8/site-packages/sklearn/metrics/_classification.py:1471: UndefinedMetricWarning: Precision is ill-defined and being set to 0.0 in labels with no predicted samples. Use `zero_division` parameter to control this behavior.\n",
      "  _warn_prf(average, modifier, msg_start, len(result))\n",
      "2024-09-26 20:12:12,328 - INFO - confusion matrix\n",
      "2024-09-26 20:12:12,329 - INFO - [[0. 1.]\n",
      " [0. 1.]]\n",
      "2024-09-26 20:12:12,330 - INFO - evaluation metric\n",
      "2024-09-26 20:12:12,331 - INFO - acc: 0.2500\n",
      "2024-09-26 20:12:12,331 - INFO - precision: 0.1250\n",
      "2024-09-26 20:12:12,332 - INFO - recall: 0.5000\n",
      "2024-09-26 20:12:12,332 - INFO - f1: 0.2000\n",
      "2024-09-26 20:12:12,576 - INFO - Best acc 0.2500 at epoch 0\n",
      "2024-09-26 20:12:12,577 - INFO - Training finished.\n"
     ]
    },
    {
     "name": "stdout",
     "output_type": "stream",
     "text": [
      "model saved: ./saved_models/classic_cv/adamatch_cifar10_250_0/latest_model.pth\n",
      "model saved: ./saved_models/classic_cv/adamatch_cifar10_250_0/model_best.pth\n"
     ]
    },
    {
     "name": "stderr",
     "output_type": "stream",
     "text": [
      "/root/miniconda3/lib/python3.8/site-packages/sklearn/metrics/_classification.py:1471: UndefinedMetricWarning: Precision is ill-defined and being set to 0.0 in labels with no predicted samples. Use `zero_division` parameter to control this behavior.\n",
      "  _warn_prf(average, modifier, msg_start, len(result))\n",
      "2024-09-26 20:12:12,833 - INFO - confusion matrix\n",
      "2024-09-26 20:12:12,834 - INFO - [[0. 1.]\n",
      " [0. 1.]]\n",
      "2024-09-26 20:12:12,835 - INFO - evaluation metric\n",
      "2024-09-26 20:12:12,836 - INFO - acc: 0.2500\n",
      "2024-09-26 20:12:12,836 - INFO - precision: 0.1250\n",
      "2024-09-26 20:12:12,837 - INFO - recall: 0.5000\n",
      "2024-09-26 20:12:12,837 - INFO - f1: 0.2000\n",
      "2024-09-26 20:12:12,845 - INFO - 训练结束 - 算法: adamatch, 数据集: bank, 隐藏比例: RATIO_0_3, 结束时间: 2024-09-26 20:12:12.845112\n",
      "2024-09-26 20:12:12,845 - INFO - 训练时长: 0:00:04.685745\n",
      "2024-09-26 20:12:12,846 - INFO - 结果已存储 - 算法: adamatch, 数据集: bank, 隐藏比例: RATIO_0_3\n",
      "2024-09-26 20:12:12,846 - INFO - 正在运行实验 - 算法: adamatch, 数据集: bank, 隐藏比例: RATIO_0_4\n",
      "2024-09-26 20:12:12,847 - INFO - 配置详情 - 有标签样本数: 2000,无标签样本数: 24712,一共4000\n",
      "/bin/sh: 1: netstat: not found\n",
      "2024-09-26 20:12:12,882 - INFO - 训练开始 - 算法: adamatch, 数据集: bank, 隐藏比例: RATIO_0_4, 开始时间: 2024-09-26 20:12:12.882656\n",
      "/root/miniconda3/lib/python3.8/site-packages/semilearn/core/algorithmbase.py:64: FutureWarning: `torch.cuda.amp.GradScaler(args...)` is deprecated. Please use `torch.amp.GradScaler('cuda', args...)` instead.\n",
      "  self.loss_scaler = GradScaler()\n"
     ]
    },
    {
     "name": "stdout",
     "output_type": "stream",
     "text": [
      "Files already downloaded and verified\n",
      "lb count: [1000, 1000]\n",
      "ulb count: [5000, 5000]\n",
      "Files already downloaded and verified\n",
      "unlabeled data number: 10000, labeled data number 2000\n",
      "Create train and test data loaders\n",
      "[!] data loader keys: dict_keys(['train_lb', 'train_ulb', 'eval'])\n",
      "_IncompatibleKeys(missing_keys=['head.weight', 'head.bias'], unexpected_keys=[])\n",
      "Create optimizer and scheduler\n",
      "distribution alignment p_target: tensor([0.5000, 0.5000])\n",
      "Epoch: 0\n"
     ]
    },
    {
     "name": "stderr",
     "output_type": "stream",
     "text": [
      "/root/miniconda3/lib/python3.8/site-packages/sklearn/metrics/_classification.py:1471: UndefinedMetricWarning: Precision is ill-defined and being set to 0.0 in labels with no predicted samples. Use `zero_division` parameter to control this behavior.\n",
      "  _warn_prf(average, modifier, msg_start, len(result))\n",
      "2024-09-26 20:12:17,119 - INFO - confusion matrix\n",
      "2024-09-26 20:12:17,120 - INFO - [[0. 1.]\n",
      " [0. 1.]]\n",
      "2024-09-26 20:12:17,121 - INFO - evaluation metric\n",
      "2024-09-26 20:12:17,122 - INFO - acc: 0.7500\n",
      "2024-09-26 20:12:17,122 - INFO - precision: 0.3750\n",
      "2024-09-26 20:12:17,123 - INFO - recall: 0.5000\n",
      "2024-09-26 20:12:17,123 - INFO - f1: 0.4286\n",
      "2024-09-26 20:12:17,360 - INFO - Best acc 0.7500 at epoch 0\n",
      "2024-09-26 20:12:17,361 - INFO - Training finished.\n"
     ]
    },
    {
     "name": "stdout",
     "output_type": "stream",
     "text": [
      "model saved: ./saved_models/classic_cv/adamatch_cifar10_250_0/latest_model.pth\n",
      "model saved: ./saved_models/classic_cv/adamatch_cifar10_250_0/model_best.pth\n"
     ]
    },
    {
     "name": "stderr",
     "output_type": "stream",
     "text": [
      "/root/miniconda3/lib/python3.8/site-packages/sklearn/metrics/_classification.py:1471: UndefinedMetricWarning: Precision is ill-defined and being set to 0.0 in labels with no predicted samples. Use `zero_division` parameter to control this behavior.\n",
      "  _warn_prf(average, modifier, msg_start, len(result))\n",
      "2024-09-26 20:12:17,620 - INFO - confusion matrix\n",
      "2024-09-26 20:12:17,621 - INFO - [[0. 1.]\n",
      " [0. 1.]]\n",
      "2024-09-26 20:12:17,622 - INFO - evaluation metric\n",
      "2024-09-26 20:12:17,623 - INFO - acc: 0.7500\n",
      "2024-09-26 20:12:17,623 - INFO - precision: 0.3750\n",
      "2024-09-26 20:12:17,624 - INFO - recall: 0.5000\n",
      "2024-09-26 20:12:17,624 - INFO - f1: 0.4286\n",
      "2024-09-26 20:12:17,634 - INFO - 训练结束 - 算法: adamatch, 数据集: bank, 隐藏比例: RATIO_0_4, 结束时间: 2024-09-26 20:12:17.633942\n",
      "2024-09-26 20:12:17,634 - INFO - 训练时长: 0:00:04.751286\n",
      "2024-09-26 20:12:17,634 - INFO - 结果已存储 - 算法: adamatch, 数据集: bank, 隐藏比例: RATIO_0_4\n",
      "2024-09-26 20:12:17,635 - INFO - 正在运行实验 - 算法: adamatch, 数据集: bank, 隐藏比例: RATIO_0_5\n",
      "2024-09-26 20:12:17,635 - INFO - 配置详情 - 有标签样本数: 2500,无标签样本数: 20594,一共5000\n",
      "/bin/sh: 1: netstat: not found\n",
      "2024-09-26 20:12:17,669 - INFO - 训练开始 - 算法: adamatch, 数据集: bank, 隐藏比例: RATIO_0_5, 开始时间: 2024-09-26 20:12:17.669486\n",
      "/root/miniconda3/lib/python3.8/site-packages/semilearn/core/algorithmbase.py:64: FutureWarning: `torch.cuda.amp.GradScaler(args...)` is deprecated. Please use `torch.amp.GradScaler('cuda', args...)` instead.\n",
      "  self.loss_scaler = GradScaler()\n"
     ]
    },
    {
     "name": "stdout",
     "output_type": "stream",
     "text": [
      "Files already downloaded and verified\n",
      "lb count: [1250, 1250]\n",
      "ulb count: [5000, 5000]\n",
      "Files already downloaded and verified\n",
      "unlabeled data number: 10000, labeled data number 2500\n",
      "Create train and test data loaders\n",
      "[!] data loader keys: dict_keys(['train_lb', 'train_ulb', 'eval'])\n",
      "_IncompatibleKeys(missing_keys=['head.weight', 'head.bias'], unexpected_keys=[])\n",
      "Create optimizer and scheduler\n",
      "distribution alignment p_target: tensor([0.5000, 0.5000])\n",
      "Epoch: 0\n"
     ]
    },
    {
     "name": "stderr",
     "output_type": "stream",
     "text": [
      "/root/miniconda3/lib/python3.8/site-packages/sklearn/metrics/_classification.py:1471: UndefinedMetricWarning: Precision is ill-defined and being set to 0.0 in labels with no predicted samples. Use `zero_division` parameter to control this behavior.\n",
      "  _warn_prf(average, modifier, msg_start, len(result))\n",
      "2024-09-26 20:12:22,181 - INFO - confusion matrix\n",
      "2024-09-26 20:12:22,181 - INFO - [[0. 1.]\n",
      " [0. 1.]]\n",
      "2024-09-26 20:12:22,183 - INFO - evaluation metric\n",
      "2024-09-26 20:12:22,184 - INFO - acc: 0.2500\n",
      "2024-09-26 20:12:22,184 - INFO - precision: 0.1250\n",
      "2024-09-26 20:12:22,185 - INFO - recall: 0.5000\n",
      "2024-09-26 20:12:22,185 - INFO - f1: 0.2000\n",
      "2024-09-26 20:12:22,438 - INFO - Best acc 0.2500 at epoch 0\n",
      "2024-09-26 20:12:22,438 - INFO - Training finished.\n"
     ]
    },
    {
     "name": "stdout",
     "output_type": "stream",
     "text": [
      "model saved: ./saved_models/classic_cv/adamatch_cifar10_250_0/latest_model.pth\n",
      "model saved: ./saved_models/classic_cv/adamatch_cifar10_250_0/model_best.pth\n"
     ]
    },
    {
     "name": "stderr",
     "output_type": "stream",
     "text": [
      "/root/miniconda3/lib/python3.8/site-packages/sklearn/metrics/_classification.py:1471: UndefinedMetricWarning: Precision is ill-defined and being set to 0.0 in labels with no predicted samples. Use `zero_division` parameter to control this behavior.\n",
      "  _warn_prf(average, modifier, msg_start, len(result))\n",
      "2024-09-26 20:12:22,721 - INFO - confusion matrix\n",
      "2024-09-26 20:12:22,722 - INFO - [[0. 1.]\n",
      " [0. 1.]]\n",
      "2024-09-26 20:12:22,724 - INFO - evaluation metric\n",
      "2024-09-26 20:12:22,724 - INFO - acc: 0.2500\n",
      "2024-09-26 20:12:22,725 - INFO - precision: 0.1250\n",
      "2024-09-26 20:12:22,725 - INFO - recall: 0.5000\n",
      "2024-09-26 20:12:22,725 - INFO - f1: 0.2000\n",
      "2024-09-26 20:12:22,733 - INFO - 训练结束 - 算法: adamatch, 数据集: bank, 隐藏比例: RATIO_0_5, 结束时间: 2024-09-26 20:12:22.733293\n",
      "2024-09-26 20:12:22,733 - INFO - 训练时长: 0:00:05.063807\n",
      "2024-09-26 20:12:22,734 - INFO - 结果已存储 - 算法: adamatch, 数据集: bank, 隐藏比例: RATIO_0_5\n",
      "2024-09-26 20:12:22,734 - INFO - 正在运行实验 - 算法: adamatch, 数据集: bank, 隐藏比例: RATIO_0_6\n",
      "2024-09-26 20:12:22,735 - INFO - 配置详情 - 有标签样本数: 3000,无标签样本数: 16476,一共6000\n",
      "/bin/sh: 1: netstat: not found\n",
      "2024-09-26 20:12:22,771 - INFO - 训练开始 - 算法: adamatch, 数据集: bank, 隐藏比例: RATIO_0_6, 开始时间: 2024-09-26 20:12:22.771628\n",
      "/root/miniconda3/lib/python3.8/site-packages/semilearn/core/algorithmbase.py:64: FutureWarning: `torch.cuda.amp.GradScaler(args...)` is deprecated. Please use `torch.amp.GradScaler('cuda', args...)` instead.\n",
      "  self.loss_scaler = GradScaler()\n"
     ]
    },
    {
     "name": "stdout",
     "output_type": "stream",
     "text": [
      "Files already downloaded and verified\n",
      "lb count: [1500, 1500]\n",
      "ulb count: [5000, 5000]\n",
      "Files already downloaded and verified\n",
      "unlabeled data number: 10000, labeled data number 3000\n",
      "Create train and test data loaders\n",
      "[!] data loader keys: dict_keys(['train_lb', 'train_ulb', 'eval'])\n",
      "_IncompatibleKeys(missing_keys=['head.weight', 'head.bias'], unexpected_keys=[])\n",
      "Create optimizer and scheduler\n",
      "distribution alignment p_target: tensor([0.5000, 0.5000])\n",
      "Epoch: 0\n"
     ]
    },
    {
     "name": "stderr",
     "output_type": "stream",
     "text": [
      "/root/miniconda3/lib/python3.8/site-packages/sklearn/metrics/_classification.py:1471: UndefinedMetricWarning: Precision is ill-defined and being set to 0.0 in labels with no predicted samples. Use `zero_division` parameter to control this behavior.\n",
      "  _warn_prf(average, modifier, msg_start, len(result))\n",
      "2024-09-26 20:12:26,919 - INFO - confusion matrix\n",
      "2024-09-26 20:12:26,920 - INFO - [[0. 1.]\n",
      " [0. 1.]]\n",
      "2024-09-26 20:12:26,922 - INFO - evaluation metric\n",
      "2024-09-26 20:12:26,922 - INFO - acc: 0.3750\n",
      "2024-09-26 20:12:26,923 - INFO - precision: 0.1875\n",
      "2024-09-26 20:12:26,923 - INFO - recall: 0.5000\n",
      "2024-09-26 20:12:26,924 - INFO - f1: 0.2727\n",
      "2024-09-26 20:12:27,172 - INFO - Best acc 0.3750 at epoch 0\n",
      "2024-09-26 20:12:27,172 - INFO - Training finished.\n"
     ]
    },
    {
     "name": "stdout",
     "output_type": "stream",
     "text": [
      "model saved: ./saved_models/classic_cv/adamatch_cifar10_250_0/latest_model.pth\n",
      "model saved: ./saved_models/classic_cv/adamatch_cifar10_250_0/model_best.pth\n"
     ]
    },
    {
     "name": "stderr",
     "output_type": "stream",
     "text": [
      "/root/miniconda3/lib/python3.8/site-packages/sklearn/metrics/_classification.py:1471: UndefinedMetricWarning: Precision is ill-defined and being set to 0.0 in labels with no predicted samples. Use `zero_division` parameter to control this behavior.\n",
      "  _warn_prf(average, modifier, msg_start, len(result))\n",
      "2024-09-26 20:12:27,415 - INFO - confusion matrix\n",
      "2024-09-26 20:12:27,415 - INFO - [[0. 1.]\n",
      " [0. 1.]]\n",
      "2024-09-26 20:12:27,417 - INFO - evaluation metric\n",
      "2024-09-26 20:12:27,417 - INFO - acc: 0.3750\n",
      "2024-09-26 20:12:27,418 - INFO - precision: 0.1875\n",
      "2024-09-26 20:12:27,418 - INFO - recall: 0.5000\n",
      "2024-09-26 20:12:27,419 - INFO - f1: 0.2727\n",
      "2024-09-26 20:12:27,425 - INFO - 训练结束 - 算法: adamatch, 数据集: bank, 隐藏比例: RATIO_0_6, 结束时间: 2024-09-26 20:12:27.425925\n",
      "2024-09-26 20:12:27,426 - INFO - 训练时长: 0:00:04.654297\n",
      "2024-09-26 20:12:27,426 - INFO - 结果已存储 - 算法: adamatch, 数据集: bank, 隐藏比例: RATIO_0_6\n",
      "2024-09-26 20:12:27,427 - INFO - 正在运行实验 - 算法: adamatch, 数据集: bank, 隐藏比例: RATIO_0_7\n",
      "2024-09-26 20:12:27,427 - INFO - 配置详情 - 有标签样本数: 3500,无标签样本数: 12356,一共7000\n",
      "/bin/sh: 1: netstat: not found\n",
      "2024-09-26 20:12:27,460 - INFO - 训练开始 - 算法: adamatch, 数据集: bank, 隐藏比例: RATIO_0_7, 开始时间: 2024-09-26 20:12:27.460389\n",
      "/root/miniconda3/lib/python3.8/site-packages/semilearn/core/algorithmbase.py:64: FutureWarning: `torch.cuda.amp.GradScaler(args...)` is deprecated. Please use `torch.amp.GradScaler('cuda', args...)` instead.\n",
      "  self.loss_scaler = GradScaler()\n"
     ]
    },
    {
     "name": "stdout",
     "output_type": "stream",
     "text": [
      "Files already downloaded and verified\n",
      "lb count: [1750, 1750]\n",
      "ulb count: [5000, 5000]\n",
      "Files already downloaded and verified\n",
      "unlabeled data number: 10000, labeled data number 3500\n",
      "Create train and test data loaders\n",
      "[!] data loader keys: dict_keys(['train_lb', 'train_ulb', 'eval'])\n",
      "_IncompatibleKeys(missing_keys=['head.weight', 'head.bias'], unexpected_keys=[])\n",
      "Create optimizer and scheduler\n",
      "distribution alignment p_target: tensor([0.5000, 0.5000])\n",
      "Epoch: 0\n"
     ]
    },
    {
     "name": "stderr",
     "output_type": "stream",
     "text": [
      "/root/miniconda3/lib/python3.8/site-packages/sklearn/metrics/_classification.py:1471: UndefinedMetricWarning: Precision is ill-defined and being set to 0.0 in labels with no predicted samples. Use `zero_division` parameter to control this behavior.\n",
      "  _warn_prf(average, modifier, msg_start, len(result))\n",
      "2024-09-26 20:12:31,325 - INFO - confusion matrix\n",
      "2024-09-26 20:12:31,326 - INFO - [[0. 1.]\n",
      " [0. 1.]]\n",
      "2024-09-26 20:12:31,328 - INFO - evaluation metric\n",
      "2024-09-26 20:12:31,328 - INFO - acc: 0.6250\n",
      "2024-09-26 20:12:31,329 - INFO - precision: 0.3125\n",
      "2024-09-26 20:12:31,329 - INFO - recall: 0.5000\n",
      "2024-09-26 20:12:31,330 - INFO - f1: 0.3846\n",
      "2024-09-26 20:12:31,601 - INFO - Best acc 0.6250 at epoch 0\n",
      "2024-09-26 20:12:31,601 - INFO - Training finished.\n"
     ]
    },
    {
     "name": "stdout",
     "output_type": "stream",
     "text": [
      "model saved: ./saved_models/classic_cv/adamatch_cifar10_250_0/latest_model.pth\n",
      "model saved: ./saved_models/classic_cv/adamatch_cifar10_250_0/model_best.pth\n"
     ]
    },
    {
     "name": "stderr",
     "output_type": "stream",
     "text": [
      "/root/miniconda3/lib/python3.8/site-packages/sklearn/metrics/_classification.py:1471: UndefinedMetricWarning: Precision is ill-defined and being set to 0.0 in labels with no predicted samples. Use `zero_division` parameter to control this behavior.\n",
      "  _warn_prf(average, modifier, msg_start, len(result))\n",
      "2024-09-26 20:12:31,822 - INFO - confusion matrix\n",
      "2024-09-26 20:12:31,823 - INFO - [[0. 1.]\n",
      " [0. 1.]]\n",
      "2024-09-26 20:12:31,825 - INFO - evaluation metric\n",
      "2024-09-26 20:12:31,825 - INFO - acc: 0.6250\n",
      "2024-09-26 20:12:31,826 - INFO - precision: 0.3125\n",
      "2024-09-26 20:12:31,826 - INFO - recall: 0.5000\n",
      "2024-09-26 20:12:31,827 - INFO - f1: 0.3846\n",
      "2024-09-26 20:12:31,830 - INFO - 训练结束 - 算法: adamatch, 数据集: bank, 隐藏比例: RATIO_0_7, 结束时间: 2024-09-26 20:12:31.830722\n",
      "2024-09-26 20:12:31,831 - INFO - 训练时长: 0:00:04.370333\n",
      "2024-09-26 20:12:31,831 - INFO - 结果已存储 - 算法: adamatch, 数据集: bank, 隐藏比例: RATIO_0_7\n",
      "2024-09-26 20:12:31,831 - INFO - 正在运行实验 - 算法: adamatch, 数据集: bank, 隐藏比例: RATIO_0_8\n",
      "2024-09-26 20:12:31,832 - INFO - 配置详情 - 有标签样本数: 4000,无标签样本数: 8238,一共8000\n",
      "/bin/sh: 1: netstat: not found\n",
      "2024-09-26 20:12:31,870 - INFO - 训练开始 - 算法: adamatch, 数据集: bank, 隐藏比例: RATIO_0_8, 开始时间: 2024-09-26 20:12:31.870205\n",
      "/root/miniconda3/lib/python3.8/site-packages/semilearn/core/algorithmbase.py:64: FutureWarning: `torch.cuda.amp.GradScaler(args...)` is deprecated. Please use `torch.amp.GradScaler('cuda', args...)` instead.\n",
      "  self.loss_scaler = GradScaler()\n"
     ]
    },
    {
     "name": "stdout",
     "output_type": "stream",
     "text": [
      "Files already downloaded and verified\n",
      "lb count: [2000, 2000]\n",
      "ulb count: [5000, 5000]\n",
      "Files already downloaded and verified\n",
      "unlabeled data number: 10000, labeled data number 4000\n",
      "Create train and test data loaders\n",
      "[!] data loader keys: dict_keys(['train_lb', 'train_ulb', 'eval'])\n",
      "_IncompatibleKeys(missing_keys=['head.weight', 'head.bias'], unexpected_keys=[])\n",
      "Create optimizer and scheduler\n",
      "distribution alignment p_target: tensor([0.5000, 0.5000])\n",
      "Epoch: 0\n"
     ]
    },
    {
     "name": "stderr",
     "output_type": "stream",
     "text": [
      "/root/miniconda3/lib/python3.8/site-packages/sklearn/metrics/_classification.py:1471: UndefinedMetricWarning: Precision is ill-defined and being set to 0.0 in labels with no predicted samples. Use `zero_division` parameter to control this behavior.\n",
      "  _warn_prf(average, modifier, msg_start, len(result))\n",
      "2024-09-26 20:12:35,896 - INFO - confusion matrix\n",
      "2024-09-26 20:12:35,897 - INFO - [[1. 0.]\n",
      " [1. 0.]]\n",
      "2024-09-26 20:12:35,898 - INFO - evaluation metric\n",
      "2024-09-26 20:12:35,899 - INFO - acc: 0.6250\n",
      "2024-09-26 20:12:35,900 - INFO - precision: 0.3125\n",
      "2024-09-26 20:12:35,900 - INFO - recall: 0.5000\n",
      "2024-09-26 20:12:35,901 - INFO - f1: 0.3846\n",
      "2024-09-26 20:12:36,141 - INFO - Best acc 0.6250 at epoch 0\n",
      "2024-09-26 20:12:36,142 - INFO - Training finished.\n"
     ]
    },
    {
     "name": "stdout",
     "output_type": "stream",
     "text": [
      "model saved: ./saved_models/classic_cv/adamatch_cifar10_250_0/latest_model.pth\n",
      "model saved: ./saved_models/classic_cv/adamatch_cifar10_250_0/model_best.pth\n"
     ]
    },
    {
     "name": "stderr",
     "output_type": "stream",
     "text": [
      "/root/miniconda3/lib/python3.8/site-packages/sklearn/metrics/_classification.py:1471: UndefinedMetricWarning: Precision is ill-defined and being set to 0.0 in labels with no predicted samples. Use `zero_division` parameter to control this behavior.\n",
      "  _warn_prf(average, modifier, msg_start, len(result))\n",
      "2024-09-26 20:12:36,414 - INFO - confusion matrix\n",
      "2024-09-26 20:12:36,415 - INFO - [[1. 0.]\n",
      " [1. 0.]]\n",
      "2024-09-26 20:12:36,417 - INFO - evaluation metric\n",
      "2024-09-26 20:12:36,418 - INFO - acc: 0.6250\n",
      "2024-09-26 20:12:36,418 - INFO - precision: 0.3125\n",
      "2024-09-26 20:12:36,419 - INFO - recall: 0.5000\n",
      "2024-09-26 20:12:36,420 - INFO - f1: 0.3846\n",
      "2024-09-26 20:12:36,429 - INFO - 训练结束 - 算法: adamatch, 数据集: bank, 隐藏比例: RATIO_0_8, 结束时间: 2024-09-26 20:12:36.429188\n",
      "2024-09-26 20:12:36,429 - INFO - 训练时长: 0:00:04.558983\n",
      "2024-09-26 20:12:36,430 - INFO - 结果已存储 - 算法: adamatch, 数据集: bank, 隐藏比例: RATIO_0_8\n",
      "2024-09-26 20:12:36,430 - INFO - 正在运行实验 - 算法: adamatch, 数据集: bank, 隐藏比例: RATIO_0_9\n",
      "2024-09-26 20:12:36,431 - INFO - 配置详情 - 有标签样本数: 4500,无标签样本数: 4118,一共9000\n",
      "/bin/sh: 1: netstat: not found\n",
      "2024-09-26 20:12:36,462 - INFO - 训练开始 - 算法: adamatch, 数据集: bank, 隐藏比例: RATIO_0_9, 开始时间: 2024-09-26 20:12:36.462520\n",
      "/root/miniconda3/lib/python3.8/site-packages/semilearn/core/algorithmbase.py:64: FutureWarning: `torch.cuda.amp.GradScaler(args...)` is deprecated. Please use `torch.amp.GradScaler('cuda', args...)` instead.\n",
      "  self.loss_scaler = GradScaler()\n"
     ]
    },
    {
     "name": "stdout",
     "output_type": "stream",
     "text": [
      "Files already downloaded and verified\n",
      "lb count: [2250, 2250]\n",
      "ulb count: [4309, 4309]\n",
      "Files already downloaded and verified\n",
      "unlabeled data number: 8618, labeled data number 4500\n",
      "Create train and test data loaders\n",
      "[!] data loader keys: dict_keys(['train_lb', 'train_ulb', 'eval'])\n",
      "_IncompatibleKeys(missing_keys=['head.weight', 'head.bias'], unexpected_keys=[])\n",
      "Create optimizer and scheduler\n",
      "distribution alignment p_target: tensor([0.5000, 0.5000])\n",
      "Epoch: 0\n"
     ]
    },
    {
     "name": "stderr",
     "output_type": "stream",
     "text": [
      "/root/miniconda3/lib/python3.8/site-packages/sklearn/metrics/_classification.py:1471: UndefinedMetricWarning: Precision is ill-defined and being set to 0.0 in labels with no predicted samples. Use `zero_division` parameter to control this behavior.\n",
      "  _warn_prf(average, modifier, msg_start, len(result))\n",
      "2024-09-26 20:12:40,228 - INFO - confusion matrix\n",
      "2024-09-26 20:12:40,229 - INFO - [[0. 1.]\n",
      " [0. 1.]]\n",
      "2024-09-26 20:12:40,231 - INFO - evaluation metric\n",
      "2024-09-26 20:12:40,232 - INFO - acc: 0.3750\n",
      "2024-09-26 20:12:40,233 - INFO - precision: 0.1875\n",
      "2024-09-26 20:12:40,233 - INFO - recall: 0.5000\n",
      "2024-09-26 20:12:40,234 - INFO - f1: 0.2727\n",
      "2024-09-26 20:12:40,479 - INFO - Best acc 0.3750 at epoch 0\n",
      "2024-09-26 20:12:40,480 - INFO - Training finished.\n"
     ]
    },
    {
     "name": "stdout",
     "output_type": "stream",
     "text": [
      "model saved: ./saved_models/classic_cv/adamatch_cifar10_250_0/latest_model.pth\n",
      "model saved: ./saved_models/classic_cv/adamatch_cifar10_250_0/model_best.pth\n"
     ]
    },
    {
     "name": "stderr",
     "output_type": "stream",
     "text": [
      "/root/miniconda3/lib/python3.8/site-packages/sklearn/metrics/_classification.py:1471: UndefinedMetricWarning: Precision is ill-defined and being set to 0.0 in labels with no predicted samples. Use `zero_division` parameter to control this behavior.\n",
      "  _warn_prf(average, modifier, msg_start, len(result))\n",
      "2024-09-26 20:12:40,716 - INFO - confusion matrix\n",
      "2024-09-26 20:12:40,717 - INFO - [[0. 1.]\n",
      " [0. 1.]]\n",
      "2024-09-26 20:12:40,719 - INFO - evaluation metric\n",
      "2024-09-26 20:12:40,720 - INFO - acc: 0.3750\n",
      "2024-09-26 20:12:40,721 - INFO - precision: 0.1875\n",
      "2024-09-26 20:12:40,721 - INFO - recall: 0.5000\n",
      "2024-09-26 20:12:40,722 - INFO - f1: 0.2727\n",
      "2024-09-26 20:12:40,726 - INFO - 训练结束 - 算法: adamatch, 数据集: bank, 隐藏比例: RATIO_0_9, 结束时间: 2024-09-26 20:12:40.726111\n",
      "2024-09-26 20:12:40,726 - INFO - 训练时长: 0:00:04.263591\n",
      "2024-09-26 20:12:40,727 - INFO - 结果已存储 - 算法: adamatch, 数据集: bank, 隐藏比例: RATIO_0_9\n",
      "2024-09-26 20:12:40,727 - INFO - 正在运行实验 - 算法: adamatch, 数据集: census, 隐藏比例: RATIO_0_1\n",
      "2024-09-26 20:12:40,727 - INFO - 配置详情 - 有标签样本数: 500,无标签样本数: 29304,一共1000\n",
      "/bin/sh: 1: netstat: not found\n",
      "2024-09-26 20:12:40,761 - INFO - 训练开始 - 算法: adamatch, 数据集: census, 隐藏比例: RATIO_0_1, 开始时间: 2024-09-26 20:12:40.761368\n",
      "/root/miniconda3/lib/python3.8/site-packages/semilearn/core/algorithmbase.py:64: FutureWarning: `torch.cuda.amp.GradScaler(args...)` is deprecated. Please use `torch.amp.GradScaler('cuda', args...)` instead.\n",
      "  self.loss_scaler = GradScaler()\n"
     ]
    },
    {
     "name": "stdout",
     "output_type": "stream",
     "text": [
      "Files already downloaded and verified\n",
      "lb count: [250, 250]\n",
      "ulb count: [5000, 5000]\n",
      "Files already downloaded and verified\n",
      "unlabeled data number: 10000, labeled data number 500\n",
      "Create train and test data loaders\n",
      "[!] data loader keys: dict_keys(['train_lb', 'train_ulb', 'eval'])\n",
      "_IncompatibleKeys(missing_keys=['head.weight', 'head.bias'], unexpected_keys=[])\n",
      "Create optimizer and scheduler\n",
      "distribution alignment p_target: tensor([0.5000, 0.5000])\n",
      "Epoch: 0\n"
     ]
    },
    {
     "name": "stderr",
     "output_type": "stream",
     "text": [
      "/root/miniconda3/lib/python3.8/site-packages/sklearn/metrics/_classification.py:1471: UndefinedMetricWarning: Precision is ill-defined and being set to 0.0 in labels with no predicted samples. Use `zero_division` parameter to control this behavior.\n",
      "  _warn_prf(average, modifier, msg_start, len(result))\n",
      "2024-09-26 20:12:44,436 - INFO - confusion matrix\n",
      "2024-09-26 20:12:44,437 - INFO - [[1. 0.]\n",
      " [1. 0.]]\n",
      "2024-09-26 20:12:44,440 - INFO - evaluation metric\n",
      "2024-09-26 20:12:44,440 - INFO - acc: 0.7500\n",
      "2024-09-26 20:12:44,441 - INFO - precision: 0.3750\n",
      "2024-09-26 20:12:44,441 - INFO - recall: 0.5000\n",
      "2024-09-26 20:12:44,442 - INFO - f1: 0.4286\n",
      "2024-09-26 20:12:44,695 - INFO - Best acc 0.7500 at epoch 0\n",
      "2024-09-26 20:12:44,696 - INFO - Training finished.\n"
     ]
    },
    {
     "name": "stdout",
     "output_type": "stream",
     "text": [
      "model saved: ./saved_models/classic_cv/adamatch_cifar10_250_0/latest_model.pth\n",
      "model saved: ./saved_models/classic_cv/adamatch_cifar10_250_0/model_best.pth\n"
     ]
    },
    {
     "name": "stderr",
     "output_type": "stream",
     "text": [
      "/root/miniconda3/lib/python3.8/site-packages/sklearn/metrics/_classification.py:1471: UndefinedMetricWarning: Precision is ill-defined and being set to 0.0 in labels with no predicted samples. Use `zero_division` parameter to control this behavior.\n",
      "  _warn_prf(average, modifier, msg_start, len(result))\n",
      "2024-09-26 20:12:44,916 - INFO - confusion matrix\n",
      "2024-09-26 20:12:44,917 - INFO - [[1. 0.]\n",
      " [1. 0.]]\n",
      "2024-09-26 20:12:44,919 - INFO - evaluation metric\n",
      "2024-09-26 20:12:44,919 - INFO - acc: 0.7500\n",
      "2024-09-26 20:12:44,920 - INFO - precision: 0.3750\n",
      "2024-09-26 20:12:44,921 - INFO - recall: 0.5000\n",
      "2024-09-26 20:12:44,921 - INFO - f1: 0.4286\n",
      "2024-09-26 20:12:44,932 - INFO - 训练结束 - 算法: adamatch, 数据集: census, 隐藏比例: RATIO_0_1, 结束时间: 2024-09-26 20:12:44.932570\n",
      "2024-09-26 20:12:44,933 - INFO - 训练时长: 0:00:04.171202\n",
      "2024-09-26 20:12:44,933 - INFO - 结果已存储 - 算法: adamatch, 数据集: census, 隐藏比例: RATIO_0_1\n",
      "2024-09-26 20:12:44,934 - INFO - 正在运行实验 - 算法: adamatch, 数据集: census, 隐藏比例: RATIO_0_2\n",
      "2024-09-26 20:12:44,935 - INFO - 配置详情 - 有标签样本数: 1000,无标签样本数: 26048,一共2000\n",
      "/bin/sh: 1: netstat: not found\n",
      "2024-09-26 20:12:44,971 - INFO - 训练开始 - 算法: adamatch, 数据集: census, 隐藏比例: RATIO_0_2, 开始时间: 2024-09-26 20:12:44.971388\n",
      "/root/miniconda3/lib/python3.8/site-packages/semilearn/core/algorithmbase.py:64: FutureWarning: `torch.cuda.amp.GradScaler(args...)` is deprecated. Please use `torch.amp.GradScaler('cuda', args...)` instead.\n",
      "  self.loss_scaler = GradScaler()\n"
     ]
    },
    {
     "name": "stdout",
     "output_type": "stream",
     "text": [
      "Files already downloaded and verified\n",
      "lb count: [500, 500]\n",
      "ulb count: [5000, 5000]\n",
      "Files already downloaded and verified\n",
      "unlabeled data number: 10000, labeled data number 1000\n",
      "Create train and test data loaders\n",
      "[!] data loader keys: dict_keys(['train_lb', 'train_ulb', 'eval'])\n",
      "_IncompatibleKeys(missing_keys=['head.weight', 'head.bias'], unexpected_keys=[])\n",
      "Create optimizer and scheduler\n",
      "distribution alignment p_target: tensor([0.5000, 0.5000])\n",
      "Epoch: 0\n"
     ]
    },
    {
     "name": "stderr",
     "output_type": "stream",
     "text": [
      "/root/miniconda3/lib/python3.8/site-packages/sklearn/metrics/_classification.py:1471: UndefinedMetricWarning: Precision is ill-defined and being set to 0.0 in labels with no predicted samples. Use `zero_division` parameter to control this behavior.\n",
      "  _warn_prf(average, modifier, msg_start, len(result))\n",
      "2024-09-26 20:12:48,716 - INFO - confusion matrix\n",
      "2024-09-26 20:12:48,717 - INFO - [[1. 0.]\n",
      " [1. 0.]]\n",
      "2024-09-26 20:12:48,719 - INFO - evaluation metric\n",
      "2024-09-26 20:12:48,720 - INFO - acc: 0.3750\n",
      "2024-09-26 20:12:48,721 - INFO - precision: 0.1875\n",
      "2024-09-26 20:12:48,721 - INFO - recall: 0.5000\n",
      "2024-09-26 20:12:48,722 - INFO - f1: 0.2727\n",
      "2024-09-26 20:12:48,965 - INFO - Best acc 0.3750 at epoch 0\n",
      "2024-09-26 20:12:48,966 - INFO - Training finished.\n"
     ]
    },
    {
     "name": "stdout",
     "output_type": "stream",
     "text": [
      "model saved: ./saved_models/classic_cv/adamatch_cifar10_250_0/latest_model.pth\n",
      "model saved: ./saved_models/classic_cv/adamatch_cifar10_250_0/model_best.pth\n"
     ]
    },
    {
     "name": "stderr",
     "output_type": "stream",
     "text": [
      "/root/miniconda3/lib/python3.8/site-packages/sklearn/metrics/_classification.py:1471: UndefinedMetricWarning: Precision is ill-defined and being set to 0.0 in labels with no predicted samples. Use `zero_division` parameter to control this behavior.\n",
      "  _warn_prf(average, modifier, msg_start, len(result))\n",
      "2024-09-26 20:12:49,214 - INFO - confusion matrix\n",
      "2024-09-26 20:12:49,215 - INFO - [[1. 0.]\n",
      " [1. 0.]]\n",
      "2024-09-26 20:12:49,217 - INFO - evaluation metric\n",
      "2024-09-26 20:12:49,217 - INFO - acc: 0.3750\n",
      "2024-09-26 20:12:49,218 - INFO - precision: 0.1875\n",
      "2024-09-26 20:12:49,218 - INFO - recall: 0.5000\n",
      "2024-09-26 20:12:49,219 - INFO - f1: 0.2727\n",
      "2024-09-26 20:12:49,223 - INFO - 训练结束 - 算法: adamatch, 数据集: census, 隐藏比例: RATIO_0_2, 结束时间: 2024-09-26 20:12:49.223307\n",
      "2024-09-26 20:12:49,223 - INFO - 训练时长: 0:00:04.251919\n",
      "2024-09-26 20:12:49,224 - INFO - 结果已存储 - 算法: adamatch, 数据集: census, 隐藏比例: RATIO_0_2\n",
      "2024-09-26 20:12:49,224 - INFO - 正在运行实验 - 算法: adamatch, 数据集: census, 隐藏比例: RATIO_0_3\n",
      "2024-09-26 20:12:49,224 - INFO - 配置详情 - 有标签样本数: 1500,无标签样本数: 22792,一共3000\n",
      "/bin/sh: 1: netstat: not found\n",
      "2024-09-26 20:12:49,259 - INFO - 训练开始 - 算法: adamatch, 数据集: census, 隐藏比例: RATIO_0_3, 开始时间: 2024-09-26 20:12:49.259881\n",
      "/root/miniconda3/lib/python3.8/site-packages/semilearn/core/algorithmbase.py:64: FutureWarning: `torch.cuda.amp.GradScaler(args...)` is deprecated. Please use `torch.amp.GradScaler('cuda', args...)` instead.\n",
      "  self.loss_scaler = GradScaler()\n"
     ]
    },
    {
     "name": "stdout",
     "output_type": "stream",
     "text": [
      "Files already downloaded and verified\n",
      "lb count: [750, 750]\n",
      "ulb count: [5000, 5000]\n",
      "Files already downloaded and verified\n",
      "unlabeled data number: 10000, labeled data number 1500\n",
      "Create train and test data loaders\n",
      "[!] data loader keys: dict_keys(['train_lb', 'train_ulb', 'eval'])\n",
      "_IncompatibleKeys(missing_keys=['head.weight', 'head.bias'], unexpected_keys=[])\n",
      "Create optimizer and scheduler\n",
      "distribution alignment p_target: tensor([0.5000, 0.5000])\n",
      "Epoch: 0\n"
     ]
    },
    {
     "name": "stderr",
     "output_type": "stream",
     "text": [
      "/root/miniconda3/lib/python3.8/site-packages/sklearn/metrics/_classification.py:1471: UndefinedMetricWarning: Precision is ill-defined and being set to 0.0 in labels with no predicted samples. Use `zero_division` parameter to control this behavior.\n",
      "  _warn_prf(average, modifier, msg_start, len(result))\n",
      "2024-09-26 20:12:52,738 - INFO - confusion matrix\n",
      "2024-09-26 20:12:52,739 - INFO - [[1. 0.]\n",
      " [1. 0.]]\n",
      "2024-09-26 20:12:52,742 - INFO - evaluation metric\n",
      "2024-09-26 20:12:52,742 - INFO - acc: 0.7500\n",
      "2024-09-26 20:12:52,743 - INFO - precision: 0.3750\n",
      "2024-09-26 20:12:52,743 - INFO - recall: 0.5000\n",
      "2024-09-26 20:12:52,744 - INFO - f1: 0.4286\n",
      "2024-09-26 20:12:53,028 - INFO - Best acc 0.7500 at epoch 0\n",
      "2024-09-26 20:12:53,029 - INFO - Training finished.\n"
     ]
    },
    {
     "name": "stdout",
     "output_type": "stream",
     "text": [
      "model saved: ./saved_models/classic_cv/adamatch_cifar10_250_0/latest_model.pth\n",
      "model saved: ./saved_models/classic_cv/adamatch_cifar10_250_0/model_best.pth\n"
     ]
    },
    {
     "name": "stderr",
     "output_type": "stream",
     "text": [
      "/root/miniconda3/lib/python3.8/site-packages/sklearn/metrics/_classification.py:1471: UndefinedMetricWarning: Precision is ill-defined and being set to 0.0 in labels with no predicted samples. Use `zero_division` parameter to control this behavior.\n",
      "  _warn_prf(average, modifier, msg_start, len(result))\n",
      "2024-09-26 20:12:53,316 - INFO - confusion matrix\n",
      "2024-09-26 20:12:53,317 - INFO - [[1. 0.]\n",
      " [1. 0.]]\n",
      "2024-09-26 20:12:53,320 - INFO - evaluation metric\n",
      "2024-09-26 20:12:53,320 - INFO - acc: 0.7500\n",
      "2024-09-26 20:12:53,321 - INFO - precision: 0.3750\n",
      "2024-09-26 20:12:53,321 - INFO - recall: 0.5000\n",
      "2024-09-26 20:12:53,322 - INFO - f1: 0.4286\n",
      "2024-09-26 20:12:53,327 - INFO - 训练结束 - 算法: adamatch, 数据集: census, 隐藏比例: RATIO_0_3, 结束时间: 2024-09-26 20:12:53.327006\n",
      "2024-09-26 20:12:53,327 - INFO - 训练时长: 0:00:04.067125\n",
      "2024-09-26 20:12:53,327 - INFO - 结果已存储 - 算法: adamatch, 数据集: census, 隐藏比例: RATIO_0_3\n",
      "2024-09-26 20:12:53,328 - INFO - 正在运行实验 - 算法: adamatch, 数据集: census, 隐藏比例: RATIO_0_4\n",
      "2024-09-26 20:12:53,328 - INFO - 配置详情 - 有标签样本数: 2000,无标签样本数: 19536,一共4000\n",
      "/bin/sh: 1: netstat: not found\n",
      "2024-09-26 20:12:53,365 - INFO - 训练开始 - 算法: adamatch, 数据集: census, 隐藏比例: RATIO_0_4, 开始时间: 2024-09-26 20:12:53.365195\n",
      "/root/miniconda3/lib/python3.8/site-packages/semilearn/core/algorithmbase.py:64: FutureWarning: `torch.cuda.amp.GradScaler(args...)` is deprecated. Please use `torch.amp.GradScaler('cuda', args...)` instead.\n",
      "  self.loss_scaler = GradScaler()\n"
     ]
    },
    {
     "name": "stdout",
     "output_type": "stream",
     "text": [
      "Files already downloaded and verified\n",
      "lb count: [1000, 1000]\n",
      "ulb count: [5000, 5000]\n",
      "Files already downloaded and verified\n",
      "unlabeled data number: 10000, labeled data number 2000\n",
      "Create train and test data loaders\n",
      "[!] data loader keys: dict_keys(['train_lb', 'train_ulb', 'eval'])\n",
      "_IncompatibleKeys(missing_keys=['head.weight', 'head.bias'], unexpected_keys=[])\n",
      "Create optimizer and scheduler\n",
      "distribution alignment p_target: tensor([0.5000, 0.5000])\n",
      "Epoch: 0\n"
     ]
    },
    {
     "name": "stderr",
     "output_type": "stream",
     "text": [
      "/root/miniconda3/lib/python3.8/site-packages/sklearn/metrics/_classification.py:1471: UndefinedMetricWarning: Precision is ill-defined and being set to 0.0 in labels with no predicted samples. Use `zero_division` parameter to control this behavior.\n",
      "  _warn_prf(average, modifier, msg_start, len(result))\n",
      "2024-09-26 20:12:56,727 - INFO - confusion matrix\n",
      "2024-09-26 20:12:56,728 - INFO - [[1. 0.]\n",
      " [1. 0.]]\n",
      "2024-09-26 20:12:56,730 - INFO - evaluation metric\n",
      "2024-09-26 20:12:56,731 - INFO - acc: 0.2500\n",
      "2024-09-26 20:12:56,731 - INFO - precision: 0.1250\n",
      "2024-09-26 20:12:56,732 - INFO - recall: 0.5000\n",
      "2024-09-26 20:12:56,733 - INFO - f1: 0.2000\n",
      "2024-09-26 20:12:56,981 - INFO - Best acc 0.2500 at epoch 0\n",
      "2024-09-26 20:12:56,981 - INFO - Training finished.\n"
     ]
    },
    {
     "name": "stdout",
     "output_type": "stream",
     "text": [
      "model saved: ./saved_models/classic_cv/adamatch_cifar10_250_0/latest_model.pth\n",
      "model saved: ./saved_models/classic_cv/adamatch_cifar10_250_0/model_best.pth\n"
     ]
    },
    {
     "name": "stderr",
     "output_type": "stream",
     "text": [
      "/root/miniconda3/lib/python3.8/site-packages/sklearn/metrics/_classification.py:1471: UndefinedMetricWarning: Precision is ill-defined and being set to 0.0 in labels with no predicted samples. Use `zero_division` parameter to control this behavior.\n",
      "  _warn_prf(average, modifier, msg_start, len(result))\n",
      "2024-09-26 20:12:57,208 - INFO - confusion matrix\n",
      "2024-09-26 20:12:57,209 - INFO - [[1. 0.]\n",
      " [1. 0.]]\n",
      "2024-09-26 20:12:57,212 - INFO - evaluation metric\n",
      "2024-09-26 20:12:57,212 - INFO - acc: 0.2500\n",
      "2024-09-26 20:12:57,213 - INFO - precision: 0.1250\n",
      "2024-09-26 20:12:57,214 - INFO - recall: 0.5000\n",
      "2024-09-26 20:12:57,215 - INFO - f1: 0.2000\n",
      "2024-09-26 20:12:57,220 - INFO - 训练结束 - 算法: adamatch, 数据集: census, 隐藏比例: RATIO_0_4, 结束时间: 2024-09-26 20:12:57.220090\n",
      "2024-09-26 20:12:57,220 - INFO - 训练时长: 0:00:03.854895\n",
      "2024-09-26 20:12:57,221 - INFO - 结果已存储 - 算法: adamatch, 数据集: census, 隐藏比例: RATIO_0_4\n",
      "2024-09-26 20:12:57,221 - INFO - 正在运行实验 - 算法: adamatch, 数据集: census, 隐藏比例: RATIO_0_5\n",
      "2024-09-26 20:12:57,221 - INFO - 配置详情 - 有标签样本数: 2500,无标签样本数: 16280,一共5000\n",
      "/bin/sh: 1: netstat: not found\n",
      "2024-09-26 20:12:57,268 - INFO - 训练开始 - 算法: adamatch, 数据集: census, 隐藏比例: RATIO_0_5, 开始时间: 2024-09-26 20:12:57.268644\n",
      "/root/miniconda3/lib/python3.8/site-packages/semilearn/core/algorithmbase.py:64: FutureWarning: `torch.cuda.amp.GradScaler(args...)` is deprecated. Please use `torch.amp.GradScaler('cuda', args...)` instead.\n",
      "  self.loss_scaler = GradScaler()\n"
     ]
    },
    {
     "name": "stdout",
     "output_type": "stream",
     "text": [
      "Files already downloaded and verified\n",
      "lb count: [1250, 1250]\n",
      "ulb count: [5000, 5000]\n",
      "Files already downloaded and verified\n",
      "unlabeled data number: 10000, labeled data number 2500\n",
      "Create train and test data loaders\n",
      "[!] data loader keys: dict_keys(['train_lb', 'train_ulb', 'eval'])\n",
      "_IncompatibleKeys(missing_keys=['head.weight', 'head.bias'], unexpected_keys=[])\n",
      "Create optimizer and scheduler\n",
      "distribution alignment p_target: tensor([0.5000, 0.5000])\n",
      "Epoch: 0\n"
     ]
    },
    {
     "name": "stderr",
     "output_type": "stream",
     "text": [
      "/root/miniconda3/lib/python3.8/site-packages/sklearn/metrics/_classification.py:1471: UndefinedMetricWarning: Precision is ill-defined and being set to 0.0 in labels with no predicted samples. Use `zero_division` parameter to control this behavior.\n",
      "  _warn_prf(average, modifier, msg_start, len(result))\n",
      "2024-09-26 20:13:01,026 - INFO - confusion matrix\n",
      "2024-09-26 20:13:01,027 - INFO - [[0. 1.]\n",
      " [0. 1.]]\n",
      "2024-09-26 20:13:01,030 - INFO - evaluation metric\n",
      "2024-09-26 20:13:01,031 - INFO - acc: 0.2500\n",
      "2024-09-26 20:13:01,031 - INFO - precision: 0.1250\n",
      "2024-09-26 20:13:01,032 - INFO - recall: 0.5000\n",
      "2024-09-26 20:13:01,032 - INFO - f1: 0.2000\n",
      "2024-09-26 20:13:01,300 - INFO - Best acc 0.2500 at epoch 0\n",
      "2024-09-26 20:13:01,301 - INFO - Training finished.\n"
     ]
    },
    {
     "name": "stdout",
     "output_type": "stream",
     "text": [
      "model saved: ./saved_models/classic_cv/adamatch_cifar10_250_0/latest_model.pth\n",
      "model saved: ./saved_models/classic_cv/adamatch_cifar10_250_0/model_best.pth\n"
     ]
    },
    {
     "name": "stderr",
     "output_type": "stream",
     "text": [
      "/root/miniconda3/lib/python3.8/site-packages/sklearn/metrics/_classification.py:1471: UndefinedMetricWarning: Precision is ill-defined and being set to 0.0 in labels with no predicted samples. Use `zero_division` parameter to control this behavior.\n",
      "  _warn_prf(average, modifier, msg_start, len(result))\n",
      "2024-09-26 20:13:01,526 - INFO - confusion matrix\n",
      "2024-09-26 20:13:01,527 - INFO - [[0. 1.]\n",
      " [0. 1.]]\n",
      "2024-09-26 20:13:01,530 - INFO - evaluation metric\n",
      "2024-09-26 20:13:01,531 - INFO - acc: 0.2500\n",
      "2024-09-26 20:13:01,531 - INFO - precision: 0.1250\n",
      "2024-09-26 20:13:01,532 - INFO - recall: 0.5000\n",
      "2024-09-26 20:13:01,532 - INFO - f1: 0.2000\n",
      "2024-09-26 20:13:01,537 - INFO - 训练结束 - 算法: adamatch, 数据集: census, 隐藏比例: RATIO_0_5, 结束时间: 2024-09-26 20:13:01.537321\n",
      "2024-09-26 20:13:01,538 - INFO - 训练时长: 0:00:04.268677\n",
      "2024-09-26 20:13:01,538 - INFO - 结果已存储 - 算法: adamatch, 数据集: census, 隐藏比例: RATIO_0_5\n",
      "2024-09-26 20:13:01,538 - INFO - 正在运行实验 - 算法: adamatch, 数据集: census, 隐藏比例: RATIO_0_6\n",
      "2024-09-26 20:13:01,539 - INFO - 配置详情 - 有标签样本数: 3000,无标签样本数: 13024,一共6000\n",
      "/bin/sh: 1: netstat: not found\n",
      "2024-09-26 20:13:01,584 - INFO - 训练开始 - 算法: adamatch, 数据集: census, 隐藏比例: RATIO_0_6, 开始时间: 2024-09-26 20:13:01.584714\n",
      "/root/miniconda3/lib/python3.8/site-packages/semilearn/core/algorithmbase.py:64: FutureWarning: `torch.cuda.amp.GradScaler(args...)` is deprecated. Please use `torch.amp.GradScaler('cuda', args...)` instead.\n",
      "  self.loss_scaler = GradScaler()\n"
     ]
    },
    {
     "name": "stdout",
     "output_type": "stream",
     "text": [
      "Files already downloaded and verified\n",
      "lb count: [1500, 1500]\n",
      "ulb count: [5000, 5000]\n",
      "Files already downloaded and verified\n",
      "unlabeled data number: 10000, labeled data number 3000\n",
      "Create train and test data loaders\n",
      "[!] data loader keys: dict_keys(['train_lb', 'train_ulb', 'eval'])\n",
      "_IncompatibleKeys(missing_keys=['head.weight', 'head.bias'], unexpected_keys=[])\n",
      "Create optimizer and scheduler\n",
      "distribution alignment p_target: tensor([0.5000, 0.5000])\n",
      "Epoch: 0\n"
     ]
    },
    {
     "name": "stderr",
     "output_type": "stream",
     "text": [
      "/root/miniconda3/lib/python3.8/site-packages/sklearn/metrics/_classification.py:1471: UndefinedMetricWarning: Precision is ill-defined and being set to 0.0 in labels with no predicted samples. Use `zero_division` parameter to control this behavior.\n",
      "  _warn_prf(average, modifier, msg_start, len(result))\n",
      "2024-09-26 20:13:05,247 - INFO - confusion matrix\n",
      "2024-09-26 20:13:05,248 - INFO - [[0. 1.]\n",
      " [0. 1.]]\n",
      "2024-09-26 20:13:05,251 - INFO - evaluation metric\n",
      "2024-09-26 20:13:05,252 - INFO - acc: 0.3750\n",
      "2024-09-26 20:13:05,253 - INFO - precision: 0.1875\n",
      "2024-09-26 20:13:05,253 - INFO - recall: 0.5000\n",
      "2024-09-26 20:13:05,254 - INFO - f1: 0.2727\n",
      "2024-09-26 20:13:05,495 - INFO - Best acc 0.3750 at epoch 0\n",
      "2024-09-26 20:13:05,496 - INFO - Training finished.\n"
     ]
    },
    {
     "name": "stdout",
     "output_type": "stream",
     "text": [
      "model saved: ./saved_models/classic_cv/adamatch_cifar10_250_0/latest_model.pth\n",
      "model saved: ./saved_models/classic_cv/adamatch_cifar10_250_0/model_best.pth\n"
     ]
    },
    {
     "name": "stderr",
     "output_type": "stream",
     "text": [
      "/root/miniconda3/lib/python3.8/site-packages/sklearn/metrics/_classification.py:1471: UndefinedMetricWarning: Precision is ill-defined and being set to 0.0 in labels with no predicted samples. Use `zero_division` parameter to control this behavior.\n",
      "  _warn_prf(average, modifier, msg_start, len(result))\n",
      "2024-09-26 20:13:05,709 - INFO - confusion matrix\n",
      "2024-09-26 20:13:05,710 - INFO - [[0. 1.]\n",
      " [0. 1.]]\n",
      "2024-09-26 20:13:05,713 - INFO - evaluation metric\n",
      "2024-09-26 20:13:05,714 - INFO - acc: 0.3750\n",
      "2024-09-26 20:13:05,714 - INFO - precision: 0.1875\n",
      "2024-09-26 20:13:05,715 - INFO - recall: 0.5000\n",
      "2024-09-26 20:13:05,716 - INFO - f1: 0.2727\n",
      "2024-09-26 20:13:05,720 - INFO - 训练结束 - 算法: adamatch, 数据集: census, 隐藏比例: RATIO_0_6, 结束时间: 2024-09-26 20:13:05.720735\n",
      "2024-09-26 20:13:05,721 - INFO - 训练时长: 0:00:04.136021\n",
      "2024-09-26 20:13:05,721 - INFO - 结果已存储 - 算法: adamatch, 数据集: census, 隐藏比例: RATIO_0_6\n",
      "2024-09-26 20:13:05,722 - INFO - 正在运行实验 - 算法: adamatch, 数据集: census, 隐藏比例: RATIO_0_7\n",
      "2024-09-26 20:13:05,722 - INFO - 配置详情 - 有标签样本数: 3500,无标签样本数: 9768,一共7000\n",
      "/bin/sh: 1: netstat: not found\n",
      "2024-09-26 20:13:05,764 - INFO - 训练开始 - 算法: adamatch, 数据集: census, 隐藏比例: RATIO_0_7, 开始时间: 2024-09-26 20:13:05.763917\n",
      "/root/miniconda3/lib/python3.8/site-packages/semilearn/core/algorithmbase.py:64: FutureWarning: `torch.cuda.amp.GradScaler(args...)` is deprecated. Please use `torch.amp.GradScaler('cuda', args...)` instead.\n",
      "  self.loss_scaler = GradScaler()\n"
     ]
    },
    {
     "name": "stdout",
     "output_type": "stream",
     "text": [
      "Files already downloaded and verified\n",
      "lb count: [1750, 1750]\n",
      "ulb count: [5000, 5000]\n",
      "Files already downloaded and verified\n",
      "unlabeled data number: 10000, labeled data number 3500\n",
      "Create train and test data loaders\n",
      "[!] data loader keys: dict_keys(['train_lb', 'train_ulb', 'eval'])\n",
      "_IncompatibleKeys(missing_keys=['head.weight', 'head.bias'], unexpected_keys=[])\n",
      "Create optimizer and scheduler\n",
      "distribution alignment p_target: tensor([0.5000, 0.5000])\n",
      "Epoch: 0\n"
     ]
    },
    {
     "name": "stderr",
     "output_type": "stream",
     "text": [
      "/root/miniconda3/lib/python3.8/site-packages/sklearn/metrics/_classification.py:1471: UndefinedMetricWarning: Precision is ill-defined and being set to 0.0 in labels with no predicted samples. Use `zero_division` parameter to control this behavior.\n",
      "  _warn_prf(average, modifier, msg_start, len(result))\n",
      "2024-09-26 20:13:09,728 - INFO - confusion matrix\n",
      "2024-09-26 20:13:09,729 - INFO - [[0. 1.]\n",
      " [0. 1.]]\n",
      "2024-09-26 20:13:09,733 - INFO - evaluation metric\n",
      "2024-09-26 20:13:09,733 - INFO - acc: 0.6250\n",
      "2024-09-26 20:13:09,734 - INFO - precision: 0.3125\n",
      "2024-09-26 20:13:09,735 - INFO - recall: 0.5000\n",
      "2024-09-26 20:13:09,736 - INFO - f1: 0.3846\n",
      "2024-09-26 20:13:10,005 - INFO - Best acc 0.6250 at epoch 0\n",
      "2024-09-26 20:13:10,006 - INFO - Training finished.\n"
     ]
    },
    {
     "name": "stdout",
     "output_type": "stream",
     "text": [
      "model saved: ./saved_models/classic_cv/adamatch_cifar10_250_0/latest_model.pth\n",
      "model saved: ./saved_models/classic_cv/adamatch_cifar10_250_0/model_best.pth\n"
     ]
    },
    {
     "name": "stderr",
     "output_type": "stream",
     "text": [
      "/root/miniconda3/lib/python3.8/site-packages/sklearn/metrics/_classification.py:1471: UndefinedMetricWarning: Precision is ill-defined and being set to 0.0 in labels with no predicted samples. Use `zero_division` parameter to control this behavior.\n",
      "  _warn_prf(average, modifier, msg_start, len(result))\n",
      "2024-09-26 20:13:10,228 - INFO - confusion matrix\n",
      "2024-09-26 20:13:10,229 - INFO - [[0. 1.]\n",
      " [0. 1.]]\n",
      "2024-09-26 20:13:10,232 - INFO - evaluation metric\n",
      "2024-09-26 20:13:10,233 - INFO - acc: 0.6250\n",
      "2024-09-26 20:13:10,233 - INFO - precision: 0.3125\n",
      "2024-09-26 20:13:10,234 - INFO - recall: 0.5000\n",
      "2024-09-26 20:13:10,235 - INFO - f1: 0.3846\n",
      "2024-09-26 20:13:10,238 - INFO - 训练结束 - 算法: adamatch, 数据集: census, 隐藏比例: RATIO_0_7, 结束时间: 2024-09-26 20:13:10.238831\n",
      "2024-09-26 20:13:10,239 - INFO - 训练时长: 0:00:04.474914\n",
      "2024-09-26 20:13:10,239 - INFO - 结果已存储 - 算法: adamatch, 数据集: census, 隐藏比例: RATIO_0_7\n",
      "2024-09-26 20:13:10,239 - INFO - 正在运行实验 - 算法: adamatch, 数据集: census, 隐藏比例: RATIO_0_8\n",
      "2024-09-26 20:13:10,240 - INFO - 配置详情 - 有标签样本数: 4000,无标签样本数: 6512,一共8000\n",
      "/bin/sh: 1: netstat: not found\n",
      "2024-09-26 20:13:10,280 - INFO - 训练开始 - 算法: adamatch, 数据集: census, 隐藏比例: RATIO_0_8, 开始时间: 2024-09-26 20:13:10.280415\n",
      "/root/miniconda3/lib/python3.8/site-packages/semilearn/core/algorithmbase.py:64: FutureWarning: `torch.cuda.amp.GradScaler(args...)` is deprecated. Please use `torch.amp.GradScaler('cuda', args...)` instead.\n",
      "  self.loss_scaler = GradScaler()\n"
     ]
    },
    {
     "name": "stdout",
     "output_type": "stream",
     "text": [
      "Files already downloaded and verified\n",
      "lb count: [2000, 2000]\n",
      "ulb count: [5000, 5000]\n",
      "Files already downloaded and verified\n",
      "unlabeled data number: 10000, labeled data number 4000\n",
      "Create train and test data loaders\n",
      "[!] data loader keys: dict_keys(['train_lb', 'train_ulb', 'eval'])\n",
      "_IncompatibleKeys(missing_keys=['head.weight', 'head.bias'], unexpected_keys=[])\n",
      "Create optimizer and scheduler\n",
      "distribution alignment p_target: tensor([0.5000, 0.5000])\n",
      "Epoch: 0\n"
     ]
    },
    {
     "name": "stderr",
     "output_type": "stream",
     "text": [
      "/root/miniconda3/lib/python3.8/site-packages/sklearn/metrics/_classification.py:1471: UndefinedMetricWarning: Precision is ill-defined and being set to 0.0 in labels with no predicted samples. Use `zero_division` parameter to control this behavior.\n",
      "  _warn_prf(average, modifier, msg_start, len(result))\n",
      "2024-09-26 20:13:13,843 - INFO - confusion matrix\n",
      "2024-09-26 20:13:13,844 - INFO - [[0. 1.]\n",
      " [0. 1.]]\n",
      "2024-09-26 20:13:13,847 - INFO - evaluation metric\n",
      "2024-09-26 20:13:13,848 - INFO - acc: 0.3750\n",
      "2024-09-26 20:13:13,848 - INFO - precision: 0.1875\n",
      "2024-09-26 20:13:13,849 - INFO - recall: 0.5000\n",
      "2024-09-26 20:13:13,850 - INFO - f1: 0.2727\n",
      "2024-09-26 20:13:14,086 - INFO - Best acc 0.3750 at epoch 0\n",
      "2024-09-26 20:13:14,087 - INFO - Training finished.\n"
     ]
    },
    {
     "name": "stdout",
     "output_type": "stream",
     "text": [
      "model saved: ./saved_models/classic_cv/adamatch_cifar10_250_0/latest_model.pth\n",
      "model saved: ./saved_models/classic_cv/adamatch_cifar10_250_0/model_best.pth\n"
     ]
    },
    {
     "name": "stderr",
     "output_type": "stream",
     "text": [
      "/root/miniconda3/lib/python3.8/site-packages/sklearn/metrics/_classification.py:1471: UndefinedMetricWarning: Precision is ill-defined and being set to 0.0 in labels with no predicted samples. Use `zero_division` parameter to control this behavior.\n",
      "  _warn_prf(average, modifier, msg_start, len(result))\n",
      "2024-09-26 20:13:14,327 - INFO - confusion matrix\n",
      "2024-09-26 20:13:14,328 - INFO - [[0. 1.]\n",
      " [0. 1.]]\n",
      "2024-09-26 20:13:14,331 - INFO - evaluation metric\n",
      "2024-09-26 20:13:14,332 - INFO - acc: 0.3750\n",
      "2024-09-26 20:13:14,332 - INFO - precision: 0.1875\n",
      "2024-09-26 20:13:14,333 - INFO - recall: 0.5000\n",
      "2024-09-26 20:13:14,334 - INFO - f1: 0.2727\n",
      "2024-09-26 20:13:14,338 - INFO - 训练结束 - 算法: adamatch, 数据集: census, 隐藏比例: RATIO_0_8, 结束时间: 2024-09-26 20:13:14.338497\n",
      "2024-09-26 20:13:14,339 - INFO - 训练时长: 0:00:04.058082\n",
      "2024-09-26 20:13:14,339 - INFO - 结果已存储 - 算法: adamatch, 数据集: census, 隐藏比例: RATIO_0_8\n",
      "2024-09-26 20:13:14,339 - INFO - 正在运行实验 - 算法: adamatch, 数据集: census, 隐藏比例: RATIO_0_9\n",
      "2024-09-26 20:13:14,340 - INFO - 配置详情 - 有标签样本数: 4500,无标签样本数: 3256,一共9000\n",
      "/bin/sh: 1: netstat: not found\n",
      "2024-09-26 20:13:14,376 - INFO - 训练开始 - 算法: adamatch, 数据集: census, 隐藏比例: RATIO_0_9, 开始时间: 2024-09-26 20:13:14.376718\n",
      "/root/miniconda3/lib/python3.8/site-packages/semilearn/core/algorithmbase.py:64: FutureWarning: `torch.cuda.amp.GradScaler(args...)` is deprecated. Please use `torch.amp.GradScaler('cuda', args...)` instead.\n",
      "  self.loss_scaler = GradScaler()\n"
     ]
    },
    {
     "name": "stdout",
     "output_type": "stream",
     "text": [
      "Files already downloaded and verified\n",
      "lb count: [2250, 2250]\n",
      "ulb count: [3878, 3878]\n",
      "Files already downloaded and verified\n",
      "unlabeled data number: 7756, labeled data number 4500\n",
      "Create train and test data loaders\n",
      "[!] data loader keys: dict_keys(['train_lb', 'train_ulb', 'eval'])\n",
      "_IncompatibleKeys(missing_keys=['head.weight', 'head.bias'], unexpected_keys=[])\n",
      "Create optimizer and scheduler\n",
      "distribution alignment p_target: tensor([0.5000, 0.5000])\n",
      "Epoch: 0\n"
     ]
    },
    {
     "name": "stderr",
     "output_type": "stream",
     "text": [
      "/root/miniconda3/lib/python3.8/site-packages/sklearn/metrics/_classification.py:1471: UndefinedMetricWarning: Precision is ill-defined and being set to 0.0 in labels with no predicted samples. Use `zero_division` parameter to control this behavior.\n",
      "  _warn_prf(average, modifier, msg_start, len(result))\n",
      "2024-09-26 20:13:18,014 - INFO - confusion matrix\n",
      "2024-09-26 20:13:18,015 - INFO - [[0. 1.]\n",
      " [0. 1.]]\n",
      "2024-09-26 20:13:18,019 - INFO - evaluation metric\n",
      "2024-09-26 20:13:18,019 - INFO - acc: 0.3750\n",
      "2024-09-26 20:13:18,020 - INFO - precision: 0.1875\n",
      "2024-09-26 20:13:18,021 - INFO - recall: 0.5000\n",
      "2024-09-26 20:13:18,021 - INFO - f1: 0.2727\n",
      "2024-09-26 20:13:18,273 - INFO - Best acc 0.3750 at epoch 0\n",
      "2024-09-26 20:13:18,274 - INFO - Training finished.\n"
     ]
    },
    {
     "name": "stdout",
     "output_type": "stream",
     "text": [
      "model saved: ./saved_models/classic_cv/adamatch_cifar10_250_0/latest_model.pth\n",
      "model saved: ./saved_models/classic_cv/adamatch_cifar10_250_0/model_best.pth\n"
     ]
    },
    {
     "name": "stderr",
     "output_type": "stream",
     "text": [
      "/root/miniconda3/lib/python3.8/site-packages/sklearn/metrics/_classification.py:1471: UndefinedMetricWarning: Precision is ill-defined and being set to 0.0 in labels with no predicted samples. Use `zero_division` parameter to control this behavior.\n",
      "  _warn_prf(average, modifier, msg_start, len(result))\n",
      "2024-09-26 20:13:18,510 - INFO - confusion matrix\n",
      "2024-09-26 20:13:18,511 - INFO - [[0. 1.]\n",
      " [0. 1.]]\n",
      "2024-09-26 20:13:18,514 - INFO - evaluation metric\n",
      "2024-09-26 20:13:18,514 - INFO - acc: 0.3750\n",
      "2024-09-26 20:13:18,515 - INFO - precision: 0.1875\n",
      "2024-09-26 20:13:18,515 - INFO - recall: 0.5000\n",
      "2024-09-26 20:13:18,516 - INFO - f1: 0.2727\n",
      "2024-09-26 20:13:18,520 - INFO - 训练结束 - 算法: adamatch, 数据集: census, 隐藏比例: RATIO_0_9, 结束时间: 2024-09-26 20:13:18.520280\n",
      "2024-09-26 20:13:18,520 - INFO - 训练时长: 0:00:04.143562\n",
      "2024-09-26 20:13:18,521 - INFO - 结果已存储 - 算法: adamatch, 数据集: census, 隐藏比例: RATIO_0_9\n",
      "2024-09-26 20:13:18,521 - INFO - 正在运行实验 - 算法: adamatch, 数据集: credit, 隐藏比例: RATIO_0_1\n",
      "2024-09-26 20:13:18,521 - INFO - 配置详情 - 有标签样本数: 500,无标签样本数: 27000,一共1000\n",
      "/bin/sh: 1: netstat: not found\n",
      "2024-09-26 20:13:18,554 - INFO - 训练开始 - 算法: adamatch, 数据集: credit, 隐藏比例: RATIO_0_1, 开始时间: 2024-09-26 20:13:18.554752\n",
      "/root/miniconda3/lib/python3.8/site-packages/semilearn/core/algorithmbase.py:64: FutureWarning: `torch.cuda.amp.GradScaler(args...)` is deprecated. Please use `torch.amp.GradScaler('cuda', args...)` instead.\n",
      "  self.loss_scaler = GradScaler()\n"
     ]
    },
    {
     "name": "stdout",
     "output_type": "stream",
     "text": [
      "Files already downloaded and verified\n",
      "lb count: [250, 250]\n",
      "ulb count: [5000, 5000]\n",
      "Files already downloaded and verified\n",
      "unlabeled data number: 10000, labeled data number 500\n",
      "Create train and test data loaders\n",
      "[!] data loader keys: dict_keys(['train_lb', 'train_ulb', 'eval'])\n",
      "_IncompatibleKeys(missing_keys=['head.weight', 'head.bias'], unexpected_keys=[])\n",
      "Create optimizer and scheduler\n",
      "distribution alignment p_target: tensor([0.5000, 0.5000])\n",
      "Epoch: 0\n"
     ]
    },
    {
     "name": "stderr",
     "output_type": "stream",
     "text": [
      "/root/miniconda3/lib/python3.8/site-packages/sklearn/metrics/_classification.py:1471: UndefinedMetricWarning: Precision is ill-defined and being set to 0.0 in labels with no predicted samples. Use `zero_division` parameter to control this behavior.\n",
      "  _warn_prf(average, modifier, msg_start, len(result))\n",
      "2024-09-26 20:13:22,126 - INFO - confusion matrix\n",
      "2024-09-26 20:13:22,126 - INFO - [[1. 0.]\n",
      " [1. 0.]]\n",
      "2024-09-26 20:13:22,130 - INFO - evaluation metric\n",
      "2024-09-26 20:13:22,130 - INFO - acc: 0.7500\n",
      "2024-09-26 20:13:22,131 - INFO - precision: 0.3750\n",
      "2024-09-26 20:13:22,132 - INFO - recall: 0.5000\n",
      "2024-09-26 20:13:22,132 - INFO - f1: 0.4286\n",
      "2024-09-26 20:13:22,369 - INFO - Best acc 0.7500 at epoch 0\n",
      "2024-09-26 20:13:22,370 - INFO - Training finished.\n"
     ]
    },
    {
     "name": "stdout",
     "output_type": "stream",
     "text": [
      "model saved: ./saved_models/classic_cv/adamatch_cifar10_250_0/latest_model.pth\n",
      "model saved: ./saved_models/classic_cv/adamatch_cifar10_250_0/model_best.pth\n"
     ]
    },
    {
     "name": "stderr",
     "output_type": "stream",
     "text": [
      "/root/miniconda3/lib/python3.8/site-packages/sklearn/metrics/_classification.py:1471: UndefinedMetricWarning: Precision is ill-defined and being set to 0.0 in labels with no predicted samples. Use `zero_division` parameter to control this behavior.\n",
      "  _warn_prf(average, modifier, msg_start, len(result))\n",
      "2024-09-26 20:13:22,958 - INFO - confusion matrix\n",
      "2024-09-26 20:13:22,959 - INFO - [[1. 0.]\n",
      " [1. 0.]]\n",
      "2024-09-26 20:13:22,962 - INFO - evaluation metric\n",
      "2024-09-26 20:13:22,963 - INFO - acc: 0.7500\n",
      "2024-09-26 20:13:22,964 - INFO - precision: 0.3750\n",
      "2024-09-26 20:13:22,964 - INFO - recall: 0.5000\n",
      "2024-09-26 20:13:22,965 - INFO - f1: 0.4286\n",
      "2024-09-26 20:13:22,974 - INFO - 训练结束 - 算法: adamatch, 数据集: credit, 隐藏比例: RATIO_0_1, 结束时间: 2024-09-26 20:13:22.974213\n",
      "2024-09-26 20:13:22,974 - INFO - 训练时长: 0:00:04.419461\n",
      "2024-09-26 20:13:22,975 - INFO - 结果已存储 - 算法: adamatch, 数据集: credit, 隐藏比例: RATIO_0_1\n",
      "2024-09-26 20:13:22,975 - INFO - 正在运行实验 - 算法: adamatch, 数据集: credit, 隐藏比例: RATIO_0_2\n",
      "2024-09-26 20:13:22,975 - INFO - 配置详情 - 有标签样本数: 1000,无标签样本数: 24000,一共2000\n",
      "/bin/sh: 1: netstat: not found\n",
      "2024-09-26 20:13:23,008 - INFO - 训练开始 - 算法: adamatch, 数据集: credit, 隐藏比例: RATIO_0_2, 开始时间: 2024-09-26 20:13:23.008145\n",
      "/root/miniconda3/lib/python3.8/site-packages/semilearn/core/algorithmbase.py:64: FutureWarning: `torch.cuda.amp.GradScaler(args...)` is deprecated. Please use `torch.amp.GradScaler('cuda', args...)` instead.\n",
      "  self.loss_scaler = GradScaler()\n"
     ]
    },
    {
     "name": "stdout",
     "output_type": "stream",
     "text": [
      "Files already downloaded and verified\n",
      "lb count: [500, 500]\n",
      "ulb count: [5000, 5000]\n",
      "Files already downloaded and verified\n",
      "unlabeled data number: 10000, labeled data number 1000\n",
      "Create train and test data loaders\n",
      "[!] data loader keys: dict_keys(['train_lb', 'train_ulb', 'eval'])\n",
      "_IncompatibleKeys(missing_keys=['head.weight', 'head.bias'], unexpected_keys=[])\n",
      "Create optimizer and scheduler\n",
      "distribution alignment p_target: tensor([0.5000, 0.5000])\n",
      "Epoch: 0\n"
     ]
    },
    {
     "name": "stderr",
     "output_type": "stream",
     "text": [
      "/root/miniconda3/lib/python3.8/site-packages/sklearn/metrics/_classification.py:1471: UndefinedMetricWarning: Precision is ill-defined and being set to 0.0 in labels with no predicted samples. Use `zero_division` parameter to control this behavior.\n",
      "  _warn_prf(average, modifier, msg_start, len(result))\n",
      "2024-09-26 20:13:26,624 - INFO - confusion matrix\n",
      "2024-09-26 20:13:26,625 - INFO - [[0. 1.]\n",
      " [0. 1.]]\n",
      "2024-09-26 20:13:26,628 - INFO - evaluation metric\n",
      "2024-09-26 20:13:26,629 - INFO - acc: 0.6250\n",
      "2024-09-26 20:13:26,630 - INFO - precision: 0.3125\n",
      "2024-09-26 20:13:26,630 - INFO - recall: 0.5000\n",
      "2024-09-26 20:13:26,631 - INFO - f1: 0.3846\n",
      "2024-09-26 20:13:26,876 - INFO - Best acc 0.6250 at epoch 0\n",
      "2024-09-26 20:13:26,877 - INFO - Training finished.\n"
     ]
    },
    {
     "name": "stdout",
     "output_type": "stream",
     "text": [
      "model saved: ./saved_models/classic_cv/adamatch_cifar10_250_0/latest_model.pth\n",
      "model saved: ./saved_models/classic_cv/adamatch_cifar10_250_0/model_best.pth\n"
     ]
    },
    {
     "name": "stderr",
     "output_type": "stream",
     "text": [
      "/root/miniconda3/lib/python3.8/site-packages/sklearn/metrics/_classification.py:1471: UndefinedMetricWarning: Precision is ill-defined and being set to 0.0 in labels with no predicted samples. Use `zero_division` parameter to control this behavior.\n",
      "  _warn_prf(average, modifier, msg_start, len(result))\n",
      "2024-09-26 20:13:27,396 - INFO - confusion matrix\n",
      "2024-09-26 20:13:27,397 - INFO - [[0. 1.]\n",
      " [0. 1.]]\n",
      "2024-09-26 20:13:27,400 - INFO - evaluation metric\n",
      "2024-09-26 20:13:27,401 - INFO - acc: 0.6250\n",
      "2024-09-26 20:13:27,401 - INFO - precision: 0.3125\n",
      "2024-09-26 20:13:27,402 - INFO - recall: 0.5000\n",
      "2024-09-26 20:13:27,403 - INFO - f1: 0.3846\n",
      "2024-09-26 20:13:27,412 - INFO - 训练结束 - 算法: adamatch, 数据集: credit, 隐藏比例: RATIO_0_2, 结束时间: 2024-09-26 20:13:27.412097\n",
      "2024-09-26 20:13:27,412 - INFO - 训练时长: 0:00:04.403952\n",
      "2024-09-26 20:13:27,412 - INFO - 结果已存储 - 算法: adamatch, 数据集: credit, 隐藏比例: RATIO_0_2\n",
      "2024-09-26 20:13:27,413 - INFO - 正在运行实验 - 算法: adamatch, 数据集: credit, 隐藏比例: RATIO_0_3\n",
      "2024-09-26 20:13:27,413 - INFO - 配置详情 - 有标签样本数: 1500,无标签样本数: 21000,一共3000\n",
      "/bin/sh: 1: netstat: not found\n",
      "2024-09-26 20:13:27,446 - INFO - 训练开始 - 算法: adamatch, 数据集: credit, 隐藏比例: RATIO_0_3, 开始时间: 2024-09-26 20:13:27.446772\n",
      "/root/miniconda3/lib/python3.8/site-packages/semilearn/core/algorithmbase.py:64: FutureWarning: `torch.cuda.amp.GradScaler(args...)` is deprecated. Please use `torch.amp.GradScaler('cuda', args...)` instead.\n",
      "  self.loss_scaler = GradScaler()\n"
     ]
    },
    {
     "name": "stdout",
     "output_type": "stream",
     "text": [
      "Files already downloaded and verified\n",
      "lb count: [750, 750]\n",
      "ulb count: [5000, 5000]\n",
      "Files already downloaded and verified\n",
      "unlabeled data number: 10000, labeled data number 1500\n",
      "Create train and test data loaders\n",
      "[!] data loader keys: dict_keys(['train_lb', 'train_ulb', 'eval'])\n",
      "_IncompatibleKeys(missing_keys=['head.weight', 'head.bias'], unexpected_keys=[])\n",
      "Create optimizer and scheduler\n",
      "distribution alignment p_target: tensor([0.5000, 0.5000])\n",
      "Epoch: 0\n"
     ]
    },
    {
     "name": "stderr",
     "output_type": "stream",
     "text": [
      "/root/miniconda3/lib/python3.8/site-packages/sklearn/metrics/_classification.py:1471: UndefinedMetricWarning: Precision is ill-defined and being set to 0.0 in labels with no predicted samples. Use `zero_division` parameter to control this behavior.\n",
      "  _warn_prf(average, modifier, msg_start, len(result))\n",
      "2024-09-26 20:13:31,194 - INFO - confusion matrix\n",
      "2024-09-26 20:13:31,195 - INFO - [[0. 1.]\n",
      " [0. 1.]]\n",
      "2024-09-26 20:13:31,199 - INFO - evaluation metric\n",
      "2024-09-26 20:13:31,199 - INFO - acc: 0.2500\n",
      "2024-09-26 20:13:31,200 - INFO - precision: 0.1250\n",
      "2024-09-26 20:13:31,201 - INFO - recall: 0.5000\n",
      "2024-09-26 20:13:31,201 - INFO - f1: 0.2000\n",
      "2024-09-26 20:13:31,441 - INFO - Best acc 0.2500 at epoch 0\n",
      "2024-09-26 20:13:31,442 - INFO - Training finished.\n"
     ]
    },
    {
     "name": "stdout",
     "output_type": "stream",
     "text": [
      "model saved: ./saved_models/classic_cv/adamatch_cifar10_250_0/latest_model.pth\n",
      "model saved: ./saved_models/classic_cv/adamatch_cifar10_250_0/model_best.pth\n"
     ]
    },
    {
     "name": "stderr",
     "output_type": "stream",
     "text": [
      "/root/miniconda3/lib/python3.8/site-packages/sklearn/metrics/_classification.py:1471: UndefinedMetricWarning: Precision is ill-defined and being set to 0.0 in labels with no predicted samples. Use `zero_division` parameter to control this behavior.\n",
      "  _warn_prf(average, modifier, msg_start, len(result))\n",
      "2024-09-26 20:13:32,003 - INFO - confusion matrix\n",
      "2024-09-26 20:13:32,004 - INFO - [[0. 1.]\n",
      " [0. 1.]]\n",
      "2024-09-26 20:13:32,008 - INFO - evaluation metric\n",
      "2024-09-26 20:13:32,008 - INFO - acc: 0.2500\n",
      "2024-09-26 20:13:32,009 - INFO - precision: 0.1250\n",
      "2024-09-26 20:13:32,010 - INFO - recall: 0.5000\n",
      "2024-09-26 20:13:32,010 - INFO - f1: 0.2000\n",
      "2024-09-26 20:13:32,019 - INFO - 训练结束 - 算法: adamatch, 数据集: credit, 隐藏比例: RATIO_0_3, 结束时间: 2024-09-26 20:13:32.019428\n",
      "2024-09-26 20:13:32,019 - INFO - 训练时长: 0:00:04.572656\n",
      "2024-09-26 20:13:32,020 - INFO - 结果已存储 - 算法: adamatch, 数据集: credit, 隐藏比例: RATIO_0_3\n",
      "2024-09-26 20:13:32,020 - INFO - 正在运行实验 - 算法: adamatch, 数据集: credit, 隐藏比例: RATIO_0_4\n",
      "2024-09-26 20:13:32,020 - INFO - 配置详情 - 有标签样本数: 2000,无标签样本数: 18000,一共4000\n",
      "/bin/sh: 1: netstat: not found\n",
      "2024-09-26 20:13:32,051 - INFO - 训练开始 - 算法: adamatch, 数据集: credit, 隐藏比例: RATIO_0_4, 开始时间: 2024-09-26 20:13:32.051899\n",
      "/root/miniconda3/lib/python3.8/site-packages/semilearn/core/algorithmbase.py:64: FutureWarning: `torch.cuda.amp.GradScaler(args...)` is deprecated. Please use `torch.amp.GradScaler('cuda', args...)` instead.\n",
      "  self.loss_scaler = GradScaler()\n"
     ]
    },
    {
     "name": "stdout",
     "output_type": "stream",
     "text": [
      "Files already downloaded and verified\n",
      "lb count: [1000, 1000]\n",
      "ulb count: [5000, 5000]\n",
      "Files already downloaded and verified\n",
      "unlabeled data number: 10000, labeled data number 2000\n",
      "Create train and test data loaders\n",
      "[!] data loader keys: dict_keys(['train_lb', 'train_ulb', 'eval'])\n",
      "_IncompatibleKeys(missing_keys=['head.weight', 'head.bias'], unexpected_keys=[])\n",
      "Create optimizer and scheduler\n",
      "distribution alignment p_target: tensor([0.5000, 0.5000])\n",
      "Epoch: 0\n"
     ]
    },
    {
     "name": "stderr",
     "output_type": "stream",
     "text": [
      "/root/miniconda3/lib/python3.8/site-packages/sklearn/metrics/_classification.py:1471: UndefinedMetricWarning: Precision is ill-defined and being set to 0.0 in labels with no predicted samples. Use `zero_division` parameter to control this behavior.\n",
      "  _warn_prf(average, modifier, msg_start, len(result))\n",
      "2024-09-26 20:13:35,724 - INFO - confusion matrix\n",
      "2024-09-26 20:13:35,725 - INFO - [[0. 1.]\n",
      " [0. 1.]]\n",
      "2024-09-26 20:13:35,728 - INFO - evaluation metric\n",
      "2024-09-26 20:13:35,729 - INFO - acc: 0.7500\n",
      "2024-09-26 20:13:35,730 - INFO - precision: 0.3750\n",
      "2024-09-26 20:13:35,730 - INFO - recall: 0.5000\n",
      "2024-09-26 20:13:35,731 - INFO - f1: 0.4286\n",
      "2024-09-26 20:13:35,973 - INFO - Best acc 0.7500 at epoch 0\n",
      "2024-09-26 20:13:35,974 - INFO - Training finished.\n"
     ]
    },
    {
     "name": "stdout",
     "output_type": "stream",
     "text": [
      "model saved: ./saved_models/classic_cv/adamatch_cifar10_250_0/latest_model.pth\n",
      "model saved: ./saved_models/classic_cv/adamatch_cifar10_250_0/model_best.pth\n"
     ]
    },
    {
     "name": "stderr",
     "output_type": "stream",
     "text": [
      "/root/miniconda3/lib/python3.8/site-packages/sklearn/metrics/_classification.py:1471: UndefinedMetricWarning: Precision is ill-defined and being set to 0.0 in labels with no predicted samples. Use `zero_division` parameter to control this behavior.\n",
      "  _warn_prf(average, modifier, msg_start, len(result))\n",
      "2024-09-26 20:13:36,525 - INFO - confusion matrix\n",
      "2024-09-26 20:13:36,526 - INFO - [[0. 1.]\n",
      " [0. 1.]]\n",
      "2024-09-26 20:13:36,529 - INFO - evaluation metric\n",
      "2024-09-26 20:13:36,530 - INFO - acc: 0.7500\n",
      "2024-09-26 20:13:36,531 - INFO - precision: 0.3750\n",
      "2024-09-26 20:13:36,532 - INFO - recall: 0.5000\n",
      "2024-09-26 20:13:36,532 - INFO - f1: 0.4286\n",
      "2024-09-26 20:13:36,541 - INFO - 训练结束 - 算法: adamatch, 数据集: credit, 隐藏比例: RATIO_0_4, 结束时间: 2024-09-26 20:13:36.541899\n",
      "2024-09-26 20:13:36,542 - INFO - 训练时长: 0:00:04.490000\n",
      "2024-09-26 20:13:36,542 - INFO - 结果已存储 - 算法: adamatch, 数据集: credit, 隐藏比例: RATIO_0_4\n",
      "2024-09-26 20:13:36,543 - INFO - 正在运行实验 - 算法: adamatch, 数据集: credit, 隐藏比例: RATIO_0_5\n",
      "2024-09-26 20:13:36,543 - INFO - 配置详情 - 有标签样本数: 2500,无标签样本数: 15000,一共5000\n",
      "/bin/sh: 1: netstat: not found\n",
      "2024-09-26 20:13:36,575 - INFO - 训练开始 - 算法: adamatch, 数据集: credit, 隐藏比例: RATIO_0_5, 开始时间: 2024-09-26 20:13:36.575017\n",
      "/root/miniconda3/lib/python3.8/site-packages/semilearn/core/algorithmbase.py:64: FutureWarning: `torch.cuda.amp.GradScaler(args...)` is deprecated. Please use `torch.amp.GradScaler('cuda', args...)` instead.\n",
      "  self.loss_scaler = GradScaler()\n"
     ]
    },
    {
     "name": "stdout",
     "output_type": "stream",
     "text": [
      "Files already downloaded and verified\n",
      "lb count: [1250, 1250]\n",
      "ulb count: [5000, 5000]\n",
      "Files already downloaded and verified\n",
      "unlabeled data number: 10000, labeled data number 2500\n",
      "Create train and test data loaders\n",
      "[!] data loader keys: dict_keys(['train_lb', 'train_ulb', 'eval'])\n",
      "_IncompatibleKeys(missing_keys=['head.weight', 'head.bias'], unexpected_keys=[])\n",
      "Create optimizer and scheduler\n",
      "distribution alignment p_target: tensor([0.5000, 0.5000])\n",
      "Epoch: 0\n"
     ]
    },
    {
     "name": "stderr",
     "output_type": "stream",
     "text": [
      "/root/miniconda3/lib/python3.8/site-packages/sklearn/metrics/_classification.py:1471: UndefinedMetricWarning: Precision is ill-defined and being set to 0.0 in labels with no predicted samples. Use `zero_division` parameter to control this behavior.\n",
      "  _warn_prf(average, modifier, msg_start, len(result))\n",
      "2024-09-26 20:13:40,124 - INFO - confusion matrix\n",
      "2024-09-26 20:13:40,125 - INFO - [[0. 1.]\n",
      " [0. 1.]]\n",
      "2024-09-26 20:13:40,128 - INFO - evaluation metric\n",
      "2024-09-26 20:13:40,129 - INFO - acc: 0.2500\n",
      "2024-09-26 20:13:40,130 - INFO - precision: 0.1250\n",
      "2024-09-26 20:13:40,130 - INFO - recall: 0.5000\n",
      "2024-09-26 20:13:40,131 - INFO - f1: 0.2000\n",
      "2024-09-26 20:13:40,368 - INFO - Best acc 0.2500 at epoch 0\n",
      "2024-09-26 20:13:40,369 - INFO - Training finished.\n"
     ]
    },
    {
     "name": "stdout",
     "output_type": "stream",
     "text": [
      "model saved: ./saved_models/classic_cv/adamatch_cifar10_250_0/latest_model.pth\n",
      "model saved: ./saved_models/classic_cv/adamatch_cifar10_250_0/model_best.pth\n"
     ]
    },
    {
     "name": "stderr",
     "output_type": "stream",
     "text": [
      "/root/miniconda3/lib/python3.8/site-packages/sklearn/metrics/_classification.py:1471: UndefinedMetricWarning: Precision is ill-defined and being set to 0.0 in labels with no predicted samples. Use `zero_division` parameter to control this behavior.\n",
      "  _warn_prf(average, modifier, msg_start, len(result))\n",
      "2024-09-26 20:13:41,046 - INFO - confusion matrix\n",
      "2024-09-26 20:13:41,047 - INFO - [[0. 1.]\n",
      " [0. 1.]]\n",
      "2024-09-26 20:13:41,051 - INFO - evaluation metric\n",
      "2024-09-26 20:13:41,052 - INFO - acc: 0.2500\n",
      "2024-09-26 20:13:41,052 - INFO - precision: 0.1250\n",
      "2024-09-26 20:13:41,053 - INFO - recall: 0.5000\n",
      "2024-09-26 20:13:41,054 - INFO - f1: 0.2000\n",
      "2024-09-26 20:13:41,063 - INFO - 训练结束 - 算法: adamatch, 数据集: credit, 隐藏比例: RATIO_0_5, 结束时间: 2024-09-26 20:13:41.063235\n",
      "2024-09-26 20:13:41,063 - INFO - 训练时长: 0:00:04.488218\n",
      "2024-09-26 20:13:41,064 - INFO - 结果已存储 - 算法: adamatch, 数据集: credit, 隐藏比例: RATIO_0_5\n",
      "2024-09-26 20:13:41,064 - INFO - 正在运行实验 - 算法: adamatch, 数据集: credit, 隐藏比例: RATIO_0_6\n",
      "2024-09-26 20:13:41,064 - INFO - 配置详情 - 有标签样本数: 3000,无标签样本数: 12000,一共6000\n",
      "/bin/sh: 1: netstat: not found\n",
      "2024-09-26 20:13:41,096 - INFO - 训练开始 - 算法: adamatch, 数据集: credit, 隐藏比例: RATIO_0_6, 开始时间: 2024-09-26 20:13:41.096538\n",
      "/root/miniconda3/lib/python3.8/site-packages/semilearn/core/algorithmbase.py:64: FutureWarning: `torch.cuda.amp.GradScaler(args...)` is deprecated. Please use `torch.amp.GradScaler('cuda', args...)` instead.\n",
      "  self.loss_scaler = GradScaler()\n"
     ]
    },
    {
     "name": "stdout",
     "output_type": "stream",
     "text": [
      "Files already downloaded and verified\n",
      "lb count: [1500, 1500]\n",
      "ulb count: [5000, 5000]\n",
      "Files already downloaded and verified\n",
      "unlabeled data number: 10000, labeled data number 3000\n",
      "Create train and test data loaders\n",
      "[!] data loader keys: dict_keys(['train_lb', 'train_ulb', 'eval'])\n",
      "_IncompatibleKeys(missing_keys=['head.weight', 'head.bias'], unexpected_keys=[])\n",
      "Create optimizer and scheduler\n",
      "distribution alignment p_target: tensor([0.5000, 0.5000])\n",
      "Epoch: 0\n"
     ]
    },
    {
     "name": "stderr",
     "output_type": "stream",
     "text": [
      "/root/miniconda3/lib/python3.8/site-packages/sklearn/metrics/_classification.py:1471: UndefinedMetricWarning: Precision is ill-defined and being set to 0.0 in labels with no predicted samples. Use `zero_division` parameter to control this behavior.\n",
      "  _warn_prf(average, modifier, msg_start, len(result))\n",
      "2024-09-26 20:13:44,623 - INFO - confusion matrix\n",
      "2024-09-26 20:13:44,624 - INFO - [[1. 0.]\n",
      " [1. 0.]]\n",
      "2024-09-26 20:13:44,628 - INFO - evaluation metric\n",
      "2024-09-26 20:13:44,629 - INFO - acc: 0.6250\n",
      "2024-09-26 20:13:44,630 - INFO - precision: 0.3125\n",
      "2024-09-26 20:13:44,631 - INFO - recall: 0.5000\n",
      "2024-09-26 20:13:44,631 - INFO - f1: 0.3846\n",
      "2024-09-26 20:13:44,869 - INFO - Best acc 0.6250 at epoch 0\n",
      "2024-09-26 20:13:44,870 - INFO - Training finished.\n"
     ]
    },
    {
     "name": "stdout",
     "output_type": "stream",
     "text": [
      "model saved: ./saved_models/classic_cv/adamatch_cifar10_250_0/latest_model.pth\n",
      "model saved: ./saved_models/classic_cv/adamatch_cifar10_250_0/model_best.pth\n"
     ]
    },
    {
     "name": "stderr",
     "output_type": "stream",
     "text": [
      "/root/miniconda3/lib/python3.8/site-packages/sklearn/metrics/_classification.py:1471: UndefinedMetricWarning: Precision is ill-defined and being set to 0.0 in labels with no predicted samples. Use `zero_division` parameter to control this behavior.\n",
      "  _warn_prf(average, modifier, msg_start, len(result))\n",
      "2024-09-26 20:13:45,324 - INFO - confusion matrix\n",
      "2024-09-26 20:13:45,325 - INFO - [[1. 0.]\n",
      " [1. 0.]]\n",
      "2024-09-26 20:13:45,329 - INFO - evaluation metric\n",
      "2024-09-26 20:13:45,329 - INFO - acc: 0.6250\n",
      "2024-09-26 20:13:45,330 - INFO - precision: 0.3125\n",
      "2024-09-26 20:13:45,331 - INFO - recall: 0.5000\n",
      "2024-09-26 20:13:45,331 - INFO - f1: 0.3846\n",
      "2024-09-26 20:13:45,340 - INFO - 训练结束 - 算法: adamatch, 数据集: credit, 隐藏比例: RATIO_0_6, 结束时间: 2024-09-26 20:13:45.340888\n",
      "2024-09-26 20:13:45,341 - INFO - 训练时长: 0:00:04.244350\n",
      "2024-09-26 20:13:45,341 - INFO - 结果已存储 - 算法: adamatch, 数据集: credit, 隐藏比例: RATIO_0_6\n",
      "2024-09-26 20:13:45,342 - INFO - 正在运行实验 - 算法: adamatch, 数据集: credit, 隐藏比例: RATIO_0_7\n",
      "2024-09-26 20:13:45,342 - INFO - 配置详情 - 有标签样本数: 3500,无标签样本数: 9000,一共7000\n",
      "/bin/sh: 1: netstat: not found\n",
      "2024-09-26 20:13:45,372 - INFO - 训练开始 - 算法: adamatch, 数据集: credit, 隐藏比例: RATIO_0_7, 开始时间: 2024-09-26 20:13:45.372657\n",
      "/root/miniconda3/lib/python3.8/site-packages/semilearn/core/algorithmbase.py:64: FutureWarning: `torch.cuda.amp.GradScaler(args...)` is deprecated. Please use `torch.amp.GradScaler('cuda', args...)` instead.\n",
      "  self.loss_scaler = GradScaler()\n"
     ]
    },
    {
     "name": "stdout",
     "output_type": "stream",
     "text": [
      "Files already downloaded and verified\n",
      "lb count: [1750, 1750]\n",
      "ulb count: [5000, 5000]\n",
      "Files already downloaded and verified\n",
      "unlabeled data number: 10000, labeled data number 3500\n",
      "Create train and test data loaders\n",
      "[!] data loader keys: dict_keys(['train_lb', 'train_ulb', 'eval'])\n",
      "_IncompatibleKeys(missing_keys=['head.weight', 'head.bias'], unexpected_keys=[])\n",
      "Create optimizer and scheduler\n",
      "distribution alignment p_target: tensor([0.5000, 0.5000])\n",
      "Epoch: 0\n"
     ]
    },
    {
     "name": "stderr",
     "output_type": "stream",
     "text": [
      "/root/miniconda3/lib/python3.8/site-packages/sklearn/metrics/_classification.py:1471: UndefinedMetricWarning: Precision is ill-defined and being set to 0.0 in labels with no predicted samples. Use `zero_division` parameter to control this behavior.\n",
      "  _warn_prf(average, modifier, msg_start, len(result))\n",
      "2024-09-26 20:13:49,018 - INFO - confusion matrix\n",
      "2024-09-26 20:13:49,019 - INFO - [[1. 0.]\n",
      " [1. 0.]]\n",
      "2024-09-26 20:13:49,023 - INFO - evaluation metric\n",
      "2024-09-26 20:13:49,024 - INFO - acc: 0.3750\n",
      "2024-09-26 20:13:49,024 - INFO - precision: 0.1875\n",
      "2024-09-26 20:13:49,025 - INFO - recall: 0.5000\n",
      "2024-09-26 20:13:49,026 - INFO - f1: 0.2727\n",
      "2024-09-26 20:13:49,264 - INFO - Best acc 0.3750 at epoch 0\n",
      "2024-09-26 20:13:49,265 - INFO - Training finished.\n"
     ]
    },
    {
     "name": "stdout",
     "output_type": "stream",
     "text": [
      "model saved: ./saved_models/classic_cv/adamatch_cifar10_250_0/latest_model.pth\n",
      "model saved: ./saved_models/classic_cv/adamatch_cifar10_250_0/model_best.pth\n"
     ]
    },
    {
     "name": "stderr",
     "output_type": "stream",
     "text": [
      "/root/miniconda3/lib/python3.8/site-packages/sklearn/metrics/_classification.py:1471: UndefinedMetricWarning: Precision is ill-defined and being set to 0.0 in labels with no predicted samples. Use `zero_division` parameter to control this behavior.\n",
      "  _warn_prf(average, modifier, msg_start, len(result))\n",
      "2024-09-26 20:13:49,739 - INFO - confusion matrix\n",
      "2024-09-26 20:13:49,741 - INFO - [[1. 0.]\n",
      " [1. 0.]]\n",
      "2024-09-26 20:13:49,744 - INFO - evaluation metric\n",
      "2024-09-26 20:13:49,745 - INFO - acc: 0.3750\n",
      "2024-09-26 20:13:49,746 - INFO - precision: 0.1875\n",
      "2024-09-26 20:13:49,747 - INFO - recall: 0.5000\n",
      "2024-09-26 20:13:49,747 - INFO - f1: 0.2727\n",
      "2024-09-26 20:13:49,755 - INFO - 训练结束 - 算法: adamatch, 数据集: credit, 隐藏比例: RATIO_0_7, 结束时间: 2024-09-26 20:13:49.755302\n",
      "2024-09-26 20:13:49,755 - INFO - 训练时长: 0:00:04.382645\n",
      "2024-09-26 20:13:49,756 - INFO - 结果已存储 - 算法: adamatch, 数据集: credit, 隐藏比例: RATIO_0_7\n",
      "2024-09-26 20:13:49,756 - INFO - 正在运行实验 - 算法: adamatch, 数据集: credit, 隐藏比例: RATIO_0_8\n",
      "2024-09-26 20:13:49,756 - INFO - 配置详情 - 有标签样本数: 4000,无标签样本数: 6000,一共8000\n",
      "/bin/sh: 1: netstat: not found\n",
      "2024-09-26 20:13:49,784 - INFO - 训练开始 - 算法: adamatch, 数据集: credit, 隐藏比例: RATIO_0_8, 开始时间: 2024-09-26 20:13:49.784708\n",
      "/root/miniconda3/lib/python3.8/site-packages/semilearn/core/algorithmbase.py:64: FutureWarning: `torch.cuda.amp.GradScaler(args...)` is deprecated. Please use `torch.amp.GradScaler('cuda', args...)` instead.\n",
      "  self.loss_scaler = GradScaler()\n"
     ]
    },
    {
     "name": "stdout",
     "output_type": "stream",
     "text": [
      "Files already downloaded and verified\n",
      "lb count: [2000, 2000]\n",
      "ulb count: [5000, 5000]\n",
      "Files already downloaded and verified\n",
      "unlabeled data number: 10000, labeled data number 4000\n",
      "Create train and test data loaders\n",
      "[!] data loader keys: dict_keys(['train_lb', 'train_ulb', 'eval'])\n",
      "_IncompatibleKeys(missing_keys=['head.weight', 'head.bias'], unexpected_keys=[])\n",
      "Create optimizer and scheduler\n",
      "distribution alignment p_target: tensor([0.5000, 0.5000])\n",
      "Epoch: 0\n"
     ]
    },
    {
     "name": "stderr",
     "output_type": "stream",
     "text": [
      "/root/miniconda3/lib/python3.8/site-packages/sklearn/metrics/_classification.py:1471: UndefinedMetricWarning: Precision is ill-defined and being set to 0.0 in labels with no predicted samples. Use `zero_division` parameter to control this behavior.\n",
      "  _warn_prf(average, modifier, msg_start, len(result))\n",
      "2024-09-26 20:13:53,416 - INFO - confusion matrix\n",
      "2024-09-26 20:13:53,417 - INFO - [[1. 0.]\n",
      " [1. 0.]]\n",
      "2024-09-26 20:13:53,420 - INFO - evaluation metric\n",
      "2024-09-26 20:13:53,421 - INFO - acc: 0.6250\n",
      "2024-09-26 20:13:53,422 - INFO - precision: 0.3125\n",
      "2024-09-26 20:13:53,423 - INFO - recall: 0.5000\n",
      "2024-09-26 20:13:53,423 - INFO - f1: 0.3846\n",
      "2024-09-26 20:13:53,891 - INFO - Best acc 0.6250 at epoch 0\n",
      "2024-09-26 20:13:53,892 - INFO - Training finished.\n"
     ]
    },
    {
     "name": "stdout",
     "output_type": "stream",
     "text": [
      "model saved: ./saved_models/classic_cv/adamatch_cifar10_250_0/latest_model.pth\n",
      "model saved: ./saved_models/classic_cv/adamatch_cifar10_250_0/model_best.pth\n"
     ]
    },
    {
     "name": "stderr",
     "output_type": "stream",
     "text": [
      "/root/miniconda3/lib/python3.8/site-packages/sklearn/metrics/_classification.py:1471: UndefinedMetricWarning: Precision is ill-defined and being set to 0.0 in labels with no predicted samples. Use `zero_division` parameter to control this behavior.\n",
      "  _warn_prf(average, modifier, msg_start, len(result))\n",
      "2024-09-26 20:13:54,123 - INFO - confusion matrix\n",
      "2024-09-26 20:13:54,124 - INFO - [[1. 0.]\n",
      " [1. 0.]]\n",
      "2024-09-26 20:13:54,128 - INFO - evaluation metric\n",
      "2024-09-26 20:13:54,129 - INFO - acc: 0.6250\n",
      "2024-09-26 20:13:54,130 - INFO - precision: 0.3125\n",
      "2024-09-26 20:13:54,131 - INFO - recall: 0.5000\n",
      "2024-09-26 20:13:54,131 - INFO - f1: 0.3846\n",
      "2024-09-26 20:13:54,140 - INFO - 训练结束 - 算法: adamatch, 数据集: credit, 隐藏比例: RATIO_0_8, 结束时间: 2024-09-26 20:13:54.140346\n",
      "2024-09-26 20:13:54,140 - INFO - 训练时长: 0:00:04.355638\n",
      "2024-09-26 20:13:54,141 - INFO - 结果已存储 - 算法: adamatch, 数据集: credit, 隐藏比例: RATIO_0_8\n",
      "2024-09-26 20:13:54,141 - INFO - 正在运行实验 - 算法: adamatch, 数据集: credit, 隐藏比例: RATIO_0_9\n",
      "2024-09-26 20:13:54,141 - INFO - 配置详情 - 有标签样本数: 4500,无标签样本数: 3000,一共9000\n",
      "/bin/sh: 1: netstat: not found\n",
      "2024-09-26 20:13:54,175 - INFO - 训练开始 - 算法: adamatch, 数据集: credit, 隐藏比例: RATIO_0_9, 开始时间: 2024-09-26 20:13:54.175839\n",
      "/root/miniconda3/lib/python3.8/site-packages/semilearn/core/algorithmbase.py:64: FutureWarning: `torch.cuda.amp.GradScaler(args...)` is deprecated. Please use `torch.amp.GradScaler('cuda', args...)` instead.\n",
      "  self.loss_scaler = GradScaler()\n"
     ]
    },
    {
     "name": "stdout",
     "output_type": "stream",
     "text": [
      "Files already downloaded and verified\n",
      "lb count: [2250, 2250]\n",
      "ulb count: [3750, 3750]\n",
      "Files already downloaded and verified\n",
      "unlabeled data number: 7500, labeled data number 4500\n",
      "Create train and test data loaders\n",
      "[!] data loader keys: dict_keys(['train_lb', 'train_ulb', 'eval'])\n",
      "_IncompatibleKeys(missing_keys=['head.weight', 'head.bias'], unexpected_keys=[])\n",
      "Create optimizer and scheduler\n",
      "distribution alignment p_target: tensor([0.5000, 0.5000])\n",
      "Epoch: 0\n"
     ]
    },
    {
     "name": "stderr",
     "output_type": "stream",
     "text": [
      "/root/miniconda3/lib/python3.8/site-packages/sklearn/metrics/_classification.py:1471: UndefinedMetricWarning: Precision is ill-defined and being set to 0.0 in labels with no predicted samples. Use `zero_division` parameter to control this behavior.\n",
      "  _warn_prf(average, modifier, msg_start, len(result))\n",
      "2024-09-26 20:13:57,609 - INFO - confusion matrix\n",
      "2024-09-26 20:13:57,610 - INFO - [[1. 0.]\n",
      " [1. 0.]]\n",
      "2024-09-26 20:13:57,614 - INFO - evaluation metric\n",
      "2024-09-26 20:13:57,615 - INFO - acc: 0.6250\n",
      "2024-09-26 20:13:57,616 - INFO - precision: 0.3125\n",
      "2024-09-26 20:13:57,616 - INFO - recall: 0.5000\n",
      "2024-09-26 20:13:57,617 - INFO - f1: 0.3846\n",
      "2024-09-26 20:13:57,851 - INFO - Best acc 0.6250 at epoch 0\n",
      "2024-09-26 20:13:57,852 - INFO - Training finished.\n"
     ]
    },
    {
     "name": "stdout",
     "output_type": "stream",
     "text": [
      "model saved: ./saved_models/classic_cv/adamatch_cifar10_250_0/latest_model.pth\n",
      "model saved: ./saved_models/classic_cv/adamatch_cifar10_250_0/model_best.pth\n"
     ]
    },
    {
     "name": "stderr",
     "output_type": "stream",
     "text": [
      "/root/miniconda3/lib/python3.8/site-packages/sklearn/metrics/_classification.py:1471: UndefinedMetricWarning: Precision is ill-defined and being set to 0.0 in labels with no predicted samples. Use `zero_division` parameter to control this behavior.\n",
      "  _warn_prf(average, modifier, msg_start, len(result))\n",
      "2024-09-26 20:13:58,120 - INFO - confusion matrix\n",
      "2024-09-26 20:13:58,121 - INFO - [[1. 0.]\n",
      " [1. 0.]]\n",
      "2024-09-26 20:13:58,125 - INFO - evaluation metric\n",
      "2024-09-26 20:13:58,126 - INFO - acc: 0.6250\n",
      "2024-09-26 20:13:58,126 - INFO - precision: 0.3125\n",
      "2024-09-26 20:13:58,127 - INFO - recall: 0.5000\n",
      "2024-09-26 20:13:58,128 - INFO - f1: 0.3846\n",
      "2024-09-26 20:13:58,132 - INFO - 训练结束 - 算法: adamatch, 数据集: credit, 隐藏比例: RATIO_0_9, 结束时间: 2024-09-26 20:13:58.132267\n",
      "2024-09-26 20:13:58,132 - INFO - 训练时长: 0:00:03.956428\n",
      "2024-09-26 20:13:58,133 - INFO - 结果已存储 - 算法: adamatch, 数据集: credit, 隐藏比例: RATIO_0_9\n",
      "2024-09-26 20:13:58,133 - INFO - 正在运行实验 - 算法: comatch, 数据集: bank, 隐藏比例: RATIO_0_1\n",
      "2024-09-26 20:13:58,133 - INFO - 配置详情 - 有标签样本数: 500,无标签样本数: 37070,一共1000\n",
      "/bin/sh: 1: netstat: not found\n",
      "2024-09-26 20:13:58,163 - INFO - 训练开始 - 算法: comatch, 数据集: bank, 隐藏比例: RATIO_0_1, 开始时间: 2024-09-26 20:13:58.163231\n",
      "/root/miniconda3/lib/python3.8/site-packages/semilearn/core/algorithmbase.py:64: FutureWarning: `torch.cuda.amp.GradScaler(args...)` is deprecated. Please use `torch.amp.GradScaler('cuda', args...)` instead.\n",
      "  self.loss_scaler = GradScaler()\n"
     ]
    },
    {
     "name": "stdout",
     "output_type": "stream",
     "text": [
      "Files already downloaded and verified\n",
      "lb count: [250, 250]\n",
      "ulb count: [5000, 5000]\n",
      "Files already downloaded and verified\n",
      "unlabeled data number: 10000, labeled data number 500\n",
      "Create train and test data loaders\n",
      "[!] data loader keys: dict_keys(['train_lb', 'train_ulb', 'eval'])\n",
      "_IncompatibleKeys(missing_keys=['head.weight', 'head.bias'], unexpected_keys=[])\n",
      "Create optimizer and scheduler\n",
      "distribution alignment p_target: tensor([0.5000, 0.5000])\n",
      "Epoch: 0\n"
     ]
    },
    {
     "ename": "AttributeError",
     "evalue": "'CoMatch' object has no attribute 'epoch'",
     "output_type": "error",
     "traceback": [
      "\u001b[0;31m---------------------------------------------------------------------------\u001b[0m",
      "\u001b[0;31mAttributeError\u001b[0m                            Traceback (most recent call last)",
      "\u001b[0;32m/tmp/ipykernel_66070/768077267.py\u001b[0m in \u001b[0;36m<module>\u001b[0;34m\u001b[0m\n\u001b[0;32m----> 1\u001b[0;31m \u001b[0mresult\u001b[0m \u001b[0;34m=\u001b[0m \u001b[0mrun_experiments\u001b[0m\u001b[0;34m(\u001b[0m\u001b[0mlist\u001b[0m\u001b[0;34m(\u001b[0m\u001b[0myaml_data\u001b[0m\u001b[0;34m.\u001b[0m\u001b[0mkeys\u001b[0m\u001b[0;34m(\u001b[0m\u001b[0;34m)\u001b[0m\u001b[0;34m)\u001b[0m\u001b[0;34m,\u001b[0m\u001b[0mget_all_dataset\u001b[0m\u001b[0;34m(\u001b[0m\u001b[0;34m)\u001b[0m\u001b[0;34m,\u001b[0m\u001b[0myaml_data\u001b[0m\u001b[0;34m,\u001b[0m\u001b[0minitConfig\u001b[0m\u001b[0;34m)\u001b[0m\u001b[0;34m\u001b[0m\u001b[0;34m\u001b[0m\u001b[0m\n\u001b[0m",
      "\u001b[0;32m~/semi/VFPUMC02/scripts/train_match_script.py\u001b[0m in \u001b[0;36mrun_experiments\u001b[0;34m(algorithms, datasets, yaml_data, initConfig)\u001b[0m\n\u001b[1;32m     73\u001b[0m \u001b[0;34m\u001b[0m\u001b[0m\n\u001b[1;32m     74\u001b[0m                 \u001b[0;31m# 训练并获取评估结果\u001b[0m\u001b[0;34m\u001b[0m\u001b[0;34m\u001b[0m\u001b[0;34m\u001b[0m\u001b[0m\n\u001b[0;32m---> 75\u001b[0;31m                 \u001b[0mresult\u001b[0m \u001b[0;34m=\u001b[0m \u001b[0mtrain_and_get_eval\u001b[0m\u001b[0;34m(\u001b[0m\u001b[0mdataset\u001b[0m\u001b[0;34m,\u001b[0m \u001b[0mconfig\u001b[0m\u001b[0;34m)\u001b[0m\u001b[0;34m\u001b[0m\u001b[0;34m\u001b[0m\u001b[0m\n\u001b[0m\u001b[1;32m     76\u001b[0m \u001b[0;34m\u001b[0m\u001b[0m\n\u001b[1;32m     77\u001b[0m                 \u001b[0;31m# 打印日志：记录训练结束时间\u001b[0m\u001b[0;34m\u001b[0m\u001b[0;34m\u001b[0m\u001b[0;34m\u001b[0m\u001b[0m\n",
      "\u001b[0;32m~/semi/VFPUMC02/scripts/train_match_script.py\u001b[0m in \u001b[0;36mtrain_and_get_eval\u001b[0;34m(dataset, config)\u001b[0m\n\u001b[1;32m     43\u001b[0m         \u001b[0;31m# training and evaluation\u001b[0m\u001b[0;34m\u001b[0m\u001b[0;34m\u001b[0m\u001b[0;34m\u001b[0m\u001b[0m\n\u001b[1;32m     44\u001b[0m     \u001b[0mtrainer\u001b[0m \u001b[0;34m=\u001b[0m \u001b[0mTrainer\u001b[0m\u001b[0;34m(\u001b[0m\u001b[0mconfig\u001b[0m\u001b[0;34m,\u001b[0m \u001b[0malgorithm\u001b[0m\u001b[0;34m)\u001b[0m\u001b[0;34m\u001b[0m\u001b[0;34m\u001b[0m\u001b[0m\n\u001b[0;32m---> 45\u001b[0;31m     \u001b[0mtrainer\u001b[0m\u001b[0;34m.\u001b[0m\u001b[0mfit\u001b[0m\u001b[0;34m(\u001b[0m\u001b[0mtrain_lb_loader\u001b[0m\u001b[0;34m,\u001b[0m \u001b[0mtrain_ulb_loader\u001b[0m\u001b[0;34m,\u001b[0m \u001b[0meval_loader\u001b[0m\u001b[0;34m)\u001b[0m\u001b[0;34m\u001b[0m\u001b[0;34m\u001b[0m\u001b[0m\n\u001b[0m\u001b[1;32m     46\u001b[0m     \u001b[0;32mreturn\u001b[0m \u001b[0mtrainer\u001b[0m\u001b[0;34m.\u001b[0m\u001b[0mevaluate\u001b[0m\u001b[0;34m(\u001b[0m\u001b[0meval_loader\u001b[0m\u001b[0;34m)\u001b[0m\u001b[0;34m\u001b[0m\u001b[0;34m\u001b[0m\u001b[0m\n\u001b[1;32m     47\u001b[0m \u001b[0;34m\u001b[0m\u001b[0m\n",
      "\u001b[0;32m~/miniconda3/lib/python3.8/site-packages/semilearn/lighting/trainer.py\u001b[0m in \u001b[0;36mfit\u001b[0;34m(self, train_lb_loader, train_ulb_loader, eval_loader)\u001b[0m\n\u001b[1;32m     54\u001b[0m                     \u001b[0;32mbreak\u001b[0m\u001b[0;34m\u001b[0m\u001b[0;34m\u001b[0m\u001b[0m\n\u001b[1;32m     55\u001b[0m \u001b[0;34m\u001b[0m\u001b[0m\n\u001b[0;32m---> 56\u001b[0;31m                 \u001b[0mresult\u001b[0m \u001b[0;34m=\u001b[0m \u001b[0mself\u001b[0m\u001b[0;34m.\u001b[0m\u001b[0malgorithm\u001b[0m\u001b[0;34m.\u001b[0m\u001b[0mtrain_step\u001b[0m\u001b[0;34m(\u001b[0m\u001b[0;34m**\u001b[0m\u001b[0mself\u001b[0m\u001b[0;34m.\u001b[0m\u001b[0malgorithm\u001b[0m\u001b[0;34m.\u001b[0m\u001b[0mprocess_batch\u001b[0m\u001b[0;34m(\u001b[0m\u001b[0;34m**\u001b[0m\u001b[0mdata_lb\u001b[0m\u001b[0;34m,\u001b[0m \u001b[0;34m**\u001b[0m\u001b[0mdata_ulb\u001b[0m\u001b[0;34m)\u001b[0m\u001b[0;34m)\u001b[0m\u001b[0;34m\u001b[0m\u001b[0;34m\u001b[0m\u001b[0m\n\u001b[0m\u001b[1;32m     57\u001b[0m \u001b[0;34m\u001b[0m\u001b[0m\n\u001b[1;32m     58\u001b[0m                 \u001b[0mbar\u001b[0m\u001b[0;34m.\u001b[0m\u001b[0msuffix\u001b[0m \u001b[0;34m=\u001b[0m \u001b[0;34m(\u001b[0m\u001b[0;34m\"Iter: {batch:4}/{iter:4}.\"\u001b[0m\u001b[0;34m.\u001b[0m\u001b[0mformat\u001b[0m\u001b[0;34m(\u001b[0m\u001b[0mbatch\u001b[0m\u001b[0;34m=\u001b[0m\u001b[0mit\u001b[0m\u001b[0;34m,\u001b[0m \u001b[0miter\u001b[0m\u001b[0;34m=\u001b[0m\u001b[0mlen\u001b[0m\u001b[0;34m(\u001b[0m\u001b[0mtrain_lb_loader\u001b[0m\u001b[0;34m)\u001b[0m\u001b[0;34m)\u001b[0m\u001b[0;34m)\u001b[0m\u001b[0;34m\u001b[0m\u001b[0;34m\u001b[0m\u001b[0m\n",
      "\u001b[0;32m~/miniconda3/lib/python3.8/site-packages/semilearn/algorithms/comatch/comatch.py\u001b[0m in \u001b[0;36mtrain_step\u001b[0;34m(self, x_lb, y_lb, x_ulb_w, x_ulb_s_0, x_ulb_s_1)\u001b[0m\n\u001b[1;32m    173\u001b[0m                 \u001b[0mprobs_orig\u001b[0m \u001b[0;34m=\u001b[0m \u001b[0mprobs\u001b[0m\u001b[0;34m.\u001b[0m\u001b[0mclone\u001b[0m\u001b[0;34m(\u001b[0m\u001b[0;34m)\u001b[0m\u001b[0;34m\u001b[0m\u001b[0;34m\u001b[0m\u001b[0m\n\u001b[1;32m    174\u001b[0m                 \u001b[0;31m# memory-smoothing\u001b[0m\u001b[0;34m\u001b[0m\u001b[0;34m\u001b[0m\u001b[0;34m\u001b[0m\u001b[0m\n\u001b[0;32m--> 175\u001b[0;31m                 \u001b[0;32mif\u001b[0m \u001b[0mself\u001b[0m\u001b[0;34m.\u001b[0m\u001b[0mepoch\u001b[0m \u001b[0;34m>\u001b[0m\u001b[0;36m0\u001b[0m \u001b[0;32mand\u001b[0m \u001b[0mself\u001b[0m\u001b[0;34m.\u001b[0m\u001b[0mit\u001b[0m \u001b[0;34m>\u001b[0m \u001b[0mself\u001b[0m\u001b[0;34m.\u001b[0m\u001b[0mqueue_batch\u001b[0m\u001b[0;34m:\u001b[0m\u001b[0;34m\u001b[0m\u001b[0;34m\u001b[0m\u001b[0m\n\u001b[0m\u001b[1;32m    176\u001b[0m                     \u001b[0mA\u001b[0m \u001b[0;34m=\u001b[0m \u001b[0mtorch\u001b[0m\u001b[0;34m.\u001b[0m\u001b[0mexp\u001b[0m\u001b[0;34m(\u001b[0m\u001b[0mtorch\u001b[0m\u001b[0;34m.\u001b[0m\u001b[0mmm\u001b[0m\u001b[0;34m(\u001b[0m\u001b[0mfeats_x_ulb_w\u001b[0m\u001b[0;34m,\u001b[0m \u001b[0mself\u001b[0m\u001b[0;34m.\u001b[0m\u001b[0mqueue_feats\u001b[0m\u001b[0;34m.\u001b[0m\u001b[0mt\u001b[0m\u001b[0;34m(\u001b[0m\u001b[0;34m)\u001b[0m\u001b[0;34m)\u001b[0m \u001b[0;34m/\u001b[0m \u001b[0mself\u001b[0m\u001b[0;34m.\u001b[0m\u001b[0mT\u001b[0m\u001b[0;34m)\u001b[0m\u001b[0;34m\u001b[0m\u001b[0;34m\u001b[0m\u001b[0m\n\u001b[1;32m    177\u001b[0m                     \u001b[0mA\u001b[0m \u001b[0;34m=\u001b[0m \u001b[0mA\u001b[0m \u001b[0;34m/\u001b[0m \u001b[0mA\u001b[0m\u001b[0;34m.\u001b[0m\u001b[0msum\u001b[0m\u001b[0;34m(\u001b[0m\u001b[0;36m1\u001b[0m\u001b[0;34m,\u001b[0m\u001b[0mkeepdim\u001b[0m\u001b[0;34m=\u001b[0m\u001b[0;32mTrue\u001b[0m\u001b[0;34m)\u001b[0m\u001b[0;34m\u001b[0m\u001b[0;34m\u001b[0m\u001b[0m\n",
      "\u001b[0;31mAttributeError\u001b[0m: 'CoMatch' object has no attribute 'epoch'"
     ]
    }
   ],
   "source": [
    "result = run_experiments(list(yaml_data.keys()),get_all_dataset(),yaml_data,initConfig)"
   ]
  }
 ],
 "metadata": {
  "kernelspec": {
   "display_name": "Python 3 (ipykernel)",
   "language": "python",
   "name": "python3"
  },
  "language_info": {
   "codemirror_mode": {
    "name": "ipython",
    "version": 3
   },
   "file_extension": ".py",
   "mimetype": "text/x-python",
   "name": "python",
   "nbconvert_exporter": "python",
   "pygments_lexer": "ipython3",
   "version": "3.8.19"
  }
 },
 "nbformat": 4,
 "nbformat_minor": 5
}
