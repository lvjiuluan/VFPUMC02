{
 "cells": [
  {
   "cell_type": "code",
   "execution_count": 14,
   "id": "337cee42-94c1-4a86-a90e-2c1467e46ac6",
   "metadata": {},
   "outputs": [
    {
     "name": "stdout",
     "output_type": "stream",
     "text": [
      "The autoreload extension is already loaded. To reload it, use:\n",
      "  %reload_ext autoreload\n"
     ]
    }
   ],
   "source": [
    "import sys\n",
    "sys.path.append('/root/semi/VFPUMC02')\n",
    "%load_ext autoreload\n",
    "%autoreload 2"
   ]
  },
  {
   "cell_type": "code",
   "execution_count": 24,
   "id": "7cda8627-5004-4c30-90a0-4e5b1da1f8c0",
   "metadata": {},
   "outputs": [],
   "source": [
    "from scripts.train_match_script import * \n",
    "from datasets.DataSet import get_all_dataset"
   ]
  },
  {
   "cell_type": "code",
   "execution_count": 25,
   "id": "70927cf2-b442-4929-8433-e519d4a0ebb9",
   "metadata": {},
   "outputs": [],
   "source": [
    "baseConfig = {\n",
    "    'algorithm': 'fixmatch',\n",
    "    'net': 'vit_tiny_patch2_32',\n",
    "    'use_pretrain': True, \n",
    "    'pretrain_path': 'https://github.com/microsoft/Semi-supervised-learning/releases/download/v.0.0.0/vit_tiny_patch2_32_mlp_im_1k_32.pth',\n",
    "    'include_lb_to_ulb': False,\n",
    "    'batch_size': 8,\n",
    "    'uratio': 1,\n",
    "    'eval_batch_size':8,\n",
    "    'data_dir': '/root/semi/Semi-supervised-learning/notebooks/data',\n",
    "    'distributed': False,\n",
    "    'gpu': 0,\n",
    "    'num_classes': 2,\n",
    "    'num_train_iter': 1, \n",
    "    'num_eval_iter': 1,   \n",
    "    'num_log_iter': 50, \n",
    "    'epoch': 1, \n",
    "}"
   ]
  },
  {
   "cell_type": "code",
   "execution_count": 26,
   "id": "cfb56f04-7aeb-41ad-b893-c1d6e39ff68d",
   "metadata": {},
   "outputs": [
    {
     "name": "stderr",
     "output_type": "stream",
     "text": [
      "2024-09-26 19:27:20,694 - INFO - 正在加载数据集 bank.csv\n",
      "2024-09-26 19:27:20,919 - INFO - 数据集 bank.csv 加载完成，数据集形状为 (41188, 64)\n",
      "2024-09-26 19:27:20,920 - INFO - 正在加载数据集 census.csv\n",
      "2024-09-26 19:27:21,226 - INFO - 数据集 census.csv 加载完成，数据集形状为 (32561, 125)\n",
      "2024-09-26 19:27:21,226 - INFO - 正在加载数据集 credit.csv\n",
      "2024-09-26 19:27:21,463 - INFO - 数据集 credit.csv 加载完成，数据集形状为 (30000, 88)\n",
      "2024-09-26 19:27:21,464 - INFO - 正在运行实验 - 算法: fixmatch, 数据集: bank, 隐藏比例: RATIO_0_1\n",
      "2024-09-26 19:27:21,464 - INFO - 配置详情 - 有标签样本数: 500,无标签样本数: 37070,一共1000\n",
      "/bin/sh: 1: netstat: not found\n",
      "2024-09-26 19:27:21,523 - INFO - 训练开始 - 算法: fixmatch, 数据集: bank, 隐藏比例: RATIO_0_1, 开始时间: 2024-09-26 19:27:21.523046\n",
      "/root/miniconda3/lib/python3.8/site-packages/semilearn/core/algorithmbase.py:64: FutureWarning: `torch.cuda.amp.GradScaler(args...)` is deprecated. Please use `torch.amp.GradScaler('cuda', args...)` instead.\n",
      "  self.loss_scaler = GradScaler()\n"
     ]
    },
    {
     "name": "stdout",
     "output_type": "stream",
     "text": [
      "Files already downloaded and verified\n",
      "lb count: [250, 250]\n",
      "ulb count: [5000, 5000]\n",
      "Files already downloaded and verified\n",
      "unlabeled data number: 10000, labeled data number 500\n",
      "Create train and test data loaders\n",
      "[!] data loader keys: dict_keys(['train_lb', 'train_ulb', 'eval'])\n",
      "_IncompatibleKeys(missing_keys=['head.weight', 'head.bias'], unexpected_keys=[])\n",
      "Create optimizer and scheduler\n",
      "Epoch: 0\n"
     ]
    },
    {
     "name": "stderr",
     "output_type": "stream",
     "text": [
      "/root/miniconda3/lib/python3.8/site-packages/sklearn/metrics/_classification.py:1471: UndefinedMetricWarning: Precision is ill-defined and being set to 0.0 in labels with no predicted samples. Use `zero_division` parameter to control this behavior.\n",
      "  _warn_prf(average, modifier, msg_start, len(result))\n",
      "2024-09-26 19:27:25,456 - INFO - confusion matrix\n",
      "2024-09-26 19:27:25,457 - INFO - [[1. 0.]\n",
      " [1. 0.]]\n",
      "2024-09-26 19:27:25,459 - INFO - evaluation metric\n",
      "2024-09-26 19:27:25,459 - INFO - acc: 0.7500\n",
      "2024-09-26 19:27:25,460 - INFO - precision: 0.3750\n",
      "2024-09-26 19:27:25,461 - INFO - recall: 0.5000\n",
      "2024-09-26 19:27:25,461 - INFO - f1: 0.4286\n",
      "2024-09-26 19:27:25,704 - INFO - Best acc 0.7500 at epoch 0\n",
      "2024-09-26 19:27:25,705 - INFO - Training finished.\n"
     ]
    },
    {
     "name": "stdout",
     "output_type": "stream",
     "text": [
      "model saved: ./saved_models/fixmatch/latest_model.pth\n",
      "model saved: ./saved_models/fixmatch/model_best.pth\n"
     ]
    },
    {
     "name": "stderr",
     "output_type": "stream",
     "text": [
      "/root/miniconda3/lib/python3.8/site-packages/sklearn/metrics/_classification.py:1471: UndefinedMetricWarning: Precision is ill-defined and being set to 0.0 in labels with no predicted samples. Use `zero_division` parameter to control this behavior.\n",
      "  _warn_prf(average, modifier, msg_start, len(result))\n",
      "2024-09-26 19:27:25,952 - INFO - confusion matrix\n",
      "2024-09-26 19:27:25,953 - INFO - [[1. 0.]\n",
      " [1. 0.]]\n",
      "2024-09-26 19:27:25,955 - INFO - evaluation metric\n",
      "2024-09-26 19:27:25,955 - INFO - acc: 0.7500\n",
      "2024-09-26 19:27:25,956 - INFO - precision: 0.3750\n",
      "2024-09-26 19:27:25,956 - INFO - recall: 0.5000\n",
      "2024-09-26 19:27:25,957 - INFO - f1: 0.4286\n",
      "2024-09-26 19:27:25,966 - INFO - 训练结束 - 算法: fixmatch, 数据集: bank, 隐藏比例: RATIO_0_1, 结束时间: 2024-09-26 19:27:25.966110\n",
      "2024-09-26 19:27:25,966 - INFO - 训练时长: 0:00:04.443064\n",
      "2024-09-26 19:27:25,966 - INFO - 结果已存储 - 算法: fixmatch, 数据集: bank, 隐藏比例: RATIO_0_1\n",
      "2024-09-26 19:27:25,967 - INFO - 正在运行实验 - 算法: fixmatch, 数据集: bank, 隐藏比例: RATIO_0_2\n",
      "2024-09-26 19:27:25,967 - INFO - 配置详情 - 有标签样本数: 1000,无标签样本数: 32950,一共2000\n",
      "/bin/sh: 1: netstat: not found\n",
      "2024-09-26 19:27:26,013 - INFO - 训练开始 - 算法: fixmatch, 数据集: bank, 隐藏比例: RATIO_0_2, 开始时间: 2024-09-26 19:27:26.013444\n",
      "/root/miniconda3/lib/python3.8/site-packages/semilearn/core/algorithmbase.py:64: FutureWarning: `torch.cuda.amp.GradScaler(args...)` is deprecated. Please use `torch.amp.GradScaler('cuda', args...)` instead.\n",
      "  self.loss_scaler = GradScaler()\n"
     ]
    },
    {
     "name": "stdout",
     "output_type": "stream",
     "text": [
      "Files already downloaded and verified\n",
      "lb count: [500, 500]\n",
      "ulb count: [5000, 5000]\n",
      "Files already downloaded and verified\n",
      "unlabeled data number: 10000, labeled data number 1000\n",
      "Create train and test data loaders\n",
      "[!] data loader keys: dict_keys(['train_lb', 'train_ulb', 'eval'])\n",
      "_IncompatibleKeys(missing_keys=['head.weight', 'head.bias'], unexpected_keys=[])\n",
      "Create optimizer and scheduler\n",
      "Epoch: 0\n"
     ]
    },
    {
     "name": "stderr",
     "output_type": "stream",
     "text": [
      "/root/miniconda3/lib/python3.8/site-packages/sklearn/metrics/_classification.py:1471: UndefinedMetricWarning: Precision is ill-defined and being set to 0.0 in labels with no predicted samples. Use `zero_division` parameter to control this behavior.\n",
      "  _warn_prf(average, modifier, msg_start, len(result))\n",
      "2024-09-26 19:27:29,962 - INFO - confusion matrix\n",
      "2024-09-26 19:27:29,963 - INFO - [[1. 0.]\n",
      " [1. 0.]]\n",
      "2024-09-26 19:27:29,965 - INFO - evaluation metric\n",
      "2024-09-26 19:27:29,965 - INFO - acc: 0.3750\n",
      "2024-09-26 19:27:29,966 - INFO - precision: 0.1875\n",
      "2024-09-26 19:27:29,966 - INFO - recall: 0.5000\n",
      "2024-09-26 19:27:29,967 - INFO - f1: 0.2727\n",
      "2024-09-26 19:27:30,208 - INFO - Best acc 0.3750 at epoch 0\n",
      "2024-09-26 19:27:30,209 - INFO - Training finished.\n"
     ]
    },
    {
     "name": "stdout",
     "output_type": "stream",
     "text": [
      "model saved: ./saved_models/fixmatch/latest_model.pth\n",
      "model saved: ./saved_models/fixmatch/model_best.pth\n"
     ]
    },
    {
     "name": "stderr",
     "output_type": "stream",
     "text": [
      "/root/miniconda3/lib/python3.8/site-packages/sklearn/metrics/_classification.py:1471: UndefinedMetricWarning: Precision is ill-defined and being set to 0.0 in labels with no predicted samples. Use `zero_division` parameter to control this behavior.\n",
      "  _warn_prf(average, modifier, msg_start, len(result))\n",
      "2024-09-26 19:27:30,460 - INFO - confusion matrix\n",
      "2024-09-26 19:27:30,461 - INFO - [[1. 0.]\n",
      " [1. 0.]]\n",
      "2024-09-26 19:27:30,463 - INFO - evaluation metric\n",
      "2024-09-26 19:27:30,464 - INFO - acc: 0.3750\n",
      "2024-09-26 19:27:30,464 - INFO - precision: 0.1875\n",
      "2024-09-26 19:27:30,465 - INFO - recall: 0.5000\n",
      "2024-09-26 19:27:30,465 - INFO - f1: 0.2727\n",
      "2024-09-26 19:27:30,474 - INFO - 训练结束 - 算法: fixmatch, 数据集: bank, 隐藏比例: RATIO_0_2, 结束时间: 2024-09-26 19:27:30.474606\n",
      "2024-09-26 19:27:30,475 - INFO - 训练时长: 0:00:04.461162\n",
      "2024-09-26 19:27:30,475 - INFO - 结果已存储 - 算法: fixmatch, 数据集: bank, 隐藏比例: RATIO_0_2\n",
      "2024-09-26 19:27:30,475 - INFO - 正在运行实验 - 算法: fixmatch, 数据集: bank, 隐藏比例: RATIO_0_3\n",
      "2024-09-26 19:27:30,476 - INFO - 配置详情 - 有标签样本数: 1500,无标签样本数: 28832,一共3000\n",
      "/bin/sh: 1: netstat: not found\n",
      "2024-09-26 19:27:30,526 - INFO - 训练开始 - 算法: fixmatch, 数据集: bank, 隐藏比例: RATIO_0_3, 开始时间: 2024-09-26 19:27:30.526431\n",
      "/root/miniconda3/lib/python3.8/site-packages/semilearn/core/algorithmbase.py:64: FutureWarning: `torch.cuda.amp.GradScaler(args...)` is deprecated. Please use `torch.amp.GradScaler('cuda', args...)` instead.\n",
      "  self.loss_scaler = GradScaler()\n"
     ]
    },
    {
     "name": "stdout",
     "output_type": "stream",
     "text": [
      "Files already downloaded and verified\n",
      "lb count: [750, 750]\n",
      "ulb count: [5000, 5000]\n",
      "Files already downloaded and verified\n",
      "unlabeled data number: 10000, labeled data number 1500\n",
      "Create train and test data loaders\n",
      "[!] data loader keys: dict_keys(['train_lb', 'train_ulb', 'eval'])\n",
      "_IncompatibleKeys(missing_keys=['head.weight', 'head.bias'], unexpected_keys=[])\n",
      "Create optimizer and scheduler\n",
      "Epoch: 0\n"
     ]
    },
    {
     "name": "stderr",
     "output_type": "stream",
     "text": [
      "/root/miniconda3/lib/python3.8/site-packages/sklearn/metrics/_classification.py:1471: UndefinedMetricWarning: Precision is ill-defined and being set to 0.0 in labels with no predicted samples. Use `zero_division` parameter to control this behavior.\n",
      "  _warn_prf(average, modifier, msg_start, len(result))\n",
      "2024-09-26 19:27:34,280 - INFO - confusion matrix\n",
      "2024-09-26 19:27:34,281 - INFO - [[1. 0.]\n",
      " [1. 0.]]\n",
      "2024-09-26 19:27:34,283 - INFO - evaluation metric\n",
      "2024-09-26 19:27:34,284 - INFO - acc: 0.7500\n",
      "2024-09-26 19:27:34,284 - INFO - precision: 0.3750\n",
      "2024-09-26 19:27:34,285 - INFO - recall: 0.5000\n",
      "2024-09-26 19:27:34,285 - INFO - f1: 0.4286\n",
      "2024-09-26 19:27:34,519 - INFO - Best acc 0.7500 at epoch 0\n",
      "2024-09-26 19:27:34,520 - INFO - Training finished.\n"
     ]
    },
    {
     "name": "stdout",
     "output_type": "stream",
     "text": [
      "model saved: ./saved_models/fixmatch/latest_model.pth\n",
      "model saved: ./saved_models/fixmatch/model_best.pth\n"
     ]
    },
    {
     "name": "stderr",
     "output_type": "stream",
     "text": [
      "/root/miniconda3/lib/python3.8/site-packages/sklearn/metrics/_classification.py:1471: UndefinedMetricWarning: Precision is ill-defined and being set to 0.0 in labels with no predicted samples. Use `zero_division` parameter to control this behavior.\n",
      "  _warn_prf(average, modifier, msg_start, len(result))\n",
      "2024-09-26 19:27:34,770 - INFO - confusion matrix\n",
      "2024-09-26 19:27:34,770 - INFO - [[1. 0.]\n",
      " [1. 0.]]\n",
      "2024-09-26 19:27:34,773 - INFO - evaluation metric\n",
      "2024-09-26 19:27:34,773 - INFO - acc: 0.7500\n",
      "2024-09-26 19:27:34,774 - INFO - precision: 0.3750\n",
      "2024-09-26 19:27:34,774 - INFO - recall: 0.5000\n",
      "2024-09-26 19:27:34,775 - INFO - f1: 0.4286\n",
      "2024-09-26 19:27:34,784 - INFO - 训练结束 - 算法: fixmatch, 数据集: bank, 隐藏比例: RATIO_0_3, 结束时间: 2024-09-26 19:27:34.784457\n",
      "2024-09-26 19:27:34,784 - INFO - 训练时长: 0:00:04.258026\n",
      "2024-09-26 19:27:34,785 - INFO - 结果已存储 - 算法: fixmatch, 数据集: bank, 隐藏比例: RATIO_0_3\n",
      "2024-09-26 19:27:34,785 - INFO - 正在运行实验 - 算法: fixmatch, 数据集: bank, 隐藏比例: RATIO_0_4\n",
      "2024-09-26 19:27:34,786 - INFO - 配置详情 - 有标签样本数: 2000,无标签样本数: 24712,一共4000\n",
      "/bin/sh: 1: netstat: not found\n",
      "2024-09-26 19:27:34,831 - INFO - 训练开始 - 算法: fixmatch, 数据集: bank, 隐藏比例: RATIO_0_4, 开始时间: 2024-09-26 19:27:34.831034\n",
      "/root/miniconda3/lib/python3.8/site-packages/semilearn/core/algorithmbase.py:64: FutureWarning: `torch.cuda.amp.GradScaler(args...)` is deprecated. Please use `torch.amp.GradScaler('cuda', args...)` instead.\n",
      "  self.loss_scaler = GradScaler()\n"
     ]
    },
    {
     "name": "stdout",
     "output_type": "stream",
     "text": [
      "Files already downloaded and verified\n",
      "lb count: [1000, 1000]\n",
      "ulb count: [5000, 5000]\n",
      "Files already downloaded and verified\n",
      "unlabeled data number: 10000, labeled data number 2000\n",
      "Create train and test data loaders\n",
      "[!] data loader keys: dict_keys(['train_lb', 'train_ulb', 'eval'])\n",
      "_IncompatibleKeys(missing_keys=['head.weight', 'head.bias'], unexpected_keys=[])\n",
      "Create optimizer and scheduler\n",
      "Epoch: 0\n"
     ]
    },
    {
     "name": "stderr",
     "output_type": "stream",
     "text": [
      "/root/miniconda3/lib/python3.8/site-packages/sklearn/metrics/_classification.py:1471: UndefinedMetricWarning: Precision is ill-defined and being set to 0.0 in labels with no predicted samples. Use `zero_division` parameter to control this behavior.\n",
      "  _warn_prf(average, modifier, msg_start, len(result))\n",
      "2024-09-26 19:27:38,712 - INFO - confusion matrix\n",
      "2024-09-26 19:27:38,713 - INFO - [[1. 0.]\n",
      " [1. 0.]]\n",
      "2024-09-26 19:27:38,715 - INFO - evaluation metric\n",
      "2024-09-26 19:27:38,716 - INFO - acc: 0.2500\n",
      "2024-09-26 19:27:38,717 - INFO - precision: 0.1250\n",
      "2024-09-26 19:27:38,717 - INFO - recall: 0.5000\n",
      "2024-09-26 19:27:38,718 - INFO - f1: 0.2000\n",
      "2024-09-26 19:27:39,216 - INFO - Best acc 0.2500 at epoch 0\n",
      "2024-09-26 19:27:39,217 - INFO - Training finished.\n"
     ]
    },
    {
     "name": "stdout",
     "output_type": "stream",
     "text": [
      "model saved: ./saved_models/fixmatch/latest_model.pth\n",
      "model saved: ./saved_models/fixmatch/model_best.pth\n"
     ]
    },
    {
     "name": "stderr",
     "output_type": "stream",
     "text": [
      "/root/miniconda3/lib/python3.8/site-packages/sklearn/metrics/_classification.py:1471: UndefinedMetricWarning: Precision is ill-defined and being set to 0.0 in labels with no predicted samples. Use `zero_division` parameter to control this behavior.\n",
      "  _warn_prf(average, modifier, msg_start, len(result))\n",
      "2024-09-26 19:27:39,460 - INFO - confusion matrix\n",
      "2024-09-26 19:27:39,461 - INFO - [[1. 0.]\n",
      " [1. 0.]]\n",
      "2024-09-26 19:27:39,463 - INFO - evaluation metric\n",
      "2024-09-26 19:27:39,464 - INFO - acc: 0.2500\n",
      "2024-09-26 19:27:39,464 - INFO - precision: 0.1250\n",
      "2024-09-26 19:27:39,465 - INFO - recall: 0.5000\n",
      "2024-09-26 19:27:39,465 - INFO - f1: 0.2000\n",
      "2024-09-26 19:27:39,475 - INFO - 训练结束 - 算法: fixmatch, 数据集: bank, 隐藏比例: RATIO_0_4, 结束时间: 2024-09-26 19:27:39.475444\n",
      "2024-09-26 19:27:39,476 - INFO - 训练时长: 0:00:04.644410\n",
      "2024-09-26 19:27:39,476 - INFO - 结果已存储 - 算法: fixmatch, 数据集: bank, 隐藏比例: RATIO_0_4\n",
      "2024-09-26 19:27:39,476 - INFO - 正在运行实验 - 算法: fixmatch, 数据集: bank, 隐藏比例: RATIO_0_5\n",
      "2024-09-26 19:27:39,477 - INFO - 配置详情 - 有标签样本数: 2500,无标签样本数: 20594,一共5000\n",
      "/bin/sh: 1: netstat: not found\n",
      "2024-09-26 19:27:39,520 - INFO - 训练开始 - 算法: fixmatch, 数据集: bank, 隐藏比例: RATIO_0_5, 开始时间: 2024-09-26 19:27:39.520195\n",
      "/root/miniconda3/lib/python3.8/site-packages/semilearn/core/algorithmbase.py:64: FutureWarning: `torch.cuda.amp.GradScaler(args...)` is deprecated. Please use `torch.amp.GradScaler('cuda', args...)` instead.\n",
      "  self.loss_scaler = GradScaler()\n"
     ]
    },
    {
     "name": "stdout",
     "output_type": "stream",
     "text": [
      "Files already downloaded and verified\n",
      "lb count: [1250, 1250]\n",
      "ulb count: [5000, 5000]\n",
      "Files already downloaded and verified\n",
      "unlabeled data number: 10000, labeled data number 2500\n",
      "Create train and test data loaders\n",
      "[!] data loader keys: dict_keys(['train_lb', 'train_ulb', 'eval'])\n",
      "_IncompatibleKeys(missing_keys=['head.weight', 'head.bias'], unexpected_keys=[])\n",
      "Create optimizer and scheduler\n",
      "Epoch: 0\n"
     ]
    },
    {
     "name": "stderr",
     "output_type": "stream",
     "text": [
      "/root/miniconda3/lib/python3.8/site-packages/sklearn/metrics/_classification.py:1471: UndefinedMetricWarning: Precision is ill-defined and being set to 0.0 in labels with no predicted samples. Use `zero_division` parameter to control this behavior.\n",
      "  _warn_prf(average, modifier, msg_start, len(result))\n",
      "2024-09-26 19:27:43,426 - INFO - confusion matrix\n",
      "2024-09-26 19:27:43,426 - INFO - [[1. 0.]\n",
      " [1. 0.]]\n",
      "2024-09-26 19:27:43,429 - INFO - evaluation metric\n",
      "2024-09-26 19:27:43,430 - INFO - acc: 0.7500\n",
      "2024-09-26 19:27:43,430 - INFO - precision: 0.3750\n",
      "2024-09-26 19:27:43,431 - INFO - recall: 0.5000\n",
      "2024-09-26 19:27:43,431 - INFO - f1: 0.4286\n",
      "2024-09-26 19:27:43,699 - INFO - Best acc 0.7500 at epoch 0\n",
      "2024-09-26 19:27:43,700 - INFO - Training finished.\n"
     ]
    },
    {
     "name": "stdout",
     "output_type": "stream",
     "text": [
      "model saved: ./saved_models/fixmatch/latest_model.pth\n",
      "model saved: ./saved_models/fixmatch/model_best.pth\n"
     ]
    },
    {
     "name": "stderr",
     "output_type": "stream",
     "text": [
      "/root/miniconda3/lib/python3.8/site-packages/sklearn/metrics/_classification.py:1471: UndefinedMetricWarning: Precision is ill-defined and being set to 0.0 in labels with no predicted samples. Use `zero_division` parameter to control this behavior.\n",
      "  _warn_prf(average, modifier, msg_start, len(result))\n",
      "2024-09-26 19:27:43,987 - INFO - confusion matrix\n",
      "2024-09-26 19:27:43,988 - INFO - [[1. 0.]\n",
      " [1. 0.]]\n",
      "2024-09-26 19:27:43,991 - INFO - evaluation metric\n",
      "2024-09-26 19:27:43,991 - INFO - acc: 0.7500\n",
      "2024-09-26 19:27:43,992 - INFO - precision: 0.3750\n",
      "2024-09-26 19:27:43,992 - INFO - recall: 0.5000\n",
      "2024-09-26 19:27:43,993 - INFO - f1: 0.4286\n",
      "2024-09-26 19:27:43,997 - INFO - 训练结束 - 算法: fixmatch, 数据集: bank, 隐藏比例: RATIO_0_5, 结束时间: 2024-09-26 19:27:43.997881\n",
      "2024-09-26 19:27:43,998 - INFO - 训练时长: 0:00:04.477686\n",
      "2024-09-26 19:27:43,998 - INFO - 结果已存储 - 算法: fixmatch, 数据集: bank, 隐藏比例: RATIO_0_5\n",
      "2024-09-26 19:27:43,999 - INFO - 正在运行实验 - 算法: fixmatch, 数据集: bank, 隐藏比例: RATIO_0_6\n",
      "2024-09-26 19:27:43,999 - INFO - 配置详情 - 有标签样本数: 3000,无标签样本数: 16476,一共6000\n",
      "/bin/sh: 1: netstat: not found\n",
      "2024-09-26 19:27:44,042 - INFO - 训练开始 - 算法: fixmatch, 数据集: bank, 隐藏比例: RATIO_0_6, 开始时间: 2024-09-26 19:27:44.042059\n",
      "/root/miniconda3/lib/python3.8/site-packages/semilearn/core/algorithmbase.py:64: FutureWarning: `torch.cuda.amp.GradScaler(args...)` is deprecated. Please use `torch.amp.GradScaler('cuda', args...)` instead.\n",
      "  self.loss_scaler = GradScaler()\n"
     ]
    },
    {
     "name": "stdout",
     "output_type": "stream",
     "text": [
      "Files already downloaded and verified\n",
      "lb count: [1500, 1500]\n",
      "ulb count: [5000, 5000]\n",
      "Files already downloaded and verified\n",
      "unlabeled data number: 10000, labeled data number 3000\n",
      "Create train and test data loaders\n",
      "[!] data loader keys: dict_keys(['train_lb', 'train_ulb', 'eval'])\n",
      "_IncompatibleKeys(missing_keys=['head.weight', 'head.bias'], unexpected_keys=[])\n",
      "Create optimizer and scheduler\n",
      "Epoch: 0\n"
     ]
    },
    {
     "name": "stderr",
     "output_type": "stream",
     "text": [
      "/root/miniconda3/lib/python3.8/site-packages/sklearn/metrics/_classification.py:1471: UndefinedMetricWarning: Precision is ill-defined and being set to 0.0 in labels with no predicted samples. Use `zero_division` parameter to control this behavior.\n",
      "  _warn_prf(average, modifier, msg_start, len(result))\n",
      "2024-09-26 19:27:47,948 - INFO - confusion matrix\n",
      "2024-09-26 19:27:47,949 - INFO - [[1. 0.]\n",
      " [1. 0.]]\n",
      "2024-09-26 19:27:47,952 - INFO - evaluation metric\n",
      "2024-09-26 19:27:47,952 - INFO - acc: 0.6250\n",
      "2024-09-26 19:27:47,953 - INFO - precision: 0.3125\n",
      "2024-09-26 19:27:47,954 - INFO - recall: 0.5000\n",
      "2024-09-26 19:27:47,954 - INFO - f1: 0.3846\n",
      "2024-09-26 19:27:48,202 - INFO - Best acc 0.6250 at epoch 0\n",
      "2024-09-26 19:27:48,203 - INFO - Training finished.\n"
     ]
    },
    {
     "name": "stdout",
     "output_type": "stream",
     "text": [
      "model saved: ./saved_models/fixmatch/latest_model.pth\n",
      "model saved: ./saved_models/fixmatch/model_best.pth\n"
     ]
    },
    {
     "name": "stderr",
     "output_type": "stream",
     "text": [
      "/root/miniconda3/lib/python3.8/site-packages/sklearn/metrics/_classification.py:1471: UndefinedMetricWarning: Precision is ill-defined and being set to 0.0 in labels with no predicted samples. Use `zero_division` parameter to control this behavior.\n",
      "  _warn_prf(average, modifier, msg_start, len(result))\n",
      "2024-09-26 19:27:48,477 - INFO - confusion matrix\n",
      "2024-09-26 19:27:48,478 - INFO - [[1. 0.]\n",
      " [1. 0.]]\n",
      "2024-09-26 19:27:48,481 - INFO - evaluation metric\n",
      "2024-09-26 19:27:48,482 - INFO - acc: 0.6250\n",
      "2024-09-26 19:27:48,482 - INFO - precision: 0.3125\n",
      "2024-09-26 19:27:48,483 - INFO - recall: 0.5000\n",
      "2024-09-26 19:27:48,483 - INFO - f1: 0.3846\n",
      "2024-09-26 19:27:48,489 - INFO - 训练结束 - 算法: fixmatch, 数据集: bank, 隐藏比例: RATIO_0_6, 结束时间: 2024-09-26 19:27:48.489530\n",
      "2024-09-26 19:27:48,490 - INFO - 训练时长: 0:00:04.447471\n",
      "2024-09-26 19:27:48,490 - INFO - 结果已存储 - 算法: fixmatch, 数据集: bank, 隐藏比例: RATIO_0_6\n",
      "2024-09-26 19:27:48,491 - INFO - 正在运行实验 - 算法: fixmatch, 数据集: bank, 隐藏比例: RATIO_0_7\n",
      "2024-09-26 19:27:48,491 - INFO - 配置详情 - 有标签样本数: 3500,无标签样本数: 12356,一共7000\n",
      "/bin/sh: 1: netstat: not found\n",
      "2024-09-26 19:27:48,564 - INFO - 训练开始 - 算法: fixmatch, 数据集: bank, 隐藏比例: RATIO_0_7, 开始时间: 2024-09-26 19:27:48.564869\n",
      "/root/miniconda3/lib/python3.8/site-packages/semilearn/core/algorithmbase.py:64: FutureWarning: `torch.cuda.amp.GradScaler(args...)` is deprecated. Please use `torch.amp.GradScaler('cuda', args...)` instead.\n",
      "  self.loss_scaler = GradScaler()\n"
     ]
    },
    {
     "name": "stdout",
     "output_type": "stream",
     "text": [
      "Files already downloaded and verified\n",
      "lb count: [1750, 1750]\n",
      "ulb count: [5000, 5000]\n",
      "Files already downloaded and verified\n",
      "unlabeled data number: 10000, labeled data number 3500\n",
      "Create train and test data loaders\n",
      "[!] data loader keys: dict_keys(['train_lb', 'train_ulb', 'eval'])\n",
      "_IncompatibleKeys(missing_keys=['head.weight', 'head.bias'], unexpected_keys=[])\n",
      "Create optimizer and scheduler\n",
      "Epoch: 0\n"
     ]
    },
    {
     "name": "stderr",
     "output_type": "stream",
     "text": [
      "/root/miniconda3/lib/python3.8/site-packages/sklearn/metrics/_classification.py:1471: UndefinedMetricWarning: Precision is ill-defined and being set to 0.0 in labels with no predicted samples. Use `zero_division` parameter to control this behavior.\n",
      "  _warn_prf(average, modifier, msg_start, len(result))\n",
      "2024-09-26 19:27:52,356 - INFO - confusion matrix\n",
      "2024-09-26 19:27:52,357 - INFO - [[0. 1.]\n",
      " [0. 1.]]\n",
      "2024-09-26 19:27:52,360 - INFO - evaluation metric\n",
      "2024-09-26 19:27:52,360 - INFO - acc: 0.6250\n",
      "2024-09-26 19:27:52,361 - INFO - precision: 0.3125\n",
      "2024-09-26 19:27:52,362 - INFO - recall: 0.5000\n",
      "2024-09-26 19:27:52,362 - INFO - f1: 0.3846\n",
      "2024-09-26 19:27:52,605 - INFO - Best acc 0.6250 at epoch 0\n",
      "2024-09-26 19:27:52,606 - INFO - Training finished.\n"
     ]
    },
    {
     "name": "stdout",
     "output_type": "stream",
     "text": [
      "model saved: ./saved_models/fixmatch/latest_model.pth\n",
      "model saved: ./saved_models/fixmatch/model_best.pth\n"
     ]
    },
    {
     "name": "stderr",
     "output_type": "stream",
     "text": [
      "/root/miniconda3/lib/python3.8/site-packages/sklearn/metrics/_classification.py:1471: UndefinedMetricWarning: Precision is ill-defined and being set to 0.0 in labels with no predicted samples. Use `zero_division` parameter to control this behavior.\n",
      "  _warn_prf(average, modifier, msg_start, len(result))\n",
      "2024-09-26 19:27:52,875 - INFO - confusion matrix\n",
      "2024-09-26 19:27:52,876 - INFO - [[0. 1.]\n",
      " [0. 1.]]\n",
      "2024-09-26 19:27:52,879 - INFO - evaluation metric\n",
      "2024-09-26 19:27:52,880 - INFO - acc: 0.6250\n",
      "2024-09-26 19:27:52,880 - INFO - precision: 0.3125\n",
      "2024-09-26 19:27:52,881 - INFO - recall: 0.5000\n",
      "2024-09-26 19:27:52,881 - INFO - f1: 0.3846\n",
      "2024-09-26 19:27:52,886 - INFO - 训练结束 - 算法: fixmatch, 数据集: bank, 隐藏比例: RATIO_0_7, 结束时间: 2024-09-26 19:27:52.886302\n",
      "2024-09-26 19:27:52,886 - INFO - 训练时长: 0:00:04.321433\n",
      "2024-09-26 19:27:52,887 - INFO - 结果已存储 - 算法: fixmatch, 数据集: bank, 隐藏比例: RATIO_0_7\n",
      "2024-09-26 19:27:52,887 - INFO - 正在运行实验 - 算法: fixmatch, 数据集: bank, 隐藏比例: RATIO_0_8\n",
      "2024-09-26 19:27:52,888 - INFO - 配置详情 - 有标签样本数: 4000,无标签样本数: 8238,一共8000\n",
      "/bin/sh: 1: netstat: not found\n",
      "2024-09-26 19:27:52,932 - INFO - 训练开始 - 算法: fixmatch, 数据集: bank, 隐藏比例: RATIO_0_8, 开始时间: 2024-09-26 19:27:52.932022\n",
      "/root/miniconda3/lib/python3.8/site-packages/semilearn/core/algorithmbase.py:64: FutureWarning: `torch.cuda.amp.GradScaler(args...)` is deprecated. Please use `torch.amp.GradScaler('cuda', args...)` instead.\n",
      "  self.loss_scaler = GradScaler()\n"
     ]
    },
    {
     "name": "stdout",
     "output_type": "stream",
     "text": [
      "Files already downloaded and verified\n",
      "lb count: [2000, 2000]\n",
      "ulb count: [5000, 5000]\n",
      "Files already downloaded and verified\n",
      "unlabeled data number: 10000, labeled data number 4000\n",
      "Create train and test data loaders\n",
      "[!] data loader keys: dict_keys(['train_lb', 'train_ulb', 'eval'])\n",
      "_IncompatibleKeys(missing_keys=['head.weight', 'head.bias'], unexpected_keys=[])\n",
      "Create optimizer and scheduler\n",
      "Epoch: 0\n"
     ]
    },
    {
     "name": "stderr",
     "output_type": "stream",
     "text": [
      "/root/miniconda3/lib/python3.8/site-packages/sklearn/metrics/_classification.py:1471: UndefinedMetricWarning: Precision is ill-defined and being set to 0.0 in labels with no predicted samples. Use `zero_division` parameter to control this behavior.\n",
      "  _warn_prf(average, modifier, msg_start, len(result))\n",
      "2024-09-26 19:27:56,780 - INFO - confusion matrix\n",
      "2024-09-26 19:27:56,781 - INFO - [[1. 0.]\n",
      " [1. 0.]]\n",
      "2024-09-26 19:27:56,784 - INFO - evaluation metric\n",
      "2024-09-26 19:27:56,784 - INFO - acc: 0.6250\n",
      "2024-09-26 19:27:56,785 - INFO - precision: 0.3125\n",
      "2024-09-26 19:27:56,786 - INFO - recall: 0.5000\n",
      "2024-09-26 19:27:56,786 - INFO - f1: 0.3846\n",
      "2024-09-26 19:27:57,041 - INFO - Best acc 0.6250 at epoch 0\n",
      "2024-09-26 19:27:57,042 - INFO - Training finished.\n"
     ]
    },
    {
     "name": "stdout",
     "output_type": "stream",
     "text": [
      "model saved: ./saved_models/fixmatch/latest_model.pth\n",
      "model saved: ./saved_models/fixmatch/model_best.pth\n"
     ]
    },
    {
     "name": "stderr",
     "output_type": "stream",
     "text": [
      "/root/miniconda3/lib/python3.8/site-packages/sklearn/metrics/_classification.py:1471: UndefinedMetricWarning: Precision is ill-defined and being set to 0.0 in labels with no predicted samples. Use `zero_division` parameter to control this behavior.\n",
      "  _warn_prf(average, modifier, msg_start, len(result))\n",
      "2024-09-26 19:27:57,353 - INFO - confusion matrix\n",
      "2024-09-26 19:27:57,354 - INFO - [[1. 0.]\n",
      " [1. 0.]]\n",
      "2024-09-26 19:27:57,357 - INFO - evaluation metric\n",
      "2024-09-26 19:27:57,358 - INFO - acc: 0.6250\n",
      "2024-09-26 19:27:57,359 - INFO - precision: 0.3125\n",
      "2024-09-26 19:27:57,359 - INFO - recall: 0.5000\n",
      "2024-09-26 19:27:57,360 - INFO - f1: 0.3846\n",
      "2024-09-26 19:27:57,364 - INFO - 训练结束 - 算法: fixmatch, 数据集: bank, 隐藏比例: RATIO_0_8, 结束时间: 2024-09-26 19:27:57.364483\n",
      "2024-09-26 19:27:57,364 - INFO - 训练时长: 0:00:04.432461\n",
      "2024-09-26 19:27:57,365 - INFO - 结果已存储 - 算法: fixmatch, 数据集: bank, 隐藏比例: RATIO_0_8\n",
      "2024-09-26 19:27:57,365 - INFO - 正在运行实验 - 算法: fixmatch, 数据集: bank, 隐藏比例: RATIO_0_9\n",
      "2024-09-26 19:27:57,365 - INFO - 配置详情 - 有标签样本数: 4500,无标签样本数: 4118,一共9000\n",
      "/bin/sh: 1: netstat: not found\n",
      "2024-09-26 19:27:57,406 - INFO - 训练开始 - 算法: fixmatch, 数据集: bank, 隐藏比例: RATIO_0_9, 开始时间: 2024-09-26 19:27:57.406796\n",
      "/root/miniconda3/lib/python3.8/site-packages/semilearn/core/algorithmbase.py:64: FutureWarning: `torch.cuda.amp.GradScaler(args...)` is deprecated. Please use `torch.amp.GradScaler('cuda', args...)` instead.\n",
      "  self.loss_scaler = GradScaler()\n"
     ]
    },
    {
     "name": "stdout",
     "output_type": "stream",
     "text": [
      "Files already downloaded and verified\n",
      "lb count: [2250, 2250]\n",
      "ulb count: [4309, 4309]\n",
      "Files already downloaded and verified\n",
      "unlabeled data number: 8618, labeled data number 4500\n",
      "Create train and test data loaders\n",
      "[!] data loader keys: dict_keys(['train_lb', 'train_ulb', 'eval'])\n",
      "_IncompatibleKeys(missing_keys=['head.weight', 'head.bias'], unexpected_keys=[])\n",
      "Create optimizer and scheduler\n",
      "Epoch: 0\n"
     ]
    },
    {
     "name": "stderr",
     "output_type": "stream",
     "text": [
      "/root/miniconda3/lib/python3.8/site-packages/sklearn/metrics/_classification.py:1471: UndefinedMetricWarning: Precision is ill-defined and being set to 0.0 in labels with no predicted samples. Use `zero_division` parameter to control this behavior.\n",
      "  _warn_prf(average, modifier, msg_start, len(result))\n",
      "2024-09-26 19:28:01,259 - INFO - confusion matrix\n",
      "2024-09-26 19:28:01,260 - INFO - [[1. 0.]\n",
      " [1. 0.]]\n",
      "2024-09-26 19:28:01,263 - INFO - evaluation metric\n",
      "2024-09-26 19:28:01,264 - INFO - acc: 0.6250\n",
      "2024-09-26 19:28:01,264 - INFO - precision: 0.3125\n",
      "2024-09-26 19:28:01,265 - INFO - recall: 0.5000\n",
      "2024-09-26 19:28:01,265 - INFO - f1: 0.3846\n",
      "2024-09-26 19:28:01,514 - INFO - Best acc 0.6250 at epoch 0\n",
      "2024-09-26 19:28:01,515 - INFO - Training finished.\n"
     ]
    },
    {
     "name": "stdout",
     "output_type": "stream",
     "text": [
      "model saved: ./saved_models/fixmatch/latest_model.pth\n",
      "model saved: ./saved_models/fixmatch/model_best.pth\n"
     ]
    },
    {
     "name": "stderr",
     "output_type": "stream",
     "text": [
      "/root/miniconda3/lib/python3.8/site-packages/sklearn/metrics/_classification.py:1471: UndefinedMetricWarning: Precision is ill-defined and being set to 0.0 in labels with no predicted samples. Use `zero_division` parameter to control this behavior.\n",
      "  _warn_prf(average, modifier, msg_start, len(result))\n",
      "2024-09-26 19:28:01,843 - INFO - confusion matrix\n",
      "2024-09-26 19:28:01,845 - INFO - [[1. 0.]\n",
      " [1. 0.]]\n",
      "2024-09-26 19:28:01,847 - INFO - evaluation metric\n",
      "2024-09-26 19:28:01,848 - INFO - acc: 0.6250\n",
      "2024-09-26 19:28:01,849 - INFO - precision: 0.3125\n",
      "2024-09-26 19:28:01,849 - INFO - recall: 0.5000\n",
      "2024-09-26 19:28:01,850 - INFO - f1: 0.3846\n",
      "2024-09-26 19:28:01,856 - INFO - 训练结束 - 算法: fixmatch, 数据集: bank, 隐藏比例: RATIO_0_9, 结束时间: 2024-09-26 19:28:01.856010\n",
      "2024-09-26 19:28:01,856 - INFO - 训练时长: 0:00:04.449214\n",
      "2024-09-26 19:28:01,857 - INFO - 结果已存储 - 算法: fixmatch, 数据集: bank, 隐藏比例: RATIO_0_9\n",
      "2024-09-26 19:28:01,857 - INFO - 正在运行实验 - 算法: fixmatch, 数据集: census, 隐藏比例: RATIO_0_1\n",
      "2024-09-26 19:28:01,857 - INFO - 配置详情 - 有标签样本数: 500,无标签样本数: 29304,一共1000\n",
      "/bin/sh: 1: netstat: not found\n",
      "2024-09-26 19:28:01,910 - INFO - 训练开始 - 算法: fixmatch, 数据集: census, 隐藏比例: RATIO_0_1, 开始时间: 2024-09-26 19:28:01.910799\n",
      "/root/miniconda3/lib/python3.8/site-packages/semilearn/core/algorithmbase.py:64: FutureWarning: `torch.cuda.amp.GradScaler(args...)` is deprecated. Please use `torch.amp.GradScaler('cuda', args...)` instead.\n",
      "  self.loss_scaler = GradScaler()\n"
     ]
    },
    {
     "name": "stdout",
     "output_type": "stream",
     "text": [
      "Files already downloaded and verified\n",
      "lb count: [250, 250]\n",
      "ulb count: [5000, 5000]\n",
      "Files already downloaded and verified\n",
      "unlabeled data number: 10000, labeled data number 500\n",
      "Create train and test data loaders\n",
      "[!] data loader keys: dict_keys(['train_lb', 'train_ulb', 'eval'])\n",
      "_IncompatibleKeys(missing_keys=['head.weight', 'head.bias'], unexpected_keys=[])\n",
      "Create optimizer and scheduler\n",
      "Epoch: 0\n"
     ]
    },
    {
     "name": "stderr",
     "output_type": "stream",
     "text": [
      "/root/miniconda3/lib/python3.8/site-packages/sklearn/metrics/_classification.py:1471: UndefinedMetricWarning: Precision is ill-defined and being set to 0.0 in labels with no predicted samples. Use `zero_division` parameter to control this behavior.\n",
      "  _warn_prf(average, modifier, msg_start, len(result))\n",
      "2024-09-26 19:28:05,757 - INFO - confusion matrix\n",
      "2024-09-26 19:28:05,758 - INFO - [[1. 0.]\n",
      " [1. 0.]]\n",
      "2024-09-26 19:28:05,763 - INFO - evaluation metric\n",
      "2024-09-26 19:28:05,764 - INFO - acc: 0.7500\n",
      "2024-09-26 19:28:05,765 - INFO - precision: 0.3750\n",
      "2024-09-26 19:28:05,765 - INFO - recall: 0.5000\n",
      "2024-09-26 19:28:05,766 - INFO - f1: 0.4286\n",
      "2024-09-26 19:28:06,042 - INFO - Best acc 0.7500 at epoch 0\n",
      "2024-09-26 19:28:06,043 - INFO - Training finished.\n"
     ]
    },
    {
     "name": "stdout",
     "output_type": "stream",
     "text": [
      "model saved: ./saved_models/fixmatch/latest_model.pth\n",
      "model saved: ./saved_models/fixmatch/model_best.pth\n"
     ]
    },
    {
     "name": "stderr",
     "output_type": "stream",
     "text": [
      "/root/miniconda3/lib/python3.8/site-packages/sklearn/metrics/_classification.py:1471: UndefinedMetricWarning: Precision is ill-defined and being set to 0.0 in labels with no predicted samples. Use `zero_division` parameter to control this behavior.\n",
      "  _warn_prf(average, modifier, msg_start, len(result))\n",
      "2024-09-26 19:28:06,359 - INFO - confusion matrix\n",
      "2024-09-26 19:28:06,360 - INFO - [[1. 0.]\n",
      " [1. 0.]]\n",
      "2024-09-26 19:28:06,363 - INFO - evaluation metric\n",
      "2024-09-26 19:28:06,364 - INFO - acc: 0.7500\n",
      "2024-09-26 19:28:06,364 - INFO - precision: 0.3750\n",
      "2024-09-26 19:28:06,365 - INFO - recall: 0.5000\n",
      "2024-09-26 19:28:06,365 - INFO - f1: 0.4286\n",
      "2024-09-26 19:28:06,370 - INFO - 训练结束 - 算法: fixmatch, 数据集: census, 隐藏比例: RATIO_0_1, 结束时间: 2024-09-26 19:28:06.370077\n",
      "2024-09-26 19:28:06,370 - INFO - 训练时长: 0:00:04.459278\n",
      "2024-09-26 19:28:06,370 - INFO - 结果已存储 - 算法: fixmatch, 数据集: census, 隐藏比例: RATIO_0_1\n",
      "2024-09-26 19:28:06,371 - INFO - 正在运行实验 - 算法: fixmatch, 数据集: census, 隐藏比例: RATIO_0_2\n",
      "2024-09-26 19:28:06,371 - INFO - 配置详情 - 有标签样本数: 1000,无标签样本数: 26048,一共2000\n",
      "/bin/sh: 1: netstat: not found\n",
      "2024-09-26 19:28:06,416 - INFO - 训练开始 - 算法: fixmatch, 数据集: census, 隐藏比例: RATIO_0_2, 开始时间: 2024-09-26 19:28:06.416715\n",
      "/root/miniconda3/lib/python3.8/site-packages/semilearn/core/algorithmbase.py:64: FutureWarning: `torch.cuda.amp.GradScaler(args...)` is deprecated. Please use `torch.amp.GradScaler('cuda', args...)` instead.\n",
      "  self.loss_scaler = GradScaler()\n"
     ]
    },
    {
     "name": "stdout",
     "output_type": "stream",
     "text": [
      "Files already downloaded and verified\n",
      "lb count: [500, 500]\n",
      "ulb count: [5000, 5000]\n",
      "Files already downloaded and verified\n",
      "unlabeled data number: 10000, labeled data number 1000\n",
      "Create train and test data loaders\n",
      "[!] data loader keys: dict_keys(['train_lb', 'train_ulb', 'eval'])\n",
      "_IncompatibleKeys(missing_keys=['head.weight', 'head.bias'], unexpected_keys=[])\n",
      "Create optimizer and scheduler\n",
      "Epoch: 0\n"
     ]
    },
    {
     "name": "stderr",
     "output_type": "stream",
     "text": [
      "/root/miniconda3/lib/python3.8/site-packages/sklearn/metrics/_classification.py:1471: UndefinedMetricWarning: Precision is ill-defined and being set to 0.0 in labels with no predicted samples. Use `zero_division` parameter to control this behavior.\n",
      "  _warn_prf(average, modifier, msg_start, len(result))\n",
      "2024-09-26 19:28:10,081 - INFO - confusion matrix\n",
      "2024-09-26 19:28:10,082 - INFO - [[1. 0.]\n",
      " [1. 0.]]\n",
      "2024-09-26 19:28:10,085 - INFO - evaluation metric\n",
      "2024-09-26 19:28:10,085 - INFO - acc: 0.3750\n",
      "2024-09-26 19:28:10,086 - INFO - precision: 0.1875\n",
      "2024-09-26 19:28:10,087 - INFO - recall: 0.5000\n",
      "2024-09-26 19:28:10,087 - INFO - f1: 0.2727\n",
      "2024-09-26 19:28:10,330 - INFO - Best acc 0.3750 at epoch 0\n",
      "2024-09-26 19:28:10,331 - INFO - Training finished.\n"
     ]
    },
    {
     "name": "stdout",
     "output_type": "stream",
     "text": [
      "model saved: ./saved_models/fixmatch/latest_model.pth\n",
      "model saved: ./saved_models/fixmatch/model_best.pth\n"
     ]
    },
    {
     "name": "stderr",
     "output_type": "stream",
     "text": [
      "/root/miniconda3/lib/python3.8/site-packages/sklearn/metrics/_classification.py:1471: UndefinedMetricWarning: Precision is ill-defined and being set to 0.0 in labels with no predicted samples. Use `zero_division` parameter to control this behavior.\n",
      "  _warn_prf(average, modifier, msg_start, len(result))\n",
      "2024-09-26 19:28:10,814 - INFO - confusion matrix\n",
      "2024-09-26 19:28:10,815 - INFO - [[1. 0.]\n",
      " [1. 0.]]\n",
      "2024-09-26 19:28:10,818 - INFO - evaluation metric\n",
      "2024-09-26 19:28:10,819 - INFO - acc: 0.3750\n",
      "2024-09-26 19:28:10,819 - INFO - precision: 0.1875\n",
      "2024-09-26 19:28:10,820 - INFO - recall: 0.5000\n",
      "2024-09-26 19:28:10,821 - INFO - f1: 0.2727\n",
      "2024-09-26 19:28:10,825 - INFO - 训练结束 - 算法: fixmatch, 数据集: census, 隐藏比例: RATIO_0_2, 结束时间: 2024-09-26 19:28:10.825025\n",
      "2024-09-26 19:28:10,825 - INFO - 训练时长: 0:00:04.408310\n",
      "2024-09-26 19:28:10,825 - INFO - 结果已存储 - 算法: fixmatch, 数据集: census, 隐藏比例: RATIO_0_2\n",
      "2024-09-26 19:28:10,826 - INFO - 正在运行实验 - 算法: fixmatch, 数据集: census, 隐藏比例: RATIO_0_3\n",
      "2024-09-26 19:28:10,826 - INFO - 配置详情 - 有标签样本数: 1500,无标签样本数: 22792,一共3000\n",
      "/bin/sh: 1: netstat: not found\n",
      "2024-09-26 19:28:10,869 - INFO - 训练开始 - 算法: fixmatch, 数据集: census, 隐藏比例: RATIO_0_3, 开始时间: 2024-09-26 19:28:10.869538\n",
      "/root/miniconda3/lib/python3.8/site-packages/semilearn/core/algorithmbase.py:64: FutureWarning: `torch.cuda.amp.GradScaler(args...)` is deprecated. Please use `torch.amp.GradScaler('cuda', args...)` instead.\n",
      "  self.loss_scaler = GradScaler()\n"
     ]
    },
    {
     "name": "stdout",
     "output_type": "stream",
     "text": [
      "Files already downloaded and verified\n",
      "lb count: [750, 750]\n",
      "ulb count: [5000, 5000]\n",
      "Files already downloaded and verified\n",
      "unlabeled data number: 10000, labeled data number 1500\n",
      "Create train and test data loaders\n",
      "[!] data loader keys: dict_keys(['train_lb', 'train_ulb', 'eval'])\n",
      "_IncompatibleKeys(missing_keys=['head.weight', 'head.bias'], unexpected_keys=[])\n",
      "Create optimizer and scheduler\n",
      "Epoch: 0\n"
     ]
    },
    {
     "name": "stderr",
     "output_type": "stream",
     "text": [
      "/root/miniconda3/lib/python3.8/site-packages/sklearn/metrics/_classification.py:1471: UndefinedMetricWarning: Precision is ill-defined and being set to 0.0 in labels with no predicted samples. Use `zero_division` parameter to control this behavior.\n",
      "  _warn_prf(average, modifier, msg_start, len(result))\n",
      "2024-09-26 19:28:14,577 - INFO - confusion matrix\n",
      "2024-09-26 19:28:14,579 - INFO - [[1. 0.]\n",
      " [1. 0.]]\n",
      "2024-09-26 19:28:14,584 - INFO - evaluation metric\n",
      "2024-09-26 19:28:14,585 - INFO - acc: 0.7500\n",
      "2024-09-26 19:28:14,586 - INFO - precision: 0.3750\n",
      "2024-09-26 19:28:14,587 - INFO - recall: 0.5000\n",
      "2024-09-26 19:28:14,587 - INFO - f1: 0.4286\n",
      "2024-09-26 19:28:14,887 - INFO - Best acc 0.7500 at epoch 0\n",
      "2024-09-26 19:28:14,888 - INFO - Training finished.\n"
     ]
    },
    {
     "name": "stdout",
     "output_type": "stream",
     "text": [
      "model saved: ./saved_models/fixmatch/latest_model.pth\n",
      "model saved: ./saved_models/fixmatch/model_best.pth\n"
     ]
    },
    {
     "name": "stderr",
     "output_type": "stream",
     "text": [
      "/root/miniconda3/lib/python3.8/site-packages/sklearn/metrics/_classification.py:1471: UndefinedMetricWarning: Precision is ill-defined and being set to 0.0 in labels with no predicted samples. Use `zero_division` parameter to control this behavior.\n",
      "  _warn_prf(average, modifier, msg_start, len(result))\n",
      "2024-09-26 19:28:15,432 - INFO - confusion matrix\n",
      "2024-09-26 19:28:15,433 - INFO - [[1. 0.]\n",
      " [1. 0.]]\n",
      "2024-09-26 19:28:15,436 - INFO - evaluation metric\n",
      "2024-09-26 19:28:15,437 - INFO - acc: 0.7500\n",
      "2024-09-26 19:28:15,438 - INFO - precision: 0.3750\n",
      "2024-09-26 19:28:15,439 - INFO - recall: 0.5000\n",
      "2024-09-26 19:28:15,439 - INFO - f1: 0.4286\n",
      "2024-09-26 19:28:15,443 - INFO - 训练结束 - 算法: fixmatch, 数据集: census, 隐藏比例: RATIO_0_3, 结束时间: 2024-09-26 19:28:15.443699\n",
      "2024-09-26 19:28:15,444 - INFO - 训练时长: 0:00:04.574161\n",
      "2024-09-26 19:28:15,444 - INFO - 结果已存储 - 算法: fixmatch, 数据集: census, 隐藏比例: RATIO_0_3\n",
      "2024-09-26 19:28:15,445 - INFO - 正在运行实验 - 算法: fixmatch, 数据集: census, 隐藏比例: RATIO_0_4\n",
      "2024-09-26 19:28:15,445 - INFO - 配置详情 - 有标签样本数: 2000,无标签样本数: 19536,一共4000\n",
      "/bin/sh: 1: netstat: not found\n",
      "2024-09-26 19:28:15,487 - INFO - 训练开始 - 算法: fixmatch, 数据集: census, 隐藏比例: RATIO_0_4, 开始时间: 2024-09-26 19:28:15.487038\n",
      "/root/miniconda3/lib/python3.8/site-packages/semilearn/core/algorithmbase.py:64: FutureWarning: `torch.cuda.amp.GradScaler(args...)` is deprecated. Please use `torch.amp.GradScaler('cuda', args...)` instead.\n",
      "  self.loss_scaler = GradScaler()\n"
     ]
    },
    {
     "name": "stdout",
     "output_type": "stream",
     "text": [
      "Files already downloaded and verified\n",
      "lb count: [1000, 1000]\n",
      "ulb count: [5000, 5000]\n",
      "Files already downloaded and verified\n",
      "unlabeled data number: 10000, labeled data number 2000\n",
      "Create train and test data loaders\n",
      "[!] data loader keys: dict_keys(['train_lb', 'train_ulb', 'eval'])\n",
      "_IncompatibleKeys(missing_keys=['head.weight', 'head.bias'], unexpected_keys=[])\n",
      "Create optimizer and scheduler\n",
      "Epoch: 0\n"
     ]
    },
    {
     "name": "stderr",
     "output_type": "stream",
     "text": [
      "/root/miniconda3/lib/python3.8/site-packages/sklearn/metrics/_classification.py:1471: UndefinedMetricWarning: Precision is ill-defined and being set to 0.0 in labels with no predicted samples. Use `zero_division` parameter to control this behavior.\n",
      "  _warn_prf(average, modifier, msg_start, len(result))\n",
      "2024-09-26 19:28:19,306 - INFO - confusion matrix\n",
      "2024-09-26 19:28:19,307 - INFO - [[0. 1.]\n",
      " [0. 1.]]\n",
      "2024-09-26 19:28:19,310 - INFO - evaluation metric\n",
      "2024-09-26 19:28:19,311 - INFO - acc: 0.7500\n",
      "2024-09-26 19:28:19,312 - INFO - precision: 0.3750\n",
      "2024-09-26 19:28:19,313 - INFO - recall: 0.5000\n",
      "2024-09-26 19:28:19,313 - INFO - f1: 0.4286\n",
      "2024-09-26 19:28:19,557 - INFO - Best acc 0.7500 at epoch 0\n",
      "2024-09-26 19:28:19,558 - INFO - Training finished.\n"
     ]
    },
    {
     "name": "stdout",
     "output_type": "stream",
     "text": [
      "model saved: ./saved_models/fixmatch/latest_model.pth\n",
      "model saved: ./saved_models/fixmatch/model_best.pth\n"
     ]
    },
    {
     "name": "stderr",
     "output_type": "stream",
     "text": [
      "/root/miniconda3/lib/python3.8/site-packages/sklearn/metrics/_classification.py:1471: UndefinedMetricWarning: Precision is ill-defined and being set to 0.0 in labels with no predicted samples. Use `zero_division` parameter to control this behavior.\n",
      "  _warn_prf(average, modifier, msg_start, len(result))\n",
      "2024-09-26 19:28:20,197 - INFO - confusion matrix\n",
      "2024-09-26 19:28:20,199 - INFO - [[0. 1.]\n",
      " [0. 1.]]\n",
      "2024-09-26 19:28:20,203 - INFO - evaluation metric\n",
      "2024-09-26 19:28:20,204 - INFO - acc: 0.7500\n",
      "2024-09-26 19:28:20,205 - INFO - precision: 0.3750\n",
      "2024-09-26 19:28:20,206 - INFO - recall: 0.5000\n",
      "2024-09-26 19:28:20,207 - INFO - f1: 0.4286\n",
      "2024-09-26 19:28:20,211 - INFO - 训练结束 - 算法: fixmatch, 数据集: census, 隐藏比例: RATIO_0_4, 结束时间: 2024-09-26 19:28:20.211831\n",
      "2024-09-26 19:28:20,212 - INFO - 训练时长: 0:00:04.724793\n",
      "2024-09-26 19:28:20,212 - INFO - 结果已存储 - 算法: fixmatch, 数据集: census, 隐藏比例: RATIO_0_4\n",
      "2024-09-26 19:28:20,213 - INFO - 正在运行实验 - 算法: fixmatch, 数据集: census, 隐藏比例: RATIO_0_5\n",
      "2024-09-26 19:28:20,213 - INFO - 配置详情 - 有标签样本数: 2500,无标签样本数: 16280,一共5000\n",
      "/bin/sh: 1: netstat: not found\n",
      "2024-09-26 19:28:20,275 - INFO - 训练开始 - 算法: fixmatch, 数据集: census, 隐藏比例: RATIO_0_5, 开始时间: 2024-09-26 19:28:20.275028\n",
      "/root/miniconda3/lib/python3.8/site-packages/semilearn/core/algorithmbase.py:64: FutureWarning: `torch.cuda.amp.GradScaler(args...)` is deprecated. Please use `torch.amp.GradScaler('cuda', args...)` instead.\n",
      "  self.loss_scaler = GradScaler()\n"
     ]
    },
    {
     "name": "stdout",
     "output_type": "stream",
     "text": [
      "Files already downloaded and verified\n",
      "lb count: [1250, 1250]\n",
      "ulb count: [5000, 5000]\n",
      "Files already downloaded and verified\n",
      "unlabeled data number: 10000, labeled data number 2500\n",
      "Create train and test data loaders\n",
      "[!] data loader keys: dict_keys(['train_lb', 'train_ulb', 'eval'])\n",
      "_IncompatibleKeys(missing_keys=['head.weight', 'head.bias'], unexpected_keys=[])\n",
      "Create optimizer and scheduler\n",
      "Epoch: 0\n"
     ]
    },
    {
     "name": "stderr",
     "output_type": "stream",
     "text": [
      "/root/miniconda3/lib/python3.8/site-packages/sklearn/metrics/_classification.py:1471: UndefinedMetricWarning: Precision is ill-defined and being set to 0.0 in labels with no predicted samples. Use `zero_division` parameter to control this behavior.\n",
      "  _warn_prf(average, modifier, msg_start, len(result))\n",
      "2024-09-26 19:28:23,971 - INFO - confusion matrix\n",
      "2024-09-26 19:28:23,974 - INFO - [[1. 0.]\n",
      " [1. 0.]]\n",
      "2024-09-26 19:28:23,978 - INFO - evaluation metric\n",
      "2024-09-26 19:28:23,979 - INFO - acc: 0.7500\n",
      "2024-09-26 19:28:23,979 - INFO - precision: 0.3750\n",
      "2024-09-26 19:28:23,980 - INFO - recall: 0.5000\n",
      "2024-09-26 19:28:23,981 - INFO - f1: 0.4286\n",
      "2024-09-26 19:28:24,226 - INFO - Best acc 0.7500 at epoch 0\n",
      "2024-09-26 19:28:24,226 - INFO - Training finished.\n"
     ]
    },
    {
     "name": "stdout",
     "output_type": "stream",
     "text": [
      "model saved: ./saved_models/fixmatch/latest_model.pth\n",
      "model saved: ./saved_models/fixmatch/model_best.pth\n"
     ]
    },
    {
     "name": "stderr",
     "output_type": "stream",
     "text": [
      "/root/miniconda3/lib/python3.8/site-packages/sklearn/metrics/_classification.py:1471: UndefinedMetricWarning: Precision is ill-defined and being set to 0.0 in labels with no predicted samples. Use `zero_division` parameter to control this behavior.\n",
      "  _warn_prf(average, modifier, msg_start, len(result))\n",
      "2024-09-26 19:28:24,808 - INFO - confusion matrix\n",
      "2024-09-26 19:28:24,809 - INFO - [[1. 0.]\n",
      " [1. 0.]]\n",
      "2024-09-26 19:28:24,813 - INFO - evaluation metric\n",
      "2024-09-26 19:28:24,813 - INFO - acc: 0.7500\n",
      "2024-09-26 19:28:24,814 - INFO - precision: 0.3750\n",
      "2024-09-26 19:28:24,815 - INFO - recall: 0.5000\n",
      "2024-09-26 19:28:24,815 - INFO - f1: 0.4286\n",
      "2024-09-26 19:28:24,820 - INFO - 训练结束 - 算法: fixmatch, 数据集: census, 隐藏比例: RATIO_0_5, 结束时间: 2024-09-26 19:28:24.820047\n",
      "2024-09-26 19:28:24,820 - INFO - 训练时长: 0:00:04.545019\n",
      "2024-09-26 19:28:24,820 - INFO - 结果已存储 - 算法: fixmatch, 数据集: census, 隐藏比例: RATIO_0_5\n",
      "2024-09-26 19:28:24,821 - INFO - 正在运行实验 - 算法: fixmatch, 数据集: census, 隐藏比例: RATIO_0_6\n",
      "2024-09-26 19:28:24,821 - INFO - 配置详情 - 有标签样本数: 3000,无标签样本数: 13024,一共6000\n",
      "/bin/sh: 1: netstat: not found\n",
      "2024-09-26 19:28:24,868 - INFO - 训练开始 - 算法: fixmatch, 数据集: census, 隐藏比例: RATIO_0_6, 开始时间: 2024-09-26 19:28:24.868546\n",
      "/root/miniconda3/lib/python3.8/site-packages/semilearn/core/algorithmbase.py:64: FutureWarning: `torch.cuda.amp.GradScaler(args...)` is deprecated. Please use `torch.amp.GradScaler('cuda', args...)` instead.\n",
      "  self.loss_scaler = GradScaler()\n"
     ]
    },
    {
     "name": "stdout",
     "output_type": "stream",
     "text": [
      "Files already downloaded and verified\n",
      "lb count: [1500, 1500]\n",
      "ulb count: [5000, 5000]\n",
      "Files already downloaded and verified\n",
      "unlabeled data number: 10000, labeled data number 3000\n",
      "Create train and test data loaders\n",
      "[!] data loader keys: dict_keys(['train_lb', 'train_ulb', 'eval'])\n",
      "_IncompatibleKeys(missing_keys=['head.weight', 'head.bias'], unexpected_keys=[])\n",
      "Create optimizer and scheduler\n",
      "Epoch: 0\n"
     ]
    },
    {
     "name": "stderr",
     "output_type": "stream",
     "text": [
      "/root/miniconda3/lib/python3.8/site-packages/sklearn/metrics/_classification.py:1471: UndefinedMetricWarning: Precision is ill-defined and being set to 0.0 in labels with no predicted samples. Use `zero_division` parameter to control this behavior.\n",
      "  _warn_prf(average, modifier, msg_start, len(result))\n",
      "2024-09-26 19:28:28,617 - INFO - confusion matrix\n",
      "2024-09-26 19:28:28,618 - INFO - [[1. 0.]\n",
      " [1. 0.]]\n",
      "2024-09-26 19:28:28,622 - INFO - evaluation metric\n",
      "2024-09-26 19:28:28,622 - INFO - acc: 0.6250\n",
      "2024-09-26 19:28:28,623 - INFO - precision: 0.3125\n",
      "2024-09-26 19:28:28,624 - INFO - recall: 0.5000\n",
      "2024-09-26 19:28:28,625 - INFO - f1: 0.3846\n",
      "2024-09-26 19:28:28,875 - INFO - Best acc 0.6250 at epoch 0\n",
      "2024-09-26 19:28:28,876 - INFO - Training finished.\n"
     ]
    },
    {
     "name": "stdout",
     "output_type": "stream",
     "text": [
      "model saved: ./saved_models/fixmatch/latest_model.pth\n",
      "model saved: ./saved_models/fixmatch/model_best.pth\n"
     ]
    },
    {
     "name": "stderr",
     "output_type": "stream",
     "text": [
      "/root/miniconda3/lib/python3.8/site-packages/sklearn/metrics/_classification.py:1471: UndefinedMetricWarning: Precision is ill-defined and being set to 0.0 in labels with no predicted samples. Use `zero_division` parameter to control this behavior.\n",
      "  _warn_prf(average, modifier, msg_start, len(result))\n",
      "2024-09-26 19:28:29,438 - INFO - confusion matrix\n",
      "2024-09-26 19:28:29,439 - INFO - [[1. 0.]\n",
      " [1. 0.]]\n",
      "2024-09-26 19:28:29,443 - INFO - evaluation metric\n",
      "2024-09-26 19:28:29,443 - INFO - acc: 0.6250\n",
      "2024-09-26 19:28:29,444 - INFO - precision: 0.3125\n",
      "2024-09-26 19:28:29,445 - INFO - recall: 0.5000\n",
      "2024-09-26 19:28:29,446 - INFO - f1: 0.3846\n",
      "2024-09-26 19:28:29,450 - INFO - 训练结束 - 算法: fixmatch, 数据集: census, 隐藏比例: RATIO_0_6, 结束时间: 2024-09-26 19:28:29.450055\n",
      "2024-09-26 19:28:29,450 - INFO - 训练时长: 0:00:04.581509\n",
      "2024-09-26 19:28:29,450 - INFO - 结果已存储 - 算法: fixmatch, 数据集: census, 隐藏比例: RATIO_0_6\n",
      "2024-09-26 19:28:29,451 - INFO - 正在运行实验 - 算法: fixmatch, 数据集: census, 隐藏比例: RATIO_0_7\n",
      "2024-09-26 19:28:29,451 - INFO - 配置详情 - 有标签样本数: 3500,无标签样本数: 9768,一共7000\n",
      "/bin/sh: 1: netstat: not found\n",
      "2024-09-26 19:28:29,498 - INFO - 训练开始 - 算法: fixmatch, 数据集: census, 隐藏比例: RATIO_0_7, 开始时间: 2024-09-26 19:28:29.498876\n",
      "/root/miniconda3/lib/python3.8/site-packages/semilearn/core/algorithmbase.py:64: FutureWarning: `torch.cuda.amp.GradScaler(args...)` is deprecated. Please use `torch.amp.GradScaler('cuda', args...)` instead.\n",
      "  self.loss_scaler = GradScaler()\n"
     ]
    },
    {
     "name": "stdout",
     "output_type": "stream",
     "text": [
      "Files already downloaded and verified\n",
      "lb count: [1750, 1750]\n",
      "ulb count: [5000, 5000]\n",
      "Files already downloaded and verified\n",
      "unlabeled data number: 10000, labeled data number 3500\n",
      "Create train and test data loaders\n",
      "[!] data loader keys: dict_keys(['train_lb', 'train_ulb', 'eval'])\n",
      "_IncompatibleKeys(missing_keys=['head.weight', 'head.bias'], unexpected_keys=[])\n",
      "Create optimizer and scheduler\n",
      "Epoch: 0\n"
     ]
    },
    {
     "name": "stderr",
     "output_type": "stream",
     "text": [
      "/root/miniconda3/lib/python3.8/site-packages/sklearn/metrics/_classification.py:1471: UndefinedMetricWarning: Precision is ill-defined and being set to 0.0 in labels with no predicted samples. Use `zero_division` parameter to control this behavior.\n",
      "  _warn_prf(average, modifier, msg_start, len(result))\n",
      "2024-09-26 19:28:33,261 - INFO - confusion matrix\n",
      "2024-09-26 19:28:33,263 - INFO - [[1. 0.]\n",
      " [1. 0.]]\n",
      "2024-09-26 19:28:33,267 - INFO - evaluation metric\n",
      "2024-09-26 19:28:33,268 - INFO - acc: 0.3750\n",
      "2024-09-26 19:28:33,268 - INFO - precision: 0.1875\n",
      "2024-09-26 19:28:33,269 - INFO - recall: 0.5000\n",
      "2024-09-26 19:28:33,270 - INFO - f1: 0.2727\n",
      "2024-09-26 19:28:33,524 - INFO - Best acc 0.3750 at epoch 0\n",
      "2024-09-26 19:28:33,525 - INFO - Training finished.\n"
     ]
    },
    {
     "name": "stdout",
     "output_type": "stream",
     "text": [
      "model saved: ./saved_models/fixmatch/latest_model.pth\n",
      "model saved: ./saved_models/fixmatch/model_best.pth\n"
     ]
    },
    {
     "name": "stderr",
     "output_type": "stream",
     "text": [
      "/root/miniconda3/lib/python3.8/site-packages/sklearn/metrics/_classification.py:1471: UndefinedMetricWarning: Precision is ill-defined and being set to 0.0 in labels with no predicted samples. Use `zero_division` parameter to control this behavior.\n",
      "  _warn_prf(average, modifier, msg_start, len(result))\n",
      "2024-09-26 19:28:34,084 - INFO - confusion matrix\n",
      "2024-09-26 19:28:34,085 - INFO - [[1. 0.]\n",
      " [1. 0.]]\n",
      "2024-09-26 19:28:34,089 - INFO - evaluation metric\n",
      "2024-09-26 19:28:34,089 - INFO - acc: 0.3750\n",
      "2024-09-26 19:28:34,090 - INFO - precision: 0.1875\n",
      "2024-09-26 19:28:34,091 - INFO - recall: 0.5000\n",
      "2024-09-26 19:28:34,092 - INFO - f1: 0.2727\n",
      "2024-09-26 19:28:34,097 - INFO - 训练结束 - 算法: fixmatch, 数据集: census, 隐藏比例: RATIO_0_7, 结束时间: 2024-09-26 19:28:34.097077\n",
      "2024-09-26 19:28:34,097 - INFO - 训练时长: 0:00:04.598201\n",
      "2024-09-26 19:28:34,098 - INFO - 结果已存储 - 算法: fixmatch, 数据集: census, 隐藏比例: RATIO_0_7\n",
      "2024-09-26 19:28:34,098 - INFO - 正在运行实验 - 算法: fixmatch, 数据集: census, 隐藏比例: RATIO_0_8\n",
      "2024-09-26 19:28:34,098 - INFO - 配置详情 - 有标签样本数: 4000,无标签样本数: 6512,一共8000\n",
      "/bin/sh: 1: netstat: not found\n",
      "2024-09-26 19:28:34,171 - INFO - 训练开始 - 算法: fixmatch, 数据集: census, 隐藏比例: RATIO_0_8, 开始时间: 2024-09-26 19:28:34.171876\n",
      "/root/miniconda3/lib/python3.8/site-packages/semilearn/core/algorithmbase.py:64: FutureWarning: `torch.cuda.amp.GradScaler(args...)` is deprecated. Please use `torch.amp.GradScaler('cuda', args...)` instead.\n",
      "  self.loss_scaler = GradScaler()\n"
     ]
    },
    {
     "name": "stdout",
     "output_type": "stream",
     "text": [
      "Files already downloaded and verified\n",
      "lb count: [2000, 2000]\n",
      "ulb count: [5000, 5000]\n",
      "Files already downloaded and verified\n",
      "unlabeled data number: 10000, labeled data number 4000\n",
      "Create train and test data loaders\n",
      "[!] data loader keys: dict_keys(['train_lb', 'train_ulb', 'eval'])\n",
      "_IncompatibleKeys(missing_keys=['head.weight', 'head.bias'], unexpected_keys=[])\n",
      "Create optimizer and scheduler\n",
      "Epoch: 0\n"
     ]
    },
    {
     "name": "stderr",
     "output_type": "stream",
     "text": [
      "/root/miniconda3/lib/python3.8/site-packages/sklearn/metrics/_classification.py:1471: UndefinedMetricWarning: Precision is ill-defined and being set to 0.0 in labels with no predicted samples. Use `zero_division` parameter to control this behavior.\n",
      "  _warn_prf(average, modifier, msg_start, len(result))\n",
      "2024-09-26 19:28:38,206 - INFO - confusion matrix\n",
      "2024-09-26 19:28:38,207 - INFO - [[1. 0.]\n",
      " [1. 0.]]\n",
      "2024-09-26 19:28:38,211 - INFO - evaluation metric\n",
      "2024-09-26 19:28:38,212 - INFO - acc: 0.6250\n",
      "2024-09-26 19:28:38,213 - INFO - precision: 0.3125\n",
      "2024-09-26 19:28:38,214 - INFO - recall: 0.5000\n",
      "2024-09-26 19:28:38,214 - INFO - f1: 0.3846\n",
      "2024-09-26 19:28:38,466 - INFO - Best acc 0.6250 at epoch 0\n",
      "2024-09-26 19:28:38,467 - INFO - Training finished.\n"
     ]
    },
    {
     "name": "stdout",
     "output_type": "stream",
     "text": [
      "model saved: ./saved_models/fixmatch/latest_model.pth\n",
      "model saved: ./saved_models/fixmatch/model_best.pth\n"
     ]
    },
    {
     "name": "stderr",
     "output_type": "stream",
     "text": [
      "/root/miniconda3/lib/python3.8/site-packages/sklearn/metrics/_classification.py:1471: UndefinedMetricWarning: Precision is ill-defined and being set to 0.0 in labels with no predicted samples. Use `zero_division` parameter to control this behavior.\n",
      "  _warn_prf(average, modifier, msg_start, len(result))\n",
      "2024-09-26 19:28:39,055 - INFO - confusion matrix\n",
      "2024-09-26 19:28:39,056 - INFO - [[1. 0.]\n",
      " [1. 0.]]\n",
      "2024-09-26 19:28:39,060 - INFO - evaluation metric\n",
      "2024-09-26 19:28:39,061 - INFO - acc: 0.6250\n",
      "2024-09-26 19:28:39,062 - INFO - precision: 0.3125\n",
      "2024-09-26 19:28:39,063 - INFO - recall: 0.5000\n",
      "2024-09-26 19:28:39,063 - INFO - f1: 0.3846\n",
      "2024-09-26 19:28:39,069 - INFO - 训练结束 - 算法: fixmatch, 数据集: census, 隐藏比例: RATIO_0_8, 结束时间: 2024-09-26 19:28:39.069066\n",
      "2024-09-26 19:28:39,069 - INFO - 训练时长: 0:00:04.897190\n",
      "2024-09-26 19:28:39,070 - INFO - 结果已存储 - 算法: fixmatch, 数据集: census, 隐藏比例: RATIO_0_8\n",
      "2024-09-26 19:28:39,070 - INFO - 正在运行实验 - 算法: fixmatch, 数据集: census, 隐藏比例: RATIO_0_9\n",
      "2024-09-26 19:28:39,071 - INFO - 配置详情 - 有标签样本数: 4500,无标签样本数: 3256,一共9000\n",
      "/bin/sh: 1: netstat: not found\n",
      "2024-09-26 19:28:39,144 - INFO - 训练开始 - 算法: fixmatch, 数据集: census, 隐藏比例: RATIO_0_9, 开始时间: 2024-09-26 19:28:39.144651\n",
      "/root/miniconda3/lib/python3.8/site-packages/semilearn/core/algorithmbase.py:64: FutureWarning: `torch.cuda.amp.GradScaler(args...)` is deprecated. Please use `torch.amp.GradScaler('cuda', args...)` instead.\n",
      "  self.loss_scaler = GradScaler()\n"
     ]
    },
    {
     "name": "stdout",
     "output_type": "stream",
     "text": [
      "Files already downloaded and verified\n",
      "lb count: [2250, 2250]\n",
      "ulb count: [3878, 3878]\n",
      "Files already downloaded and verified\n",
      "unlabeled data number: 7756, labeled data number 4500\n",
      "Create train and test data loaders\n",
      "[!] data loader keys: dict_keys(['train_lb', 'train_ulb', 'eval'])\n",
      "_IncompatibleKeys(missing_keys=['head.weight', 'head.bias'], unexpected_keys=[])\n",
      "Create optimizer and scheduler\n",
      "Epoch: 0\n"
     ]
    },
    {
     "name": "stderr",
     "output_type": "stream",
     "text": [
      "/root/miniconda3/lib/python3.8/site-packages/sklearn/metrics/_classification.py:1471: UndefinedMetricWarning: Precision is ill-defined and being set to 0.0 in labels with no predicted samples. Use `zero_division` parameter to control this behavior.\n",
      "  _warn_prf(average, modifier, msg_start, len(result))\n",
      "2024-09-26 19:28:43,063 - INFO - confusion matrix\n",
      "2024-09-26 19:28:43,064 - INFO - [[0. 1.]\n",
      " [0. 1.]]\n",
      "2024-09-26 19:28:43,068 - INFO - evaluation metric\n",
      "2024-09-26 19:28:43,069 - INFO - acc: 0.3750\n",
      "2024-09-26 19:28:43,070 - INFO - precision: 0.1875\n",
      "2024-09-26 19:28:43,070 - INFO - recall: 0.5000\n",
      "2024-09-26 19:28:43,071 - INFO - f1: 0.2727\n",
      "2024-09-26 19:28:43,334 - INFO - Best acc 0.3750 at epoch 0\n",
      "2024-09-26 19:28:43,335 - INFO - Training finished.\n"
     ]
    },
    {
     "name": "stdout",
     "output_type": "stream",
     "text": [
      "model saved: ./saved_models/fixmatch/latest_model.pth\n",
      "model saved: ./saved_models/fixmatch/model_best.pth\n"
     ]
    },
    {
     "name": "stderr",
     "output_type": "stream",
     "text": [
      "/root/miniconda3/lib/python3.8/site-packages/sklearn/metrics/_classification.py:1471: UndefinedMetricWarning: Precision is ill-defined and being set to 0.0 in labels with no predicted samples. Use `zero_division` parameter to control this behavior.\n",
      "  _warn_prf(average, modifier, msg_start, len(result))\n",
      "2024-09-26 19:28:43,659 - INFO - confusion matrix\n",
      "2024-09-26 19:28:43,661 - INFO - [[0. 1.]\n",
      " [0. 1.]]\n",
      "2024-09-26 19:28:43,665 - INFO - evaluation metric\n",
      "2024-09-26 19:28:43,665 - INFO - acc: 0.3750\n",
      "2024-09-26 19:28:43,666 - INFO - precision: 0.1875\n",
      "2024-09-26 19:28:43,667 - INFO - recall: 0.5000\n",
      "2024-09-26 19:28:43,667 - INFO - f1: 0.2727\n",
      "2024-09-26 19:28:43,672 - INFO - 训练结束 - 算法: fixmatch, 数据集: census, 隐藏比例: RATIO_0_9, 结束时间: 2024-09-26 19:28:43.672869\n",
      "2024-09-26 19:28:43,673 - INFO - 训练时长: 0:00:04.528218\n",
      "2024-09-26 19:28:43,673 - INFO - 结果已存储 - 算法: fixmatch, 数据集: census, 隐藏比例: RATIO_0_9\n",
      "2024-09-26 19:28:43,674 - INFO - 正在运行实验 - 算法: fixmatch, 数据集: credit, 隐藏比例: RATIO_0_1\n",
      "2024-09-26 19:28:43,674 - INFO - 配置详情 - 有标签样本数: 500,无标签样本数: 27000,一共1000\n",
      "/bin/sh: 1: netstat: not found\n",
      "2024-09-26 19:28:43,725 - INFO - 训练开始 - 算法: fixmatch, 数据集: credit, 隐藏比例: RATIO_0_1, 开始时间: 2024-09-26 19:28:43.725373\n",
      "/root/miniconda3/lib/python3.8/site-packages/semilearn/core/algorithmbase.py:64: FutureWarning: `torch.cuda.amp.GradScaler(args...)` is deprecated. Please use `torch.amp.GradScaler('cuda', args...)` instead.\n",
      "  self.loss_scaler = GradScaler()\n"
     ]
    },
    {
     "name": "stdout",
     "output_type": "stream",
     "text": [
      "Files already downloaded and verified\n",
      "lb count: [250, 250]\n",
      "ulb count: [5000, 5000]\n",
      "Files already downloaded and verified\n",
      "unlabeled data number: 10000, labeled data number 500\n",
      "Create train and test data loaders\n",
      "[!] data loader keys: dict_keys(['train_lb', 'train_ulb', 'eval'])\n",
      "_IncompatibleKeys(missing_keys=['head.weight', 'head.bias'], unexpected_keys=[])\n",
      "Create optimizer and scheduler\n",
      "Epoch: 0\n"
     ]
    },
    {
     "name": "stderr",
     "output_type": "stream",
     "text": [
      "/root/miniconda3/lib/python3.8/site-packages/sklearn/metrics/_classification.py:1471: UndefinedMetricWarning: Precision is ill-defined and being set to 0.0 in labels with no predicted samples. Use `zero_division` parameter to control this behavior.\n",
      "  _warn_prf(average, modifier, msg_start, len(result))\n",
      "2024-09-26 19:28:47,410 - INFO - confusion matrix\n",
      "2024-09-26 19:28:47,411 - INFO - [[0. 1.]\n",
      " [0. 1.]]\n",
      "2024-09-26 19:28:47,415 - INFO - evaluation metric\n",
      "2024-09-26 19:28:47,416 - INFO - acc: 0.2500\n",
      "2024-09-26 19:28:47,417 - INFO - precision: 0.1250\n",
      "2024-09-26 19:28:47,418 - INFO - recall: 0.5000\n",
      "2024-09-26 19:28:47,418 - INFO - f1: 0.2000\n",
      "2024-09-26 19:28:47,660 - INFO - Best acc 0.2500 at epoch 0\n",
      "2024-09-26 19:28:47,661 - INFO - Training finished.\n"
     ]
    },
    {
     "name": "stdout",
     "output_type": "stream",
     "text": [
      "model saved: ./saved_models/fixmatch/latest_model.pth\n",
      "model saved: ./saved_models/fixmatch/model_best.pth\n"
     ]
    },
    {
     "name": "stderr",
     "output_type": "stream",
     "text": [
      "/root/miniconda3/lib/python3.8/site-packages/sklearn/metrics/_classification.py:1471: UndefinedMetricWarning: Precision is ill-defined and being set to 0.0 in labels with no predicted samples. Use `zero_division` parameter to control this behavior.\n",
      "  _warn_prf(average, modifier, msg_start, len(result))\n",
      "2024-09-26 19:28:47,957 - INFO - confusion matrix\n",
      "2024-09-26 19:28:47,958 - INFO - [[0. 1.]\n",
      " [0. 1.]]\n",
      "2024-09-26 19:28:47,962 - INFO - evaluation metric\n",
      "2024-09-26 19:28:47,963 - INFO - acc: 0.2500\n",
      "2024-09-26 19:28:47,963 - INFO - precision: 0.1250\n",
      "2024-09-26 19:28:47,964 - INFO - recall: 0.5000\n",
      "2024-09-26 19:28:47,965 - INFO - f1: 0.2000\n",
      "2024-09-26 19:28:47,969 - INFO - 训练结束 - 算法: fixmatch, 数据集: credit, 隐藏比例: RATIO_0_1, 结束时间: 2024-09-26 19:28:47.969462\n",
      "2024-09-26 19:28:47,969 - INFO - 训练时长: 0:00:04.244089\n",
      "2024-09-26 19:28:47,970 - INFO - 结果已存储 - 算法: fixmatch, 数据集: credit, 隐藏比例: RATIO_0_1\n",
      "2024-09-26 19:28:47,970 - INFO - 正在运行实验 - 算法: fixmatch, 数据集: credit, 隐藏比例: RATIO_0_2\n",
      "2024-09-26 19:28:47,970 - INFO - 配置详情 - 有标签样本数: 1000,无标签样本数: 24000,一共2000\n",
      "/bin/sh: 1: netstat: not found\n",
      "2024-09-26 19:28:48,016 - INFO - 训练开始 - 算法: fixmatch, 数据集: credit, 隐藏比例: RATIO_0_2, 开始时间: 2024-09-26 19:28:48.016116\n",
      "/root/miniconda3/lib/python3.8/site-packages/semilearn/core/algorithmbase.py:64: FutureWarning: `torch.cuda.amp.GradScaler(args...)` is deprecated. Please use `torch.amp.GradScaler('cuda', args...)` instead.\n",
      "  self.loss_scaler = GradScaler()\n"
     ]
    },
    {
     "name": "stdout",
     "output_type": "stream",
     "text": [
      "Files already downloaded and verified\n",
      "lb count: [500, 500]\n",
      "ulb count: [5000, 5000]\n",
      "Files already downloaded and verified\n",
      "unlabeled data number: 10000, labeled data number 1000\n",
      "Create train and test data loaders\n",
      "[!] data loader keys: dict_keys(['train_lb', 'train_ulb', 'eval'])\n",
      "_IncompatibleKeys(missing_keys=['head.weight', 'head.bias'], unexpected_keys=[])\n",
      "Create optimizer and scheduler\n",
      "Epoch: 0\n"
     ]
    },
    {
     "name": "stderr",
     "output_type": "stream",
     "text": [
      "/root/miniconda3/lib/python3.8/site-packages/sklearn/metrics/_classification.py:1471: UndefinedMetricWarning: Precision is ill-defined and being set to 0.0 in labels with no predicted samples. Use `zero_division` parameter to control this behavior.\n",
      "  _warn_prf(average, modifier, msg_start, len(result))\n",
      "2024-09-26 19:28:51,553 - INFO - confusion matrix\n",
      "2024-09-26 19:28:51,554 - INFO - [[0. 1.]\n",
      " [0. 1.]]\n",
      "2024-09-26 19:28:51,558 - INFO - evaluation metric\n",
      "2024-09-26 19:28:51,559 - INFO - acc: 0.6250\n",
      "2024-09-26 19:28:51,560 - INFO - precision: 0.3125\n",
      "2024-09-26 19:28:51,561 - INFO - recall: 0.5000\n",
      "2024-09-26 19:28:51,561 - INFO - f1: 0.3846\n",
      "2024-09-26 19:28:51,803 - INFO - Best acc 0.6250 at epoch 0\n",
      "2024-09-26 19:28:51,804 - INFO - Training finished.\n"
     ]
    },
    {
     "name": "stdout",
     "output_type": "stream",
     "text": [
      "model saved: ./saved_models/fixmatch/latest_model.pth\n",
      "model saved: ./saved_models/fixmatch/model_best.pth\n"
     ]
    },
    {
     "name": "stderr",
     "output_type": "stream",
     "text": [
      "/root/miniconda3/lib/python3.8/site-packages/sklearn/metrics/_classification.py:1471: UndefinedMetricWarning: Precision is ill-defined and being set to 0.0 in labels with no predicted samples. Use `zero_division` parameter to control this behavior.\n",
      "  _warn_prf(average, modifier, msg_start, len(result))\n",
      "2024-09-26 19:28:52,058 - INFO - confusion matrix\n",
      "2024-09-26 19:28:52,059 - INFO - [[0. 1.]\n",
      " [0. 1.]]\n",
      "2024-09-26 19:28:52,063 - INFO - evaluation metric\n",
      "2024-09-26 19:28:52,064 - INFO - acc: 0.6250\n",
      "2024-09-26 19:28:52,065 - INFO - precision: 0.3125\n",
      "2024-09-26 19:28:52,065 - INFO - recall: 0.5000\n",
      "2024-09-26 19:28:52,066 - INFO - f1: 0.3846\n",
      "2024-09-26 19:28:52,070 - INFO - 训练结束 - 算法: fixmatch, 数据集: credit, 隐藏比例: RATIO_0_2, 结束时间: 2024-09-26 19:28:52.070555\n",
      "2024-09-26 19:28:52,071 - INFO - 训练时长: 0:00:04.054439\n",
      "2024-09-26 19:28:52,071 - INFO - 结果已存储 - 算法: fixmatch, 数据集: credit, 隐藏比例: RATIO_0_2\n",
      "2024-09-26 19:28:52,071 - INFO - 正在运行实验 - 算法: fixmatch, 数据集: credit, 隐藏比例: RATIO_0_3\n",
      "2024-09-26 19:28:52,072 - INFO - 配置详情 - 有标签样本数: 1500,无标签样本数: 21000,一共3000\n",
      "/bin/sh: 1: netstat: not found\n",
      "2024-09-26 19:28:52,114 - INFO - 训练开始 - 算法: fixmatch, 数据集: credit, 隐藏比例: RATIO_0_3, 开始时间: 2024-09-26 19:28:52.114824\n",
      "/root/miniconda3/lib/python3.8/site-packages/semilearn/core/algorithmbase.py:64: FutureWarning: `torch.cuda.amp.GradScaler(args...)` is deprecated. Please use `torch.amp.GradScaler('cuda', args...)` instead.\n",
      "  self.loss_scaler = GradScaler()\n"
     ]
    },
    {
     "name": "stdout",
     "output_type": "stream",
     "text": [
      "Files already downloaded and verified\n",
      "lb count: [750, 750]\n",
      "ulb count: [5000, 5000]\n",
      "Files already downloaded and verified\n",
      "unlabeled data number: 10000, labeled data number 1500\n",
      "Create train and test data loaders\n",
      "[!] data loader keys: dict_keys(['train_lb', 'train_ulb', 'eval'])\n",
      "_IncompatibleKeys(missing_keys=['head.weight', 'head.bias'], unexpected_keys=[])\n",
      "Create optimizer and scheduler\n",
      "Epoch: 0\n"
     ]
    },
    {
     "name": "stderr",
     "output_type": "stream",
     "text": [
      "/root/miniconda3/lib/python3.8/site-packages/sklearn/metrics/_classification.py:1471: UndefinedMetricWarning: Precision is ill-defined and being set to 0.0 in labels with no predicted samples. Use `zero_division` parameter to control this behavior.\n",
      "  _warn_prf(average, modifier, msg_start, len(result))\n",
      "2024-09-26 19:28:55,460 - INFO - confusion matrix\n",
      "2024-09-26 19:28:55,462 - INFO - [[0. 1.]\n",
      " [0. 1.]]\n",
      "2024-09-26 19:28:55,466 - INFO - evaluation metric\n",
      "2024-09-26 19:28:55,467 - INFO - acc: 0.2500\n",
      "2024-09-26 19:28:55,468 - INFO - precision: 0.1250\n",
      "2024-09-26 19:28:55,468 - INFO - recall: 0.5000\n",
      "2024-09-26 19:28:55,469 - INFO - f1: 0.2000\n",
      "2024-09-26 19:28:55,716 - INFO - Best acc 0.2500 at epoch 0\n",
      "2024-09-26 19:28:55,718 - INFO - Training finished.\n"
     ]
    },
    {
     "name": "stdout",
     "output_type": "stream",
     "text": [
      "model saved: ./saved_models/fixmatch/latest_model.pth\n",
      "model saved: ./saved_models/fixmatch/model_best.pth\n"
     ]
    },
    {
     "name": "stderr",
     "output_type": "stream",
     "text": [
      "/root/miniconda3/lib/python3.8/site-packages/sklearn/metrics/_classification.py:1471: UndefinedMetricWarning: Precision is ill-defined and being set to 0.0 in labels with no predicted samples. Use `zero_division` parameter to control this behavior.\n",
      "  _warn_prf(average, modifier, msg_start, len(result))\n",
      "2024-09-26 19:28:56,035 - INFO - confusion matrix\n",
      "2024-09-26 19:28:56,036 - INFO - [[0. 1.]\n",
      " [0. 1.]]\n",
      "2024-09-26 19:28:56,040 - INFO - evaluation metric\n",
      "2024-09-26 19:28:56,041 - INFO - acc: 0.2500\n",
      "2024-09-26 19:28:56,042 - INFO - precision: 0.1250\n",
      "2024-09-26 19:28:56,043 - INFO - recall: 0.5000\n",
      "2024-09-26 19:28:56,043 - INFO - f1: 0.2000\n",
      "2024-09-26 19:28:56,048 - INFO - 训练结束 - 算法: fixmatch, 数据集: credit, 隐藏比例: RATIO_0_3, 结束时间: 2024-09-26 19:28:56.048214\n",
      "2024-09-26 19:28:56,048 - INFO - 训练时长: 0:00:03.933390\n",
      "2024-09-26 19:28:56,049 - INFO - 结果已存储 - 算法: fixmatch, 数据集: credit, 隐藏比例: RATIO_0_3\n",
      "2024-09-26 19:28:56,050 - INFO - 正在运行实验 - 算法: fixmatch, 数据集: credit, 隐藏比例: RATIO_0_4\n",
      "2024-09-26 19:28:56,050 - INFO - 配置详情 - 有标签样本数: 2000,无标签样本数: 18000,一共4000\n",
      "/bin/sh: 1: netstat: not found\n",
      "2024-09-26 19:28:56,099 - INFO - 训练开始 - 算法: fixmatch, 数据集: credit, 隐藏比例: RATIO_0_4, 开始时间: 2024-09-26 19:28:56.099685\n",
      "/root/miniconda3/lib/python3.8/site-packages/semilearn/core/algorithmbase.py:64: FutureWarning: `torch.cuda.amp.GradScaler(args...)` is deprecated. Please use `torch.amp.GradScaler('cuda', args...)` instead.\n",
      "  self.loss_scaler = GradScaler()\n"
     ]
    },
    {
     "name": "stdout",
     "output_type": "stream",
     "text": [
      "Files already downloaded and verified\n",
      "lb count: [1000, 1000]\n",
      "ulb count: [5000, 5000]\n",
      "Files already downloaded and verified\n",
      "unlabeled data number: 10000, labeled data number 2000\n",
      "Create train and test data loaders\n",
      "[!] data loader keys: dict_keys(['train_lb', 'train_ulb', 'eval'])\n",
      "_IncompatibleKeys(missing_keys=['head.weight', 'head.bias'], unexpected_keys=[])\n",
      "Create optimizer and scheduler\n",
      "Epoch: 0\n"
     ]
    },
    {
     "name": "stderr",
     "output_type": "stream",
     "text": [
      "/root/miniconda3/lib/python3.8/site-packages/sklearn/metrics/_classification.py:1471: UndefinedMetricWarning: Precision is ill-defined and being set to 0.0 in labels with no predicted samples. Use `zero_division` parameter to control this behavior.\n",
      "  _warn_prf(average, modifier, msg_start, len(result))\n",
      "2024-09-26 19:28:59,677 - INFO - confusion matrix\n",
      "2024-09-26 19:28:59,678 - INFO - [[1. 0.]\n",
      " [1. 0.]]\n",
      "2024-09-26 19:28:59,683 - INFO - evaluation metric\n",
      "2024-09-26 19:28:59,683 - INFO - acc: 0.2500\n",
      "2024-09-26 19:28:59,684 - INFO - precision: 0.1250\n",
      "2024-09-26 19:28:59,685 - INFO - recall: 0.5000\n",
      "2024-09-26 19:28:59,686 - INFO - f1: 0.2000\n",
      "2024-09-26 19:28:59,929 - INFO - Best acc 0.2500 at epoch 0\n",
      "2024-09-26 19:28:59,930 - INFO - Training finished.\n"
     ]
    },
    {
     "name": "stdout",
     "output_type": "stream",
     "text": [
      "model saved: ./saved_models/fixmatch/latest_model.pth\n",
      "model saved: ./saved_models/fixmatch/model_best.pth\n"
     ]
    },
    {
     "name": "stderr",
     "output_type": "stream",
     "text": [
      "/root/miniconda3/lib/python3.8/site-packages/sklearn/metrics/_classification.py:1471: UndefinedMetricWarning: Precision is ill-defined and being set to 0.0 in labels with no predicted samples. Use `zero_division` parameter to control this behavior.\n",
      "  _warn_prf(average, modifier, msg_start, len(result))\n",
      "2024-09-26 19:29:00,251 - INFO - confusion matrix\n",
      "2024-09-26 19:29:00,253 - INFO - [[1. 0.]\n",
      " [1. 0.]]\n",
      "2024-09-26 19:29:00,257 - INFO - evaluation metric\n",
      "2024-09-26 19:29:00,258 - INFO - acc: 0.2500\n",
      "2024-09-26 19:29:00,259 - INFO - precision: 0.1250\n",
      "2024-09-26 19:29:00,259 - INFO - recall: 0.5000\n",
      "2024-09-26 19:29:00,260 - INFO - f1: 0.2000\n",
      "2024-09-26 19:29:00,265 - INFO - 训练结束 - 算法: fixmatch, 数据集: credit, 隐藏比例: RATIO_0_4, 结束时间: 2024-09-26 19:29:00.264980\n",
      "2024-09-26 19:29:00,265 - INFO - 训练时长: 0:00:04.165295\n",
      "2024-09-26 19:29:00,265 - INFO - 结果已存储 - 算法: fixmatch, 数据集: credit, 隐藏比例: RATIO_0_4\n",
      "2024-09-26 19:29:00,266 - INFO - 正在运行实验 - 算法: fixmatch, 数据集: credit, 隐藏比例: RATIO_0_5\n",
      "2024-09-26 19:29:00,266 - INFO - 配置详情 - 有标签样本数: 2500,无标签样本数: 15000,一共5000\n",
      "/bin/sh: 1: netstat: not found\n",
      "2024-09-26 19:29:00,320 - INFO - 训练开始 - 算法: fixmatch, 数据集: credit, 隐藏比例: RATIO_0_5, 开始时间: 2024-09-26 19:29:00.320636\n",
      "/root/miniconda3/lib/python3.8/site-packages/semilearn/core/algorithmbase.py:64: FutureWarning: `torch.cuda.amp.GradScaler(args...)` is deprecated. Please use `torch.amp.GradScaler('cuda', args...)` instead.\n",
      "  self.loss_scaler = GradScaler()\n"
     ]
    },
    {
     "name": "stdout",
     "output_type": "stream",
     "text": [
      "Files already downloaded and verified\n",
      "lb count: [1250, 1250]\n",
      "ulb count: [5000, 5000]\n",
      "Files already downloaded and verified\n",
      "unlabeled data number: 10000, labeled data number 2500\n",
      "Create train and test data loaders\n",
      "[!] data loader keys: dict_keys(['train_lb', 'train_ulb', 'eval'])\n",
      "_IncompatibleKeys(missing_keys=['head.weight', 'head.bias'], unexpected_keys=[])\n",
      "Create optimizer and scheduler\n",
      "Epoch: 0\n"
     ]
    },
    {
     "name": "stderr",
     "output_type": "stream",
     "text": [
      "/root/miniconda3/lib/python3.8/site-packages/sklearn/metrics/_classification.py:1471: UndefinedMetricWarning: Precision is ill-defined and being set to 0.0 in labels with no predicted samples. Use `zero_division` parameter to control this behavior.\n",
      "  _warn_prf(average, modifier, msg_start, len(result))\n",
      "2024-09-26 19:29:03,873 - INFO - confusion matrix\n",
      "2024-09-26 19:29:03,874 - INFO - [[0. 1.]\n",
      " [0. 1.]]\n",
      "2024-09-26 19:29:03,879 - INFO - evaluation metric\n",
      "2024-09-26 19:29:03,879 - INFO - acc: 0.2500\n",
      "2024-09-26 19:29:03,880 - INFO - precision: 0.1250\n",
      "2024-09-26 19:29:03,881 - INFO - recall: 0.5000\n",
      "2024-09-26 19:29:03,882 - INFO - f1: 0.2000\n",
      "2024-09-26 19:29:04,121 - INFO - Best acc 0.2500 at epoch 0\n",
      "2024-09-26 19:29:04,122 - INFO - Training finished.\n"
     ]
    },
    {
     "name": "stdout",
     "output_type": "stream",
     "text": [
      "model saved: ./saved_models/fixmatch/latest_model.pth\n",
      "model saved: ./saved_models/fixmatch/model_best.pth\n"
     ]
    },
    {
     "name": "stderr",
     "output_type": "stream",
     "text": [
      "/root/miniconda3/lib/python3.8/site-packages/sklearn/metrics/_classification.py:1471: UndefinedMetricWarning: Precision is ill-defined and being set to 0.0 in labels with no predicted samples. Use `zero_division` parameter to control this behavior.\n",
      "  _warn_prf(average, modifier, msg_start, len(result))\n",
      "2024-09-26 19:29:04,410 - INFO - confusion matrix\n",
      "2024-09-26 19:29:04,411 - INFO - [[0. 1.]\n",
      " [0. 1.]]\n",
      "2024-09-26 19:29:04,415 - INFO - evaluation metric\n",
      "2024-09-26 19:29:04,416 - INFO - acc: 0.2500\n",
      "2024-09-26 19:29:04,417 - INFO - precision: 0.1250\n",
      "2024-09-26 19:29:04,418 - INFO - recall: 0.5000\n",
      "2024-09-26 19:29:04,419 - INFO - f1: 0.2000\n",
      "2024-09-26 19:29:04,423 - INFO - 训练结束 - 算法: fixmatch, 数据集: credit, 隐藏比例: RATIO_0_5, 结束时间: 2024-09-26 19:29:04.423207\n",
      "2024-09-26 19:29:04,423 - INFO - 训练时长: 0:00:04.102571\n",
      "2024-09-26 19:29:04,424 - INFO - 结果已存储 - 算法: fixmatch, 数据集: credit, 隐藏比例: RATIO_0_5\n",
      "2024-09-26 19:29:04,424 - INFO - 正在运行实验 - 算法: fixmatch, 数据集: credit, 隐藏比例: RATIO_0_6\n",
      "2024-09-26 19:29:04,424 - INFO - 配置详情 - 有标签样本数: 3000,无标签样本数: 12000,一共6000\n",
      "/bin/sh: 1: netstat: not found\n",
      "2024-09-26 19:29:04,473 - INFO - 训练开始 - 算法: fixmatch, 数据集: credit, 隐藏比例: RATIO_0_6, 开始时间: 2024-09-26 19:29:04.473333\n",
      "/root/miniconda3/lib/python3.8/site-packages/semilearn/core/algorithmbase.py:64: FutureWarning: `torch.cuda.amp.GradScaler(args...)` is deprecated. Please use `torch.amp.GradScaler('cuda', args...)` instead.\n",
      "  self.loss_scaler = GradScaler()\n"
     ]
    },
    {
     "name": "stdout",
     "output_type": "stream",
     "text": [
      "Files already downloaded and verified\n",
      "lb count: [1500, 1500]\n",
      "ulb count: [5000, 5000]\n",
      "Files already downloaded and verified\n",
      "unlabeled data number: 10000, labeled data number 3000\n",
      "Create train and test data loaders\n",
      "[!] data loader keys: dict_keys(['train_lb', 'train_ulb', 'eval'])\n",
      "_IncompatibleKeys(missing_keys=['head.weight', 'head.bias'], unexpected_keys=[])\n",
      "Create optimizer and scheduler\n",
      "Epoch: 0\n"
     ]
    },
    {
     "name": "stderr",
     "output_type": "stream",
     "text": [
      "/root/miniconda3/lib/python3.8/site-packages/sklearn/metrics/_classification.py:1471: UndefinedMetricWarning: Precision is ill-defined and being set to 0.0 in labels with no predicted samples. Use `zero_division` parameter to control this behavior.\n",
      "  _warn_prf(average, modifier, msg_start, len(result))\n",
      "2024-09-26 19:29:07,975 - INFO - confusion matrix\n",
      "2024-09-26 19:29:07,976 - INFO - [[1. 0.]\n",
      " [1. 0.]]\n",
      "2024-09-26 19:29:07,980 - INFO - evaluation metric\n",
      "2024-09-26 19:29:07,981 - INFO - acc: 0.6250\n",
      "2024-09-26 19:29:07,982 - INFO - precision: 0.3125\n",
      "2024-09-26 19:29:07,983 - INFO - recall: 0.5000\n",
      "2024-09-26 19:29:07,984 - INFO - f1: 0.3846\n",
      "2024-09-26 19:29:08,227 - INFO - Best acc 0.6250 at epoch 0\n",
      "2024-09-26 19:29:08,228 - INFO - Training finished.\n"
     ]
    },
    {
     "name": "stdout",
     "output_type": "stream",
     "text": [
      "model saved: ./saved_models/fixmatch/latest_model.pth\n",
      "model saved: ./saved_models/fixmatch/model_best.pth\n"
     ]
    },
    {
     "name": "stderr",
     "output_type": "stream",
     "text": [
      "/root/miniconda3/lib/python3.8/site-packages/sklearn/metrics/_classification.py:1471: UndefinedMetricWarning: Precision is ill-defined and being set to 0.0 in labels with no predicted samples. Use `zero_division` parameter to control this behavior.\n",
      "  _warn_prf(average, modifier, msg_start, len(result))\n",
      "2024-09-26 19:29:08,543 - INFO - confusion matrix\n",
      "2024-09-26 19:29:08,544 - INFO - [[1. 0.]\n",
      " [1. 0.]]\n",
      "2024-09-26 19:29:08,549 - INFO - evaluation metric\n",
      "2024-09-26 19:29:08,550 - INFO - acc: 0.6250\n",
      "2024-09-26 19:29:08,550 - INFO - precision: 0.3125\n",
      "2024-09-26 19:29:08,551 - INFO - recall: 0.5000\n",
      "2024-09-26 19:29:08,552 - INFO - f1: 0.3846\n",
      "2024-09-26 19:29:08,556 - INFO - 训练结束 - 算法: fixmatch, 数据集: credit, 隐藏比例: RATIO_0_6, 结束时间: 2024-09-26 19:29:08.556324\n",
      "2024-09-26 19:29:08,556 - INFO - 训练时长: 0:00:04.082991\n",
      "2024-09-26 19:29:08,557 - INFO - 结果已存储 - 算法: fixmatch, 数据集: credit, 隐藏比例: RATIO_0_6\n",
      "2024-09-26 19:29:08,557 - INFO - 正在运行实验 - 算法: fixmatch, 数据集: credit, 隐藏比例: RATIO_0_7\n",
      "2024-09-26 19:29:08,557 - INFO - 配置详情 - 有标签样本数: 3500,无标签样本数: 9000,一共7000\n",
      "/bin/sh: 1: netstat: not found\n",
      "2024-09-26 19:29:08,604 - INFO - 训练开始 - 算法: fixmatch, 数据集: credit, 隐藏比例: RATIO_0_7, 开始时间: 2024-09-26 19:29:08.604653\n",
      "/root/miniconda3/lib/python3.8/site-packages/semilearn/core/algorithmbase.py:64: FutureWarning: `torch.cuda.amp.GradScaler(args...)` is deprecated. Please use `torch.amp.GradScaler('cuda', args...)` instead.\n",
      "  self.loss_scaler = GradScaler()\n"
     ]
    },
    {
     "name": "stdout",
     "output_type": "stream",
     "text": [
      "Files already downloaded and verified\n",
      "lb count: [1750, 1750]\n",
      "ulb count: [5000, 5000]\n",
      "Files already downloaded and verified\n",
      "unlabeled data number: 10000, labeled data number 3500\n",
      "Create train and test data loaders\n",
      "[!] data loader keys: dict_keys(['train_lb', 'train_ulb', 'eval'])\n",
      "_IncompatibleKeys(missing_keys=['head.weight', 'head.bias'], unexpected_keys=[])\n",
      "Create optimizer and scheduler\n",
      "Epoch: 0\n"
     ]
    },
    {
     "name": "stderr",
     "output_type": "stream",
     "text": [
      "/root/miniconda3/lib/python3.8/site-packages/sklearn/metrics/_classification.py:1471: UndefinedMetricWarning: Precision is ill-defined and being set to 0.0 in labels with no predicted samples. Use `zero_division` parameter to control this behavior.\n",
      "  _warn_prf(average, modifier, msg_start, len(result))\n",
      "2024-09-26 19:29:12,063 - INFO - confusion matrix\n",
      "2024-09-26 19:29:12,065 - INFO - [[1. 0.]\n",
      " [1. 0.]]\n",
      "2024-09-26 19:29:12,069 - INFO - evaluation metric\n",
      "2024-09-26 19:29:12,070 - INFO - acc: 0.3750\n",
      "2024-09-26 19:29:12,071 - INFO - precision: 0.1875\n",
      "2024-09-26 19:29:12,072 - INFO - recall: 0.5000\n",
      "2024-09-26 19:29:12,072 - INFO - f1: 0.2727\n",
      "2024-09-26 19:29:12,314 - INFO - Best acc 0.3750 at epoch 0\n",
      "2024-09-26 19:29:12,315 - INFO - Training finished.\n"
     ]
    },
    {
     "name": "stdout",
     "output_type": "stream",
     "text": [
      "model saved: ./saved_models/fixmatch/latest_model.pth\n",
      "model saved: ./saved_models/fixmatch/model_best.pth\n"
     ]
    },
    {
     "name": "stderr",
     "output_type": "stream",
     "text": [
      "/root/miniconda3/lib/python3.8/site-packages/sklearn/metrics/_classification.py:1471: UndefinedMetricWarning: Precision is ill-defined and being set to 0.0 in labels with no predicted samples. Use `zero_division` parameter to control this behavior.\n",
      "  _warn_prf(average, modifier, msg_start, len(result))\n",
      "2024-09-26 19:29:12,554 - INFO - confusion matrix\n",
      "2024-09-26 19:29:12,555 - INFO - [[1. 0.]\n",
      " [1. 0.]]\n",
      "2024-09-26 19:29:12,560 - INFO - evaluation metric\n",
      "2024-09-26 19:29:12,561 - INFO - acc: 0.3750\n",
      "2024-09-26 19:29:12,561 - INFO - precision: 0.1875\n",
      "2024-09-26 19:29:12,562 - INFO - recall: 0.5000\n",
      "2024-09-26 19:29:12,563 - INFO - f1: 0.2727\n",
      "2024-09-26 19:29:12,567 - INFO - 训练结束 - 算法: fixmatch, 数据集: credit, 隐藏比例: RATIO_0_7, 结束时间: 2024-09-26 19:29:12.567102\n",
      "2024-09-26 19:29:12,567 - INFO - 训练时长: 0:00:03.962449\n",
      "2024-09-26 19:29:12,567 - INFO - 结果已存储 - 算法: fixmatch, 数据集: credit, 隐藏比例: RATIO_0_7\n",
      "2024-09-26 19:29:12,568 - INFO - 正在运行实验 - 算法: fixmatch, 数据集: credit, 隐藏比例: RATIO_0_8\n",
      "2024-09-26 19:29:12,568 - INFO - 配置详情 - 有标签样本数: 4000,无标签样本数: 6000,一共8000\n",
      "/bin/sh: 1: netstat: not found\n",
      "2024-09-26 19:29:12,612 - INFO - 训练开始 - 算法: fixmatch, 数据集: credit, 隐藏比例: RATIO_0_8, 开始时间: 2024-09-26 19:29:12.612668\n",
      "/root/miniconda3/lib/python3.8/site-packages/semilearn/core/algorithmbase.py:64: FutureWarning: `torch.cuda.amp.GradScaler(args...)` is deprecated. Please use `torch.amp.GradScaler('cuda', args...)` instead.\n",
      "  self.loss_scaler = GradScaler()\n"
     ]
    },
    {
     "name": "stdout",
     "output_type": "stream",
     "text": [
      "Files already downloaded and verified\n",
      "lb count: [2000, 2000]\n",
      "ulb count: [5000, 5000]\n",
      "Files already downloaded and verified\n",
      "unlabeled data number: 10000, labeled data number 4000\n",
      "Create train and test data loaders\n",
      "[!] data loader keys: dict_keys(['train_lb', 'train_ulb', 'eval'])\n",
      "_IncompatibleKeys(missing_keys=['head.weight', 'head.bias'], unexpected_keys=[])\n",
      "Create optimizer and scheduler\n",
      "Epoch: 0\n"
     ]
    },
    {
     "name": "stderr",
     "output_type": "stream",
     "text": [
      "/root/miniconda3/lib/python3.8/site-packages/sklearn/metrics/_classification.py:1471: UndefinedMetricWarning: Precision is ill-defined and being set to 0.0 in labels with no predicted samples. Use `zero_division` parameter to control this behavior.\n",
      "  _warn_prf(average, modifier, msg_start, len(result))\n",
      "2024-09-26 19:29:16,152 - INFO - confusion matrix\n",
      "2024-09-26 19:29:16,153 - INFO - [[0. 1.]\n",
      " [0. 1.]]\n",
      "2024-09-26 19:29:16,159 - INFO - evaluation metric\n",
      "2024-09-26 19:29:16,160 - INFO - acc: 0.3750\n",
      "2024-09-26 19:29:16,161 - INFO - precision: 0.1875\n",
      "2024-09-26 19:29:16,162 - INFO - recall: 0.5000\n",
      "2024-09-26 19:29:16,162 - INFO - f1: 0.2727\n",
      "2024-09-26 19:29:16,399 - INFO - Best acc 0.3750 at epoch 0\n",
      "2024-09-26 19:29:16,401 - INFO - Training finished.\n"
     ]
    },
    {
     "name": "stdout",
     "output_type": "stream",
     "text": [
      "model saved: ./saved_models/fixmatch/latest_model.pth\n",
      "model saved: ./saved_models/fixmatch/model_best.pth\n"
     ]
    },
    {
     "name": "stderr",
     "output_type": "stream",
     "text": [
      "/root/miniconda3/lib/python3.8/site-packages/sklearn/metrics/_classification.py:1471: UndefinedMetricWarning: Precision is ill-defined and being set to 0.0 in labels with no predicted samples. Use `zero_division` parameter to control this behavior.\n",
      "  _warn_prf(average, modifier, msg_start, len(result))\n",
      "2024-09-26 19:29:16,673 - INFO - confusion matrix\n",
      "2024-09-26 19:29:16,675 - INFO - [[0. 1.]\n",
      " [0. 1.]]\n",
      "2024-09-26 19:29:16,680 - INFO - evaluation metric\n",
      "2024-09-26 19:29:16,681 - INFO - acc: 0.3750\n",
      "2024-09-26 19:29:16,682 - INFO - precision: 0.1875\n",
      "2024-09-26 19:29:16,683 - INFO - recall: 0.5000\n",
      "2024-09-26 19:29:16,683 - INFO - f1: 0.2727\n",
      "2024-09-26 19:29:16,687 - INFO - 训练结束 - 算法: fixmatch, 数据集: credit, 隐藏比例: RATIO_0_8, 结束时间: 2024-09-26 19:29:16.687946\n",
      "2024-09-26 19:29:16,688 - INFO - 训练时长: 0:00:04.075278\n",
      "2024-09-26 19:29:16,688 - INFO - 结果已存储 - 算法: fixmatch, 数据集: credit, 隐藏比例: RATIO_0_8\n",
      "2024-09-26 19:29:16,689 - INFO - 正在运行实验 - 算法: fixmatch, 数据集: credit, 隐藏比例: RATIO_0_9\n",
      "2024-09-26 19:29:16,689 - INFO - 配置详情 - 有标签样本数: 4500,无标签样本数: 3000,一共9000\n",
      "/bin/sh: 1: netstat: not found\n",
      "2024-09-26 19:29:16,729 - INFO - 训练开始 - 算法: fixmatch, 数据集: credit, 隐藏比例: RATIO_0_9, 开始时间: 2024-09-26 19:29:16.729052\n",
      "/root/miniconda3/lib/python3.8/site-packages/semilearn/core/algorithmbase.py:64: FutureWarning: `torch.cuda.amp.GradScaler(args...)` is deprecated. Please use `torch.amp.GradScaler('cuda', args...)` instead.\n",
      "  self.loss_scaler = GradScaler()\n"
     ]
    },
    {
     "name": "stdout",
     "output_type": "stream",
     "text": [
      "Files already downloaded and verified\n",
      "lb count: [2250, 2250]\n",
      "ulb count: [3750, 3750]\n",
      "Files already downloaded and verified\n",
      "unlabeled data number: 7500, labeled data number 4500\n",
      "Create train and test data loaders\n",
      "[!] data loader keys: dict_keys(['train_lb', 'train_ulb', 'eval'])\n",
      "_IncompatibleKeys(missing_keys=['head.weight', 'head.bias'], unexpected_keys=[])\n",
      "Create optimizer and scheduler\n",
      "Epoch: 0\n"
     ]
    },
    {
     "name": "stderr",
     "output_type": "stream",
     "text": [
      "/root/miniconda3/lib/python3.8/site-packages/sklearn/metrics/_classification.py:1471: UndefinedMetricWarning: Precision is ill-defined and being set to 0.0 in labels with no predicted samples. Use `zero_division` parameter to control this behavior.\n",
      "  _warn_prf(average, modifier, msg_start, len(result))\n",
      "2024-09-26 19:29:20,467 - INFO - confusion matrix\n",
      "2024-09-26 19:29:20,469 - INFO - [[1. 0.]\n",
      " [1. 0.]]\n",
      "2024-09-26 19:29:20,473 - INFO - evaluation metric\n",
      "2024-09-26 19:29:20,474 - INFO - acc: 0.6250\n",
      "2024-09-26 19:29:20,476 - INFO - precision: 0.3125\n",
      "2024-09-26 19:29:20,478 - INFO - recall: 0.5000\n",
      "2024-09-26 19:29:20,479 - INFO - f1: 0.3846\n",
      "2024-09-26 19:29:20,723 - INFO - Best acc 0.6250 at epoch 0\n",
      "2024-09-26 19:29:20,724 - INFO - Training finished.\n"
     ]
    },
    {
     "name": "stdout",
     "output_type": "stream",
     "text": [
      "model saved: ./saved_models/fixmatch/latest_model.pth\n",
      "model saved: ./saved_models/fixmatch/model_best.pth\n"
     ]
    },
    {
     "name": "stderr",
     "output_type": "stream",
     "text": [
      "/root/miniconda3/lib/python3.8/site-packages/sklearn/metrics/_classification.py:1471: UndefinedMetricWarning: Precision is ill-defined and being set to 0.0 in labels with no predicted samples. Use `zero_division` parameter to control this behavior.\n",
      "  _warn_prf(average, modifier, msg_start, len(result))\n",
      "2024-09-26 19:29:20,989 - INFO - confusion matrix\n",
      "2024-09-26 19:29:20,990 - INFO - [[1. 0.]\n",
      " [1. 0.]]\n",
      "2024-09-26 19:29:20,995 - INFO - evaluation metric\n",
      "2024-09-26 19:29:20,996 - INFO - acc: 0.6250\n",
      "2024-09-26 19:29:20,997 - INFO - precision: 0.3125\n",
      "2024-09-26 19:29:20,997 - INFO - recall: 0.5000\n",
      "2024-09-26 19:29:20,998 - INFO - f1: 0.3846\n",
      "2024-09-26 19:29:21,002 - INFO - 训练结束 - 算法: fixmatch, 数据集: credit, 隐藏比例: RATIO_0_9, 结束时间: 2024-09-26 19:29:21.002560\n",
      "2024-09-26 19:29:21,003 - INFO - 训练时长: 0:00:04.273508\n",
      "2024-09-26 19:29:21,003 - INFO - 结果已存储 - 算法: fixmatch, 数据集: credit, 隐藏比例: RATIO_0_9\n",
      "2024-09-26 19:29:21,006 - INFO - 结果已成功转换为 DataFrame\n"
     ]
    }
   ],
   "source": [
    "result = run_experiments(['fixmatch'],get_all_dataset(),baseConfig)"
   ]
  },
  {
   "cell_type": "code",
   "execution_count": 28,
   "id": "ba1ce4c6-e689-41ad-a0e7-eeb72f88983f",
   "metadata": {},
   "outputs": [],
   "source": [
    "# import os\n",
    "# from consts.Constants import DATASETS_PATH\n",
    "# result.to_csv(os.path.join(DATASETS_PATH,'fixmatch_result.csv'))"
   ]
  },
  {
   "cell_type": "code",
   "execution_count": null,
   "id": "49006a42-9660-487c-bcf1-970e557b288f",
   "metadata": {},
   "outputs": [],
   "source": [
    "配置详情 - 有标签样本数: 12356, 无标签样本数: 28832"
   ]
  },
  {
   "cell_type": "code",
   "execution_count": 18,
   "id": "3c8304ce-312d-407d-8d73-b3a2d0e18ba3",
   "metadata": {},
   "outputs": [
    {
     "data": {
      "text/plain": [
       "41188"
      ]
     },
     "execution_count": 18,
     "metadata": {},
     "output_type": "execute_result"
    }
   ],
   "source": [
    "12356 + 28832"
   ]
  },
  {
   "cell_type": "code",
   "execution_count": null,
   "id": "5bfa0d5c-9bf6-468a-b207-5fcb73fc0fc2",
   "metadata": {},
   "outputs": [],
   "source": []
  },
  {
   "cell_type": "code",
   "execution_count": null,
   "id": "6b1ed238-dc0a-413c-839e-eada9aaa4836",
   "metadata": {},
   "outputs": [],
   "source": [
    "split_ssl_data(args, data, targets, num_classes, lb_num_labels, ulb_num_labels, \n",
    "               lb_imbalance_ratio, ulb_imbalance_ratio, lb_index, ulb_index, include_lb_to_ulb)"
   ]
  }
 ],
 "metadata": {
  "kernelspec": {
   "display_name": "Python 3 (ipykernel)",
   "language": "python",
   "name": "python3"
  },
  "language_info": {
   "codemirror_mode": {
    "name": "ipython",
    "version": 3
   },
   "file_extension": ".py",
   "mimetype": "text/x-python",
   "name": "python",
   "nbconvert_exporter": "python",
   "pygments_lexer": "ipython3",
   "version": "3.11.7"
  }
 },
 "nbformat": 4,
 "nbformat_minor": 5
}
