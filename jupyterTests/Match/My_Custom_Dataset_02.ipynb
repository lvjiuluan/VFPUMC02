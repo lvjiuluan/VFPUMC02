{
 "cells": [
  {
   "cell_type": "code",
   "execution_count": 16,
   "id": "e2d9383d-a38e-4fa2-85a1-fa27707cac90",
   "metadata": {},
   "outputs": [
    {
     "name": "stdout",
     "output_type": "stream",
     "text": [
      "The autoreload extension is already loaded. To reload it, use:\n",
      "  %reload_ext autoreload\n"
     ]
    }
   ],
   "source": [
    "import sys\n",
    "sys.path.append('/root/semi/VFPUMC02')\n",
    "%load_ext autoreload\n",
    "%autoreload 2"
   ]
  },
  {
   "cell_type": "code",
   "execution_count": 17,
   "id": "9ccbc538-1dab-4ccd-8dad-c919f9f5afba",
   "metadata": {},
   "outputs": [],
   "source": [
    "from datasets.DataSet import BankDataset\n",
    "from utils.DataProcessUtils import *\n",
    "from semilearn import get_config, split_ssl_data, BasicDataset,get_data_loader, get_algorithm, get_net_builder,Trainer\n",
    "from torchvision import transforms"
   ]
  },
  {
   "cell_type": "code",
   "execution_count": 72,
   "id": "5cf9c6de-2a8f-420c-b173-db4658dea7d2",
   "metadata": {},
   "outputs": [
    {
     "name": "stderr",
     "output_type": "stream",
     "text": [
      "/bin/sh: 1: netstat: not found\n"
     ]
    }
   ],
   "source": [
    "config = {\n",
    "    # 以下是可变的\n",
    "    'algorithm': 'adamatch',\n",
    "    'num_labels': nearest_even(5000),\n",
    "    'ulb_num_labels': nearest_even(8000),\n",
    "    \n",
    "    # 以下是固定不变的\n",
    "    'net': 'vit_tiny_patch2_32',\n",
    "    'use_pretrain': True, \n",
    "    'pretrain_path': 'https://github.com/microsoft/Semi-supervised-learning/releases/download/v.0.0.0/vit_tiny_patch2_32_mlp_im_1k_32.pth',\n",
    "    'include_lb_to_ulb': True,\n",
    "    'batch_size': 8,\n",
    "    'uratio': 2,\n",
    "    'eval_batch_size':8,\n",
    "    'data_dir': '/root/semi/Semi-supervised-learning/notebooks/data',\n",
    "    'distributed': False,\n",
    "    'gpu': 0,\n",
    "    'num_classes': 2,\n",
    "    'num_train_iter': 1, \n",
    "    'num_eval_iter': 1,   \n",
    "    'num_log_iter': 50, \n",
    "    'epoch': 1, \n",
    "}\n",
    "config = get_config(config)"
   ]
  },
  {
   "cell_type": "code",
   "execution_count": 73,
   "id": "45571e4d-919b-4b0b-bd03-29b86d4cd77a",
   "metadata": {},
   "outputs": [
    {
     "name": "stdout",
     "output_type": "stream",
     "text": [
      "Files already downloaded and verified\n",
      "lb count: [2500, 2500]\n",
      "ulb count: [5000, 5000]\n",
      "Files already downloaded and verified\n",
      "unlabeled data number: 10000, labeled data number 5000\n",
      "Create train and test data loaders\n",
      "[!] data loader keys: dict_keys(['train_lb', 'train_ulb', 'eval'])\n",
      "_IncompatibleKeys(missing_keys=['head.weight', 'head.bias'], unexpected_keys=[])\n",
      "Create optimizer and scheduler\n",
      "distribution alignment p_target: tensor([0.5000, 0.5000])\n"
     ]
    }
   ],
   "source": [
    "# create model and specify algorithm\n",
    "algorithm = get_algorithm(config,  get_net_builder(config.net, from_name=False), tb_log=None, logger=None)"
   ]
  },
  {
   "cell_type": "code",
   "execution_count": 74,
   "id": "3edc08c9-650f-487e-9809-c6b831ece53a",
   "metadata": {},
   "outputs": [
    {
     "name": "stderr",
     "output_type": "stream",
     "text": [
      "2024-09-26 19:44:48,822 - INFO - 正在加载数据集 bank.csv\n",
      "2024-09-26 19:44:49,034 - INFO - 数据集 bank.csv 加载完成，数据集形状为 (41188, 64)\n"
     ]
    }
   ],
   "source": [
    "bankDataset = BankDataset()"
   ]
  },
  {
   "cell_type": "code",
   "execution_count": 75,
   "id": "30f48660-7c8c-48e7-a141-bbd5a4a6b00e",
   "metadata": {},
   "outputs": [],
   "source": [
    "data = expand_to_image_shape(normalize_columns(bankDataset.df.values))\n",
    "data = (data * 255).astype(np.uint8)\n",
    "target = bankDataset.y"
   ]
  },
  {
   "cell_type": "code",
   "execution_count": 76,
   "id": "4ab3a49b-d0a4-40c0-a636-9214fe9671d9",
   "metadata": {},
   "outputs": [],
   "source": [
    "lb_data, lb_target, ulb_data, ulb_target = split_ssl_data(config, data, target, 2,\n",
    "                                                          config.num_labels,ulb_num_labels=config.ulb_num_labels,\n",
    "                                                          include_lb_to_ulb=config.include_lb_to_ulb)"
   ]
  },
  {
   "cell_type": "code",
   "execution_count": 77,
   "id": "becf7705-ce20-4e32-ba8d-db5d068c5487",
   "metadata": {},
   "outputs": [],
   "source": [
    "train_transform = transforms.Compose([transforms.RandomHorizontalFlip(),\n",
    "                                      transforms.RandomCrop(32, padding=int(32 * 0.125), padding_mode='reflect'),\n",
    "                                      transforms.ToTensor(),\n",
    "                                      transforms.Normalize([0.5, 0.5, 0.5], [0.5, 0.5, 0.5])])\n",
    "\n",
    "train_strong_transform = transforms.Compose([transforms.RandomHorizontalFlip(),\n",
    "                                             transforms.RandomCrop(32, padding=int(32 * 0.125), padding_mode='reflect'),\n",
    "                                             transforms.ToTensor(),\n",
    "                                             transforms.Normalize([0.5, 0.5, 0.5], [0.5, 0.5, 0.5])])\n",
    "\n",
    "eval_transform = transforms.Compose([transforms.Resize(32),\n",
    "                                      transforms.ToTensor(),\n",
    "                                      transforms.Normalize([0.5, 0.5, 0.5], [0.5, 0.5, 0.5])])"
   ]
  },
  {
   "cell_type": "code",
   "execution_count": 78,
   "id": "ff7ea376-b3ee-4915-813c-2d0ecbc3befc",
   "metadata": {},
   "outputs": [],
   "source": [
    "lb_dataset = BasicDataset(config.algorithm, lb_data, lb_target, config.num_classes, train_transform, is_ulb=False)\n",
    "ulb_dataset = BasicDataset(config.algorithm, lb_data, lb_target, config.num_classes, train_transform, is_ulb=True, strong_transform=train_strong_transform)\n",
    "eval_dataset = BasicDataset(config.algorithm, lb_data, lb_target, config.num_classes, eval_transform, is_ulb=False)"
   ]
  },
  {
   "cell_type": "code",
   "execution_count": 79,
   "id": "0b4b8a5e-a767-43c4-aa85-f6c9ac393544",
   "metadata": {},
   "outputs": [],
   "source": [
    "# define data loaders\n",
    "train_lb_loader = get_data_loader(config, lb_dataset, config.batch_size)\n",
    "train_ulb_loader = get_data_loader(config, ulb_dataset, int(config.batch_size * config.uratio))\n",
    "eval_loader = get_data_loader(config, eval_dataset, config.eval_batch_size)"
   ]
  },
  {
   "cell_type": "code",
   "execution_count": 80,
   "id": "7ab44c0c-71a9-4d96-a7f2-a847838bbcd6",
   "metadata": {},
   "outputs": [
    {
     "name": "stdout",
     "output_type": "stream",
     "text": [
      "Epoch: 0\n"
     ]
    },
    {
     "name": "stderr",
     "output_type": "stream",
     "text": [
      "/root/miniconda3/lib/python3.8/site-packages/sklearn/metrics/_classification.py:1471: UndefinedMetricWarning: Precision is ill-defined and being set to 0.0 in labels with no predicted samples. Use `zero_division` parameter to control this behavior.\n",
      "  _warn_prf(average, modifier, msg_start, len(result))\n",
      "2024-09-26 19:45:00,398 - INFO - confusion matrix\n",
      "2024-09-26 19:45:00,399 - INFO - [[0. 1.]\n",
      " [0. 1.]]\n",
      "2024-09-26 19:45:00,400 - INFO - evaluation metric\n",
      "2024-09-26 19:45:00,401 - INFO - acc: 0.2500\n",
      "2024-09-26 19:45:00,401 - INFO - precision: 0.1250\n",
      "2024-09-26 19:45:00,401 - INFO - recall: 0.5000\n",
      "2024-09-26 19:45:00,402 - INFO - f1: 0.2000\n",
      "2024-09-26 19:45:00,647 - INFO - Best acc 0.2500 at epoch 0\n",
      "2024-09-26 19:45:00,648 - INFO - Training finished.\n"
     ]
    },
    {
     "name": "stdout",
     "output_type": "stream",
     "text": [
      "model saved: ./saved_models/fixmatch/latest_model.pth\n",
      "model saved: ./saved_models/fixmatch/model_best.pth\n"
     ]
    }
   ],
   "source": [
    "# training and evaluation\n",
    "trainer = Trainer(config, algorithm)\n",
    "trainer.fit(train_lb_loader, train_ulb_loader, eval_loader)\n"
   ]
  },
  {
   "cell_type": "code",
   "execution_count": 28,
   "id": "e8f1789d-29cc-41a2-a90e-45f0fb116a82",
   "metadata": {},
   "outputs": [
    {
     "name": "stderr",
     "output_type": "stream",
     "text": [
      "/root/miniconda3/lib/python3.8/site-packages/sklearn/metrics/_classification.py:1471: UndefinedMetricWarning: Precision is ill-defined and being set to 0.0 in labels with no predicted samples. Use `zero_division` parameter to control this behavior.\n",
      "  _warn_prf(average, modifier, msg_start, len(result))\n",
      "2024-09-26 18:33:24,110 - INFO - confusion matrix\n",
      "2024-09-26 18:33:24,110 - INFO - [[1. 0.]\n",
      " [1. 0.]]\n",
      "2024-09-26 18:33:24,111 - INFO - evaluation metric\n",
      "2024-09-26 18:33:24,111 - INFO - acc: 0.6250\n",
      "2024-09-26 18:33:24,112 - INFO - precision: 0.3125\n",
      "2024-09-26 18:33:24,112 - INFO - recall: 0.5000\n",
      "2024-09-26 18:33:24,112 - INFO - f1: 0.3846\n"
     ]
    }
   ],
   "source": [
    "result = trainer.evaluate(eval_loader)"
   ]
  },
  {
   "cell_type": "code",
   "execution_count": 31,
   "id": "0b2f2a39-97ac-4d9b-900f-a1bf4787ad20",
   "metadata": {},
   "outputs": [
    {
     "data": {
      "text/plain": [
       "{'acc': 0.625, 'precision': 0.3125, 'recall': 0.5, 'f1': 0.38461538461538464}"
      ]
     },
     "execution_count": 31,
     "metadata": {},
     "output_type": "execute_result"
    }
   ],
   "source": [
    "result"
   ]
  }
 ],
 "metadata": {
  "kernelspec": {
   "display_name": "Python 3 (ipykernel)",
   "language": "python",
   "name": "python3"
  },
  "language_info": {
   "codemirror_mode": {
    "name": "ipython",
    "version": 3
   },
   "file_extension": ".py",
   "mimetype": "text/x-python",
   "name": "python",
   "nbconvert_exporter": "python",
   "pygments_lexer": "ipython3",
   "version": "3.11.7"
  }
 },
 "nbformat": 4,
 "nbformat_minor": 5
}
