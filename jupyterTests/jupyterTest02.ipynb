{
 "cells": [
  {
   "cell_type": "code",
   "execution_count": 1,
   "id": "b2987520-7de5-40f0-acaf-2e3e4a93db0b",
   "metadata": {},
   "outputs": [],
   "source": [
    "import sys\n",
    "sys.path.append('D:\\PyCharmProjects\\VFPUMC02')\n",
    "%load_ext autoreload\n",
    "%autoreload 2"
   ]
  },
  {
   "cell_type": "code",
   "execution_count": 2,
   "id": "44a3228b-a1b5-4633-adeb-bffc62ae6da5",
   "metadata": {},
   "outputs": [],
   "source": [
    "import sys\n",
    "sys.path.append('D:\\PyCharmProjects\\VFPUMC02')\n",
    "from datasets.BankDataset import BankDataset\n",
    "from consts.Constants import DATASETS_PATH\n",
    "from enums.SplitRatio import SplitRatio\n",
    "from enums.HideRatio import HideRatio\n",
    "from configs.Config import VFPUConfig"
   ]
  },
  {
   "cell_type": "code",
   "execution_count": 3,
   "id": "9fb1ca66-15b6-49c7-ac74-ad0e5238a764",
   "metadata": {},
   "outputs": [],
   "source": [
    "bankDataset =  BankDataset()\n",
    "dfA, dfB, origY = bankDataset.get_data_by_split_ratio(SplitRatio.RATIO_50_50)\n",
    "hiddenY = bankDataset.get_hidden_labels(HideRatio.RATIO_0_2)"
   ]
  },
  {
   "cell_type": "code",
   "execution_count": 22,
   "id": "34d2e686-6d00-43a0-a0f9-b3226e40caf7",
   "metadata": {
    "scrolled": true
   },
   "outputs": [
    {
     "name": "stdout",
     "output_type": "stream",
     "text": [
      "当前的 member 为 RATIO_0_1\n",
      "当前的 member 为 RATIO_0_2\n",
      "当前的 member 为 RATIO_0_3\n"
     ]
    },
    {
     "name": "stderr",
     "output_type": "stream",
     "text": [
      "D:\\Anaconda\\envs\\VFPUMC\\lib\\site-packages\\sklearn\\semi_supervised\\_label_propagation.py:230: RuntimeWarning: invalid value encountered in divide\n",
      "  probabilities /= normalizer\n",
      "D:\\Anaconda\\envs\\VFPUMC\\lib\\site-packages\\sklearn\\semi_supervised\\_label_propagation.py:230: RuntimeWarning: invalid value encountered in divide\n",
      "  probabilities /= normalizer\n"
     ]
    },
    {
     "name": "stdout",
     "output_type": "stream",
     "text": [
      "当前的 member 为 RATIO_0_4\n"
     ]
    },
    {
     "name": "stderr",
     "output_type": "stream",
     "text": [
      "D:\\Anaconda\\envs\\VFPUMC\\lib\\site-packages\\sklearn\\semi_supervised\\_label_propagation.py:230: RuntimeWarning: invalid value encountered in divide\n",
      "  probabilities /= normalizer\n",
      "D:\\Anaconda\\envs\\VFPUMC\\lib\\site-packages\\sklearn\\semi_supervised\\_label_propagation.py:230: RuntimeWarning: invalid value encountered in divide\n",
      "  probabilities /= normalizer\n",
      "D:\\Anaconda\\envs\\VFPUMC\\lib\\site-packages\\sklearn\\semi_supervised\\_label_propagation.py:230: RuntimeWarning: invalid value encountered in divide\n",
      "  probabilities /= normalizer\n",
      "D:\\Anaconda\\envs\\VFPUMC\\lib\\site-packages\\sklearn\\semi_supervised\\_label_propagation.py:230: RuntimeWarning: invalid value encountered in divide\n",
      "  probabilities /= normalizer\n"
     ]
    },
    {
     "name": "stdout",
     "output_type": "stream",
     "text": [
      "当前的 member 为 RATIO_0_5\n"
     ]
    },
    {
     "name": "stderr",
     "output_type": "stream",
     "text": [
      "D:\\Anaconda\\envs\\VFPUMC\\lib\\site-packages\\sklearn\\semi_supervised\\_label_propagation.py:230: RuntimeWarning: invalid value encountered in divide\n",
      "  probabilities /= normalizer\n",
      "D:\\Anaconda\\envs\\VFPUMC\\lib\\site-packages\\sklearn\\semi_supervised\\_label_propagation.py:230: RuntimeWarning: invalid value encountered in divide\n",
      "  probabilities /= normalizer\n",
      "D:\\Anaconda\\envs\\VFPUMC\\lib\\site-packages\\sklearn\\semi_supervised\\_label_propagation.py:230: RuntimeWarning: invalid value encountered in divide\n",
      "  probabilities /= normalizer\n",
      "D:\\Anaconda\\envs\\VFPUMC\\lib\\site-packages\\sklearn\\semi_supervised\\_label_propagation.py:230: RuntimeWarning: invalid value encountered in divide\n",
      "  probabilities /= normalizer\n"
     ]
    },
    {
     "name": "stdout",
     "output_type": "stream",
     "text": [
      "当前的 member 为 RATIO_0_6\n"
     ]
    },
    {
     "name": "stderr",
     "output_type": "stream",
     "text": [
      "D:\\Anaconda\\envs\\VFPUMC\\lib\\site-packages\\sklearn\\semi_supervised\\_label_propagation.py:230: RuntimeWarning: invalid value encountered in divide\n",
      "  probabilities /= normalizer\n",
      "D:\\Anaconda\\envs\\VFPUMC\\lib\\site-packages\\sklearn\\semi_supervised\\_label_propagation.py:230: RuntimeWarning: invalid value encountered in divide\n",
      "  probabilities /= normalizer\n",
      "D:\\Anaconda\\envs\\VFPUMC\\lib\\site-packages\\sklearn\\semi_supervised\\_label_propagation.py:230: RuntimeWarning: invalid value encountered in divide\n",
      "  probabilities /= normalizer\n",
      "D:\\Anaconda\\envs\\VFPUMC\\lib\\site-packages\\sklearn\\semi_supervised\\_label_propagation.py:230: RuntimeWarning: invalid value encountered in divide\n",
      "  probabilities /= normalizer\n"
     ]
    },
    {
     "name": "stdout",
     "output_type": "stream",
     "text": [
      "当前的 member 为 RATIO_0_7\n"
     ]
    },
    {
     "name": "stderr",
     "output_type": "stream",
     "text": [
      "D:\\Anaconda\\envs\\VFPUMC\\lib\\site-packages\\sklearn\\semi_supervised\\_label_propagation.py:230: RuntimeWarning: invalid value encountered in divide\n",
      "  probabilities /= normalizer\n",
      "D:\\Anaconda\\envs\\VFPUMC\\lib\\site-packages\\sklearn\\semi_supervised\\_label_propagation.py:230: RuntimeWarning: invalid value encountered in divide\n",
      "  probabilities /= normalizer\n",
      "D:\\Anaconda\\envs\\VFPUMC\\lib\\site-packages\\sklearn\\semi_supervised\\_label_propagation.py:230: RuntimeWarning: invalid value encountered in divide\n",
      "  probabilities /= normalizer\n",
      "D:\\Anaconda\\envs\\VFPUMC\\lib\\site-packages\\sklearn\\semi_supervised\\_label_propagation.py:230: RuntimeWarning: invalid value encountered in divide\n",
      "  probabilities /= normalizer\n"
     ]
    },
    {
     "name": "stdout",
     "output_type": "stream",
     "text": [
      "当前的 member 为 RATIO_0_8\n"
     ]
    },
    {
     "name": "stderr",
     "output_type": "stream",
     "text": [
      "D:\\Anaconda\\envs\\VFPUMC\\lib\\site-packages\\sklearn\\semi_supervised\\_label_propagation.py:230: RuntimeWarning: invalid value encountered in divide\n",
      "  probabilities /= normalizer\n",
      "D:\\Anaconda\\envs\\VFPUMC\\lib\\site-packages\\sklearn\\semi_supervised\\_label_propagation.py:230: RuntimeWarning: invalid value encountered in divide\n",
      "  probabilities /= normalizer\n",
      "D:\\Anaconda\\envs\\VFPUMC\\lib\\site-packages\\sklearn\\semi_supervised\\_label_propagation.py:230: RuntimeWarning: invalid value encountered in divide\n",
      "  probabilities /= normalizer\n",
      "D:\\Anaconda\\envs\\VFPUMC\\lib\\site-packages\\sklearn\\semi_supervised\\_label_propagation.py:230: RuntimeWarning: invalid value encountered in divide\n",
      "  probabilities /= normalizer\n"
     ]
    },
    {
     "name": "stdout",
     "output_type": "stream",
     "text": [
      "当前的 member 为 RATIO_0_9\n"
     ]
    },
    {
     "name": "stderr",
     "output_type": "stream",
     "text": [
      "D:\\Anaconda\\envs\\VFPUMC\\lib\\site-packages\\sklearn\\semi_supervised\\_label_propagation.py:230: RuntimeWarning: invalid value encountered in divide\n",
      "  probabilities /= normalizer\n",
      "D:\\Anaconda\\envs\\VFPUMC\\lib\\site-packages\\sklearn\\semi_supervised\\_label_propagation.py:230: RuntimeWarning: invalid value encountered in divide\n",
      "  probabilities /= normalizer\n",
      "D:\\Anaconda\\envs\\VFPUMC\\lib\\site-packages\\sklearn\\semi_supervised\\_label_propagation.py:230: RuntimeWarning: invalid value encountered in divide\n",
      "  probabilities /= normalizer\n",
      "D:\\Anaconda\\envs\\VFPUMC\\lib\\site-packages\\sklearn\\semi_supervised\\_label_propagation.py:230: RuntimeWarning: invalid value encountered in divide\n",
      "  probabilities /= normalizer\n"
     ]
    },
    {
     "name": "stdout",
     "output_type": "stream",
     "text": [
      "Method    Label Spreading                               Label Propagation  \\\n",
      "Metric           Accuracy    Recall       AUC        F1          Accuracy   \n",
      "RATIO_0_1        0.941719  0.589011  0.958417  0.690722          0.917678   \n",
      "RATIO_0_2        0.940755  0.611714  0.950479   0.69802          0.919874   \n",
      "RATIO_0_3         0.94011   0.61316  0.948955  0.696223          0.913564   \n",
      "RATIO_0_4        0.937299  0.598413  0.945325  0.686495          0.913323   \n",
      "RATIO_0_5         0.93333  0.574361  0.933179  0.666343           0.90774   \n",
      "RATIO_0_6        0.931976  0.582095   0.93505  0.656448          0.903488   \n",
      "RATIO_0_7        0.927543  0.551166  0.930662   0.62915          0.906628   \n",
      "RATIO_0_8        0.917724  0.503864  0.914033  0.582473          0.900698   \n",
      "RATIO_0_9        0.907794  0.479403  0.898931  0.537983          0.894656   \n",
      "\n",
      "Method                                  Self-training                      \\\n",
      "Metric       Recall       AUC        F1      Accuracy    Recall       AUC   \n",
      "RATIO_0_1  0.549451  0.935012  0.595948      0.998543  0.997802  0.999978   \n",
      "RATIO_0_2  0.544469  0.932946  0.603365      0.996844  0.996746  0.999903   \n",
      "RATIO_0_3  0.519884  0.920538  0.573823      0.996682  0.986262  0.999688   \n",
      "RATIO_0_4  0.536508  0.918038  0.586806      0.994416  0.984127  0.999383   \n",
      "RATIO_0_5  0.493925  0.910285  0.553781      0.996795  0.994135  0.999857   \n",
      "RATIO_0_6   0.50888  0.893479  0.540728      0.991259  0.984777  0.997835   \n",
      "RATIO_0_7  0.527838  0.905195  0.557673       0.99171   0.98507  0.999136   \n",
      "RATIO_0_8   0.42073  0.879029  0.491135       0.98871  0.946976  0.997177   \n",
      "RATIO_0_9  0.491448  0.882236  0.510958      0.981062  0.984823  0.994044   \n",
      "\n",
      "Method               \n",
      "Metric           F1  \n",
      "RATIO_0_1  0.993435  \n",
      "RATIO_0_2  0.986052  \n",
      "RATIO_0_3  0.985193  \n",
      "RATIO_0_4  0.975866  \n",
      "RATIO_0_5  0.986284  \n",
      "RATIO_0_6   0.96177  \n",
      "RATIO_0_7  0.963639  \n",
      "RATIO_0_8  0.950267  \n",
      "RATIO_0_9  0.920928  \n"
     ]
    }
   ],
   "source": [
    "import numpy as np\n",
    "import pandas as pd\n",
    "from sklearn.semi_supervised import LabelSpreading, LabelPropagation, SelfTrainingClassifier\n",
    "from sklearn.svm import SVC\n",
    "from sklearn.metrics import accuracy_score, recall_score, roc_auc_score, f1_score\n",
    "from sklearn.model_selection import train_test_split\n",
    "\n",
    "# 假设 HideRatio 是一个枚举类，bankDataset 是一个对象，包含 df, hidden_y 和 y 属性\n",
    "# bankDataset.df: 特征数据 (41188, 64)\n",
    "# bankDataset.hidden_y: 标签数据，包含 0, 1, -1，-1 表示未标记样本\n",
    "# bankDataset.y: 原始样本的标签，只有 0 和 1，用于验证\n",
    "\n",
    "# 评估函数\n",
    "def evaluate_model(y_true, y_pred, y_prob):\n",
    "    # 将 NaN 替换为 0\n",
    "    y_true = np.nan_to_num(y_true, nan=0)\n",
    "    y_pred = np.nan_to_num(y_pred, nan=0)\n",
    "    y_prob = np.nan_to_num(y_prob, nan=0)\n",
    "    accuracy = accuracy_score(y_true, y_pred)\n",
    "    recall = recall_score(y_true, y_pred)\n",
    "    auc = roc_auc_score(y_true, y_prob)\n",
    "    f1 = f1_score(y_true, y_pred)\n",
    "    return accuracy, recall, auc, f1\n",
    "\n",
    "# 创建一个空的 DataFrame，用于存储结果\n",
    "methods = ['Label Spreading', 'Label Propagation', 'Self-training']\n",
    "metrics = ['Accuracy', 'Recall', 'AUC', 'F1']\n",
    "index = pd.MultiIndex.from_product([methods, metrics], names=['Method', 'Metric'])\n",
    "results_df = pd.DataFrame(columns=index)\n",
    "\n",
    "# 遍历 HideRatio 枚举类\n",
    "for member in HideRatio:\n",
    "    print(f\"当前的 member 为 {member.name}\")\n",
    "    \n",
    "    # 获取隐藏标签\n",
    "    bankDataset.get_hidden_labels(member)\n",
    "    \n",
    "    # 提取数据\n",
    "    X = bankDataset.df\n",
    "    hidden_y = bankDataset.hidden_y\n",
    "    y_true = bankDataset.y\n",
    "    \n",
    "    # 找到未标记样本的索引\n",
    "    unlabeled_mask = hidden_y == -1\n",
    "    \n",
    "    # 找到已标记样本的索引\n",
    "    labeled_mask = hidden_y != -1\n",
    "    \n",
    "    # 只对未标记样本进行预测，因此我们需要对这些样本的预测结果进行评估\n",
    "    X_unlabeled = X[unlabeled_mask]\n",
    "    y_true_unlabeled = y_true[unlabeled_mask]  # 用于评估的真实标签\n",
    "\n",
    "    X_small, _, hidden_y_small, _ = train_test_split(X, hidden_y, test_size=0.9, random_state=42)\n",
    "    \n",
    "    # 1. Label Spreading\n",
    "    label_spread = LabelSpreading(kernel='knn', n_neighbors=5)\n",
    "    label_spread.fit(X, hidden_y)\n",
    "    \n",
    "    # 对未标记样本进行预测\n",
    "    y_pred_spread = label_spread.predict(X_unlabeled)\n",
    "    y_prob_spread = label_spread.predict_proba(X_unlabeled)[:, 1]\n",
    "    \n",
    "    # 评估 Label Spreading\n",
    "    accuracy_spread, recall_spread, auc_spread, f1_spread = evaluate_model(y_true_unlabeled, y_pred_spread, y_prob_spread)\n",
    "    \n",
    "    # 2. Label Propagation\n",
    "    label_prop = LabelPropagation(kernel='rbf', gamma=20)\n",
    "    label_prop.fit(X_small, hidden_y_small)\n",
    "    \n",
    "    # 对未标记样本进行预测\n",
    "    y_pred_prop = label_prop.predict(X_unlabeled)\n",
    "    y_prob_prop = label_prop.predict_proba(X_unlabeled)[:, 1]\n",
    "    \n",
    "    # 评估 Label Propagation\n",
    "    accuracy_prop, recall_prop, auc_prop, f1_prop = evaluate_model(y_true_unlabeled, y_pred_prop, y_prob_prop)\n",
    "    \n",
    "    # 3. Self-training\n",
    "    svc = SVC(probability=True)\n",
    "    self_training_model = SelfTrainingClassifier(base_estimator=svc, threshold=0.5)\n",
    "    self_training_model.fit(X_small, hidden_y_small)\n",
    "    \n",
    "    # 对未标记样本进行预测\n",
    "    y_pred_self_train = self_training_model.predict(X_unlabeled)\n",
    "    y_prob_self_train = self_training_model.predict_proba(X_unlabeled)[:, 1]\n",
    "    \n",
    "    # 评估 Self-training\n",
    "    accuracy_self_train, recall_self_train, auc_self_train, f1_self_train = evaluate_model(y_true_unlabeled, y_pred_self_train, y_prob_self_train)\n",
    "    \n",
    "    # 将结果存储到 DataFrame 中\n",
    "    results_df.loc[member.name, ('Label Spreading', 'Accuracy')] = accuracy_spread\n",
    "    results_df.loc[member.name, ('Label Spreading', 'Recall')] = recall_spread\n",
    "    results_df.loc[member.name, ('Label Spreading', 'AUC')] = auc_spread\n",
    "    results_df.loc[member.name, ('Label Spreading', 'F1')] = f1_spread\n",
    "    \n",
    "    results_df.loc[member.name, ('Label Propagation', 'Accuracy')] = accuracy_prop\n",
    "    results_df.loc[member.name, ('Label Propagation', 'Recall')] = recall_prop\n",
    "    results_df.loc[member.name, ('Label Propagation', 'AUC')] = auc_prop\n",
    "    results_df.loc[member.name, ('Label Propagation', 'F1')] = f1_prop\n",
    "    \n",
    "    results_df.loc[member.name, ('Self-training', 'Accuracy')] = accuracy_self_train\n",
    "    results_df.loc[member.name, ('Self-training', 'Recall')] = recall_self_train\n",
    "    results_df.loc[member.name, ('Self-training', 'AUC')] = auc_self_train\n",
    "    results_df.loc[member.name, ('Self-training', 'F1')] = f1_self_train\n",
    "\n",
    "# 输出最终的 DataFrame\n",
    "print(results_df)"
   ]
  },
  {
   "cell_type": "code",
   "execution_count": 24,
   "id": "0be2735d-f66f-4c8d-8f7c-47647702a503",
   "metadata": {},
   "outputs": [],
   "source": [
    "from consts.Constants import DATASETS_PATH\n",
    "import os\n",
    "results_df.to_csv(os.path.join(DATASETS_PATH,\"SklearnSemiMethodBank.csv\"))"
   ]
  }
 ],
 "metadata": {
  "kernelspec": {
   "display_name": "VFPUMC",
   "language": "python",
   "name": "vfpumc"
  },
  "language_info": {
   "codemirror_mode": {
    "name": "ipython",
    "version": 3
   },
   "file_extension": ".py",
   "mimetype": "text/x-python",
   "name": "python",
   "nbconvert_exporter": "python",
   "pygments_lexer": "ipython3",
   "version": "3.8.19"
  }
 },
 "nbformat": 4,
 "nbformat_minor": 5
}
